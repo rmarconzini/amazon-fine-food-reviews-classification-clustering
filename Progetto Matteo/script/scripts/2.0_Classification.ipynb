{
  "cells": [
    {
      "cell_type": "markdown",
      "source": [
        " # Librerie"
      ],
      "metadata": {
        "id": "wSmGxbaQI9n5"
      }
    },
    {
      "cell_type": "code",
      "execution_count": 8,
      "metadata": {
        "colab": {
          "base_uri": "https://localhost:8080/"
        },
        "id": "8zGUOYgpMNKX",
        "outputId": "83b73ed6-229a-4655-baf1-ed963d79c61c"
      },
      "outputs": [
        {
          "output_type": "stream",
          "name": "stdout",
          "text": [
            "Mounted at /content/gdrive\n"
          ]
        }
      ],
      "source": [
        "#mounting the drive\n",
        "from google.colab import drive\n",
        "drive.mount('/content/gdrive', force_remount = True)"
      ]
    },
    {
      "cell_type": "code",
      "execution_count": 2,
      "metadata": {
        "id": "Odl1jIRWSM_K"
      },
      "outputs": [],
      "source": [
        "#libraries\n",
        "import pandas as pd\n",
        "import numpy as np\n",
        "from sklearn.feature_extraction.text import TfidfVectorizer\n",
        "from sklearn.model_selection import train_test_split\n",
        "\n",
        "\n",
        "\n",
        "#classification libraries\n",
        "from sklearn.svm import SVC\n",
        "from sklearn.ensemble import RandomForestClassifier\n",
        "from sklearn.tree import DecisionTreeClassifier\n",
        "from sklearn.ensemble import AdaBoostClassifier\n",
        "from sklearn.linear_model import LogisticRegression\n",
        "\n",
        "\n",
        "\n",
        "#librerie evaluation\n",
        "from sklearn.metrics import f1_score\n",
        "from sklearn.metrics import accuracy_score\n",
        "from sklearn.metrics import PrecisionRecallDisplay\n",
        "from sklearn.metrics import recall_score\n",
        "from sklearn.metrics import precision_score\n",
        "from sklearn.metrics import plot_roc_curve\n",
        "\n",
        "\n",
        "from sklearn.decomposition import TruncatedSVD"
      ]
    },
    {
      "cell_type": "markdown",
      "source": [
        "#Importing and preprocessing"
      ],
      "metadata": {
        "id": "tF6HNF3wJLpZ"
      }
    },
    {
      "cell_type": "code",
      "execution_count": 3,
      "metadata": {
        "id": "L6hL6MAaSITE"
      },
      "outputs": [],
      "source": [
        "#importing the preprocessed dataset without lemmatization and stemming\n",
        "df_preproc = pd.read_csv('/content/gdrive/MyDrive/Text mining/Dataset/df_tot_preproc', index_col=[0] )"
      ]
    },
    {
      "cell_type": "code",
      "source": [
        "#importing the preprocessed dataset withlemmatization and stemming\n",
        "df_tot = pd.read_csv('/content/gdrive/MyDrive/Text mining/Dataset/df_tot', index_col=[0] )"
      ],
      "metadata": {
        "id": "j0lWcI5TahXO"
      },
      "execution_count": null,
      "outputs": []
    },
    {
      "cell_type": "code",
      "source": [
        "#other dataset are: df_preproc_nltk, and df_preproc_nltk_punct_based"
      ],
      "metadata": {
        "id": "g_zdDAGoa-dF"
      },
      "execution_count": null,
      "outputs": []
    },
    {
      "cell_type": "code",
      "execution_count": 4,
      "metadata": {
        "colab": {
          "base_uri": "https://localhost:8080/",
          "height": 206
        },
        "id": "vtnedcPGSlXY",
        "outputId": "33c98948-1315-47c1-f881-089ffb8519fe"
      },
      "outputs": [
        {
          "output_type": "execute_result",
          "data": {
            "text/html": [
              "\n",
              "  <div id=\"df-4a5b9c1d-ad80-4e79-a642-7b950f286c4e\">\n",
              "    <div class=\"colab-df-container\">\n",
              "      <div>\n",
              "<style scoped>\n",
              "    .dataframe tbody tr th:only-of-type {\n",
              "        vertical-align: middle;\n",
              "    }\n",
              "\n",
              "    .dataframe tbody tr th {\n",
              "        vertical-align: top;\n",
              "    }\n",
              "\n",
              "    .dataframe thead th {\n",
              "        text-align: right;\n",
              "    }\n",
              "</style>\n",
              "<table border=\"1\" class=\"dataframe\">\n",
              "  <thead>\n",
              "    <tr style=\"text-align: right;\">\n",
              "      <th></th>\n",
              "      <th>text</th>\n",
              "      <th>label</th>\n",
              "    </tr>\n",
              "  </thead>\n",
              "  <tbody>\n",
              "    <tr>\n",
              "      <th>0</th>\n",
              "      <td>mr costner dragged movie far longer necessary ...</td>\n",
              "      <td>1</td>\n",
              "    </tr>\n",
              "    <tr>\n",
              "      <th>1</th>\n",
              "      <td>example majority action films same generic bor...</td>\n",
              "      <td>1</td>\n",
              "    </tr>\n",
              "    <tr>\n",
              "      <th>2</th>\n",
              "      <td>first hate moronic rappers could nt act gun pr...</td>\n",
              "      <td>1</td>\n",
              "    </tr>\n",
              "    <tr>\n",
              "      <th>3</th>\n",
              "      <td>even beatles could write songs everyone liked ...</td>\n",
              "      <td>1</td>\n",
              "    </tr>\n",
              "    <tr>\n",
              "      <th>4</th>\n",
              "      <td>brass pictures movies fitting word them really...</td>\n",
              "      <td>1</td>\n",
              "    </tr>\n",
              "  </tbody>\n",
              "</table>\n",
              "</div>\n",
              "      <button class=\"colab-df-convert\" onclick=\"convertToInteractive('df-4a5b9c1d-ad80-4e79-a642-7b950f286c4e')\"\n",
              "              title=\"Convert this dataframe to an interactive table.\"\n",
              "              style=\"display:none;\">\n",
              "        \n",
              "  <svg xmlns=\"http://www.w3.org/2000/svg\" height=\"24px\"viewBox=\"0 0 24 24\"\n",
              "       width=\"24px\">\n",
              "    <path d=\"M0 0h24v24H0V0z\" fill=\"none\"/>\n",
              "    <path d=\"M18.56 5.44l.94 2.06.94-2.06 2.06-.94-2.06-.94-.94-2.06-.94 2.06-2.06.94zm-11 1L8.5 8.5l.94-2.06 2.06-.94-2.06-.94L8.5 2.5l-.94 2.06-2.06.94zm10 10l.94 2.06.94-2.06 2.06-.94-2.06-.94-.94-2.06-.94 2.06-2.06.94z\"/><path d=\"M17.41 7.96l-1.37-1.37c-.4-.4-.92-.59-1.43-.59-.52 0-1.04.2-1.43.59L10.3 9.45l-7.72 7.72c-.78.78-.78 2.05 0 2.83L4 21.41c.39.39.9.59 1.41.59.51 0 1.02-.2 1.41-.59l7.78-7.78 2.81-2.81c.8-.78.8-2.07 0-2.86zM5.41 20L4 18.59l7.72-7.72 1.47 1.35L5.41 20z\"/>\n",
              "  </svg>\n",
              "      </button>\n",
              "      \n",
              "  <style>\n",
              "    .colab-df-container {\n",
              "      display:flex;\n",
              "      flex-wrap:wrap;\n",
              "      gap: 12px;\n",
              "    }\n",
              "\n",
              "    .colab-df-convert {\n",
              "      background-color: #E8F0FE;\n",
              "      border: none;\n",
              "      border-radius: 50%;\n",
              "      cursor: pointer;\n",
              "      display: none;\n",
              "      fill: #1967D2;\n",
              "      height: 32px;\n",
              "      padding: 0 0 0 0;\n",
              "      width: 32px;\n",
              "    }\n",
              "\n",
              "    .colab-df-convert:hover {\n",
              "      background-color: #E2EBFA;\n",
              "      box-shadow: 0px 1px 2px rgba(60, 64, 67, 0.3), 0px 1px 3px 1px rgba(60, 64, 67, 0.15);\n",
              "      fill: #174EA6;\n",
              "    }\n",
              "\n",
              "    [theme=dark] .colab-df-convert {\n",
              "      background-color: #3B4455;\n",
              "      fill: #D2E3FC;\n",
              "    }\n",
              "\n",
              "    [theme=dark] .colab-df-convert:hover {\n",
              "      background-color: #434B5C;\n",
              "      box-shadow: 0px 1px 3px 1px rgba(0, 0, 0, 0.15);\n",
              "      filter: drop-shadow(0px 1px 2px rgba(0, 0, 0, 0.3));\n",
              "      fill: #FFFFFF;\n",
              "    }\n",
              "  </style>\n",
              "\n",
              "      <script>\n",
              "        const buttonEl =\n",
              "          document.querySelector('#df-4a5b9c1d-ad80-4e79-a642-7b950f286c4e button.colab-df-convert');\n",
              "        buttonEl.style.display =\n",
              "          google.colab.kernel.accessAllowed ? 'block' : 'none';\n",
              "\n",
              "        async function convertToInteractive(key) {\n",
              "          const element = document.querySelector('#df-4a5b9c1d-ad80-4e79-a642-7b950f286c4e');\n",
              "          const dataTable =\n",
              "            await google.colab.kernel.invokeFunction('convertToInteractive',\n",
              "                                                     [key], {});\n",
              "          if (!dataTable) return;\n",
              "\n",
              "          const docLinkHtml = 'Like what you see? Visit the ' +\n",
              "            '<a target=\"_blank\" href=https://colab.research.google.com/notebooks/data_table.ipynb>data table notebook</a>'\n",
              "            + ' to learn more about interactive tables.';\n",
              "          element.innerHTML = '';\n",
              "          dataTable['output_type'] = 'display_data';\n",
              "          await google.colab.output.renderOutput(dataTable, element);\n",
              "          const docLink = document.createElement('div');\n",
              "          docLink.innerHTML = docLinkHtml;\n",
              "          element.appendChild(docLink);\n",
              "        }\n",
              "      </script>\n",
              "    </div>\n",
              "  </div>\n",
              "  "
            ],
            "text/plain": [
              "                                                text  label\n",
              "0  mr costner dragged movie far longer necessary ...      1\n",
              "1  example majority action films same generic bor...      1\n",
              "2  first hate moronic rappers could nt act gun pr...      1\n",
              "3  even beatles could write songs everyone liked ...      1\n",
              "4  brass pictures movies fitting word them really...      1"
            ]
          },
          "metadata": {},
          "execution_count": 4
        }
      ],
      "source": [
        "#showing the first five reviews\n",
        "df_preproc.head(5)"
      ]
    },
    {
      "cell_type": "code",
      "source": [
        "#when using df_tot\n",
        "df_tot[\"lemmatized\"] = df_tot[\"lemmatized\"].apply(lambda x: x.replace(\",\", \"\"))\n",
        "df_tot[\"lemmatized\"] = df_tot[\"lemmatized\"].apply(lambda x: x.replace(\"'\", \"\"))\n",
        "df_tot[\"lemmatized\"] = df_tot[\"lemmatized\"].apply(lambda x: x.replace(\"[\", \"\"))\n",
        "df_tot[\"lemmatized\"] = df_tot[\"lemmatized\"].apply(lambda x: x.replace(\"]\", \"\"))"
      ],
      "metadata": {
        "id": "_x-WugOfaZ_s"
      },
      "execution_count": null,
      "outputs": []
    },
    {
      "cell_type": "code",
      "source": [
        "#when using df_tot\n",
        "df_tot[\"stemmed\"] = df_tot[\"stemmed\"].apply(lambda x: x.replace(\",\", \"\"))\n",
        "df_tot[\"stemmed\"] = df_tot[\"stemmed\"].apply(lambda x: x.replace(\"'\", \"\"))\n",
        "df_tot[\"stemmed\"] = df_tot[\"stemmed\"].apply(lambda x: x.replace(\"[\", \"\"))\n",
        "df_tot[\"stemmed\"] = df_tot[\"stemmed\"].apply(lambda x: x.replace(\"]\", \"\"))"
      ],
      "metadata": {
        "id": "0RRoaJZ4aasC"
      },
      "execution_count": null,
      "outputs": []
    },
    {
      "cell_type": "code",
      "execution_count": null,
      "metadata": {
        "colab": {
          "base_uri": "https://localhost:8080/"
        },
        "id": "Jg7xPcSpKvOO",
        "outputId": "1bac41e6-d34c-409f-8f1b-326f9263aa5a"
      },
      "outputs": [
        {
          "output_type": "execute_result",
          "data": {
            "text/plain": [
              "(50000, 2)"
            ]
          },
          "metadata": {},
          "execution_count": 58
        }
      ],
      "source": [
        "#printin the shape\n",
        "df_preproc.shape"
      ]
    },
    {
      "cell_type": "code",
      "execution_count": 9,
      "metadata": {
        "id": "dG2IliDwVxpd"
      },
      "outputs": [],
      "source": [
        "#splitting the data: in case of using a different data set change 'text' with the chosen column\n",
        "X,y=df_preproc['text'], df_preproc['label']\n",
        "X_train, X_test, y_train, y_test = train_test_split(X, y, random_state=42)"
      ]
    },
    {
      "cell_type": "code",
      "execution_count": 10,
      "metadata": {
        "colab": {
          "base_uri": "https://localhost:8080/"
        },
        "id": "WbgE3yLCWh1_",
        "outputId": "ac32a6e7-5350-4af6-9a36-733c4d2cfa7b"
      },
      "outputs": [
        {
          "output_type": "stream",
          "name": "stdout",
          "text": [
            "positive reviews percentage 50.0 \n"
          ]
        }
      ],
      "source": [
        "#investigating class distribution\n",
        "pos_percent=len(df_preproc[df_preproc['label'] == 1]) / len(df_preproc) * 100\n",
        "\n",
        "print(\"positive reviews percentage %s \" %pos_percent)"
      ]
    },
    {
      "cell_type": "code",
      "execution_count": 11,
      "metadata": {
        "id": "-Y8Fb2c-XKAc"
      },
      "outputs": [],
      "source": [
        "#change data representation\n",
        "#tfidf istancing  \n",
        "tfidf_vect = TfidfVectorizer(min_df=2, max_df=30000, ngram_range=(1,2), use_idf=True)\n",
        "#trasformation train\n",
        "X_train_tfidf = tfidf_vect.fit_transform(X_train)\n",
        "#trasformation test\n",
        "X_test_tfidf = tfidf_vect.transform(X_test)"
      ]
    },
    {
      "cell_type": "markdown",
      "metadata": {
        "id": "sGsVgNBWceEo"
      },
      "source": [
        "#Models: to train the whole part are necessary around 15 minutes"
      ]
    },
    {
      "cell_type": "code",
      "execution_count": 12,
      "metadata": {
        "id": "plNPzp43yVGf"
      },
      "outputs": [],
      "source": [
        "#Dimensionality reduction to train SVM in less than 1 hour\n",
        "svd = TruncatedSVD(n_components=30, random_state=42)\n",
        "X_train_svd = svd.fit_transform(X_train_tfidf)\n",
        "X_test_svd = svd.transform(X_test_tfidf)"
      ]
    },
    {
      "cell_type": "markdown",
      "metadata": {
        "id": "FmLA_5jpc0a8"
      },
      "source": [
        "##Decision Tree"
      ]
    },
    {
      "cell_type": "code",
      "execution_count": 13,
      "metadata": {
        "colab": {
          "base_uri": "https://localhost:8080/"
        },
        "id": "9V3HLQ-ycdch",
        "outputId": "dd9a9bdd-b242-4de8-e683-64d69709b525"
      },
      "outputs": [
        {
          "output_type": "stream",
          "name": "stdout",
          "text": [
            "\n",
            "\n",
            "Decision Tree\n",
            "Accuracy: 0.7188\n",
            "Recall score: 0.7251761691223575\n",
            "Precision score: 0.7156630314525051\n",
            "F1 score: 0.7203881950521042\n"
          ]
        }
      ],
      "source": [
        "#decision tree\n",
        "clf_a = DecisionTreeClassifier().fit(X_train_tfidf, y_train)\n",
        "y_pred = clf_a.predict(X_test_tfidf)\n",
        "\n",
        "\n",
        "print(\"\\n\")\n",
        "print(\"Decision Tree\")\n",
        "print(\"Accuracy: %s\" % accuracy_score(y_test,y_pred))\n",
        "print(\"Recall score: %s\" % recall_score(y_test,y_pred))\n",
        "print(\"Precision score: %s\" % precision_score(y_test,y_pred))\n",
        "print(\"F1 score: %s\" % f1_score(y_test,y_pred))\n",
        "\n",
        "#time to execute: 5 min"
      ]
    },
    {
      "cell_type": "markdown",
      "metadata": {
        "id": "kOKQ3kyjdE4x"
      },
      "source": [
        "##Svm"
      ]
    },
    {
      "cell_type": "code",
      "execution_count": 15,
      "metadata": {
        "colab": {
          "base_uri": "https://localhost:8080/"
        },
        "id": "NOUp6rXycnO-",
        "outputId": "4ad2f237-3a31-47b3-8ff6-a76257bfdfbb"
      },
      "outputs": [
        {
          "output_type": "stream",
          "name": "stdout",
          "text": [
            "\n",
            "\n",
            "SVM\n",
            "Accuracy: 0.8468\n",
            "Recall score: 0.8323190262652146\n",
            "Precision score: 0.856883759274526\n",
            "F1 score: 0.8444227800796165\n"
          ]
        }
      ],
      "source": [
        "#svm\n",
        "clf_b = SVC().fit(X_train_svd, y_train)\n",
        "y_pred = clf_b.predict(X_test_svd)\n",
        "\n",
        "print(\"\\n\")\n",
        "print(\"SVM\")\n",
        "print(\"Accuracy: %s\" % accuracy_score(y_test,y_pred))\n",
        "print(\"Recall score: %s\" % recall_score(y_test,y_pred))\n",
        "print(\"Precision score: %s\" % precision_score(y_test,y_pred))\n",
        "print(\"F1 score: %s\" % f1_score(y_test,y_pred))"
      ]
    },
    {
      "cell_type": "markdown",
      "metadata": {
        "id": "ynPqQ_ffeCYz"
      },
      "source": [
        "##Random Forest"
      ]
    },
    {
      "cell_type": "code",
      "execution_count": 17,
      "metadata": {
        "colab": {
          "base_uri": "https://localhost:8080/"
        },
        "id": "HN0FHXFFcKct",
        "outputId": "d938ed1d-6893-4da8-df3a-c9c7dec36a69"
      },
      "outputs": [
        {
          "output_type": "stream",
          "name": "stdout",
          "text": [
            "\n",
            "\n",
            "RF\n",
            "Accuracy: 0.8596\n",
            "Recall score: 0.8537796284433056\n",
            "Precision score: 0.8635995464117933\n",
            "F1 score: 0.8586615124426189\n"
          ]
        }
      ],
      "source": [
        "#random forest\n",
        "clf_c = RandomForestClassifier().fit(X_train_tfidf, y_train)\n",
        "y_pred = clf_c.predict(X_test_tfidf)\n",
        "\n",
        "\n",
        "print(\"\\n\")\n",
        "print(\"RF\")\n",
        "print(\"Accuracy: %s\" % accuracy_score(y_test,y_pred))\n",
        "print(\"Recall score: %s\" % recall_score(y_test,y_pred))\n",
        "print(\"Precision score: %s\" % precision_score(y_test,y_pred))\n",
        "print(\"F1 score: %s\" % f1_score(y_test,y_pred))\n",
        "\n",
        "#time to train: 2 minutes and 16 sec"
      ]
    },
    {
      "cell_type": "markdown",
      "metadata": {
        "id": "03kdXaSXTKNd"
      },
      "source": [
        "##Adaboost"
      ]
    },
    {
      "cell_type": "code",
      "execution_count": 19,
      "metadata": {
        "colab": {
          "base_uri": "https://localhost:8080/"
        },
        "id": "PLbcdWmhTM_S",
        "outputId": "3dd3e046-b940-4b5f-b627-e26d64f8456e"
      },
      "outputs": [
        {
          "output_type": "stream",
          "name": "stdout",
          "text": [
            "\n",
            "\n",
            "Adaboost\n",
            "Accuracy: 0.8048\n",
            "Recall score: 0.7632927610506086\n",
            "Precision score: 0.8320530726256983\n",
            "F1 score: 0.7961911125960575\n"
          ]
        }
      ],
      "source": [
        "#Adaboost\n",
        "clf_d= AdaBoostClassifier().fit(X_train_tfidf, y_train)\n",
        "y_pred = clf_d.predict(X_test_tfidf)\n",
        "\n",
        "print(\"\\n\")\n",
        "print(\"Adaboost\")\n",
        "print(\"Accuracy: %s\" % accuracy_score(y_test,y_pred))\n",
        "print(\"Recall score: %s\" % recall_score(y_test,y_pred))\n",
        "print(\"Precision score: %s\" % precision_score(y_test,y_pred))\n",
        "print(\"F1 score: %s\" % f1_score(y_test,y_pred))\n",
        "#time to execute: 54 sec"
      ]
    },
    {
      "cell_type": "markdown",
      "metadata": {
        "id": "wQ95qKY8dnLE"
      },
      "source": [
        "##Logistic"
      ]
    },
    {
      "cell_type": "code",
      "execution_count": 21,
      "metadata": {
        "id": "7PnfcfCfdo4G",
        "colab": {
          "base_uri": "https://localhost:8080/"
        },
        "outputId": "fc4cbe6b-ec41-4e58-b217-069f72a9c7c1"
      },
      "outputs": [
        {
          "output_type": "stream",
          "name": "stdout",
          "text": [
            "\n",
            "\n",
            "Logistic Regression\n",
            "Accuracy: 0.8952\n",
            "Recall score: 0.8824471492632927\n",
            "Precision score: 0.9053565560302334\n",
            "F1 score: 0.8937550689375506\n"
          ]
        },
        {
          "output_type": "stream",
          "name": "stderr",
          "text": [
            "/usr/local/lib/python3.7/dist-packages/sklearn/linear_model/_logistic.py:818: ConvergenceWarning: lbfgs failed to converge (status=1):\n",
            "STOP: TOTAL NO. of ITERATIONS REACHED LIMIT.\n",
            "\n",
            "Increase the number of iterations (max_iter) or scale the data as shown in:\n",
            "    https://scikit-learn.org/stable/modules/preprocessing.html\n",
            "Please also refer to the documentation for alternative solver options:\n",
            "    https://scikit-learn.org/stable/modules/linear_model.html#logistic-regression\n",
            "  extra_warning_msg=_LOGISTIC_SOLVER_CONVERGENCE_MSG,\n"
          ]
        }
      ],
      "source": [
        "#logistic\n",
        "clf_e= LogisticRegression().fit(X_train_tfidf, y_train)\n",
        "\n",
        "y_pred = clf_e.predict(X_test_tfidf)\n",
        "\n",
        "print(\"\\n\")\n",
        "print(\"Logistic Regression\")\n",
        "print(\"Accuracy: %s\" % accuracy_score(y_test,y_pred))\n",
        "print(\"Recall score: %s\" % recall_score(y_test,y_pred))\n",
        "print(\"Precision score: %s\" % precision_score(y_test,y_pred))\n",
        "print(\"F1 score: %s\" % f1_score(y_test,y_pred))\n",
        "\n",
        "#time to execute : 17 sec"
      ]
    },
    {
      "cell_type": "code",
      "execution_count": 22,
      "metadata": {
        "colab": {
          "base_uri": "https://localhost:8080/",
          "height": 295
        },
        "id": "jkiKBaCrq682",
        "outputId": "6f90960d-3196-4fc2-9334-67abd68d4196"
      },
      "outputs": [
        {
          "output_type": "display_data",
          "data": {
            "image/png": "[encoded data removed]",
            "text/plain": [
              "<Figure size 432x288 with 1 Axes>"
            ]
          },
          "metadata": {
            "needs_background": "light"
          }
        }
      ],
      "source": [
        "#displaying the trade off between precision and recall\n",
        "display = PrecisionRecallDisplay.from_estimator(\n",
        "    clf_e, X_test_tfidf, y_test, name=\"Logistic\"\n",
        ")\n",
        "_ = display.ax_.set_title(\"2-class Precision-Recall curve\")"
      ]
    },
    {
      "cell_type": "markdown",
      "source": [
        "#Chosing the best model"
      ],
      "metadata": {
        "id": "PiM9_OjIhjaI"
      }
    },
    {
      "cell_type": "code",
      "source": [
        "#Plotting roc Curves\n",
        "disp = plot_roc_curve(clf_e, X_test_tfidf, y_test) \n",
        "plot_roc_curve(clf_a, X_test_tfidf, y_test, ax=disp.ax_);\n",
        "plot_roc_curve(clf_b, X_test_svd, y_test, ax=disp.ax_);\n",
        "plot_roc_curve(clf_c, X_test_tfidf, y_test, ax=disp.ax_);\n",
        "plot_roc_curve(clf_d, X_test_tfidf, y_test, ax=disp.ax_);\n"
      ],
      "metadata": {
        "id": "n_ePun6_ftV9",
        "colab": {
          "base_uri": "https://localhost:8080/",
          "height": 473
        },
        "outputId": "0ee51285-e5bf-4df9-c614-18c7b1a8fdcb"
      },
      "execution_count": 23,
      "outputs": [
        {
          "output_type": "stream",
          "name": "stderr",
          "text": [
            "/usr/local/lib/python3.7/dist-packages/sklearn/utils/deprecation.py:87: FutureWarning: Function plot_roc_curve is deprecated; Function :func:`plot_roc_curve` is deprecated in 1.0 and will be removed in 1.2. Use one of the class methods: :meth:`sklearn.metric.RocCurveDisplay.from_predictions` or :meth:`sklearn.metric.RocCurveDisplay.from_estimator`.\n",
            "  warnings.warn(msg, category=FutureWarning)\n",
            "/usr/local/lib/python3.7/dist-packages/sklearn/utils/deprecation.py:87: FutureWarning: Function plot_roc_curve is deprecated; Function :func:`plot_roc_curve` is deprecated in 1.0 and will be removed in 1.2. Use one of the class methods: :meth:`sklearn.metric.RocCurveDisplay.from_predictions` or :meth:`sklearn.metric.RocCurveDisplay.from_estimator`.\n",
            "  warnings.warn(msg, category=FutureWarning)\n",
            "/usr/local/lib/python3.7/dist-packages/sklearn/utils/deprecation.py:87: FutureWarning: Function plot_roc_curve is deprecated; Function :func:`plot_roc_curve` is deprecated in 1.0 and will be removed in 1.2. Use one of the class methods: :meth:`sklearn.metric.RocCurveDisplay.from_predictions` or :meth:`sklearn.metric.RocCurveDisplay.from_estimator`.\n",
            "  warnings.warn(msg, category=FutureWarning)\n",
            "/usr/local/lib/python3.7/dist-packages/sklearn/utils/deprecation.py:87: FutureWarning: Function plot_roc_curve is deprecated; Function :func:`plot_roc_curve` is deprecated in 1.0 and will be removed in 1.2. Use one of the class methods: :meth:`sklearn.metric.RocCurveDisplay.from_predictions` or :meth:`sklearn.metric.RocCurveDisplay.from_estimator`.\n",
            "  warnings.warn(msg, category=FutureWarning)\n",
            "/usr/local/lib/python3.7/dist-packages/sklearn/utils/deprecation.py:87: FutureWarning: Function plot_roc_curve is deprecated; Function :func:`plot_roc_curve` is deprecated in 1.0 and will be removed in 1.2. Use one of the class methods: :meth:`sklearn.metric.RocCurveDisplay.from_predictions` or :meth:`sklearn.metric.RocCurveDisplay.from_estimator`.\n",
            "  warnings.warn(msg, category=FutureWarning)\n"
          ]
        },
        {
          "output_type": "display_data",
          "data": {
            "image/png": "[encoded data removed]",
            "text/plain": [
              "<Figure size 432x288 with 1 Axes>"
            ]
          },
          "metadata": {
            "needs_background": "light"
          }
        }
      ]
    },
    {
      "cell_type": "markdown",
      "source": [
        "---"
      ],
      "metadata": {
        "id": "admYh6HgVYc3"
      }
    }
  ],
  "metadata": {
    "colab": {
      "collapsed_sections": [
        "wSmGxbaQI9n5",
        "sGsVgNBWceEo",
        "PiM9_OjIhjaI"
      ],
      "name": "Classification.ipynb",
      "provenance": []
    },
    "kernelspec": {
      "display_name": "Python 3",
      "name": "python3"
    },
    "language_info": {
      "name": "python"
    }
  },
  "nbformat": 4,
  "nbformat_minor": 0
}
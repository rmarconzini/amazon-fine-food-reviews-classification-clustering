{
  "cells": [
    {
      "attachments": {},
      "cell_type": "markdown",
      "metadata": {},
      "source": [
        "# Setting"
      ]
    },
    {
      "cell_type": "code",
      "execution_count": 1,
      "metadata": {
        "colab": {
          "base_uri": "https://localhost:8080/"
        },
        "id": "tZarTKRtbdAy",
        "outputId": "4d2d557c-d352-4c5c-9c40-5082b304ebb0"
      },
      "outputs": [
        {
          "name": "stderr",
          "output_type": "stream",
          "text": [
            "[nltk_data] Downloading package punkt to\n",
            "[nltk_data]     C:\\Users\\marco\\AppData\\Roaming\\nltk_data...\n",
            "[nltk_data]   Package punkt is already up-to-date!\n",
            "[nltk_data] Downloading package wordnet to\n",
            "[nltk_data]     C:\\Users\\marco\\AppData\\Roaming\\nltk_data...\n",
            "[nltk_data]   Package wordnet is already up-to-date!\n"
          ]
        }
      ],
      "source": [
        "# Base\n",
        "import pandas as pd \n",
        "import numpy as np \n",
        "from collections import Counter \n",
        "from matplotlib import pyplot as plt\n",
        "%matplotlib inline\n",
        "import seaborn as sns\n",
        "import warnings\n",
        "warnings.filterwarnings(\"ignore\")\n",
        "import re\n",
        "from time import time\n",
        "import itertools\n",
        "import joblib\n",
        "\n",
        "\n",
        "#NLP\n",
        "import nltk\n",
        "from nltk.tokenize import word_tokenize \n",
        "nltk.download('punkt')\n",
        "from nltk import word_tokenize\n",
        "from nltk.stem import WordNetLemmatizer \n",
        "nltk.download('wordnet')\n",
        "from nltk.corpus import stopwords\n",
        "from wordcloud import WordCloud \n",
        "import gensim\n",
        "from gensim.utils import simple_preprocess\n",
        "import gensim.corpora as corpora\n",
        "import string\n",
        "from textblob import TextBlob\n",
        "\n",
        "\n",
        "#ML\n",
        "from sklearn.utils import resample\n",
        "from sklearn.decomposition import TruncatedSVD \n",
        "from sklearn.model_selection import train_test_split\n",
        "from sklearn.metrics import accuracy_score, precision_score, recall_score, f1_score, roc_auc_score, roc_curve\n",
        "from sklearn.metrics import classification_report, confusion_matrix\n",
        "from sklearn.linear_model import LogisticRegression\n",
        "from sklearn.kernel_approximation import RBFSampler\n",
        "from sklearn.linear_model import SGDClassifier\n",
        "from sklearn.ensemble import RandomForestClassifier\n",
        "from sklearn.svm import SVC\n",
        "from sklearn.ensemble import GradientBoostingClassifier\n",
        "from sklearn.neighbors import KNeighborsClassifier\n",
        "from sklearn.utils import shuffle\n",
        "from sklearn import preprocessing\n",
        "# from sklearn.cluster import KMeans\n",
        "from sklearn.metrics import v_measure_score\n",
        "from sklearn.metrics.cluster import adjusted_rand_score\n",
        "#from sklearn.cluster import AgglomerativeClustering\n",
        "from sklearn.feature_extraction.text import TfidfVectorizer\n",
        "from sklearn.feature_extraction.text import CountVectorizer\n",
        "from sklearn.model_selection import RepeatedStratifiedKFold\n",
        "from sklearn.model_selection import GridSearchCV\n",
        "from sklearn.neighbors import KNeighborsClassifier\n",
        "from sklearn.preprocessing import LabelEncoder\n",
        "from xgboost import XGBClassifier\n",
        "from sklearn.model_selection import RandomizedSearchCV"
      ]
    },
    {
      "cell_type": "code",
      "execution_count": null,
      "metadata": {
        "colab": {
          "base_uri": "https://localhost:8080/"
        },
        "id": "na6phehtbm6P",
        "outputId": "961fcad2-a71b-469f-c008-3a6633ee4e65"
      },
      "outputs": [],
      "source": [
        "# Gdrive\n",
        "# from google.colab import drive\n",
        "# drive.mount('/content/gdrive')"
      ]
    },
    {
      "cell_type": "code",
      "execution_count": 2,
      "metadata": {
        "id": "1h5yU6bVbdA3"
      },
      "outputs": [],
      "source": [
        "# Rimozione della punteggiatura\n",
        "\n",
        "def rm_punct_symb(phrase):\n",
        "    phrase_no_punct = \"\".join([i for i in phrase if i not in string.punctuation])\n",
        "    return phrase_no_punct"
      ]
    },
    {
      "cell_type": "code",
      "execution_count": 3,
      "metadata": {
        "id": "CV6Ed6HcbdA5"
      },
      "outputs": [],
      "source": [
        "# Import dataset\n",
        "df = pd.read_csv('H:/.shortcut-targets-by-id/1veNClNl7CxCTFHVNY2Fp29hcMoEj-the/TextMiningProject/df_lemmatized.csv')\n",
        "df['Lemmatized Text'] = df['Lemmatized Text'].apply(rm_punct_symb)\n",
        "df['Lemmatized Text'] = df['Lemmatized Text'].str.split(' ')"
      ]
    },
    {
      "cell_type": "code",
      "execution_count": null,
      "metadata": {
        "id": "6kTs3jPmbdA5",
        "outputId": "c54ca658-60b1-43ee-f3fc-c3feedc2bfc0"
      },
      "outputs": [],
      "source": [
        "df.head()"
      ]
    },
    {
      "cell_type": "code",
      "execution_count": 2,
      "metadata": {
        "id": "L52ToO9nbdA6",
        "outputId": "1ed07038-39ce-4880-f911-4336fc650ab1"
      },
      "outputs": [
        {
          "ename": "NameError",
          "evalue": "name 'df' is not defined",
          "output_type": "error",
          "traceback": [
            "\u001b[1;31m---------------------------------------------------------------------------\u001b[0m",
            "\u001b[1;31mNameError\u001b[0m                                 Traceback (most recent call last)",
            "Cell \u001b[1;32mIn[2], line 1\u001b[0m\n\u001b[1;32m----> 1\u001b[0m df\u001b[39m.\u001b[39mshape\n",
            "\u001b[1;31mNameError\u001b[0m: name 'df' is not defined"
          ]
        }
      ],
      "source": [
        "df.shape"
      ]
    },
    {
      "attachments": {},
      "cell_type": "markdown",
      "metadata": {
        "id": "kNbi-FtzbdA6"
      },
      "source": [
        "# Classification"
      ]
    },
    {
      "cell_type": "code",
      "execution_count": 4,
      "metadata": {
        "id": "rsLkA6swbdA9"
      },
      "outputs": [],
      "source": [
        "classification_df = df[['Score', 'Lemmatized Text']]"
      ]
    },
    {
      "cell_type": "code",
      "execution_count": null,
      "metadata": {
        "colab": {
          "base_uri": "https://localhost:8080/",
          "height": 312
        },
        "id": "XI_TBCaRbdA9",
        "outputId": "639f70ff-40d4-46a2-f710-503ea33b7165"
      },
      "outputs": [
        {
          "data": {
            "text/plain": [
              "Text(0, 0.5, 'Number of reviews')"
            ]
          },
          "execution_count": 5,
          "metadata": {},
          "output_type": "execute_result"
        },
        {
          "data": {
            "image/png": "[encoded data removed]",
            "text/plain": [
              "<Figure size 640x480 with 1 Axes>"
            ]
          },
          "metadata": {},
          "output_type": "display_data"
        }
      ],
      "source": [
        "sns.histplot(classification_df['Score'], discrete=True)\n",
        "plt.title(\"Score distribution\", fontweight='bold')\n",
        "plt.xlabel(\"Score\")\n",
        "plt.ylabel(\"Number of reviews\")"
      ]
    },
    {
      "cell_type": "code",
      "execution_count": null,
      "metadata": {
        "id": "de_1kzR9bdA-",
        "outputId": "d649eded-b23d-418d-a4a5-152d022c91a3"
      },
      "outputs": [],
      "source": [
        "print(classification_df['Score'].value_counts()/len(classification_df['Score']));"
      ]
    },
    {
      "cell_type": "markdown",
      "metadata": {
        "id": "UMG9UjhTbdA_"
      },
      "source": [
        "Le classi sono fortemente sbilanciate, con quasi il 78% delle review appartenenti alla classe 4 e 5. E' necessaria una procedura di resampling, in modo tale che i classificatori non diano stime distorte (classificando tutte le review come appartenenti alla classe 5 si otterrebbe comunque il 63% di accuratezza)."
      ]
    },
    {
      "cell_type": "code",
      "execution_count": 5,
      "metadata": {
        "id": "hfON1PArbdA_"
      },
      "outputs": [],
      "source": [
        "# Come sample size prendo il totale delle review appartenenti alla classe meno numerosa\n",
        "\n",
        "sample_size = classification_df.groupby('Score').count().min()[0]"
      ]
    },
    {
      "cell_type": "code",
      "execution_count": 6,
      "metadata": {
        "colab": {
          "base_uri": "https://localhost:8080/",
          "height": 424
        },
        "id": "ypBdrZB6bdA_",
        "outputId": "eacbc497-f580-4f68-9687-b5991bfa6f6e"
      },
      "outputs": [
        {
          "data": {
            "text/html": [
              "<div>\n",
              "<style scoped>\n",
              "    .dataframe tbody tr th:only-of-type {\n",
              "        vertical-align: middle;\n",
              "    }\n",
              "\n",
              "    .dataframe tbody tr th {\n",
              "        vertical-align: top;\n",
              "    }\n",
              "\n",
              "    .dataframe thead th {\n",
              "        text-align: right;\n",
              "    }\n",
              "</style>\n",
              "<table border=\"1\" class=\"dataframe\">\n",
              "  <thead>\n",
              "    <tr style=\"text-align: right;\">\n",
              "      <th></th>\n",
              "      <th>Score</th>\n",
              "      <th>Lemmatized Text</th>\n",
              "    </tr>\n",
              "  </thead>\n",
              "  <tbody>\n",
              "    <tr>\n",
              "      <th>128570</th>\n",
              "      <td>1</td>\n",
              "      <td>[dog, fine, gave, hart, crutch, clean, going, ...</td>\n",
              "    </tr>\n",
              "    <tr>\n",
              "      <th>372603</th>\n",
              "      <td>1</td>\n",
              "      <td>[agree, previous, reviewed, cheap, taste, star...</td>\n",
              "    </tr>\n",
              "    <tr>\n",
              "      <th>187907</th>\n",
              "      <td>1</td>\n",
              "      <td>[shipping, salmon, burgher, price, right, have...</td>\n",
              "    </tr>\n",
              "    <tr>\n",
              "      <th>236939</th>\n",
              "      <td>1</td>\n",
              "      <td>[reading, review, thought, perfect, product, m...</td>\n",
              "    </tr>\n",
              "    <tr>\n",
              "      <th>143462</th>\n",
              "      <td>1</td>\n",
              "      <td>[seriously, dont, waste, money, gift, would, g...</td>\n",
              "    </tr>\n",
              "    <tr>\n",
              "      <th>...</th>\n",
              "      <td>...</td>\n",
              "      <td>...</td>\n",
              "    </tr>\n",
              "    <tr>\n",
              "      <th>254966</th>\n",
              "      <td>5</td>\n",
              "      <td>[type, treat, kitty, eat, ive, tried, buying, ...</td>\n",
              "    </tr>\n",
              "    <tr>\n",
              "      <th>101160</th>\n",
              "      <td>5</td>\n",
              "      <td>[spectrum, make, highest, quality, vitamin, pl...</td>\n",
              "    </tr>\n",
              "    <tr>\n",
              "      <th>391621</th>\n",
              "      <td>5</td>\n",
              "      <td>[great, alternative, drinking, water, long, we...</td>\n",
              "    </tr>\n",
              "    <tr>\n",
              "      <th>323566</th>\n",
              "      <td>5</td>\n",
              "      <td>[mint, made, exclusively, xylitol, almost, min...</td>\n",
              "    </tr>\n",
              "    <tr>\n",
              "      <th>246113</th>\n",
              "      <td>5</td>\n",
              "      <td>[bought, first, case, used, oatmeal, coffee, a...</td>\n",
              "    </tr>\n",
              "  </tbody>\n",
              "</table>\n",
              "<p>104010 rows × 2 columns</p>\n",
              "</div>"
            ],
            "text/plain": [
              "        Score                                    Lemmatized Text\n",
              "128570      1  [dog, fine, gave, hart, crutch, clean, going, ...\n",
              "372603      1  [agree, previous, reviewed, cheap, taste, star...\n",
              "187907      1  [shipping, salmon, burgher, price, right, have...\n",
              "236939      1  [reading, review, thought, perfect, product, m...\n",
              "143462      1  [seriously, dont, waste, money, gift, would, g...\n",
              "...       ...                                                ...\n",
              "254966      5  [type, treat, kitty, eat, ive, tried, buying, ...\n",
              "101160      5  [spectrum, make, highest, quality, vitamin, pl...\n",
              "391621      5  [great, alternative, drinking, water, long, we...\n",
              "323566      5  [mint, made, exclusively, xylitol, almost, min...\n",
              "246113      5  [bought, first, case, used, oatmeal, coffee, a...\n",
              "\n",
              "[104010 rows x 2 columns]"
            ]
          },
          "execution_count": 6,
          "metadata": {},
          "output_type": "execute_result"
        }
      ],
      "source": [
        "df_downsampled = classification_df.groupby('Score', group_keys=False).apply(lambda x: x.sample(sample_size))\n",
        "df_downsampled"
      ]
    },
    {
      "cell_type": "code",
      "execution_count": null,
      "metadata": {
        "colab": {
          "base_uri": "https://localhost:8080/"
        },
        "id": "Ekf5XqvVbdBA",
        "outputId": "9e213da2-e37e-4fee-eff2-04e64e68e273"
      },
      "outputs": [],
      "source": [
        "df_downsampled.shape"
      ]
    },
    {
      "cell_type": "code",
      "execution_count": 10,
      "metadata": {
        "colab": {
          "base_uri": "https://localhost:8080/",
          "height": 312
        },
        "id": "OBdFPYssbdBA",
        "outputId": "cf91dee1-07fc-4dd6-f230-beef8ddc39cf"
      },
      "outputs": [
        {
          "data": {
            "text/plain": [
              "Text(0, 0.5, 'Number of reviews')"
            ]
          },
          "execution_count": 10,
          "metadata": {},
          "output_type": "execute_result"
        },
        {
          "data": {
            "image/png": "[encoded data removed]",
            "text/plain": [
              "<Figure size 640x480 with 1 Axes>"
            ]
          },
          "metadata": {},
          "output_type": "display_data"
        }
      ],
      "source": [
        "sns.histplot(df_downsampled['Score'], discrete=True)\n",
        "plt.title(\"Score distribution\", fontweight='bold')\n",
        "plt.xlabel(\"Score\")\n",
        "plt.ylabel(\"Number of reviews\")"
      ]
    },
    {
      "cell_type": "code",
      "execution_count": 7,
      "metadata": {
        "id": "tjUtT-5gbdBA"
      },
      "outputs": [],
      "source": [
        "# Split training test set \n",
        "X_train, X_test, y_train, y_test = train_test_split(df_downsampled['Lemmatized Text'], \n",
        "                                                    df_downsampled[\"Score\"], \n",
        "                                                    test_size=0.3, \n",
        "                                                    random_state=1, \n",
        "                                                    stratify=df_downsampled['Score'])"
      ]
    },
    {
      "attachments": {},
      "cell_type": "markdown",
      "metadata": {
        "id": "Nz5jl2JtbdBB"
      },
      "source": [
        "# **Multi-label classification**"
      ]
    },
    {
      "attachments": {},
      "cell_type": "markdown",
      "metadata": {
        "id": "519uwDQIbdBB"
      },
      "source": [
        "## **1 - Bag-of-Word**"
      ]
    },
    {
      "cell_type": "code",
      "execution_count": 8,
      "metadata": {
        "id": "14eS1p7SbdBB"
      },
      "outputs": [],
      "source": [
        "cv = CountVectorizer(min_df=0., max_df=1.0)\n",
        "cv_model = cv.fit(X_train.astype(str)) \n",
        "X_train_BOW = cv_model.transform(X_train.astype(str))"
      ]
    },
    {
      "cell_type": "code",
      "execution_count": null,
      "metadata": {
        "id": "4e3W5JiGbdBC",
        "outputId": "58639c0d-41ef-45be-b8e7-d16cce8b97dd"
      },
      "outputs": [],
      "source": [
        "X_train_BOW.shape"
      ]
    },
    {
      "cell_type": "markdown",
      "metadata": {
        "id": "6t0Xvdq9bdBC"
      },
      "source": [
        "Devo necessariamente ridurre la dimensionalità della matrice. Applico una SVD senza assegnare il numero di componenti da considerare e poi usiamo la funzione cusum() per ottenere la varianza cumulata, quindi teniamo un numero di componenti necessarie per raggiungere una certa soglia di varianza cumulata (fissata a priori).\n",
        "\n",
        "Considerando l'elevata dimensionalità del dataset, non è possibile stimare l'intera SVD. Viene quindi considerato un numero comunque elevato di componenti, e.g. 1000, per poi andare a valutare la varianza cumulata. "
      ]
    },
    {
      "cell_type": "code",
      "execution_count": null,
      "metadata": {
        "id": "Un663iMmbdBC"
      },
      "outputs": [],
      "source": [
        "# Run SVD with 3000 components\n",
        "\n",
        "# n_components = 3000\n",
        "# tSVD_BOW = TruncatedSVD(n_components = n_components)\n",
        "# SVD_BOW = tSVD_BOW.fit(X_train_BOW)\n",
        "\n",
        "# Cumulative varianca\n",
        "# cum_var = np.cumsum(SVD_BOW.explained_variance_ratio_)\n",
        "\n",
        "# Save fit in local \n",
        "\n",
        "# joblib.dump(SVD_BOW, \"SVD_BOW_3000.joblib\")"
      ]
    },
    {
      "cell_type": "code",
      "execution_count": 20,
      "metadata": {
        "id": "nQrFIjLLbdBD"
      },
      "outputs": [],
      "source": [
        "# Upload SVD\n",
        "\n",
        "SVD_BOW_3000 = joblib.load(\"H:/.shortcut-targets-by-id/1veNClNl7CxCTFHVNY2Fp29hcMoEj-the/TextMiningProject/SVD_BOW_3000.joblib\")\n",
        "cum_var = np.cumsum(SVD_BOW_3000.explained_variance_ratio_)"
      ]
    },
    {
      "cell_type": "code",
      "execution_count": null,
      "metadata": {
        "colab": {
          "base_uri": "https://localhost:8080/",
          "height": 279
        },
        "id": "tnxqIYegbdBD",
        "outputId": "bebf82e2-ac40-4745-a4a5-92361511b227"
      },
      "outputs": [],
      "source": [
        "# Plot cumulative variance\n",
        "plt.plot(range(1, len(cum_var) + 1), cum_var)\n",
        "plt.xlabel(\"Number of components\")\n",
        "plt.ylabel(\"Cumulative variance\")\n",
        "plt.show()"
      ]
    },
    {
      "cell_type": "markdown",
      "metadata": {
        "id": "9IXQYxCBbdBD"
      },
      "source": [
        "Fissiamo una threshold pari all'85%. Ciò vuol dire che andremo a considerare un numero di componenti necessarie per arrivare ad una varianza spiegata pari all'85%"
      ]
    },
    {
      "cell_type": "code",
      "execution_count": 21,
      "metadata": {
        "colab": {
          "base_uri": "https://localhost:8080/"
        },
        "id": "AiF_Fya8bdBD",
        "outputId": "8f7ef8e8-8527-4059-c99c-bd80a59de069"
      },
      "outputs": [
        {
          "name": "stdout",
          "output_type": "stream",
          "text": [
            "Numero di componenti necessariea spiegare una varianza pari all'85% sono :  1413\n"
          ]
        }
      ],
      "source": [
        "threshold = 0.85\n",
        "n_components = np.argmax(cum_var >= threshold) + 1\n",
        "print(\"Numero di componenti necessariea spiegare una varianza pari all'85% sono : \", n_components)"
      ]
    },
    {
      "cell_type": "code",
      "execution_count": 22,
      "metadata": {
        "id": "N1_peW_hbdBE"
      },
      "outputs": [],
      "source": [
        "# # SVD with optimal components\n",
        "\n",
        "# tSVD_BOW = TruncatedSVD(n_components = 1413)\n",
        "# SVD_BOW = tSVD_BOW.fit(X_train_BOW)"
      ]
    },
    {
      "cell_type": "code",
      "execution_count": 23,
      "metadata": {},
      "outputs": [],
      "source": [
        "# # Apply the trasfrom on training and test set\n",
        "\n",
        "# X_train_BOW = tSVD_BOW.transform(X_train_BOW)\n",
        "\n",
        "# X_test_BOW = cv_model.transform(X_test.astype(str))\n",
        "# X_test_BOW = tSVD_BOW.transform(X_test_BOW)"
      ]
    },
    {
      "cell_type": "code",
      "execution_count": 26,
      "metadata": {},
      "outputs": [],
      "source": [
        "# # Save final dataset \n",
        "\n",
        "# np.save('H:/.shortcut-targets-by-id/1veNClNl7CxCTFHVNY2Fp29hcMoEj-the/TextMiningProject/Dataset_BOW/X_train_BOW.npy', X_train_BOW)\n",
        "# np.save('H:/.shortcut-targets-by-id/1veNClNl7CxCTFHVNY2Fp29hcMoEj-the/TextMiningProject/Dataset_BOW/X_test_BOW.npy', X_test_BOW)"
      ]
    },
    {
      "cell_type": "code",
      "execution_count": 9,
      "metadata": {},
      "outputs": [],
      "source": [
        "# Upload dataset\n",
        "X_train_BOW = np.load('H:/.shortcut-targets-by-id/1veNClNl7CxCTFHVNY2Fp29hcMoEj-the/TextMiningProject/Dataset_BOW/X_train_BOW.npy')\n",
        "X_test_BOW = np.load('H:/.shortcut-targets-by-id/1veNClNl7CxCTFHVNY2Fp29hcMoEj-the/TextMiningProject/Dataset_BOW/X_test_BOW.npy')"
      ]
    },
    {
      "attachments": {},
      "cell_type": "markdown",
      "metadata": {
        "id": "PWKLf5CabdBE"
      },
      "source": [
        "### Algorithm Implementation\n",
        "\n",
        "- Logistic Regression\n",
        "- Random Forest\n",
        "- K-NN\n",
        "- XGboost"
      ]
    },
    {
      "attachments": {},
      "cell_type": "markdown",
      "metadata": {
        "id": "kKNdbGb3bdBE"
      },
      "source": [
        "#### Logistic Regression"
      ]
    },
    {
      "cell_type": "code",
      "execution_count": null,
      "metadata": {
        "id": "quLHCvR5bdBE"
      },
      "outputs": [],
      "source": [
        "# model = LogisticRegression(random_state=1)\n",
        "\n",
        "# # Fine tuning\n",
        "\n",
        "# solvers = ['newton-cg', 'lbfgs', 'liblinear', 'sag', 'saga']\n",
        "# penalty = ['None', 'l2']\n",
        "# c_values = [500, 200, 100, 50, 10, 1.0, 0.1, 0.01, 0.001]\n",
        "\n",
        "# Define the grid search\n",
        "\n",
        "# grid = dict(solver=solvers,penalty=penalty,C=c_values)\n",
        "\n",
        "# Start the clock, train the classifier, then stop the clock\n",
        "# start = time()\n",
        "\n",
        "# Cross validation and Tuning\n",
        "# random_search = RandomizedSearchCV(estimator=model, param_distributions=grid, n_iter=6 ,cv=2, scoring=\"accuracy\", error_score=0, verbose=3)\n",
        "# grid_result = random_search.fit(X_train_BOW, y_train)\n",
        "\n",
        "# end = time()\n",
        "# print (\"Train and tuning model in {:.4f} seconds\".format(end - start))\n",
        "\n",
        "# Save the results of the tuning \n",
        "\n",
        "# path = 'H:/.shortcut-targets-by-id/1veNClNl7CxCTFHVNY2Fp29hcMoEj-the/TextMiningProject/Model_estimated/logreg_gridsearch_BOW.joblib'\n",
        "# joblib.dump(grid_result, path)"
      ]
    },
    {
      "cell_type": "code",
      "execution_count": 10,
      "metadata": {
        "id": "NySkmosjbdBE",
        "outputId": "0c9070c9-f194-4486-e4fc-80cb0405479d"
      },
      "outputs": [
        {
          "name": "stdout",
          "output_type": "stream",
          "text": [
            "Best result: 0.485791 using {'C': 0.1, 'penalty': 'l2', 'solver': 'sag'}\n"
          ]
        }
      ],
      "source": [
        "# Upload fitted model\n",
        "path = 'H:/.shortcut-targets-by-id/1veNClNl7CxCTFHVNY2Fp29hcMoEj-the/TextMiningProject/Model_estimated/Classificazione_Multiclasse/BOW/logreg_gridsearch_BOW.joblib'\n",
        "loaded_grid_search = joblib.load(path)\n",
        "\n",
        "# Results summary\n",
        "print(\"Best result: %f using %s\" % (loaded_grid_search.best_score_, loaded_grid_search.best_params_))\n",
        "\n",
        "# Save the model with the best performance\n",
        "model_lr_BOW = loaded_grid_search.best_estimator_"
      ]
    },
    {
      "attachments": {},
      "cell_type": "markdown",
      "metadata": {
        "id": "CDGTrGWpbdBE"
      },
      "source": [
        "#### Random Forest"
      ]
    },
    {
      "cell_type": "code",
      "execution_count": null,
      "metadata": {
        "id": "_d58Ljk9bdBE",
        "outputId": "8f548533-d696-435a-fbdb-0b4d194d7d10"
      },
      "outputs": [],
      "source": [
        "# model = RandomForestClassifier()\n",
        "\n",
        "# Fine tuning\n",
        "# n_estimators = [10, 100, 1000]\n",
        "# max_features = ['sqrt', 'log2']\n",
        "\n",
        "# Define the grid reasearch\n",
        "# grid = dict(n_estimators=n_estimators,max_features=max_features)\n",
        "\n",
        "# Start the clock, train the classifier, then stop the clock\n",
        "# start = time()\n",
        "\n",
        "# grid_search = GridSearchCV(estimator=model, param_grid=grid, n_jobs=-1, cv=2, scoring='accuracy', error_score=0)\n",
        "# grid_result = grid_search.fit(X_train_BOW, y_train)\n",
        "# end = time()\n",
        "# print (\"Train and tuning model in {:.4f} seconds\".format(end - start))\n",
        "\n",
        "# Salvataggio dei risultati del tuning\n",
        "# path = 'H:/.shortcut-targets-by-id/1veNClNl7CxCTFHVNY2Fp29hcMoEj-the/TextMiningProject/Model_estimated/rf_gridsearch_BOW.joblib'\n",
        "# joblib.dump(grid_result, path)"
      ]
    },
    {
      "cell_type": "code",
      "execution_count": 11,
      "metadata": {
        "id": "CTg7m7sWbdBF",
        "outputId": "d2e5d933-0232-4bb0-d111-8b84f96b741f"
      },
      "outputs": [
        {
          "name": "stdout",
          "output_type": "stream",
          "text": [
            "Best result: 0.375527 using {'max_features': 'sqrt', 'n_estimators': 1000}\n"
          ]
        }
      ],
      "source": [
        "\n",
        "# Caricamento del risultato del tuning\n",
        "path = 'H:/.shortcut-targets-by-id/1veNClNl7CxCTFHVNY2Fp29hcMoEj-the/TextMiningProject/Model_estimated/Classificazione_Multiclasse/BOW/rf_gridsearch_BOW.joblib'\n",
        "loaded_grid_search = joblib.load(path)\n",
        "\n",
        "# Summary dei risultati\n",
        "print(\"Best result: %f using %s\" % (loaded_grid_search.best_score_, loaded_grid_search.best_params_))\n",
        "\n",
        "# Salvo il modello con le migliori perfomance\n",
        "model_rf_BOW = loaded_grid_search.best_estimator_"
      ]
    },
    {
      "attachments": {},
      "cell_type": "markdown",
      "metadata": {
        "id": "bdYxtwVzbdBF"
      },
      "source": [
        "#### K-NN"
      ]
    },
    {
      "cell_type": "code",
      "execution_count": null,
      "metadata": {},
      "outputs": [],
      "source": [
        "# model = KNeighborsClassifier(weights='distance')\n",
        "# # Parametri critici da\n",
        "# n_neighbors = range(1, 21, 4)\n",
        "\n",
        "# # Definisco la griglia di ricerca\n",
        "# grid = dict(n_neighbors=n_neighbors)\n",
        "\n",
        "# # Start the clock, train the classifier, then stop the clock\n",
        "# start = time()\n",
        "# random_search = RandomizedSearchCV(estimator=model, param_distributions=grid, n_iter=6 ,cv=2, scoring=\"accuracy\", error_score=0, verbose=3)\n",
        "# grid_result = random_search.fit(X_train_BOW, y_train)\n",
        "# end = time()\n",
        "# print (\"Train and tuning model in {:.4f} seconds\".format(end - start))\n",
        "# # Summary dei risultati\n",
        "# print(\"Best result: %f using %s\" % (grid_result.best_score_, grid_result.best_params_))\n",
        "\n",
        "# # Salvataggio dei risultati del tuning\n",
        "# path = 'H:/.shortcut-targets-by-id/1veNClNl7CxCTFHVNY2Fp29hcMoEj-the/TextMiningProject/Model_estimated/knn_gridsearch_BOW.joblib'\n",
        "# joblib.dump(grid_result, path)"
      ]
    },
    {
      "cell_type": "code",
      "execution_count": 12,
      "metadata": {},
      "outputs": [
        {
          "name": "stdout",
          "output_type": "stream",
          "text": [
            "Best result: 0.319585 using {'n_neighbors': 17}\n"
          ]
        }
      ],
      "source": [
        "# Caricamento del risultato del tuning\n",
        "path = 'H:/.shortcut-targets-by-id/1veNClNl7CxCTFHVNY2Fp29hcMoEj-the/TextMiningProject/Model_estimated/Classificazione_Multiclasse/BOW/knn_gridsearch_BOW.joblib'\n",
        "loaded_grid_search = joblib.load(path)\n",
        "\n",
        "# Summary dei risultati\n",
        "print(\"Best result: %f using %s\" % (loaded_grid_search.best_score_, loaded_grid_search.best_params_))\n",
        "\n",
        "# Salvo il modello con le migliori perfomance\n",
        "model_knn_BOW = loaded_grid_search.best_estimator_"
      ]
    },
    {
      "attachments": {},
      "cell_type": "markdown",
      "metadata": {
        "id": "VndvAmqRbdBG"
      },
      "source": [
        "#### XG-Boost"
      ]
    },
    {
      "attachments": {},
      "cell_type": "markdown",
      "metadata": {
        "id": "CHtAU1lAbdBG"
      },
      "source": [
        "Viene effettuata una ottimizzazione degli iper-parametri con metodo RandomSearch. \n",
        "\n",
        "Parametri ottimizzati\n",
        "\n",
        "- max_depth = profondità massima dell'albero di decisione utilizzato in una singola iterazione. \n",
        "- eta (a.k.a learning rate) = un valore compreso tra 0 e 1 che controlla la velocità di apprendimento dell'algoritmo.  \n",
        "- colsample_bytree = un valore compreso tra 0 e 1 che rappresenta la frazione di colonne utilizzate in ciascuna iterazione.\n",
        "- sampling_method = specifica il metodo di campionamento utilizzato per selezionare le osservazioni da utilizzare in ciascuna iterazione."
      ]
    },
    {
      "cell_type": "code",
      "execution_count": null,
      "metadata": {
        "id": "k5thU_GDbdBG"
      },
      "outputs": [],
      "source": [
        "# le = LabelEncoder()\n",
        "# y_train_xg = le.fit_transform(y_train)\n",
        "\n",
        "# # XG-Boost con ottimizzazione degli iperparametri\n",
        "# model = XGBClassifier( tree_method = 'gpu_hist', predictor = 'gpu_predictor')\n",
        "\n",
        "# # Parametri critici da ottimizzare\n",
        "# max_depth = [1,2,3, 4, 5, 6, 7, 8, 9]\n",
        "# eta  = [0.001, 0.01, 0.01, 0.2, 0.4, 0.6, 0.8]\n",
        "# colsample_bytree = [0.01, 0.1, 0.3, 0.5, 0.7, 0.9]\n",
        "# sampling_method = ['uniform', 'gradient_based']\n",
        "\n",
        "# #Definisco la griglia di ricerca\n",
        "# grid = dict(max_depth=max_depth, eta =eta, colsample_bytree = colsample_bytree, sampling_method = sampling_method)\n",
        "\n",
        "# # Start the clock, train the classifier, then stop the clock\n",
        "# start = time()\n",
        "# random_search = RandomizedSearchCV(estimator=model, param_distributions=grid, n_iter= 6, cv=2, scoring='accuracy', error_score=0, n_jobs=-1, random_state=0, verbose=4)\n",
        "# grid_result = random_search.fit(X_train_BOW, y_train_xg)\n",
        "# end = time()\n",
        "# print (\"Train and tuning model in {:.4f} seconds\".format(end - start))\n",
        "\n",
        "# # Salvataggio dei risultati del tuning\n",
        "# path = 'H:/.shortcut-targets-by-id/1veNClNl7CxCTFHVNY2Fp29hcMoEj-the/TextMiningProject/Model_estimated/xgboost_gridsearch_BOW.joblib'\n",
        "# joblib.dump(grid_result, path)\n",
        "\n",
        "# # Salvataggio dei risultati del tuning Google-Colab\n",
        "# # model_path = '/content/gdrive/MyDrive/TextMiningProject/xgboost_gridsearch_BOW.joblib'\n",
        "# # joblib.dump(grid_result, model_path)"
      ]
    },
    {
      "cell_type": "code",
      "execution_count": 103,
      "metadata": {
        "id": "ykWDw0z6bdBG"
      },
      "outputs": [
        {
          "name": "stdout",
          "output_type": "stream",
          "text": [
            "Best result: 0.413065 using {'max_depth': 6, 'eta': 0.2, 'colsample_bytree': 0.5}\n"
          ]
        }
      ],
      "source": [
        "# Caricamento del risultato del tuning\n",
        "path = 'H:/.shortcut-targets-by-id/1veNClNl7CxCTFHVNY2Fp29hcMoEj-the/TextMiningProject/Model_estimated/Classificazione_Multiclasse/BOW/xgboost_gridsearch_BOW.joblib'\n",
        "loaded_grid_search = joblib.load(path)\n",
        "\n",
        "# Summary dei risultati\n",
        "print(\"Best result: %f using %s\" % (loaded_grid_search.best_score_, loaded_grid_search.best_params_))\n",
        "\n",
        "# Salvo il modello con le migliori perfomance\n",
        "model_xgboost_BOW = loaded_grid_search.best_estimator_"
      ]
    },
    {
      "cell_type": "code",
      "execution_count": 26,
      "metadata": {},
      "outputs": [
        {
          "data": {
            "text/plain": [
              "331584    4\n",
              "341304    3\n",
              "101580    2\n",
              "232866    4\n",
              "65029     5\n",
              "         ..\n",
              "99766     2\n",
              "363417    5\n",
              "121515    5\n",
              "339656    4\n",
              "49051     3\n",
              "Name: Score, Length: 31203, dtype: int64"
            ]
          },
          "execution_count": 26,
          "metadata": {},
          "output_type": "execute_result"
        }
      ],
      "source": [
        "y_test"
      ]
    },
    {
      "attachments": {},
      "cell_type": "markdown",
      "metadata": {
        "id": "v6zxofQmbdBG"
      },
      "source": [
        "### Analysis of results"
      ]
    },
    {
      "cell_type": "code",
      "execution_count": 16,
      "metadata": {
        "id": "WV_ZjhsrbdBH"
      },
      "outputs": [
        {
          "name": "stdout",
          "output_type": "stream",
          "text": [
            "[3 2 1 ... 4 3 2]\n",
            "               Accuracy  Precision    Recall  F1 Score\n",
            "LR model       0.221197   0.220327  0.221194  0.218626\n",
            "RF model       0.283915   0.279124  0.283912  0.278989\n",
            "KNN model      0.225139   0.230686  0.225138  0.222418\n",
            "XGBOOST model  0.269557   0.270507  0.269555  0.269756\n"
          ]
        }
      ],
      "source": [
        "models = [model_lr_BOW, model_rf_BOW, model_knn_BOW, model_xgboost_BOW]\n",
        "\n",
        "# Previsioni sul test set\n",
        "results = []\n",
        "for model in models:\n",
        "    if model == models[3]:\n",
        "        le = LabelEncoder()\n",
        "        y_test_xg = le.fit_transform(y_test)\n",
        "        print(y_test_xg)\n",
        "        y_pred = model.predict(X_test_BOW)\n",
        "        acc = accuracy_score(y_test_xg, y_pred)\n",
        "        prec = precision_score(y_test_xg, y_pred, average='macro')\n",
        "        recall = recall_score(y_test_xg, y_pred, average='macro')\n",
        "        f1 = f1_score(y_test_xg, y_pred, average='macro')\n",
        "        results.append([acc, prec, recall, f1])\n",
        "    else:\n",
        "        y_pred = model.predict(X_test_BOW)\n",
        "        acc = accuracy_score(y_test, y_pred)\n",
        "        prec = precision_score(y_test, y_pred, average='macro')\n",
        "        recall = recall_score(y_test, y_pred, average='macro')\n",
        "        f1 = f1_score(y_test, y_pred, average='macro')\n",
        "        results.append([acc, prec, recall, f1])\n",
        "\n",
        "# Creo la tabella e visualizzo i risultati\n",
        "df_results = pd.DataFrame(results, columns=['Accuracy', 'Precision', 'Recall', 'F1 Score'])\n",
        "df_results.index = ['LR model', 'RF model', 'KNN model', 'XGBOOST model']\n",
        "print(df_results)"
      ]
    },
    {
      "cell_type": "code",
      "execution_count": null,
      "metadata": {},
      "outputs": [],
      "source": [
        "# Save results dataframe\n",
        "\n",
        "df_results.to_csv('H:/.shortcut-targets-by-id/1veNClNl7CxCTFHVNY2Fp29hcMoEj-the/TextMiningProject/df_results_BOW.csv')"
      ]
    },
    {
      "cell_type": "code",
      "execution_count": null,
      "metadata": {},
      "outputs": [],
      "source": [
        "# Upload results dataframe\n",
        "df_results = pd.read_csv(H:/.shortcut-targets-by-id/1veNClNl7CxCTFHVNY2Fp29hcMoEj-the/TextMiningProject/df_results_BOW.csv')"
      ]
    },
    {
      "cell_type": "code",
      "execution_count": 62,
      "metadata": {
        "id": "C7Pg9f7-bdBH"
      },
      "outputs": [
        {
          "data": {
            "image/png": "[encoded data removed]",
            "text/plain": [
              "<Figure size 640x480 with 2 Axes>"
            ]
          },
          "metadata": {},
          "output_type": "display_data"
        },
        {
          "data": {
            "image/png": "[encoded data removed]",
            "text/plain": [
              "<Figure size 640x480 with 2 Axes>"
            ]
          },
          "metadata": {},
          "output_type": "display_data"
        },
        {
          "data": {
            "image/png": "[encoded data removed]",
            "text/plain": [
              "<Figure size 640x480 with 2 Axes>"
            ]
          },
          "metadata": {},
          "output_type": "display_data"
        },
        {
          "data": {
            "image/png": "[encoded data removed]",
            "text/plain": [
              "<Figure size 640x480 with 2 Axes>"
            ]
          },
          "metadata": {},
          "output_type": "display_data"
        }
      ],
      "source": [
        "models = [model_lr_BOW, model_rf_BOW, model_knn_BOW, model_xgboost_BOW]\n",
        "model_names = [\"Logistic Regression\", \"Random Forest 2\", \"K-NN\", \"XG-boost\"]\n",
        "\n",
        "# >Confusion matrix for each model\n",
        "for i, model in enumerate(models):\n",
        "    if model == models[3]:\n",
        "        le = LabelEncoder()\n",
        "        y_test_xg = le.fit_transform(y_test)\n",
        "        conf_matrix = confusion_matrix(y_test, model.predict(X_test_BOW))\n",
        "        plt.imshow(conf_matrix, cmap='Blues', interpolation='nearest')\n",
        "        plt.colorbar()\n",
        "        classes = [1,2,3,4,5]\n",
        "        plt.xticks( np.arange(5),classes)\n",
        "        plt.yticks( np.arange(5), classes)\n",
        "        plt.xlabel(\"Predicted Class\")\n",
        "        plt.ylabel(\"True Class\")\n",
        "        plt.title(model_names[i])\n",
        "        plt.show()\n",
        "    else:\n",
        "        conf_matrix = confusion_matrix(y_test, model.predict(X_test_BOW))\n",
        "        plt.imshow(conf_matrix, cmap='Blues', interpolation='nearest')\n",
        "        plt.colorbar()\n",
        "        classes = [1,2,3,4,5]\n",
        "        plt.xticks(np.arange(5), classes)\n",
        "        plt.yticks(np.arange(5), classes)\n",
        "        plt.xlabel(\"Predicted Class\")\n",
        "        plt.ylabel(\"True Class\")\n",
        "        plt.title(model_names[i])\n",
        "        plt.show()\n"
      ]
    },
    {
      "attachments": {},
      "cell_type": "markdown",
      "metadata": {
        "id": "CC5BmfiUbdBI"
      },
      "source": [
        "## **2 - TF-IDF**"
      ]
    },
    {
      "cell_type": "code",
      "execution_count": 12,
      "metadata": {
        "id": "Tu21H8jHbdBI"
      },
      "outputs": [],
      "source": [
        "tv = TfidfVectorizer(min_df=0., max_df=1., use_idf=True) \n",
        "tv_model = tv.fit(X_train.astype(str)) \n",
        "X_train_TFIDF = tv.transform(X_train.astype(str)) # Vettorizzo"
      ]
    },
    {
      "cell_type": "code",
      "execution_count": null,
      "metadata": {
        "id": "T6TNWrsRbdBI",
        "outputId": "4e4b6ebb-a4aa-438b-a737-f04267e2f083"
      },
      "outputs": [],
      "source": [
        "X_train_TFIDF.shape"
      ]
    },
    {
      "cell_type": "code",
      "execution_count": null,
      "metadata": {
        "id": "8uvn6tyEbdBI",
        "outputId": "e9d07380-3e44-43b3-a67d-d1e43d484f2e"
      },
      "outputs": [],
      "source": [
        "# Run SVD with 5000 components\n",
        "\n",
        "# n_components = 5000\n",
        "# tSVD_TFIDF = TruncatedSVD(n_components = n_components)\n",
        "# SVD_TFIDF_5000 = tSVD_TFIDF.fit(X_train_TFIDF)\n",
        "\n",
        "# Cumulative variance\n",
        "# cum_var = np.cumsum(SVD_TFIDF_5000.explained_variance_ratio_)\n",
        "\n",
        "# Save SVD on the disk\n",
        "# joblib.dump(SVD_TFIDF_5000, \"SVD_TFIDF_5000.joblib\")\n"
      ]
    },
    {
      "cell_type": "code",
      "execution_count": null,
      "metadata": {},
      "outputs": [],
      "source": [
        "# Upload SVD\n",
        "SVD_TFIDF_5000 = joblib.load(\"H:/.shortcut-targets-by-id/1veNClNl7CxCTFHVNY2Fp29hcMoEj-the/TextMiningProject/SVD_TFIDF_5000.joblib\")\n",
        "cum_var = np.cumsum(SVD_TFIDF_5000.explained_variance_ratio_)"
      ]
    },
    {
      "cell_type": "code",
      "execution_count": null,
      "metadata": {
        "id": "xNYr7DPAn8hh"
      },
      "outputs": [],
      "source": [
        "# Cumulative variance plot\n",
        "plt.plot(range(1, len(cum_var) + 1), cum_var)\n",
        "plt.xlabel(\"Number of components\")\n",
        "plt.ylabel(\"Cumulative variance\")\n",
        "plt.show()"
      ]
    },
    {
      "cell_type": "code",
      "execution_count": null,
      "metadata": {
        "id": "XteUrLEibdBJ",
        "outputId": "254e8405-e85b-43f4-ce35-dd0a8234fbe5"
      },
      "outputs": [],
      "source": [
        "threshold = 0.85\n",
        "n_components = np.argmax(cum_var >= threshold) + 1\n",
        "print(\"Numero di componenti necessariea spiegare una varianza pari all'85% sono : \", n_components)"
      ]
    },
    {
      "cell_type": "code",
      "execution_count": 64,
      "metadata": {},
      "outputs": [],
      "source": [
        "# # IFit optimal SVD\n",
        "# tSVD_TFIDF = TruncatedSVD(n_components = 4719)\n",
        "# SVD_TFIDF = tSVD_TFIDF.fit(X_train_TFIDF)"
      ]
    },
    {
      "cell_type": "code",
      "execution_count": 65,
      "metadata": {},
      "outputs": [],
      "source": [
        "# # Aplly the trasformation on the training and test set\n",
        "# X_train_TFIDF = tSVD_TFIDF.transform(X_train_TFIDF)\n",
        "\n",
        "# X_test_TFIDF = tv_model.transform(X_test.astype(str))\n",
        "# X_test_TFIDF = SVD_TFIDF.transform(X_test_TFIDF)"
      ]
    },
    {
      "cell_type": "code",
      "execution_count": 67,
      "metadata": {},
      "outputs": [],
      "source": [
        "# Save final datasets\n",
        "\n",
        "# np.save('H:/.shortcut-targets-by-id/1veNClNl7CxCTFHVNY2Fp29hcMoEj-the/TextMiningProject/Dataset_TFIDF/X_train_TFIDF.npy', X_train_TFIDF)\n",
        "# np.save('H:/.shortcut-targets-by-id/1veNClNl7CxCTFHVNY2Fp29hcMoEj-the/TextMiningProject/Dataset_TFIDF/X_test_TFIDF.npy', X_test_TFIDF)"
      ]
    },
    {
      "cell_type": "code",
      "execution_count": 13,
      "metadata": {},
      "outputs": [],
      "source": [
        "# Upload datasets\n",
        "\n",
        "X_train_TFIDF = np.load('H:/.shortcut-targets-by-id/1veNClNl7CxCTFHVNY2Fp29hcMoEj-the/TextMiningProject/Dataset_TFIDF/X_train_TFIDF.npy')\n",
        "X_test_TFIDF = np.load('H:/.shortcut-targets-by-id/1veNClNl7CxCTFHVNY2Fp29hcMoEj-the/TextMiningProject/Dataset_TFIDF/X_test_TFIDF.npy')"
      ]
    },
    {
      "attachments": {},
      "cell_type": "markdown",
      "metadata": {},
      "source": [
        "### Algorithm Implementation\n",
        "\n",
        "- Logistic Regression\n",
        "- KNN\n",
        "- Random Forest\n",
        "- XGBoost"
      ]
    },
    {
      "attachments": {},
      "cell_type": "markdown",
      "metadata": {},
      "source": [
        "#### Logistic regression"
      ]
    },
    {
      "cell_type": "code",
      "execution_count": null,
      "metadata": {
        "id": "Bc_7nKJtor5f"
      },
      "outputs": [],
      "source": [
        "# # Regressione logistica con ottimizzazione degli iperparametri\n",
        "# model = LogisticRegression(random_state=1)\n",
        "\n",
        "# # Iperparametri \"critici\" da ottimizzare \n",
        "# solvers = ['newton-cg', 'lbfgs', 'liblinear', 'sag', 'saga']\n",
        "# penalty = ['None', 'l2']\n",
        "# c_values = [500, 200, 100, 50, 10, 1.0, 0.1, 0.01, 0.001]\n",
        "\n",
        "# # Definisco la griglia di ricerca\n",
        "# grid = dict(penalty=penalty,C=c_values)\n",
        "\n",
        "# # Start the clock, train the classifier, then stop the clock\n",
        "# start = time()\n",
        "\n",
        "# # CV and Tuning\n",
        "# random_search = RandomizedSearchCV(estimator=model, param_distributions=grid, n_iter=6 ,cv=2, scoring=\"accuracy\", error_score=0, verbose=3)\n",
        "# grid_result = random_search.fit(X_train_TFIDF, y_train)\n",
        "# end = time()\n",
        "# print (\"Train and tuning model in {:.4f} seconds\".format(end - start))\n",
        "\n",
        "# # Salvataggio dei risultati del tuning\n",
        "# # path = 'H:/.shortcut-targets-by-id/1veNClNl7CxCTFHVNY2Fp29hcMoEj-the/TextMiningProject/Model_estimated/lrr_gridsearch_TFIDF.joblib'\n",
        "# # joblib.dump(grid_result, path)\n",
        "\n",
        "# model_path = '/content/gdrive/MyDrive/TextMiningProject/logreg_gridsearch_TFIDF.joblib'\n",
        "# joblib.dump(grid_result, model_path)"
      ]
    },
    {
      "cell_type": "code",
      "execution_count": 14,
      "metadata": {
        "id": "TBfucnr3od4p",
        "outputId": "0c9070c9-f194-4486-e4fc-80cb0405479d"
      },
      "outputs": [
        {
          "name": "stdout",
          "output_type": "stream",
          "text": [
            "Best result: 0.443364 using {'solver': 'lbfgs', 'penalty': 'l2', 'C': 0.001}\n"
          ]
        }
      ],
      "source": [
        "# Caricamento del risultato del tuning\n",
        "\n",
        "path = 'H:/.shortcut-targets-by-id/1veNClNl7CxCTFHVNY2Fp29hcMoEj-the/TextMiningProject/Model_estimated/Classificazione_Multiclasse/TFIDF/logreg_gridsearch_TFIDF.joblib'\n",
        "loaded_grid_search = joblib.load(path)\n",
        "# model_path = '/content/gdrive/MyDrive/TextMiningProject/logreg_gridsearch_TFIDF.joblib'\n",
        "# loaded_grid_search = joblib.load(model_path)\n",
        "\n",
        "# Summary dei risultati\n",
        "print(\"Best result: %f using %s\" % (loaded_grid_search.best_score_, loaded_grid_search.best_params_))\n",
        "\n",
        "#Salvo il modello con le migliori performance\n",
        "model_lr_TFIDF = loaded_grid_search.best_estimator_"
      ]
    },
    {
      "attachments": {},
      "cell_type": "markdown",
      "metadata": {},
      "source": [
        "#### K-NN"
      ]
    },
    {
      "cell_type": "code",
      "execution_count": null,
      "metadata": {},
      "outputs": [],
      "source": [
        "# model = KNeighborsClassifier(weights='distance')\n",
        "# # Parametri critici da\n",
        "# n_neighbors = range(1, 21, 1)\n",
        "\n",
        "# # Definisco la griglia di ricerca\n",
        "# grid = dict(n_neighbors=n_neighbors)\n",
        "\n",
        "# # Start the clock, train the classifier, then stop the clock\n",
        "# start = time()\n",
        "# random_search = RandomizedSearchCV(estimator=model, param_distributions=grid, n_iter=6 ,cv=2, scoring=\"accuracy\", error_score=0, verbose=3)\n",
        "# #grid_search = GridSearchCV(estimator=model, param_grid=grid, n_jobs=-1, cv=2, scoring='accuracy',error_score=0)\n",
        "# grid_result = random_search.fit(X_train_TFIDF, y_train)\n",
        "# end = time()\n",
        "# print (\"Train and tuning model in {:.4f} seconds\".format(end - start))\n",
        "\n",
        "# # Salvataggio dei risultati del tuning\n",
        "\n",
        "# # path = 'H:/.shortcut-targets-by-id/1veNClNl7CxCTFHVNY2Fp29hcMoEj-the/TextMiningProject/Model_estimated/knn_gridsearch_TFIDF.joblib'\n",
        "# # loaded_grid_search = joblib.load(path)\n",
        "# model_path = '/content/gdrive/MyDrive/TextMiningProject/knn_gridsearch_TFIDF.joblib'\n",
        "# joblib.dump(grid_result, model_path)"
      ]
    },
    {
      "cell_type": "code",
      "execution_count": 15,
      "metadata": {},
      "outputs": [
        {
          "name": "stdout",
          "output_type": "stream",
          "text": [
            "Best result: 0.237697 using {'n_neighbors': 20}\n"
          ]
        }
      ],
      "source": [
        "# Caricamento del risultato del tuning\n",
        "\n",
        "path = 'H:/.shortcut-targets-by-id/1veNClNl7CxCTFHVNY2Fp29hcMoEj-the/TextMiningProject/Model_estimated/Classificazione_Multiclasse/TFIDF/knn_gridsearch_TFIDF.joblib'\n",
        "loaded_grid_search = joblib.load(path)\n",
        "# model_path = '/content/gdrive/MyDrive/TextMiningProject/knn_gridsearch_TFIDF.joblib'\n",
        "# loaded_grid_search = joblib.load(model_path)\n",
        "\n",
        "# Summary dei risultati\n",
        "print(\"Best result: %f using %s\" % (loaded_grid_search.best_score_, loaded_grid_search.best_params_))\n",
        "\n",
        "# Salvo il modello con le migliori perfomance\n",
        "model_knn_TFIDF = loaded_grid_search.best_estimator_"
      ]
    },
    {
      "attachments": {},
      "cell_type": "markdown",
      "metadata": {},
      "source": [
        "#### Random Forest"
      ]
    },
    {
      "cell_type": "code",
      "execution_count": null,
      "metadata": {
        "id": "_d58Ljk9bdBE",
        "outputId": "8f548533-d696-435a-fbdb-0b4d194d7d10"
      },
      "outputs": [],
      "source": [
        "# # Random Forest\n",
        "# model = RandomForestClassifier()\n",
        "\n",
        "# # Parametri 'critici' da ottimizzare\n",
        "# max_depth = [1, 2, 3, 4, 5, 6, 7]\n",
        "# n_estimators = [10, 100, 200, 400, 600, 800, 1000]\n",
        "# max_features = ['sqrt', 'log2']\n",
        "# # Definisco la griglia di ricerca \n",
        "# grid = dict(n_estimators=n_estimators,max_features=max_features, max_depth = max_depth)\n",
        "\n",
        "# # Start the clock, train the classifier, then stop the clock\n",
        "# start = time()\n",
        "\n",
        "# random_search = RandomizedSearchCV(estimator=model, param_distributions=grid, n_iter=6 ,cv=2, scoring=\"accuracy\", error_score=0, verbose=3)\n",
        "# grid_result = random_search.fit(X_train_TFIDF, y_train)\n",
        "# end = time()\n",
        "# print (\"Train and tuning model in {:.4f} seconds\".format(end - start))\n",
        "\n",
        "# # Salvataggio dei risultati del tuning\n",
        "# path = 'H:/.shortcut-targets-by-id/1veNClNl7CxCTFHVNY2Fp29hcMoEj-the/TextMiningProject/Model_estimated/rf_gridsearch_TFIDF.joblib'\n",
        "# joblib.dump(grid_result, path)"
      ]
    },
    {
      "cell_type": "code",
      "execution_count": 16,
      "metadata": {
        "id": "CTg7m7sWbdBF",
        "outputId": "d2e5d933-0232-4bb0-d111-8b84f96b741f"
      },
      "outputs": [
        {
          "name": "stdout",
          "output_type": "stream",
          "text": [
            "Best result: 0.371407 using {'n_estimators': 1000, 'max_features': 'sqrt'}\n"
          ]
        }
      ],
      "source": [
        "\n",
        "# Caricamento del risultato del tuning\n",
        "path = 'H:/.shortcut-targets-by-id/1veNClNl7CxCTFHVNY2Fp29hcMoEj-the/TextMiningProject/Model_estimated/Classificazione_Multiclasse/TFIDF/rf_gridsearch_TFIDF.joblib'\n",
        "loaded_grid_search = joblib.load(path)\n",
        "\n",
        "# Summary dei risultati\n",
        "print(\"Best result: %f using %s\" % (loaded_grid_search.best_score_, loaded_grid_search.best_params_))\n",
        "\n",
        "# Salvo il modello con le migliori perfomance\n",
        "model_rf_TFIDF = loaded_grid_search.best_estimator_"
      ]
    },
    {
      "attachments": {},
      "cell_type": "markdown",
      "metadata": {},
      "source": [
        "#### XGBoost"
      ]
    },
    {
      "cell_type": "code",
      "execution_count": 29,
      "metadata": {},
      "outputs": [
        {
          "data": {
            "text/plain": [
              "['H:/.shortcut-targets-by-id/1veNClNl7CxCTFHVNY2Fp29hcMoEj-the/TextMiningProject/Model_estimated/xgboost_holdout_TFIDF.joblib']"
            ]
          },
          "execution_count": 29,
          "metadata": {},
          "output_type": "execute_result"
        }
      ],
      "source": [
        "# le = LabelEncoder()\n",
        "# y_train_xg = le.fit_transform(y_train)\n",
        "\n",
        "# model = XGBClassifier(sampling_method = 'gradient_based', max_depth = 6, eta = 0.2, n_jobs=-1, tree_method = 'hist', objective='multi:softmax')\n",
        "# model_xgboost_TFIDF = model.fit(X_train_TFIDF, y_train_xg)\n",
        "\n",
        "# # Salvataggio dei risultati dell'holdout\n",
        "# path = 'H:/.shortcut-targets-by-id/1veNClNl7CxCTFHVNY2Fp29hcMoEj-the/TextMiningProject/Model_estimated/Classificazione_Multiclasse/TFIDF/xgboost_holdout_TFIDF.joblib'\n",
        "# joblib.dump(model_xgboost_TFIDF, path)"
      ]
    },
    {
      "cell_type": "code",
      "execution_count": 31,
      "metadata": {},
      "outputs": [],
      "source": [
        "# Caricamento del risultato dell'holdout\n",
        "path = 'H:/.shortcut-targets-by-id/1veNClNl7CxCTFHVNY2Fp29hcMoEj-the/TextMiningProject/Model_estimated/Classificazione_Multiclasse/TFIDF/xgboost_holdout_TFIDF.joblib'\n",
        "model_xgboost_TFIDF = joblib.load(path)"
      ]
    },
    {
      "attachments": {},
      "cell_type": "markdown",
      "metadata": {},
      "source": [
        "### Analysis of the results"
      ]
    },
    {
      "cell_type": "code",
      "execution_count": null,
      "metadata": {
        "id": "T76s-wjxod4q"
      },
      "outputs": [],
      "source": [
        "models = [model_lr_TFIDF, model_knn_TFIDF, model_rf_TFIDF, model_xgboost_TFIDF]\n",
        "\n",
        "# Previsioni sul test set\n",
        "results = []\n",
        "for model in models:\n",
        "    if model == models[3]:\n",
        "        le = LabelEncoder()\n",
        "        y_test_xg = le.fit_transform(y_test)\n",
        "        print(y_test_xg)\n",
        "        y_pred = model.predict(X_test_TFIDF)\n",
        "        acc = accuracy_score(y_test_xg, y_pred)\n",
        "        prec = precision_score(y_test_xg, y_pred, average='macro')\n",
        "        recall = recall_score(y_test_xg, y_pred, average='macro')\n",
        "        f1 = f1_score(y_test_xg, y_pred, average='macro')\n",
        "        results.append([acc, prec, recall, f1])\n",
        "    else:\n",
        "        y_pred = model.predict(X_test_TFIDF)\n",
        "        acc = accuracy_score(y_test, y_pred)\n",
        "        prec = precision_score(y_test, y_pred, average='macro')\n",
        "        recall = recall_score(y_test, y_pred, average='macro')\n",
        "        f1 = f1_score(y_test, y_pred, average='macro')\n",
        "        results.append([acc, prec, recall, f1])\n",
        "\n",
        "# Creo la tabella e visualizzo i risultati\n",
        "df_results = pd.DataFrame(results, columns=['Accuracy', 'Precision', 'Recall', 'F1 Score'])\n",
        "df_results.index = ['LR model', 'KNN model', \"Random Forest\" XGBOOST model']\n",
        "print(df_results)"
      ]
    },
    {
      "cell_type": "code",
      "execution_count": 38,
      "metadata": {},
      "outputs": [
        {
          "name": "stdout",
          "output_type": "stream",
          "text": [
            "               Accuracy  Precision    Recall  F1 Score\n",
            "LR model       0.313976   0.305260  0.313967  0.293167\n",
            "KNN model      0.220299   0.214467  0.220295  0.172065\n",
            "Random Forest  0.291703   0.286056  0.291697  0.286066\n",
            "XGBOOST model  0.429254   0.420693  0.429246  0.423616\n"
          ]
        }
      ],
      "source": [
        "# Dataframe with the results for each models\n",
        "\n",
        "df_results = pd.DataFrame(results, columns=['Accuracy', 'Precision', 'Recall', 'F1 Score'])\n",
        "df_results.index = ['LR model', 'KNN model', \"Random Forest\" , 'XGBOOST model']\n",
        "print(df_results)"
      ]
    },
    {
      "cell_type": "code",
      "execution_count": 44,
      "metadata": {},
      "outputs": [],
      "source": [
        "#  Save the results\n",
        "df_results.to_csv('H:/.shortcut-targets-by-id/1veNClNl7CxCTFHVNY2Fp29hcMoEj-the/TextMiningProject/df_results_TFIDF.csv')"
      ]
    },
    {
      "cell_type": "code",
      "execution_count": 45,
      "metadata": {},
      "outputs": [
        {
          "name": "stdout",
          "output_type": "stream",
          "text": [
            "      Unnamed: 0  Accuracy  Precision    Recall  F1 Score\n",
            "0       LR model  0.313976   0.305260  0.313967  0.293167\n",
            "1      KNN model  0.220299   0.214467  0.220295  0.172065\n",
            "2  Random Forest  0.291703   0.286056  0.291697  0.286066\n",
            "3  XGBOOST model  0.429254   0.420693  0.429246  0.423616\n"
          ]
        }
      ],
      "source": [
        "# Carico i risultati \n",
        "results_TFIDF = pd.read_csv('H:/.shortcut-targets-by-id/1veNClNl7CxCTFHVNY2Fp29hcMoEj-the/TextMiningProject/df_results_TFIDF.csv')\n",
        "print(results_TFIDF)"
      ]
    },
    {
      "cell_type": "code",
      "execution_count": 46,
      "metadata": {},
      "outputs": [
        {
          "data": {
            "image/png": "[encoded data removed]",
            "text/plain": [
              "<Figure size 640x480 with 2 Axes>"
            ]
          },
          "metadata": {},
          "output_type": "display_data"
        }
      ],
      "source": [
        "models = [model_lr_TFIDF, model_knn_TFIDF, model_rf_TFIDF, model_xgboost_TFIDF]\n",
        "model_names = [\"Logistic Regression\", \"K-NN\", \"Random Forest\", \"XG-boost\"]\n",
        "\n",
        "# Matrici di Confusione\n",
        "for i, model in enumerate(models):\n",
        "    if model == models[3]:\n",
        "        le = LabelEncoder()\n",
        "        y_test_xg = le.fit_transform(y_test)\n",
        "        conf_matrix = confusion_matrix(y_test, model.predict(X_test_TFIDF))\n",
        "        plt.imshow(conf_matrix, cmap='Blues', interpolation='nearest')\n",
        "        plt.colorbar()\n",
        "        tick_marks = np.arange(5)\n",
        "        plt.xticks(tick_marks, np.arange(5))\n",
        "        plt.yticks(tick_marks, np.arange(5))\n",
        "        plt.xlabel(\"Predicted Class\")\n",
        "        plt.ylabel(\"True Class\")\n",
        "        plt.title(model_names[i])\n",
        "        plt.show()\n",
        "    else:\n",
        "        conf_matrix = confusion_matrix(y_test, model.predict(X_test_TFIDF))\n",
        "        plt.imshow(conf_matrix, cmap='Blues', interpolation='nearest')\n",
        "        plt.colorbar()\n",
        "        classes = [1,2,3,4,5]\n",
        "        plt.xticks(np.arange(5), classes)\n",
        "        plt.yticks(np.arange(5), classes)\n",
        "        plt.xlabel(\"Predicted Class\")\n",
        "        plt.ylabel(\"True Class\")\n",
        "        plt.title(model_names[i])\n",
        "        plt.show()"
      ]
    },
    {
      "attachments": {},
      "cell_type": "markdown",
      "metadata": {
        "id": "pfHMP-oXbdBK"
      },
      "source": [
        "## **3 - Word2Vec**"
      ]
    },
    {
      "cell_type": "code",
      "execution_count": 18,
      "metadata": {
        "id": "NHY37aO7bdBK"
      },
      "outputs": [],
      "source": [
        "# Fit the w2v model on the training dataset\n",
        "w2v_model = gensim.models.Word2Vec(X_train, vector_size=300, window=8, min_count=2)"
      ]
    },
    {
      "attachments": {},
      "cell_type": "markdown",
      "metadata": {},
      "source": [
        "Ho a disposizione il modello W2V, che ha convertito ogni parola presente nel training (nello specifico, deve essere presente almeno\n",
        "due volte --> min_count=2) in un vettore a 100 componenti. Per generare un vettore rappresentativo di ciascuna review andrò a creare un\n",
        "vettore costituito dalla media (componente per componente) dei vettori delle parole appartenenti alla review. (https://medium.com/@dilip.voleti/classification-using-word2vec-b1d79d375381)"
      ]
    },
    {
      "cell_type": "code",
      "execution_count": null,
      "metadata": {},
      "outputs": [],
      "source": [
        "words = set(w2v_model.wv.index_to_key) # Lista di parole presenti nel modello W2V\n",
        "\n",
        "# # Creo due liste, una per il training e una per il test. Ciascuna lista contiene come elementi delle altre liste. \n",
        "# # Ciascun elemento (ciascuna lista) contiene i vettori relativi alle parole di una specifica review (una lista per review contenente i vettori delle singole parole)\n",
        "\n",
        "# X_train_vect = np.array([np.array([w2v_model.wv[i] for i in ls if i in words])\n",
        "#                          for ls in X_train])\n",
        "# X_test_vect = np.array([np.array([w2v_model.wv[i] for i in ls if i in words])\n",
        "#                          for ls in X_test])"
      ]
    },
    {
      "cell_type": "code",
      "execution_count": 28,
      "metadata": {},
      "outputs": [],
      "source": [
        "# Upload X_train_vect and X_test_vect\n",
        "X_train_vect = np.load(\"H:/.shortcut-targets-by-id/1veNClNl7CxCTFHVNY2Fp29hcMoEj-the/TextMiningProject/Dataset_W2V/X_train_vect.npy\", allow_pickle=True)\n",
        "X_test_vect = np.load(\"H:/.shortcut-targets-by-id/1veNClNl7CxCTFHVNY2Fp29hcMoEj-the/TextMiningProject/Dataset_W2V/X_test_vect.npy\", allow_pickle=True)"
      ]
    },
    {
      "attachments": {},
      "cell_type": "markdown",
      "metadata": {},
      "source": [
        "Per spiegare meglio quanto fatto sopra uso questo esempio:"
      ]
    },
    {
      "cell_type": "code",
      "execution_count": null,
      "metadata": {
        "id": "tolUovoSbdBK",
        "outputId": "35537d6f-9cc6-4e9b-b05d-fb15cca7b5f0"
      },
      "outputs": [],
      "source": [
        "# La prima review del training è la seguente\n",
        "X_train.head(1)"
      ]
    },
    {
      "cell_type": "code",
      "execution_count": null,
      "metadata": {
        "id": "IWpB32XmbdBL",
        "outputId": "21fe5258-a07e-400c-f844-893cb30109ac"
      },
      "outputs": [],
      "source": [
        "# Le prime due parole sono 'love' e 'walker'. Stampo i vettori di queste due parole\n",
        "w2v_model.wv.get_vector('love')"
      ]
    },
    {
      "cell_type": "code",
      "execution_count": null,
      "metadata": {
        "id": "BJtXrv72bdBL",
        "outputId": "c28ac932-3056-4307-9c61-a558d6effcad"
      },
      "outputs": [],
      "source": [
        "w2v_model.wv.get_vector('walker')"
      ]
    },
    {
      "attachments": {},
      "cell_type": "markdown",
      "metadata": {},
      "source": [
        "Per vedere che sono identici, stampo i primi due elementi della prima lista in X_train_vec. Questi due elementi corrispondono ai vettori delle prime due parole della review selezionata, ossia 'love' e 'walker'"
      ]
    },
    {
      "cell_type": "code",
      "execution_count": null,
      "metadata": {
        "id": "T6Et1uVybdBL",
        "outputId": "9b822d82-1af0-4fd1-bd3c-ac2261f37115"
      },
      "outputs": [],
      "source": [
        "X_train_vect[0][0]"
      ]
    },
    {
      "cell_type": "code",
      "execution_count": null,
      "metadata": {
        "id": "E23_cezqbdBL",
        "outputId": "9995459c-27f9-466d-c175-95159d5dc604"
      },
      "outputs": [],
      "source": [
        "X_train_vect[0][1]"
      ]
    },
    {
      "cell_type": "markdown",
      "metadata": {
        "id": "3sNfSiIFbdBL"
      },
      "source": [
        "Andremo a fare un loop su queste liste. Ogni frase avrà un diverso numero di parole e di conseguenza un numero differente di array da mediare"
      ]
    },
    {
      "cell_type": "code",
      "execution_count": 30,
      "metadata": {
        "id": "sbCIseUjbdBL"
      },
      "outputs": [],
      "source": [
        "# Final datasets\n",
        "\n",
        "X_train_vect_avg = []\n",
        "for v in X_train_vect:\n",
        "    if v.size:\n",
        "        X_train_vect_avg.append(v.mean(axis=0))\n",
        "    else:\n",
        "        X_train_vect_avg.append(np.zeros(300, dtype=float))\n",
        "        \n",
        "X_test_vect_avg = []\n",
        "for v in X_test_vect:\n",
        "    if v.size:\n",
        "        X_test_vect_avg.append(v.mean(axis=0))\n",
        "    else:\n",
        "        X_test_vect_avg.append(np.zeros(300, dtype=float))"
      ]
    },
    {
      "cell_type": "code",
      "execution_count": null,
      "metadata": {
        "id": "-1dcfLhBbdBM",
        "outputId": "7d98e4bd-d2af-478c-ced9-de433b324283"
      },
      "outputs": [],
      "source": [
        "for i, v in enumerate(X_train_vect_avg):\n",
        "    print(len(X_train.iloc[i]), len(v))"
      ]
    },
    {
      "attachments": {},
      "cell_type": "markdown",
      "metadata": {
        "id": "4Dkpe8LbbdBM"
      },
      "source": [
        "Come si vede dal for eseguito qui sopra, ogni frase, indipendentemente dal numero di parole che la compongono, corrisponde a un vettore con 300 componenti, creato nello specifico mediando i vettori delle singole parole componente per componente."
      ]
    },
    {
      "attachments": {},
      "cell_type": "markdown",
      "metadata": {},
      "source": [
        "### Algorithm Implementation\n",
        "\n",
        "- Regressione Logistica\n",
        "- Random Forest\n",
        "- SVM\n",
        "- XGBoost"
      ]
    },
    {
      "attachments": {},
      "cell_type": "markdown",
      "metadata": {},
      "source": [
        "##### Logistic Regression"
      ]
    },
    {
      "cell_type": "code",
      "execution_count": null,
      "metadata": {
        "id": "Bc_7nKJtor5f"
      },
      "outputs": [],
      "source": [
        "# # Regressione logistica con ottimizzazione degli iperparametri\n",
        "# model = LogisticRegression(random_state=1)\n",
        "\n",
        "# # Iperparametri \"critici\" da ottimizzare \n",
        "# solvers = ['lbfgs', 'sag', 'saga']\n",
        "# penalty = ['None', 'l2']\n",
        "# c_values = [500, 200, 100, 50, 10]\n",
        "\n",
        "# # Definisco la griglia di ricerca\n",
        "# grid = dict(penalty=penalty,C=c_values, solver = solvers)\n",
        "\n",
        "# # Start the clock, train the classifier, then stop the clock\n",
        "# start = time()\n",
        "\n",
        "# # CV and Tuning\n",
        "# random_search = RandomizedSearchCV(estimator=model, param_distributions=grid, n_iter=6 ,cv=2, scoring=\"accuracy\", error_score=0, verbose=3)\n",
        "# grid_result = random_search.fit(X_train_vect_avg, y_train)\n",
        "# end = time()\n",
        "# print (\"Train and tuning model in {:.4f} seconds\".format(end - start))\n",
        "\n",
        "# # Salvataggio dei risultati del tuning\n",
        "# path = 'H:/.shortcut-targets-by-id/1veNClNl7CxCTFHVNY2Fp29hcMoEj-the/TextMiningProject/Model_estimated/lrr_gridsearch_W2V.joblib'\n",
        "# joblib.dump(grid_result, path)\n",
        "\n",
        "# # model_path = '/content/gdrive/MyDrive/TextMiningProject/logreg_gridsearch_W2V.joblib'\n",
        "# # joblib.dump(grid_result, model_path)"
      ]
    },
    {
      "cell_type": "code",
      "execution_count": 23,
      "metadata": {
        "id": "TBfucnr3od4p",
        "outputId": "0c9070c9-f194-4486-e4fc-80cb0405479d"
      },
      "outputs": [
        {
          "name": "stdout",
          "output_type": "stream",
          "text": [
            "Best result: 0.472592 using {'solver': 'saga', 'penalty': 'l2', 'C': 200}\n"
          ]
        }
      ],
      "source": [
        "# Caricamento del risultato del tuning\n",
        "\n",
        "path = 'H:/.shortcut-targets-by-id/1veNClNl7CxCTFHVNY2Fp29hcMoEj-the/TextMiningProject/Model_estimated/Classificazione_Multiclasse/W2V/lrr_gridsearch_W2V.joblib'\n",
        "loaded_grid_search = joblib.load(path)\n",
        "# model_path = '/content/gdrive/MyDrive/TextMiningProject/logreg_gridsearch_W2V.joblib'\n",
        "# loaded_grid_search = joblib.load(model_path)\n",
        "\n",
        "# Summary dei risultati\n",
        "print(\"Best result: %f using %s\" % (loaded_grid_search.best_score_, loaded_grid_search.best_params_))\n",
        "\n",
        "#Salvo il modello con le migliori performance\n",
        "model_lr_W2V = loaded_grid_search.best_estimator_"
      ]
    },
    {
      "attachments": {},
      "cell_type": "markdown",
      "metadata": {},
      "source": [
        "#### Random Forest"
      ]
    },
    {
      "cell_type": "code",
      "execution_count": 54,
      "metadata": {},
      "outputs": [
        {
          "name": "stdout",
          "output_type": "stream",
          "text": [
            "Fitting 2 folds for each of 6 candidates, totalling 12 fits\n",
            "[CV 1/2] END max_features=sqrt, n_estimators=500;, score=0.432 total time= 8.2min\n",
            "[CV 2/2] END max_features=sqrt, n_estimators=500;, score=0.435 total time= 8.0min\n",
            "[CV 1/2] END max_features=sqrt, n_estimators=100;, score=0.422 total time= 1.6min\n",
            "[CV 2/2] END max_features=sqrt, n_estimators=100;, score=0.419 total time= 1.8min\n",
            "[CV 1/2] END max_features=log2, n_estimators=200;, score=0.428 total time= 2.0min\n",
            "[CV 2/2] END max_features=log2, n_estimators=200;, score=0.428 total time= 2.1min\n",
            "[CV 1/2] END max_features=log2, n_estimators=70;, score=0.414 total time=  45.3s\n",
            "[CV 2/2] END max_features=log2, n_estimators=70;, score=0.412 total time=  33.2s\n",
            "[CV 1/2] END max_features=log2, n_estimators=10;, score=0.346 total time=   4.7s\n",
            "[CV 2/2] END max_features=log2, n_estimators=10;, score=0.348 total time=   4.6s\n",
            "[CV 1/2] END max_features=sqrt, n_estimators=200;, score=0.429 total time= 3.7min\n",
            "[CV 2/2] END max_features=sqrt, n_estimators=200;, score=0.428 total time= 4.4min\n",
            "Train and tuning model in 3275.8452 seconds\n"
          ]
        }
      ],
      "source": [
        "# from sklearn.model_selection import RandomizedSearchCV\n",
        "# # Random Forest\n",
        "# model = RandomForestClassifier()\n",
        "\n",
        "# # # Parametri 'critici' da ottimizzare\n",
        "# n_estimators = [10, 50, 70, 100, 200, 300, 400, 500]\n",
        "# max_features = ['sqrt', 'log2']\n",
        "# # #Definisco la griglia di ricerca \n",
        "# grid = dict(n_estimators=n_estimators,max_features=max_features)\n",
        "\n",
        "# # # Start the clock, train the classifier, then stop the clock\n",
        "# start = time()\n",
        "\n",
        "# random_search = RandomizedSearchCV(estimator=model, param_distributions=grid, n_iter=6 ,cv=2, scoring=\"accuracy\", error_score=0, verbose=3)\n",
        "# grid_result = random_search.fit(X_train_vect_avg, y_train) \n",
        "# end = time()\n",
        "# print (\"Train and tuning model in {:.4f} seconds\".format(end - start))\n",
        "\n",
        "# # Salvataggio dei risultati del tuning\n",
        "# joblib.dump(grid_result, 'H:/.shortcut-targets-by-id/1veNClNl7CxCTFHVNY2Fp29hcMoEj-the/TextMiningProject/Model_estimated/Classificazione_Multiclasse/W2V/rf_gridsearch_W2V.joblib')\n",
        "\n",
        "# # model_path = '/content/gdrive/MyDrive/TextMiningProject/rf_gridsearch_w2v.joblib'\n",
        "# # joblib.dump(grid_result, model_path)"
      ]
    },
    {
      "cell_type": "code",
      "execution_count": 57,
      "metadata": {
        "id": "0Ozrj-lCod4p",
        "outputId": "d2e5d933-0232-4bb0-d111-8b84f96b741f"
      },
      "outputs": [
        {
          "name": "stdout",
          "output_type": "stream",
          "text": [
            "Best result: 0.433420 using {'n_estimators': 500, 'max_features': 'sqrt'}\n"
          ]
        }
      ],
      "source": [
        "\n",
        "# # Caricamento del risultato del tuning\n",
        "loaded_grid_search = joblib.load('H:/.shortcut-targets-by-id/1veNClNl7CxCTFHVNY2Fp29hcMoEj-the/TextMiningProject/Model_estimated/Classificazione_Multiclasse/W2V/rf_gridsearch_W2V.joblib')\n",
        "\n",
        "# # Summary dei risultati\n",
        "print(\"Best result: %f using %s\" % (loaded_grid_search.best_score_, loaded_grid_search.best_params_))\n",
        "\n",
        "# # Salvo il modello con le migliori perfomance\n",
        "model_rf_W2V = loaded_grid_search.best_estimator_"
      ]
    },
    {
      "attachments": {},
      "cell_type": "markdown",
      "metadata": {},
      "source": [
        "#### KNN"
      ]
    },
    {
      "cell_type": "code",
      "execution_count": null,
      "metadata": {},
      "outputs": [],
      "source": [
        "# model = KNeighborsClassifier(weights='distance')\n",
        "# # Parametri critici da\n",
        "# n_neighbors = range(1, 21, 1)\n",
        "\n",
        "# # Definisco la griglia di ricerca\n",
        "# grid = dict(n_neighbors=n_neighbors)\n",
        "\n",
        "# # Start the clock, train the classifier, then stop the clock\n",
        "# start = time()\n",
        "# random_search = RandomizedSearchCV(estimator=model, param_distributions=grid, n_iter=6 ,cv=2, scoring=\"accuracy\", error_score=0, verbose=3)\n",
        "# #grid_search = GridSearchCV(estimator=model, param_grid=grid, n_jobs=-1, cv=2, scoring='accuracy',error_score=0)\n",
        "# grid_result = random_search.fit(X_train_vect_avg, y_train)\n",
        "# end = time()\n",
        "# print (\"Train and tuning model in {:.4f} seconds\".format(end - start))\n",
        "\n",
        "# # Salvataggio dei risultati del tuning\n",
        "\n",
        "# path = 'H:/.shortcut-targets-by-id/1veNClNl7CxCTFHVNY2Fp29hcMoEj-the/TextMiningProject/Model_estimated/knn_gridsearch_W2V.joblib'\n",
        "# joblib.dump(grid_result, path)\n",
        "# # model_path = '/content/gdrive/MyDrive/TextMiningProject/knn_gridsearch_W2V.joblib'\n",
        "# # joblib.dump(grid_result, model_path)"
      ]
    },
    {
      "cell_type": "code",
      "execution_count": 24,
      "metadata": {},
      "outputs": [
        {
          "name": "stdout",
          "output_type": "stream",
          "text": [
            "Best result: 0.374360 using {'n_neighbors': 20}\n"
          ]
        }
      ],
      "source": [
        "# Caricamento del risultato del tuning\n",
        "\n",
        "path = 'H:/.shortcut-targets-by-id/1veNClNl7CxCTFHVNY2Fp29hcMoEj-the/TextMiningProject/Model_estimated/Classificazione_Multiclasse/W2V/knn_gridsearch_W2V.joblib'\n",
        "loaded_grid_search = joblib.load(path)\n",
        "# model_path = '/content/gdrive/MyDrive/TextMiningProject/knn_gridsearch_W2V.joblib'\n",
        "# loaded_grid_search = joblib.load(model_path)\n",
        "\n",
        "# Summary dei risultati\n",
        "print(\"Best result: %f using %s\" % (loaded_grid_search.best_score_, loaded_grid_search.best_params_))\n",
        "\n",
        "# Salvo il modello con le migliori perfomance\n",
        "model_knn_W2V = loaded_grid_search.best_estimator_"
      ]
    },
    {
      "attachments": {},
      "cell_type": "markdown",
      "metadata": {},
      "source": [
        "#### XGBoost"
      ]
    },
    {
      "cell_type": "code",
      "execution_count": null,
      "metadata": {},
      "outputs": [],
      "source": [
        "# from sklearn.preprocessing import LabelEncoder\n",
        "# from xgboost import XGBClassifier\n",
        "# from sklearn.model_selection import RandomizedSearchCV\n",
        "\n",
        "# le = LabelEncoder()\n",
        "# y_train_xg = le.fit_transform(y_train)\n",
        "\n",
        "# model = XGBClassifier(sampling_method = 'gradient_based', max_depth = 6, eta = 0.2, n_jobs=-1, tree_method = 'hist', objective='multi:softmax')\n",
        "# model_xgboost_W2V = model.fit(X_train_vect_avg, y_train_xg)\n",
        "\n",
        "# # Salvataggio dei risultati dell'holdout\n",
        "# path = 'H:/.shortcut-targets-by-id/1veNClNl7CxCTFHVNY2Fp29hcMoEj-the/TextMiningProject/Model_estimated/xgboost_holdout_W2V.joblib'\n",
        "# joblib.dump(model_xgboost_W2V, path)"
      ]
    },
    {
      "cell_type": "code",
      "execution_count": 97,
      "metadata": {
        "id": "ykWDw0z6bdBG"
      },
      "outputs": [],
      "source": [
        "# Caricamento del risultato del tuning\n",
        "path = 'H:/.shortcut-targets-by-id/1veNClNl7CxCTFHVNY2Fp29hcMoEj-the/TextMiningProject/Model_estimated/Classificazione_Multiclasse/W2V/xgboost_holdout_W2V.joblib'\n",
        "model_xgboost_W2V = joblib.load(path)\n",
        "\n",
        "# model_path = '/content/gdrive/MyDrive/TextMiningProject/xgboost_holdout_W2V.joblib'\n",
        "# model_xgboost_W2V = joblib.load(model_path)"
      ]
    },
    {
      "attachments": {},
      "cell_type": "markdown",
      "metadata": {},
      "source": [
        "### Analysis of the results"
      ]
    },
    {
      "cell_type": "code",
      "execution_count": 59,
      "metadata": {
        "id": "T76s-wjxod4q"
      },
      "outputs": [
        {
          "name": "stdout",
          "output_type": "stream",
          "text": [
            "[3 2 1 ... 4 3 2]\n",
            "                     Accuracy  Precision    Recall  F1 Score\n",
            "LR model             0.472935   0.464525  0.472927  0.467340\n",
            "KNN model            0.385476   0.396524  0.385471  0.389232\n",
            "Random Forest model  0.447585   0.435090  0.447577  0.438207\n",
            "XGBOOST model        0.453097   0.444104  0.453089  0.447424\n"
          ]
        }
      ],
      "source": [
        "models = [model_lr_W2V, model_knn_W2V, model_rf_W2V, model_xgboost_W2V]\n",
        "\n",
        "# Previsioni sul test set\n",
        "results = []\n",
        "for model in models:\n",
        "    if model == models[3]:\n",
        "        y_test_xg = le.fit_transform(y_test)\n",
        "        print(y_test_xg)\n",
        "        y_pred = model.predict(X_test_vect_avg)\n",
        "        acc = accuracy_score(y_test_xg, y_pred)\n",
        "        prec = precision_score(y_test_xg, y_pred, average='macro')\n",
        "        recall = recall_score(y_test_xg, y_pred, average='macro')\n",
        "        f1 = f1_score(y_test_xg, y_pred, average='macro')\n",
        "        results.append([acc, prec, recall, f1])\n",
        "    else:\n",
        "        y_pred = model.predict(X_test_vect_avg)\n",
        "        acc = accuracy_score(y_test, y_pred)\n",
        "        prec = precision_score(y_test, y_pred, average='macro')\n",
        "        recall = recall_score(y_test, y_pred, average='macro')\n",
        "        f1 = f1_score(y_test, y_pred, average='macro')\n",
        "        results.append([acc, prec, recall, f1])\n",
        "\n",
        "# Creo la tabella e visualizzo i risultati\n",
        "df_results = pd.DataFrame(results, columns=['Accuracy', 'Precision', 'Recall', 'F1 Score'])\n",
        "df_results.index = ['LR model', 'KNN model', 'Random Forest model', 'XGBOOST model']\n",
        "print(df_results)"
      ]
    },
    {
      "cell_type": "code",
      "execution_count": 60,
      "metadata": {},
      "outputs": [],
      "source": [
        "#Salvo i risultati\n",
        "df_results.to_csv('H:/.shortcut-targets-by-id/1veNClNl7CxCTFHVNY2Fp29hcMoEj-the/TextMiningProject/df_results_W2V')"
      ]
    },
    {
      "cell_type": "code",
      "execution_count": 61,
      "metadata": {},
      "outputs": [
        {
          "data": {
            "image/png": "[encoded data removed]",
            "text/plain": [
              "<Figure size 640x480 with 2 Axes>"
            ]
          },
          "metadata": {},
          "output_type": "display_data"
        },
        {
          "data": {
            "image/png": "[encoded data removed]",
            "text/plain": [
              "<Figure size 640x480 with 2 Axes>"
            ]
          },
          "metadata": {},
          "output_type": "display_data"
        },
        {
          "data": {
            "image/png": "[encoded data removed]",
            "text/plain": [
              "<Figure size 640x480 with 2 Axes>"
            ]
          },
          "metadata": {},
          "output_type": "display_data"
        },
        {
          "data": {
            "image/png": "[encoded data removed]",
            "text/plain": [
              "<Figure size 640x480 with 2 Axes>"
            ]
          },
          "metadata": {},
          "output_type": "display_data"
        }
      ],
      "source": [
        "models = [model_lr_W2V, model_knn_W2V, model_rf_W2V, model_xgboost_W2V]\n",
        "model_names = [\"Logistic Regression\", \"K-NN\", \"Random Forest\", \"XG-boost\"]\n",
        "\n",
        "# Calcola e visualizza le matrici di confusione per ogni modello\n",
        "for i, model in enumerate(models):\n",
        "    if model == models[3]:\n",
        "        le = LabelEncoder()\n",
        "        y_test_xg = le.fit_transform(y_test)\n",
        "        conf_matrix = confusion_matrix(y_test_xg, model.predict(X_test_vect_avg))\n",
        "        plt.imshow(conf_matrix, cmap='Blues', interpolation='nearest')\n",
        "        plt.colorbar()\n",
        "        classes = [1,2,3,4,5]\n",
        "        plt.xticks(np.arange(5),  classes)\n",
        "        plt.yticks(np.arange(5),  classes)\n",
        "        plt.xlabel(\"Predicted Class\")\n",
        "        plt.ylabel(\"True Class\")\n",
        "        plt.title(model_names[i])\n",
        "        plt.show()\n",
        "    else:\n",
        "        conf_matrix = confusion_matrix(y_test, model.predict(X_test_vect_avg))\n",
        "        plt.imshow(conf_matrix, cmap='Blues', interpolation='nearest')\n",
        "        plt.colorbar()\n",
        "        classes = [1,2,3,4,5]\n",
        "        plt.xticks(np.arange(5), classes)\n",
        "        plt.yticks(np.arange(5), classes)\n",
        "        plt.xlabel(\"Predicted Class\")\n",
        "        plt.ylabel(\"True Class\")\n",
        "        plt.title(model_names[i])\n",
        "        plt.show()"
      ]
    },
    {
      "attachments": {},
      "cell_type": "markdown",
      "metadata": {
        "id": "ttPs76bybdBM"
      },
      "source": [
        "# Binary Classification "
      ]
    },
    {
      "cell_type": "code",
      "execution_count": 8,
      "metadata": {
        "id": "HzY6n3G1bdBN"
      },
      "outputs": [],
      "source": [
        "# Tengo solo gli score diversi da 3\n",
        "df_binary = classification_df[classification_df['Score']!=3]"
      ]
    },
    {
      "cell_type": "code",
      "execution_count": 9,
      "metadata": {
        "id": "kCs59w6nbdBN",
        "outputId": "cfc88456-08cd-47cc-c28e-61c6a1981751"
      },
      "outputs": [
        {
          "data": {
            "text/html": [
              "<div>\n",
              "<style scoped>\n",
              "    .dataframe tbody tr th:only-of-type {\n",
              "        vertical-align: middle;\n",
              "    }\n",
              "\n",
              "    .dataframe tbody tr th {\n",
              "        vertical-align: top;\n",
              "    }\n",
              "\n",
              "    .dataframe thead th {\n",
              "        text-align: right;\n",
              "    }\n",
              "</style>\n",
              "<table border=\"1\" class=\"dataframe\">\n",
              "  <thead>\n",
              "    <tr style=\"text-align: right;\">\n",
              "      <th></th>\n",
              "      <th>Score</th>\n",
              "      <th>Lemmatized Text</th>\n",
              "    </tr>\n",
              "  </thead>\n",
              "  <tbody>\n",
              "    <tr>\n",
              "      <th>0</th>\n",
              "      <td>1</td>\n",
              "      <td>[bought, several, vitality, canned, dog, food,...</td>\n",
              "    </tr>\n",
              "    <tr>\n",
              "      <th>1</th>\n",
              "      <td>0</td>\n",
              "      <td>[product, arrived, labelled, lumbo, halted, pe...</td>\n",
              "    </tr>\n",
              "    <tr>\n",
              "      <th>2</th>\n",
              "      <td>1</td>\n",
              "      <td>[connection, around, century, light, pillow, c...</td>\n",
              "    </tr>\n",
              "    <tr>\n",
              "      <th>3</th>\n",
              "      <td>0</td>\n",
              "      <td>[looking, secret, ingredient, robitussin, beli...</td>\n",
              "    </tr>\n",
              "    <tr>\n",
              "      <th>4</th>\n",
              "      <td>1</td>\n",
              "      <td>[great, staff, great, price, wide, assortment,...</td>\n",
              "    </tr>\n",
              "  </tbody>\n",
              "</table>\n",
              "</div>"
            ],
            "text/plain": [
              "   Score                                    Lemmatized Text\n",
              "0      1  [bought, several, vitality, canned, dog, food,...\n",
              "1      0  [product, arrived, labelled, lumbo, halted, pe...\n",
              "2      1  [connection, around, century, light, pillow, c...\n",
              "3      0  [looking, secret, ingredient, robitussin, beli...\n",
              "4      1  [great, staff, great, price, wide, assortment,..."
            ]
          },
          "execution_count": 9,
          "metadata": {},
          "output_type": "execute_result"
        }
      ],
      "source": [
        "# Creo variabile binaria\n",
        "df_binary.loc[df_binary.Score < 3, \"Score\"] = 0\n",
        "df_binary.loc[df_binary.Score > 3, \"Score\"] = 1\n",
        "df_binary.head()"
      ]
    },
    {
      "cell_type": "code",
      "execution_count": 11,
      "metadata": {
        "id": "ct3JDf1ubdBN",
        "outputId": "32d0faa7-2f42-4952-c66b-89dcec87c5ed"
      },
      "outputs": [
        {
          "data": {
            "text/plain": [
              "Text(0, 0.5, 'Number of reviews')"
            ]
          },
          "execution_count": 11,
          "metadata": {},
          "output_type": "execute_result"
        },
        {
          "data": {
            "image/png": "[encoded data removed]",
            "text/plain": [
              "<Figure size 640x480 with 1 Axes>"
            ]
          },
          "metadata": {},
          "output_type": "display_data"
        }
      ],
      "source": [
        "sns.histplot(df_binary['Score'], discrete=True)\n",
        "plt.title(\"Score distribution\", fontweight='bold')\n",
        "plt.xlabel(\"Score\")\n",
        "plt.ylabel(\"Number of reviews\")"
      ]
    },
    {
      "cell_type": "code",
      "execution_count": 10,
      "metadata": {
        "id": "lhoAg9R-bdBN",
        "outputId": "4649b2c1-135c-400d-d00b-eaeb95371ecb"
      },
      "outputs": [
        {
          "data": {
            "text/plain": [
              "57108"
            ]
          },
          "execution_count": 10,
          "metadata": {},
          "output_type": "execute_result"
        }
      ],
      "source": [
        "sample_size_binary = df_binary.groupby('Score').count().min()[0]\n",
        "sample_size_binary"
      ]
    },
    {
      "cell_type": "code",
      "execution_count": 11,
      "metadata": {
        "id": "ZwJZHLe1bdBN",
        "outputId": "43e9754f-5e49-4041-f03b-f073582a77de"
      },
      "outputs": [
        {
          "data": {
            "text/html": [
              "<div>\n",
              "<style scoped>\n",
              "    .dataframe tbody tr th:only-of-type {\n",
              "        vertical-align: middle;\n",
              "    }\n",
              "\n",
              "    .dataframe tbody tr th {\n",
              "        vertical-align: top;\n",
              "    }\n",
              "\n",
              "    .dataframe thead th {\n",
              "        text-align: right;\n",
              "    }\n",
              "</style>\n",
              "<table border=\"1\" class=\"dataframe\">\n",
              "  <thead>\n",
              "    <tr style=\"text-align: right;\">\n",
              "      <th></th>\n",
              "      <th>Score</th>\n",
              "      <th>Lemmatized Text</th>\n",
              "    </tr>\n",
              "  </thead>\n",
              "  <tbody>\n",
              "    <tr>\n",
              "      <th>283674</th>\n",
              "      <td>0</td>\n",
              "      <td>[ordered, product, last, year, good, year, rec...</td>\n",
              "    </tr>\n",
              "    <tr>\n",
              "      <th>68921</th>\n",
              "      <td>0</td>\n",
              "      <td>[bought, awhile, ago, decided, review, thing, ...</td>\n",
              "    </tr>\n",
              "    <tr>\n",
              "      <th>301495</th>\n",
              "      <td>0</td>\n",
              "      <td>[item, dated, stale, point, rapid, also, looke...</td>\n",
              "    </tr>\n",
              "    <tr>\n",
              "      <th>319212</th>\n",
              "      <td>0</td>\n",
              "      <td>[love, muir, glen, tomato, product, sadly, giv...</td>\n",
              "    </tr>\n",
              "    <tr>\n",
              "      <th>308178</th>\n",
              "      <td>0</td>\n",
              "      <td>[buying, poland, fruit, spread, since, child, ...</td>\n",
              "    </tr>\n",
              "    <tr>\n",
              "      <th>...</th>\n",
              "      <td>...</td>\n",
              "      <td>...</td>\n",
              "    </tr>\n",
              "    <tr>\n",
              "      <th>222568</th>\n",
              "      <td>1</td>\n",
              "      <td>[add, stein, unsweeten, ice, tea, fabulous, ma...</td>\n",
              "    </tr>\n",
              "    <tr>\n",
              "      <th>81764</th>\n",
              "      <td>1</td>\n",
              "      <td>[adopted, cat, humane, society, spent, year, c...</td>\n",
              "    </tr>\n",
              "    <tr>\n",
              "      <th>39987</th>\n",
              "      <td>1</td>\n",
              "      <td>[chocolate, good, taste, like, candy, chocolat...</td>\n",
              "    </tr>\n",
              "    <tr>\n",
              "      <th>254826</th>\n",
              "      <td>1</td>\n",
              "      <td>[dad, introduced, u, sinner, year, ago, three,...</td>\n",
              "    </tr>\n",
              "    <tr>\n",
              "      <th>31806</th>\n",
              "      <td>1</td>\n",
              "      <td>[tea, taste, good, ive, taken, yesterday, firs...</td>\n",
              "    </tr>\n",
              "  </tbody>\n",
              "</table>\n",
              "<p>114216 rows × 2 columns</p>\n",
              "</div>"
            ],
            "text/plain": [
              "        Score                                    Lemmatized Text\n",
              "283674      0  [ordered, product, last, year, good, year, rec...\n",
              "68921       0  [bought, awhile, ago, decided, review, thing, ...\n",
              "301495      0  [item, dated, stale, point, rapid, also, looke...\n",
              "319212      0  [love, muir, glen, tomato, product, sadly, giv...\n",
              "308178      0  [buying, poland, fruit, spread, since, child, ...\n",
              "...       ...                                                ...\n",
              "222568      1  [add, stein, unsweeten, ice, tea, fabulous, ma...\n",
              "81764       1  [adopted, cat, humane, society, spent, year, c...\n",
              "39987       1  [chocolate, good, taste, like, candy, chocolat...\n",
              "254826      1  [dad, introduced, u, sinner, year, ago, three,...\n",
              "31806       1  [tea, taste, good, ive, taken, yesterday, firs...\n",
              "\n",
              "[114216 rows x 2 columns]"
            ]
          },
          "execution_count": 11,
          "metadata": {},
          "output_type": "execute_result"
        }
      ],
      "source": [
        "binary_downsampled = df_binary.groupby('Score', group_keys=False).apply(lambda x: x.sample(sample_size_binary))\n",
        "binary_downsampled"
      ]
    },
    {
      "cell_type": "code",
      "execution_count": 42,
      "metadata": {
        "id": "wby7To08bdBN"
      },
      "outputs": [],
      "source": [
        "X_train_bin, X_test_bin, y_train_bin, y_test_bin = train_test_split(binary_downsampled[\"Lemmatized Text\"], \n",
        "                                                    binary_downsampled[\"Score\"], \n",
        "                                                    test_size=0.3, \n",
        "                                                    random_state=1, \n",
        "                                                    stratify=binary_downsampled['Score'])"
      ]
    },
    {
      "attachments": {},
      "cell_type": "markdown",
      "metadata": {
        "id": "L84UBa5KbdBN"
      },
      "source": [
        "## **1 - Bag-of-Word**"
      ]
    },
    {
      "cell_type": "code",
      "execution_count": 13,
      "metadata": {
        "id": "I18Drqh5bdBN"
      },
      "outputs": [],
      "source": [
        "cv_bin = CountVectorizer(min_df=0., max_df=1.0)\n",
        "cv_model_bin = cv_bin.fit(X_train_bin.astype(str)) \n",
        "X_train_BOW_bin = cv_model_bin.transform(X_train_bin.astype(str))"
      ]
    },
    {
      "cell_type": "code",
      "execution_count": 31,
      "metadata": {},
      "outputs": [
        {
          "data": {
            "text/plain": [
              "(79951, 80905)"
            ]
          },
          "execution_count": 31,
          "metadata": {},
          "output_type": "execute_result"
        }
      ],
      "source": [
        "X_train_BOW_bin.shape"
      ]
    },
    {
      "cell_type": "code",
      "execution_count": null,
      "metadata": {
        "id": "Un663iMmbdBC"
      },
      "outputs": [],
      "source": [
        "# # Eseguo la SVD\n",
        "# n_components = 3000\n",
        "# tSVD_BOW_bin = TruncatedSVD(n_components = n_components)\n",
        "# SVD_BOW_bin = tSVD_BOW_bin.fit(X_train_BOW_bin)\n",
        "\n",
        "# # Calcolo varianza cumulata delle componenti\n",
        "# cum_var = np.cumsum(SVD_BOW_bin.explained_variance_ratio_)\n",
        "\n",
        "# # Salvo SVD su disco\n",
        "# joblib.dump(SVD_BOW_bin, \"H:/.shortcut-targets-by-id/1veNClNl7CxCTFHVNY2Fp29hcMoEj-the/TextMiningProject/SVD_BOW_3000_bin.joblib\")"
      ]
    },
    {
      "cell_type": "code",
      "execution_count": 16,
      "metadata": {
        "id": "nQrFIjLLbdBD"
      },
      "outputs": [],
      "source": [
        "# carico SVD\n",
        "SVD_BOW_3000_bin = joblib.load(\"H:/.shortcut-targets-by-id/1veNClNl7CxCTFHVNY2Fp29hcMoEj-the/TextMiningProject/SVD_BOW_3000_bin.joblib\")\n",
        "cum_var = np.cumsum(SVD_BOW_3000_bin.explained_variance_ratio_)"
      ]
    },
    {
      "cell_type": "code",
      "execution_count": 33,
      "metadata": {
        "colab": {
          "base_uri": "https://localhost:8080/",
          "height": 279
        },
        "id": "tnxqIYegbdBD",
        "outputId": "bebf82e2-ac40-4745-a4a5-92361511b227"
      },
      "outputs": [
        {
          "data": {
            "image/png": "[encoded data removed]",
            "text/plain": [
              "<Figure size 640x480 with 1 Axes>"
            ]
          },
          "metadata": {},
          "output_type": "display_data"
        }
      ],
      "source": [
        "# Grafico varianza cumulata\n",
        "plt.plot(range(1, len(cum_var) + 1), cum_var)\n",
        "plt.xlabel(\"Numero di componenti\")\n",
        "plt.ylabel(\"Varianza cumulata\")\n",
        "plt.show()"
      ]
    },
    {
      "cell_type": "code",
      "execution_count": 17,
      "metadata": {
        "colab": {
          "base_uri": "https://localhost:8080/"
        },
        "id": "AiF_Fya8bdBD",
        "outputId": "8f7ef8e8-8527-4059-c99c-bd80a59de069"
      },
      "outputs": [
        {
          "name": "stdout",
          "output_type": "stream",
          "text": [
            "Numero di componenti necessariea spiegare una varianza pari all'85% sono :  1466\n"
          ]
        }
      ],
      "source": [
        "threshold = 0.85\n",
        "n_components = np.argmax(cum_var >= threshold) + 1\n",
        "print(\"Numero di componenti necessariea spiegare una varianza pari all'85% sono : \", n_components)"
      ]
    },
    {
      "cell_type": "code",
      "execution_count": 14,
      "metadata": {},
      "outputs": [
        {
          "data": {
            "text/plain": [
              "['H:/.shortcut-targets-by-id/1veNClNl7CxCTFHVNY2Fp29hcMoEj-the/TextMiningProject/SVD_BOW_bin_optim.joblib']"
            ]
          },
          "execution_count": 14,
          "metadata": {},
          "output_type": "execute_result"
        }
      ],
      "source": [
        "# Stimo SVD ottimale\n",
        "tSVD_BOW_bin = TruncatedSVD(n_components = 1466)\n",
        "SVD_BOW_bin = tSVD_BOW_bin.fit(X_train_BOW_bin)\n",
        "\n",
        "# Salvo SVD ottimizzata\n",
        "joblib.dump(SVD_BOW_bin, \"H:/.shortcut-targets-by-id/1veNClNl7CxCTFHVNY2Fp29hcMoEj-the/TextMiningProject/SVD_BOW_bin_optim.joblib\")"
      ]
    },
    {
      "cell_type": "code",
      "execution_count": 15,
      "metadata": {},
      "outputs": [],
      "source": [
        "# Applico la trasformazione al training e test set \n",
        "X_train_BOW_bin = tSVD_BOW_bin.transform(X_train_BOW_bin)\n",
        "\n",
        "X_test_BOW_bin = cv_model_bin.transform(X_test_bin.astype(str))\n",
        "X_test_BOW_bin = SVD_BOW_bin.transform(X_test_BOW_bin)"
      ]
    },
    {
      "cell_type": "code",
      "execution_count": 16,
      "metadata": {},
      "outputs": [],
      "source": [
        "# Salvo i dataset\n",
        "np.save('H:/.shortcut-targets-by-id/1veNClNl7CxCTFHVNY2Fp29hcMoEj-the/TextMiningProject/Dataset_BOW/X_train_BOW_bin.npy', X_train_BOW_bin)\n",
        "np.save('H:/.shortcut-targets-by-id/1veNClNl7CxCTFHVNY2Fp29hcMoEj-the/TextMiningProject/Dataset_BOW/X_test_BOW_bin.npy', X_test_BOW_bin)"
      ]
    },
    {
      "cell_type": "code",
      "execution_count": 43,
      "metadata": {},
      "outputs": [],
      "source": [
        "# Carico i dataset\n",
        "X_train_BOW_bin = np.load('H:/.shortcut-targets-by-id/1veNClNl7CxCTFHVNY2Fp29hcMoEj-the/TextMiningProject/Dataset_BOW/X_train_BOW_bin.npy')\n",
        "X_test_BOW_bin = np.load('H:/.shortcut-targets-by-id/1veNClNl7CxCTFHVNY2Fp29hcMoEj-the/TextMiningProject/Dataset_BOW/X_test_BOW_bin.npy')"
      ]
    },
    {
      "cell_type": "code",
      "execution_count": 28,
      "metadata": {},
      "outputs": [
        {
          "data": {
            "text/plain": [
              "(31203, 80905)"
            ]
          },
          "execution_count": 28,
          "metadata": {},
          "output_type": "execute_result"
        }
      ],
      "source": [
        "X_test_BOW_bin.shape"
      ]
    },
    {
      "attachments": {},
      "cell_type": "markdown",
      "metadata": {},
      "source": [
        "### Implementazione algoritmi"
      ]
    },
    {
      "attachments": {},
      "cell_type": "markdown",
      "metadata": {},
      "source": [
        "##### Logistic Regression"
      ]
    },
    {
      "cell_type": "code",
      "execution_count": 44,
      "metadata": {},
      "outputs": [
        {
          "name": "stdout",
          "output_type": "stream",
          "text": [
            "Fitting 2 folds for each of 6 candidates, totalling 12 fits\n",
            "[CV 1/2] END ....C=100, penalty=l2, solver=saga;, score=0.866 total time=  53.5s\n",
            "[CV 2/2] END ....C=100, penalty=l2, solver=saga;, score=0.865 total time=  47.1s\n",
            "[CV 1/2] END ......C=10, penalty=l2, solver=sag;, score=0.865 total time=  47.7s\n",
            "[CV 2/2] END ......C=10, penalty=l2, solver=sag;, score=0.864 total time=  48.2s\n",
            "[CV 1/2] END ....C=50, penalty=None, solver=sag;, score=0.000 total time=   0.1s\n",
            "[CV 2/2] END ....C=50, penalty=None, solver=sag;, score=0.000 total time=   0.1s\n",
            "[CV 1/2] END ..C=900, penalty=None, solver=saga;, score=0.000 total time=   0.1s\n",
            "[CV 2/2] END ..C=900, penalty=None, solver=saga;, score=0.000 total time=   0.1s\n",
            "[CV 1/2] END ..C=200, penalty=None, solver=saga;, score=0.000 total time=   0.1s\n",
            "[CV 2/2] END ..C=200, penalty=None, solver=saga;, score=0.000 total time=   0.1s\n",
            "[CV 1/2] END ..C=100, penalty=None, solver=saga;, score=0.000 total time=   0.1s\n",
            "[CV 2/2] END ..C=100, penalty=None, solver=saga;, score=0.000 total time=   0.1s\n"
          ]
        },
        {
          "data": {
            "text/plain": [
              "['H:/.shortcut-targets-by-id/1veNClNl7CxCTFHVNY2Fp29hcMoEj-the/TextMiningProject/Model_estimated/logreg_gridsearch_BOW_bin.joblib']"
            ]
          },
          "execution_count": 44,
          "metadata": {},
          "output_type": "execute_result"
        }
      ],
      "source": [
        "# Regressione logistica con ottimizzazione degli iperparametri\n",
        "model = LogisticRegression(random_state=1)\n",
        "\n",
        "# Iperparametri \"critici\" da ottimizzare \n",
        "solvers = ['lbfgs', 'liblinear', 'sag', 'saga']\n",
        "penalty = ['None', 'l2']\n",
        "c_values = [900, 700, 500, 200, 100, 50, 10]\n",
        "\n",
        "# Definisco la griglia di ricerca\n",
        "grid = dict(solver=solvers,penalty=penalty,C=c_values)\n",
        "\n",
        "# Start the clock, train the classifier, then stop the clock\n",
        "start = time()\n",
        "\n",
        "# CV and Tuning\n",
        "random_search = RandomizedSearchCV(estimator=model, param_distributions=grid, n_iter=6 ,cv=2, scoring=\"accuracy\", error_score=0, verbose=3)\n",
        "grid_result = random_search.fit(X_train_BOW_bin, y_train_bin)\n",
        "# end = time()\n",
        "# print (\"Train and tuning model in {:.4f} seconds\".format(end - start))\n",
        "\n",
        "# Salvataggio dei risultati del tuning\n",
        "path = 'H:/.shortcut-targets-by-id/1veNClNl7CxCTFHVNY2Fp29hcMoEj-the/TextMiningProject/Model_estimated/Classificazione_binaria/BOW/logreg_gridsearch_BOW_bin.joblib'\n",
        "joblib.dump(grid_result, path)"
      ]
    },
    {
      "cell_type": "code",
      "execution_count": 47,
      "metadata": {
        "id": "NySkmosjbdBE",
        "outputId": "0c9070c9-f194-4486-e4fc-80cb0405479d"
      },
      "outputs": [
        {
          "name": "stdout",
          "output_type": "stream",
          "text": [
            "Best result: 0.865443 using {'solver': 'saga', 'penalty': 'l2', 'C': 100}\n"
          ]
        }
      ],
      "source": [
        "# Caricamento del risultato del tuning\n",
        "path = 'H:/.shortcut-targets-by-id/1veNClNl7CxCTFHVNY2Fp29hcMoEj-the/TextMiningProject/Model_estimated/Classificazione_binaria/BOW/logreg_gridsearch_BOW_bin.joblib'\n",
        "loaded_grid_search = joblib.load(path)\n",
        "\n",
        "# Summary dei risultati\n",
        "print(\"Best result: %f using %s\" % (loaded_grid_search.best_score_, loaded_grid_search.best_params_))\n",
        "\n",
        "#Salvo il modello con le migliori performance\n",
        "model_lr_BOW_bin = loaded_grid_search.best_estimator_"
      ]
    },
    {
      "attachments": {},
      "cell_type": "markdown",
      "metadata": {},
      "source": [
        "##### Random Forest"
      ]
    },
    {
      "cell_type": "code",
      "execution_count": 50,
      "metadata": {},
      "outputs": [
        {
          "name": "stdout",
          "output_type": "stream",
          "text": [
            "Fitting 2 folds for each of 6 candidates, totalling 12 fits\n",
            "[CV 1/2] END ....C=500, penalty=l2, solver=saga;, score=0.866 total time=  47.1s\n",
            "[CV 2/2] END ....C=500, penalty=l2, solver=saga;, score=0.865 total time=  49.2s\n",
            "[CV 1/2] END ..C=100, penalty=None, solver=saga;, score=0.000 total time=   0.1s\n",
            "[CV 2/2] END ..C=100, penalty=None, solver=saga;, score=0.000 total time=   0.1s\n",
            "[CV 1/2] END ...C=500, penalty=None, solver=sag;, score=0.000 total time=   0.1s\n",
            "[CV 2/2] END ...C=500, penalty=None, solver=sag;, score=0.000 total time=   0.1s\n",
            "[CV 1/2] END C=200, penalty=l2, solver=liblinear;, score=0.864 total time=  23.3s\n",
            "[CV 2/2] END C=200, penalty=l2, solver=liblinear;, score=0.863 total time=  25.5s\n",
            "[CV 1/2] END .C=200, penalty=None, solver=lbfgs;, score=0.000 total time=   0.1s\n",
            "[CV 2/2] END .C=200, penalty=None, solver=lbfgs;, score=0.000 total time=   0.1s\n",
            "[CV 1/2] END ...C=900, penalty=l2, solver=lbfgs;, score=0.865 total time=   4.7s\n",
            "[CV 2/2] END ...C=900, penalty=l2, solver=lbfgs;, score=0.863 total time=   4.7s\n",
            "Train and tuning model in 243.3341 seconds\n"
          ]
        },
        {
          "ename": "FileNotFoundError",
          "evalue": "[Errno 2] No such file or directory: 'H:/.shortcut-targets-by-id/1veNClNl7CxCTFHVNY2Fp29hcMoEj-the/TextMiningProject/Classificazione_binaria/BOW/rf_gridsearch_BOW_bin.joblib'",
          "output_type": "error",
          "traceback": [
            "\u001b[1;31m---------------------------------------------------------------------------\u001b[0m",
            "\u001b[1;31mFileNotFoundError\u001b[0m                         Traceback (most recent call last)",
            "Cell \u001b[1;32mIn[50], line 21\u001b[0m\n\u001b[0;32m     19\u001b[0m \u001b[39m# Salvataggio dei risultati del tuning\u001b[39;00m\n\u001b[0;32m     20\u001b[0m path \u001b[39m=\u001b[39m \u001b[39m'\u001b[39m\u001b[39mH:/.shortcut-targets-by-id/1veNClNl7CxCTFHVNY2Fp29hcMoEj-the/TextMiningProject/Classificazione_binaria/BOW/rf_gridsearch_BOW_bin.joblib\u001b[39m\u001b[39m'\u001b[39m\n\u001b[1;32m---> 21\u001b[0m joblib\u001b[39m.\u001b[39;49mdump(grid_result, path)\n",
            "File \u001b[1;32mc:\\Users\\marco\\Documents\\venv\\NLP\\lib\\site-packages\\joblib\\numpy_pickle.py:552\u001b[0m, in \u001b[0;36mdump\u001b[1;34m(value, filename, compress, protocol, cache_size)\u001b[0m\n\u001b[0;32m    550\u001b[0m         NumpyPickler(f, protocol\u001b[39m=\u001b[39mprotocol)\u001b[39m.\u001b[39mdump(value)\n\u001b[0;32m    551\u001b[0m \u001b[39melif\u001b[39;00m is_filename:\n\u001b[1;32m--> 552\u001b[0m     \u001b[39mwith\u001b[39;00m \u001b[39mopen\u001b[39;49m(filename, \u001b[39m'\u001b[39;49m\u001b[39mwb\u001b[39;49m\u001b[39m'\u001b[39;49m) \u001b[39mas\u001b[39;00m f:\n\u001b[0;32m    553\u001b[0m         NumpyPickler(f, protocol\u001b[39m=\u001b[39mprotocol)\u001b[39m.\u001b[39mdump(value)\n\u001b[0;32m    554\u001b[0m \u001b[39melse\u001b[39;00m:\n",
            "\u001b[1;31mFileNotFoundError\u001b[0m: [Errno 2] No such file or directory: 'H:/.shortcut-targets-by-id/1veNClNl7CxCTFHVNY2Fp29hcMoEj-the/TextMiningProject/Classificazione_binaria/BOW/rf_gridsearch_BOW_bin.joblib'"
          ]
        }
      ],
      "source": [
        "# Random Forest, già runnato !!\n",
        "model = RandomForestClassifier()\n",
        "\n",
        "# Parametri 'critici' da ottimizzare\n",
        "max_depth = [1, 2, 3, 4, 5, 6, 7]\n",
        "n_estimators = [10, 100, 200, 300, 500, 700, 1000]\n",
        "max_features = ['sqrt', 'log2']\n",
        "# Definisco la griglia di ricerca \n",
        "grid = dict(n_estimators=n_estimators,max_features=max_features, max_depth = max_depth)\n",
        "\n",
        "# Start the clock, train the classifier, then stop the clock\n",
        "start = time()\n",
        "\n",
        "grid_search = RandomizedSearchCV(estimator=model, param_distributions=grid, n_iter=6 ,cv=2, scoring=\"accuracy\", error_score=0, verbose=3)\n",
        "grid_result = random_search.fit(X_train_BOW_bin, y_train_bin)\n",
        "end = time()\n",
        "print (\"Train and tuning model in {:.4f} seconds\".format(end - start))\n",
        "\n",
        "# Salvataggio dei risultati del tuning\n",
        "path = 'H:/.shortcut-targets-by-id/1veNClNl7CxCTFHVNY2Fp29hcMoEj-the/TextMiningProject/Model_estimated/Classificazione_binaria/BOW/rf_gridsearch_BOW_bin.joblib'\n",
        "joblib.dump(grid_result, path)"
      ]
    },
    {
      "cell_type": "code",
      "execution_count": 53,
      "metadata": {
        "id": "CTg7m7sWbdBF",
        "outputId": "d2e5d933-0232-4bb0-d111-8b84f96b741f"
      },
      "outputs": [
        {
          "name": "stdout",
          "output_type": "stream",
          "text": [
            "Best result: 0.865443 using {'solver': 'saga', 'penalty': 'l2', 'C': 100}\n"
          ]
        }
      ],
      "source": [
        "\n",
        "# Caricamento del risultato del tuning\n",
        "path = 'H:/.shortcut-targets-by-id/1veNClNl7CxCTFHVNY2Fp29hcMoEj-the/TextMiningProject/Model_estimated/Classificazione_binaria/BOW/rf_gridsearch_BOW_bin.joblib'\n",
        "joblib.dump(grid_result, path)\n",
        "\n",
        "# Summary dei risultati\n",
        "print(\"Best result: %f using %s\" % (loaded_grid_search.best_score_, loaded_grid_search.best_params_))\n",
        "\n",
        "# Salvo il modello con le migliori perfomance\n",
        "model_rf_BOW_bin = loaded_grid_search.best_estimator_"
      ]
    },
    {
      "cell_type": "code",
      "execution_count": 54,
      "metadata": {},
      "outputs": [
        {
          "data": {
            "text/html": [
              "<style>#sk-container-id-1 {color: black;background-color: white;}#sk-container-id-1 pre{padding: 0;}#sk-container-id-1 div.sk-toggleable {background-color: white;}#sk-container-id-1 label.sk-toggleable__label {cursor: pointer;display: block;width: 100%;margin-bottom: 0;padding: 0.3em;box-sizing: border-box;text-align: center;}#sk-container-id-1 label.sk-toggleable__label-arrow:before {content: \"▸\";float: left;margin-right: 0.25em;color: #696969;}#sk-container-id-1 label.sk-toggleable__label-arrow:hover:before {color: black;}#sk-container-id-1 div.sk-estimator:hover label.sk-toggleable__label-arrow:before {color: black;}#sk-container-id-1 div.sk-toggleable__content {max-height: 0;max-width: 0;overflow: hidden;text-align: left;background-color: #f0f8ff;}#sk-container-id-1 div.sk-toggleable__content pre {margin: 0.2em;color: black;border-radius: 0.25em;background-color: #f0f8ff;}#sk-container-id-1 input.sk-toggleable__control:checked~div.sk-toggleable__content {max-height: 200px;max-width: 100%;overflow: auto;}#sk-container-id-1 input.sk-toggleable__control:checked~label.sk-toggleable__label-arrow:before {content: \"▾\";}#sk-container-id-1 div.sk-estimator input.sk-toggleable__control:checked~label.sk-toggleable__label {background-color: #d4ebff;}#sk-container-id-1 div.sk-label input.sk-toggleable__control:checked~label.sk-toggleable__label {background-color: #d4ebff;}#sk-container-id-1 input.sk-hidden--visually {border: 0;clip: rect(1px 1px 1px 1px);clip: rect(1px, 1px, 1px, 1px);height: 1px;margin: -1px;overflow: hidden;padding: 0;position: absolute;width: 1px;}#sk-container-id-1 div.sk-estimator {font-family: monospace;background-color: #f0f8ff;border: 1px dotted black;border-radius: 0.25em;box-sizing: border-box;margin-bottom: 0.5em;}#sk-container-id-1 div.sk-estimator:hover {background-color: #d4ebff;}#sk-container-id-1 div.sk-parallel-item::after {content: \"\";width: 100%;border-bottom: 1px solid gray;flex-grow: 1;}#sk-container-id-1 div.sk-label:hover label.sk-toggleable__label {background-color: #d4ebff;}#sk-container-id-1 div.sk-serial::before {content: \"\";position: absolute;border-left: 1px solid gray;box-sizing: border-box;top: 0;bottom: 0;left: 50%;z-index: 0;}#sk-container-id-1 div.sk-serial {display: flex;flex-direction: column;align-items: center;background-color: white;padding-right: 0.2em;padding-left: 0.2em;position: relative;}#sk-container-id-1 div.sk-item {position: relative;z-index: 1;}#sk-container-id-1 div.sk-parallel {display: flex;align-items: stretch;justify-content: center;background-color: white;position: relative;}#sk-container-id-1 div.sk-item::before, #sk-container-id-1 div.sk-parallel-item::before {content: \"\";position: absolute;border-left: 1px solid gray;box-sizing: border-box;top: 0;bottom: 0;left: 50%;z-index: -1;}#sk-container-id-1 div.sk-parallel-item {display: flex;flex-direction: column;z-index: 1;position: relative;background-color: white;}#sk-container-id-1 div.sk-parallel-item:first-child::after {align-self: flex-end;width: 50%;}#sk-container-id-1 div.sk-parallel-item:last-child::after {align-self: flex-start;width: 50%;}#sk-container-id-1 div.sk-parallel-item:only-child::after {width: 0;}#sk-container-id-1 div.sk-dashed-wrapped {border: 1px dashed gray;margin: 0 0.4em 0.5em 0.4em;box-sizing: border-box;padding-bottom: 0.4em;background-color: white;}#sk-container-id-1 div.sk-label label {font-family: monospace;font-weight: bold;display: inline-block;line-height: 1.2em;}#sk-container-id-1 div.sk-label-container {text-align: center;}#sk-container-id-1 div.sk-container {/* jupyter's `normalize.less` sets `[hidden] { display: none; }` but bootstrap.min.css set `[hidden] { display: none !important; }` so we also need the `!important` here to be able to override the default hidden behavior on the sphinx rendered scikit-learn.org. See: https://github.com/scikit-learn/scikit-learn/issues/21755 */display: inline-block !important;position: relative;}#sk-container-id-1 div.sk-text-repr-fallback {display: none;}</style><div id=\"sk-container-id-1\" class=\"sk-top-container\"><div class=\"sk-text-repr-fallback\"><pre>LogisticRegression(C=100, random_state=1, solver=&#x27;saga&#x27;)</pre><b>In a Jupyter environment, please rerun this cell to show the HTML representation or trust the notebook. <br />On GitHub, the HTML representation is unable to render, please try loading this page with nbviewer.org.</b></div><div class=\"sk-container\" hidden><div class=\"sk-item\"><div class=\"sk-estimator sk-toggleable\"><input class=\"sk-toggleable__control sk-hidden--visually\" id=\"sk-estimator-id-1\" type=\"checkbox\" checked><label for=\"sk-estimator-id-1\" class=\"sk-toggleable__label sk-toggleable__label-arrow\">LogisticRegression</label><div class=\"sk-toggleable__content\"><pre>LogisticRegression(C=100, random_state=1, solver=&#x27;saga&#x27;)</pre></div></div></div></div></div>"
            ],
            "text/plain": [
              "LogisticRegression(C=100, random_state=1, solver='saga')"
            ]
          },
          "execution_count": 54,
          "metadata": {},
          "output_type": "execute_result"
        }
      ],
      "source": [
        "model_rf_BOW_bin"
      ]
    },
    {
      "attachments": {},
      "cell_type": "markdown",
      "metadata": {},
      "source": [
        "#### KNN"
      ]
    },
    {
      "cell_type": "code",
      "execution_count": null,
      "metadata": {},
      "outputs": [],
      "source": [
        "model = KNeighborsClassifier(weights='distance')\n",
        "# Parametri critici da\n",
        "n_neighbors = range(1, 21, 1)\n",
        "\n",
        "# Definisco la griglia di ricerca\n",
        "grid = dict(n_neighbors=n_neighbors)\n",
        "\n",
        "# Start the clock, train the classifier, then stop the clock\n",
        "start = time()\n",
        "random_search = RandomizedSearchCV(estimator=model, param_distributions=grid, n_iter=6 ,cv=2, scoring=\"accuracy\", error_score=0, verbose=3)\n",
        "grid_result = random_search.fit(X_train_BOW_bin, y_train_bin)\n",
        "end = time()\n",
        "print (\"Train and tuning model in {:.4f} seconds\".format(end - start))\n",
        "# Summary dei risultati\n",
        "print(\"Best result: %f using %s\" % (grid_result.best_score_, grid_result.best_params_))\n",
        "\n",
        "# Salvataggio dei risultati del tuning\n",
        "path = 'H:/.shortcut-targets-by-id/1veNClNl7CxCTFHVNY2Fp29hcMoEj-the/TextMiningProject/Classificazione_binaria/BOW/knn_gridsearch_BOW_bin.joblib'\n",
        "joblib.dump(grid_result, path)"
      ]
    },
    {
      "cell_type": "code",
      "execution_count": null,
      "metadata": {},
      "outputs": [
        {
          "name": "stdout",
          "output_type": "stream",
          "text": [
            "Best result: 0.702142 using {'n_neighbors': 20}\n"
          ]
        }
      ],
      "source": [
        "# Caricamento del risultato del tuning\n",
        "path = 'H:/.shortcut-targets-by-id/1veNClNl7CxCTFHVNY2Fp29hcMoEj-the/TextMiningProject/Classificazione_binaria/BOW/knn_gridsearch_BOW_bin.joblib'\n",
        "loaded_grid_search = joblib.load(path)\n",
        "\n",
        "# Summary dei risultati\n",
        "print(\"Best result: %f using %s\" % (loaded_grid_search.best_score_, loaded_grid_search.best_params_))\n",
        "\n",
        "# Salvo il modello con le migliori perfomance\n",
        "model_knn_BOW_bin = loaded_grid_search.best_estimator_"
      ]
    },
    {
      "attachments": {},
      "cell_type": "markdown",
      "metadata": {},
      "source": [
        "#### XGBoost"
      ]
    },
    {
      "cell_type": "code",
      "execution_count": 33,
      "metadata": {},
      "outputs": [],
      "source": [
        "# from sklearn.preprocessing import LabelEncoder\n",
        "# from xgboost import XGBClassifier\n",
        "# from sklearn.model_selection import RandomizedSearchCV\n",
        "\n",
        "# le = LabelEncoder()\n",
        "# y_train_bin_xg = le.fit_transform(y_train_bin)\n",
        "\n",
        "# model = XGBClassifier(sampling_method = 'gradient_based', max_depth = 6, eta = 0.2, n_jobs=-1, tree_method = 'hist', objective= 'binary:logistic')\n",
        "# model_xgboost_BOW_bin = model.fit(X_train_BOW_bin, y_train_bin_xg)\n",
        "\n",
        "# #Salvataggio dei risultati dell'holdout\n",
        "# path = 'H:/.shortcut-targets-by-id/1veNClNl7CxCTFHVNY2Fp29hcMoEj-the/TextMiningProject/Model_estimated/xgboost_holdout_BOW_bin.joblib'\n",
        "# joblib.dump(model_xgboost_BOW_bin, path)"
      ]
    },
    {
      "cell_type": "code",
      "execution_count": null,
      "metadata": {},
      "outputs": [],
      "source": [
        "# Caricamento del risultato del tuning\n",
        "path = 'H:/.shortcut-targets-by-id/1veNClNl7CxCTFHVNY2Fp29hcMoEj-the/TextMiningProject/Model_estimated/Classificazione_binaria/BOW/xgboost_holdout_BOW_bin.joblib'\n",
        "xgboost_holdout_BOW_bin = joblib.load(path)"
      ]
    },
    {
      "attachments": {},
      "cell_type": "markdown",
      "metadata": {
        "id": "GpqZE1zCbdBO"
      },
      "source": [
        "### Analisi dei risultati"
      ]
    },
    {
      "cell_type": "code",
      "execution_count": null,
      "metadata": {
        "id": "T76s-wjxod4q"
      },
      "outputs": [
        {
          "name": "stdout",
          "output_type": "stream",
          "text": [
            "[1 1 0 ... 0 1 0]\n",
            "               Accuracy  Precision    Recall  F1 Score\n",
            "LR model       0.870889   0.870895  0.870889  0.870888\n",
            "KNN model      0.719568   0.730389  0.719565  0.716234\n",
            "XGBOOST model  0.812987   0.813125  0.812987  0.812966\n"
          ]
        }
      ],
      "source": [
        "models = [model_lr_BOW_bin, model_knn_BOW_bin, model_xgboost_BOW_bin]\n",
        "\n",
        "# Previsioni sul test set\n",
        "results = []\n",
        "for model in models:\n",
        "    if model == models[2]:\n",
        "        y_test_bin_xg = le.fit_transform(y_test_bin)\n",
        "        print(y_test_bin_xg)\n",
        "        y_bin = model.predict(X_test_BOW_bin)\n",
        "        acc = accuracy_score(y_test_bin_xg, y_bin)\n",
        "        prec = precision_score(y_test_bin_xg, y_bin, average='macro')\n",
        "        recall = recall_score(y_test_bin_xg, y_bin, average='macro')\n",
        "        f1 = f1_score(y_test_bin_xg, y_bin, average='macro')\n",
        "        results.append([acc, prec, recall, f1])\n",
        "    else:\n",
        "        y_bin = model.predict(X_test_BOW_bin)\n",
        "        acc = accuracy_score(y_test_bin, y_bin)\n",
        "        prec = precision_score(y_test_bin, y_bin, average='macro')\n",
        "        recall = recall_score(y_test_bin, y_bin, average='macro')\n",
        "        f1 = f1_score(y_test_bin, y_bin, average='macro')\n",
        "        results.append([acc, prec, recall, f1])\n",
        "\n",
        "# Creo la tabella e visualizzo i risultati\n",
        "df_results = pd.DataFrame(results, columns=['Accuracy', 'Precision', 'Recall', 'F1 Score'])\n",
        "df_results.index = ['LR model', 'KNN model', 'XGBOOST model']\n",
        "print(df_results)"
      ]
    },
    {
      "attachments": {},
      "cell_type": "markdown",
      "metadata": {
        "id": "q0Pr6_tAbdBP"
      },
      "source": [
        "## **2 - TF-IDF**"
      ]
    },
    {
      "cell_type": "code",
      "execution_count": null,
      "metadata": {},
      "outputs": [],
      "source": [
        "tv_bin = TfidfVectorizer(min_df=0., max_df=1., use_idf=True)\n",
        "tv_model_bin = tv_bin.fit(X_train_bin.astype(str))\n",
        "X_train_TFIDF_bin = tv_bin.transform(X_train_bin.astype(str))"
      ]
    },
    {
      "cell_type": "code",
      "execution_count": null,
      "metadata": {
        "id": "8uvn6tyEbdBI",
        "outputId": "e9d07380-3e44-43b3-a67d-d1e43d484f2e"
      },
      "outputs": [],
      "source": [
        "# Eseguo SVD - da runnare\n",
        "n_components = 5000\n",
        "tSVD_TFIDF_bin = TruncatedSVD(n_components = n_components)\n",
        "SVD_TFIDF_5000_bin = tSVD_TFIDF_bin.fit(X_train_TFIDF)\n",
        "\n",
        "# Calcolo varianza cumulata delle componenti\n",
        "cum_var = np.cumsum(SVD_TFIDF_5000.explained_variance_ratio_)\n",
        "\n",
        "# Salvo SVD su disco\n",
        "# joblib.dump(SVD_TFIDF_5000, \"H:/.shortcut-targets-by-id/1veNClNl7CxCTFHVNY2Fp29hcMoEj-the/TextMiningProject/SVD_TFIDF_5000_bin.joblib\")\n",
        "model_path = '/content/gdrive/MyDrive/TextMiningProject/SVD_TFIDF_5000_bin.joblib'\n",
        "joblib.dump(SVD_TFIDF_5000_bin, model_path)"
      ]
    },
    {
      "cell_type": "code",
      "execution_count": null,
      "metadata": {},
      "outputs": [],
      "source": [
        "# Carico SVD\n",
        "# SVD_TFIDF_5000_bin = joblib.load(\"H:/.shortcut-targets-by-id/1veNClNl7CxCTFHVNY2Fp29hcMoEj-the/TextMiningProject/SVD_TFIDF_5000_bin.joblib\")\n",
        "# cum_var = np.cumsum(SVD_TFIDF_5000.explained_variance_ratio_)"
      ]
    },
    {
      "cell_type": "code",
      "execution_count": null,
      "metadata": {
        "id": "fUeiqLTGoA5B"
      },
      "outputs": [],
      "source": [
        "# Carico SVD - Google Colab\n",
        "# SVD_TFIDF_5000 = joblib.load(\"/content/gdrive/MyDrive/TextMiningProject/SVD_TFIDF_5000_bin.joblib\")\n",
        "# cum_var = np.cumsum(SVD_TFIDF_5000.explained_variance_ratio_)"
      ]
    },
    {
      "cell_type": "code",
      "execution_count": null,
      "metadata": {
        "id": "xNYr7DPAn8hh"
      },
      "outputs": [],
      "source": [
        "# Grafico varianza cumulata\n",
        "plt.plot(range(1, len(cum_var) + 1), cum_var)\n",
        "plt.xlabel(\"Numero di componenti\")\n",
        "plt.ylabel(\"Varianza cumulata\")\n",
        "plt.show()"
      ]
    },
    {
      "cell_type": "code",
      "execution_count": null,
      "metadata": {
        "id": "XteUrLEibdBJ",
        "outputId": "254e8405-e85b-43f4-ce35-dd0a8234fbe5"
      },
      "outputs": [],
      "source": [
        "threshold = 0.85\n",
        "n_components = np.argmax(cum_var >= threshold) + 1\n",
        "print(\"Numero di componenti necessariea spiegare una varianza pari all'85% sono : \", n_components)"
      ]
    },
    {
      "cell_type": "code",
      "execution_count": null,
      "metadata": {},
      "outputs": [],
      "source": [
        "# Stimo SVD ottimale\n",
        "tSVD_TFID_bin = TruncatedSVD(n_components =) #Inseire numero componenti che la print sopra ti indica \n",
        "SVD_TFIDF_bin = tSVD_TFIDF.fit(X_train_TFIDF)"
      ]
    },
    {
      "cell_type": "code",
      "execution_count": null,
      "metadata": {},
      "outputs": [],
      "source": [
        "# Applico la trasformazione al training e test set \n",
        "X_train_TFIDF_bin = tSVD_TFID_bin.transform(X_train_bin.astype(str))\n",
        "\n",
        "X_test_TFIDF_bin = tv_model_bin.transform(X_test_bin.astype(str))\n",
        "X_test_TFIDF_bin = SVD_TFIDF_bin.transform(X_test_TFIDF_bin)"
      ]
    },
    {
      "cell_type": "code",
      "execution_count": null,
      "metadata": {},
      "outputs": [],
      "source": [
        "# Salvo i dataset\n",
        "np.save('/content/gdrive/MyDrive/TextMiningProject/Dataset_TFIDF/X_train_TFIDF_bin.npy', X_train_TFIDF_bin)\n",
        "np.save('/content/gdrive/MyDrive/TextMiningProject/Dataset_TFIDF/X_test_TFIDF_bin.npy', X_test_TFIDF_bin)"
      ]
    },
    {
      "cell_type": "code",
      "execution_count": null,
      "metadata": {},
      "outputs": [],
      "source": [
        "# Carico i dataset\n",
        "X_train_TFIDF_bin = np.load('/content/gdrive/MyDrive/TextMiningProject/Dataset_TFIDF/X_train_TFIDF_bin.npy')\n",
        "X_test_TFIDF_bin = np.load('/content/gdrive/MyDrive/TextMiningProject/Dataset_TFIDF/X_test_TFIDF_bin.npy')"
      ]
    },
    {
      "attachments": {},
      "cell_type": "markdown",
      "metadata": {},
      "source": [
        "### Implementazione algoritmi"
      ]
    },
    {
      "attachments": {},
      "cell_type": "markdown",
      "metadata": {},
      "source": [
        "#### Logistic Regression"
      ]
    },
    {
      "cell_type": "code",
      "execution_count": null,
      "metadata": {
        "id": "Bc_7nKJtor5f"
      },
      "outputs": [],
      "source": [
        "# Regressione logistica con ottimizzazione degli iperparametri\n",
        "model = LogisticRegression(random_state=1)\n",
        "\n",
        "# Iperparametri \"critici\" da ottimizzare \n",
        "solvers = ['lbfgs', 'liblinear', 'sag', 'saga']\n",
        "penalty = ['None', 'l2']\n",
        "c_values = [500, 200, 100, 50, 10, 1.0]\n",
        "\n",
        "# Definisco la griglia di ricerca\n",
        "grid = dict(penalty=penalty,C=c_values)\n",
        "\n",
        "# Start the clock, train the classifier, then stop the clock\n",
        "start = time()\n",
        "\n",
        "# CV and Tuning\n",
        "random_search = RandomizedSearchCV(estimator=model, param_distributions=grid, n_iter=6 ,cv=2, scoring=\"accuracy\", error_score=0, verbose=3)\n",
        "grid_result = random_search.fit(X_train_TFIDF_bin, y_train)\n",
        "end = time()\n",
        "print (\"Train and tuning model in {:.4f} seconds\".format(end - start))\n",
        "\n",
        "# Salvataggio dei risultati del tuning\n",
        "# path = 'H:/.shortcut-targets-by-id/1veNClNl7CxCTFHVNY2Fp29hcMoEj-the/TextMiningProject/Model_estimated/lrr_gridsearch_TFIDF_bin.joblib'\n",
        "# joblib.dump(grid_result, path)\n",
        "\n",
        "model_path = '/content/gdrive/MyDrive/TextMiningProject/logreg_gridsearch_TFIDF_bin.joblib'\n",
        "joblib.dump(grid_result, model_path)"
      ]
    },
    {
      "cell_type": "code",
      "execution_count": null,
      "metadata": {
        "id": "TBfucnr3od4p",
        "outputId": "0c9070c9-f194-4486-e4fc-80cb0405479d"
      },
      "outputs": [],
      "source": [
        "# Caricamento del risultato del tuning\n",
        "\n",
        "# path = 'H:/.shortcut-targets-by-id/1veNClNl7CxCTFHVNY2Fp29hcMoEj-the/TextMiningProject/Model_estimated/lrr_gridsearch_TFIDF.joblib'\n",
        "# loaded_grid_search = joblib.load(path)\n",
        "model_path = '/content/gdrive/MyDrive/TextMiningProject/logreg_gridsearch_TFIDF_bin.joblib'\n",
        "loaded_grid_search = joblib.load(model_path)\n",
        "\n",
        "# Summary dei risultati\n",
        "print(\"Best result: %f using %s\" % (loaded_grid_search.best_score_, loaded_grid_search.best_params_))\n",
        "\n",
        "#Salvo il modello con le migliori performance\n",
        "model_lr_TFIDF_bin = loaded_grid_search.best_estimator_"
      ]
    },
    {
      "attachments": {},
      "cell_type": "markdown",
      "metadata": {},
      "source": [
        "#### KNN"
      ]
    },
    {
      "cell_type": "code",
      "execution_count": null,
      "metadata": {},
      "outputs": [],
      "source": [
        "model = KNeighborsClassifier(weights='distance')\n",
        "\n",
        "# Parametri critici da\n",
        "n_neighbors = range(1, 21, 1)\n",
        "\n",
        "# Definisco la griglia di ricerca\n",
        "grid = dict(n_neighbors=n_neighbors)\n",
        "\n",
        "# Start the clock, train the classifier, then stop the clock\n",
        "start = time()\n",
        "random_search = RandomizedSearchCV(estimator=model, param_distributions=grid, n_iter=6 ,cv=2, scoring=\"accuracy\", error_score=0, verbose=3)\n",
        "grid_result = random_search.fit(X_train_TFIDF_bin, y_train)\n",
        "end = time()\n",
        "print (\"Train and tuning model in {:.4f} seconds\".format(end - start))\n",
        "\n",
        "# Salvataggio dei risultati del tuning\n",
        "\n",
        "# path = 'H:/.shortcut-targets-by-id/1veNClNl7CxCTFHVNY2Fp29hcMoEj-the/TextMiningProject/Model_estimated/knn_gridsearch_TFIDF_bin.joblib'\n",
        "# loaded_grid_search = joblib.load(path)\n",
        "model_path = '/content/gdrive/MyDrive/TextMiningProject/knn_gridsearch_TFIDF_bin.joblib'\n",
        "joblib.dump(grid_result, model_path)"
      ]
    },
    {
      "cell_type": "code",
      "execution_count": null,
      "metadata": {},
      "outputs": [],
      "source": [
        "# Caricamento del risultato del tuning\n",
        "\n",
        "# path = 'H:/.shortcut-targets-by-id/1veNClNl7CxCTFHVNY2Fp29hcMoEj-the/TextMiningProject/Model_estimated/knn_gridsearch_TFIDF_bin.joblib'\n",
        "# loaded_grid_search = joblib.load(path)\n",
        "model_path = '/content/gdrive/MyDrive/TextMiningProject/knn_gridsearch_TFIDF_bin.joblib'\n",
        "loaded_grid_search = joblib.load(model_path)\n",
        "\n",
        "# Summary dei risultati\n",
        "print(\"Best result: %f using %s\" % (loaded_grid_search.best_score_, loaded_grid_search.best_params_))\n",
        "\n",
        "# Salvo il modello con le migliori perfomance\n",
        "model_knn_TFIDF_bin = loaded_grid_search.best_estimator_"
      ]
    },
    {
      "attachments": {},
      "cell_type": "markdown",
      "metadata": {},
      "source": [
        "#### Random Forest"
      ]
    },
    {
      "cell_type": "code",
      "execution_count": null,
      "metadata": {
        "id": "_d58Ljk9bdBE",
        "outputId": "8f548533-d696-435a-fbdb-0b4d194d7d10"
      },
      "outputs": [],
      "source": [
        "# Random Forest\n",
        "model = RandomForestClassifier()\n",
        "\n",
        "# Parametri 'critici' da ottimizzare\n",
        "max_depth = [1, 2, 3, 4, 5, 6, 7]\n",
        "n_estimators = [10, 100, 200, 400, 600, 800, 1000]\n",
        "max_features = ['sqrt', 'log2']\n",
        "# Definisco la griglia di ricerca \n",
        "grid = dict(n_estimators=n_estimators,max_features=max_features)\n",
        "\n",
        "# Start the clock, train the classifier, then stop the clock\n",
        "start = time()\n",
        "\n",
        "random_search = RandomizedSearchCV(estimator=model, param_distributions=grid, n_iter=6 ,cv=2, scoring=\"accuracy\", error_score=0, verbose=3)\n",
        "grid_result = random_search.fit(X_train_TFIDF_bin, y_train)\n",
        "end = time()\n",
        "print (\"Train and tuning model in {:.4f} seconds\".format(end - start))\n",
        "\n",
        "# Salvataggio dei risultati del tuning\n",
        "# path = 'H:/.shortcut-targets-by-id/1veNClNl7CxCTFHVNY2Fp29hcMoEj-the/TextMiningProject/Model_estimated/rf_gridsearch_TFIDF_bin.joblib'\n",
        "# joblib.dump(grid_result, path)\n",
        "\n",
        "model_path = '/content/gdrive/MyDrive/TextMiningProject/rf_gridsearch_TFIDF_bin.joblib'\n",
        "joblib.dump(grid_result, model_path)"
      ]
    },
    {
      "cell_type": "code",
      "execution_count": null,
      "metadata": {
        "id": "CTg7m7sWbdBF",
        "outputId": "d2e5d933-0232-4bb0-d111-8b84f96b741f"
      },
      "outputs": [],
      "source": [
        "\n",
        "# Caricamento del risultato del tuning\n",
        "# path = 'H:/.shortcut-targets-by-id/1veNClNl7CxCTFHVNY2Fp29hcMoEj-the/TextMiningProject/Model_estimated/rf_gridsearch_TFIDF_bin.joblib'\n",
        "# loaded_grid_search = joblib.load(path)\n",
        "\n",
        "model_path = '/content/gdrive/MyDrive/TextMiningProject/rf_gridsearch_TFIDF_bin.joblib'\n",
        "loaded_grid_search = joblib.load(model_path)\n",
        "\n",
        "# Summary dei risultati\n",
        "print(\"Best result: %f using %s\" % (loaded_grid_search.best_score_, loaded_grid_search.best_params_))\n",
        "\n",
        "# Salvo il modello con le migliori perfomance\n",
        "model_rf_TFIDF_bin = loaded_grid_search.best_estimator_"
      ]
    },
    {
      "attachments": {},
      "cell_type": "markdown",
      "metadata": {},
      "source": [
        "#### XGBoost"
      ]
    },
    {
      "cell_type": "code",
      "execution_count": null,
      "metadata": {},
      "outputs": [],
      "source": [
        "from sklearn.preprocessing import LabelEncoder\n",
        "from xgboost import XGBClassifier\n",
        "from sklearn.model_selection import RandomizedSearchCV\n",
        "\n",
        "le = LabelEncoder()\n",
        "y_train_xg = le.fit_transform(y_train_bin)\n",
        "\n",
        "model = XGBClassifier(sampling_method = 'gradient_based', max_depth = 6, eta = 0.2, n_jobs=-1, tree_method = 'hist', objective='multi:softmax')\n",
        "model_xgboost_TFIDF_bin = model.fit(X_train_TFIDF_bin, y_train_xg)\n",
        "\n",
        "# Salvataggio dei risultati dell'holdout\n",
        "# path = 'H:/.shortcut-targets-by-id/1veNClNl7CxCTFHVNY2Fp29hcMoEj-the/TextMiningProject/Model_estimated/xgboost_holdout_TFIDF_bin.joblib'\n",
        "# joblib.dump(model_xgboost_TFIDF, path)\n",
        "\n",
        "model_path = '/content/gdrive/MyDrive/TextMiningProject/xgboost_holdout_TFIDF_bin.joblib'\n",
        "joblib.dump(grid_result, model_path)"
      ]
    },
    {
      "cell_type": "code",
      "execution_count": null,
      "metadata": {},
      "outputs": [],
      "source": [
        "# Caricamento del risultato dell'holdout\n",
        "# path = 'H:/.shortcut-targets-by-id/1veNClNl7CxCTFHVNY2Fp29hcMoEj-the/TextMiningProject/Model_estimated/xgboost_holdout_TFIDF_bin.joblib'\n",
        "# model_xgboost_TFIDF = joblib.load(path)\n",
        "\n",
        "model_path = '/content/gdrive/MyDrive/TextMiningProject/xgboost_holdout_TFIDF_bin.joblib'\n",
        "model_xgboost_TFIDF_bin = joblib.load(path)"
      ]
    },
    {
      "attachments": {},
      "cell_type": "markdown",
      "metadata": {},
      "source": [
        "### Analisi dei risultati"
      ]
    },
    {
      "cell_type": "code",
      "execution_count": null,
      "metadata": {
        "id": "T76s-wjxod4q"
      },
      "outputs": [],
      "source": [
        "models = [model_lr_TFIDF_bin, model_knn_TFIDF_bin, model_xgboost_TFIDF_bin, model_rf_TFIDF_bin]\n",
        "\n",
        "# Previsioni sul test set\n",
        "results = []\n",
        "for model in models:\n",
        "    if model == models[2]:\n",
        "        y_test_bin_xg = le.fit_transform(y_test_bin)\n",
        "        print(y_test_bin_xg)\n",
        "        y_pred = model.predict(X_test_TFIDF_bin)\n",
        "        acc = accuracy_score(y_test_bin_xg, y_pred)\n",
        "        prec = precision_score(y_test_bin_xg, y_pred, average='macro')\n",
        "        recall = recall_score(y_test_bin_xg, y_pred, average='macro')\n",
        "        f1 = f1_score(y_test_bin_xg, y_pred, average='macro')\n",
        "        results.append([acc, prec, recall, f1])\n",
        "    else:\n",
        "        y_pred = model.predict(X_test_TFIDF_bin)\n",
        "        acc = accuracy_score(y_test_bin, y_pred)\n",
        "        prec = precision_score(y_test_bin, y_pred, average='macro')\n",
        "        recall = recall_score(y_test_bin, y_pred, average='macro')\n",
        "        f1 = f1_score(y_test_bin, y_pred, average='macro')\n",
        "        results.append([acc, prec, recall, f1])\n",
        "\n",
        "# Creo la tabella e visualizzo i risultati\n",
        "df_results = pd.DataFrame(results, columns=['Accuracy', 'Precision', 'Recall', 'F1 Score'])\n",
        "df_results.index = ['LR model', 'KNN model', 'XGBOOST model', 'Random Forest']\n",
        "print(df_results)"
      ]
    },
    {
      "cell_type": "code",
      "execution_count": null,
      "metadata": {
        "id": "2uIUd5_Qod4q"
      },
      "outputs": [],
      "source": [
        "# # Crea i grafici ROC per ogni modello\n",
        "# for model in models:\n",
        "#     y_pred_proba = model.predict_proba(X_test_BOW)[::,1]\n",
        "#     fpr, tpr, _ = roc_curve(y_test, y_pred_proba)\n",
        "#     auc = roc_auc_score(y_test, y_pred_proba)\n",
        "#     plt.plot(fpr,tpr,label=\"AUC=\"+str(auc))\n",
        "#     plt.legend(loc = 'lower right')"
      ]
    },
    {
      "cell_type": "code",
      "execution_count": null,
      "metadata": {
        "id": "Bq8r-Bxfod4q"
      },
      "outputs": [],
      "source": [
        "# # Creo le matrici di confusione per ogni modello\n",
        "# for model in models:\n",
        "#     cm = confusion_matrix(y_test, y_pred)\n",
        "#     plt.figure()\n",
        "#     plt.imshow(cm, interpolation='nearest', cmap=plt.cm.Blues)\n",
        "#     plt.title(\"Confusion Matrix - \" + str(model))\n",
        "#     plt.colorbar()\n",
        "#     tick_marks = np.arange(3)\n",
        "#     plt.xticks(tick_marks, [\"Class 1\", \"Class 2\", \"Class 3\", \"Class 4\", \"Class 5\"])\n",
        "#     plt.yticks(tick_marks, [\"Class 1\", \"Class 2\", \"Class 3\", \"Class 4\", \"Class 5\"])\n",
        "#     thresh = cm.max() / 2.\n",
        "#     for i, j in itertools.product(range(cm.shape[0]), range(cm.shape[1])):\n",
        "#         plt.text(j, i, format(cm[i, j]),\n",
        "#                  horizontalalignment=\"center\",\n",
        "#                  color=\"white\" if cm[i, j] > thresh else \"black\")\n",
        "#     plt.tight_layout()\n",
        "#     plt.ylabel('True label')\n",
        "#     plt.xlabel('Predicted label')\n",
        "#     plt.show()"
      ]
    },
    {
      "attachments": {},
      "cell_type": "markdown",
      "metadata": {
        "id": "SvKv3uJAbdBQ"
      },
      "source": [
        "### **3 - Word2Vec**"
      ]
    },
    {
      "cell_type": "code",
      "execution_count": 19,
      "metadata": {
        "id": "zCVIqdo6bdBR"
      },
      "outputs": [],
      "source": [
        "w2v_model_bin = gensim.models.Word2Vec(X_train_bin, vector_size=300, window=8, min_count=2)"
      ]
    },
    {
      "cell_type": "code",
      "execution_count": 20,
      "metadata": {
        "id": "ZL_Rkvl6bdBR"
      },
      "outputs": [],
      "source": [
        "words_bin = set(w2v_model_bin.wv.index_to_key) \n",
        "\n",
        "# X_train_bin_vect = np.array([np.array([w2v_model_bin.wv[i] for i in ls if i in words_bin])\n",
        "#                          for ls in X_train_bin])\n",
        "# X_test_bin_vect = np.array([np.array([w2v_model_bin.wv[i] for i in ls if i in words_bin])\n",
        "#                          for ls in X_test_bin])"
      ]
    },
    {
      "cell_type": "code",
      "execution_count": 24,
      "metadata": {},
      "outputs": [],
      "source": [
        "# Carico X_train_vect e X_test_vect\n",
        "X_train_bin_vect = np.load(\"H:/.shortcut-targets-by-id/1veNClNl7CxCTFHVNY2Fp29hcMoEj-the/TextMiningProject/Dataset_W2V/X_train_bin_vect.npy\", allow_pickle=True)\n",
        "X_test_bin_vect = np.load(\"H:/.shortcut-targets-by-id/1veNClNl7CxCTFHVNY2Fp29hcMoEj-the/TextMiningProject/Dataset_W2V/X_test_bin_vect.npy\", allow_pickle=True)"
      ]
    },
    {
      "cell_type": "code",
      "execution_count": 25,
      "metadata": {
        "id": "-xaUnBtybdBR"
      },
      "outputs": [],
      "source": [
        "X_train_bin_vect_avg = []\n",
        "for v in X_train_bin_vect:\n",
        "    if v.size:\n",
        "        X_train_bin_vect_avg.append(v.mean(axis=0))\n",
        "    else:\n",
        "        X_train_bin_vect_avg.append(np.zeros(300, dtype=float))\n",
        "        \n",
        "X_test_bin_vect_avg = []\n",
        "for v in X_test_bin_vect:\n",
        "    if v.size:\n",
        "        X_test_bin_vect_avg.append(v.mean(axis=0))\n",
        "    else:\n",
        "        X_test_bin_vect_avg.append(np.zeros(300, dtype=float))"
      ]
    },
    {
      "attachments": {},
      "cell_type": "markdown",
      "metadata": {},
      "source": [
        "#### Implementazione algoritmi\n",
        "\n",
        "- Regressione Logistica\n",
        "- Random Forest\n",
        "- SVM\n",
        "- XGBoost"
      ]
    },
    {
      "attachments": {},
      "cell_type": "markdown",
      "metadata": {},
      "source": [
        "##### Regressione Logistica"
      ]
    },
    {
      "cell_type": "code",
      "execution_count": null,
      "metadata": {},
      "outputs": [],
      "source": [
        "X_train_bin_vect_avg\n",
        "X_test_bin_vect_avg"
      ]
    },
    {
      "cell_type": "code",
      "execution_count": 26,
      "metadata": {
        "id": "Bc_7nKJtor5f"
      },
      "outputs": [
        {
          "name": "stdout",
          "output_type": "stream",
          "text": [
            "Fitting 2 folds for each of 6 candidates, totalling 12 fits\n",
            "[CV 1/2] END ..C=200, penalty=None, solver=saga;, score=0.000 total time=   0.0s\n",
            "[CV 2/2] END ..C=200, penalty=None, solver=saga;, score=0.000 total time=   0.0s\n",
            "[CV 1/2] END ..C=500, penalty=None, solver=saga;, score=0.000 total time=   0.0s\n",
            "[CV 2/2] END ..C=500, penalty=None, solver=saga;, score=0.000 total time=   0.0s\n",
            "[CV 1/2] END .C=200, penalty=None, solver=lbfgs;, score=0.000 total time=   0.0s\n",
            "[CV 2/2] END .C=200, penalty=None, solver=lbfgs;, score=0.000 total time=   0.0s\n",
            "[CV 1/2] END .C=500, penalty=None, solver=lbfgs;, score=0.000 total time=   0.0s\n",
            "[CV 2/2] END .C=500, penalty=None, solver=lbfgs;, score=0.000 total time=   0.0s\n",
            "[CV 1/2] END ......C=50, penalty=l2, solver=sag;, score=0.854 total time=   9.1s\n",
            "[CV 2/2] END ......C=50, penalty=l2, solver=sag;, score=0.857 total time=  10.5s\n",
            "[CV 1/2] END ....C=500, penalty=l2, solver=saga;, score=0.853 total time=  11.5s\n",
            "[CV 2/2] END ....C=500, penalty=l2, solver=saga;, score=0.857 total time=  11.1s\n",
            "Train and tuning model in 61.9787 seconds\n"
          ]
        },
        {
          "data": {
            "text/plain": [
              "['H:/.shortcut-targets-by-id/1veNClNl7CxCTFHVNY2Fp29hcMoEj-the/TextMiningProject/Model_estimated/Classificazione_binaria/W2V/lrr_gridsearch_W2V_bin.joblib']"
            ]
          },
          "execution_count": 26,
          "metadata": {},
          "output_type": "execute_result"
        }
      ],
      "source": [
        "# Regressione logistica con ottimizzazione degli iperparametri\n",
        "model = LogisticRegression(random_state=1)\n",
        "\n",
        "# Iperparametri \"critici\" da ottimizzare \n",
        "solvers = ['lbfgs', 'sag', 'saga']\n",
        "penalty = ['None', 'l2']\n",
        "c_values = [500, 200, 100, 50, 10]\n",
        "\n",
        "# Definisco la griglia di ricerca\n",
        "grid = dict(penalty=penalty,C=c_values, solver = solvers)\n",
        "\n",
        "# Start the clock, train the classifier, then stop the clock\n",
        "start = time()\n",
        "\n",
        "# CV and Tuning\n",
        "random_search = RandomizedSearchCV(estimator=model, param_distributions=grid, n_iter=6 ,cv=2, scoring=\"accuracy\", error_score=0, verbose=3)\n",
        "grid_result = random_search.fit(X_train_bin_vect_avg, y_train_bin)\n",
        "end = time()\n",
        "print (\"Train and tuning model in {:.4f} seconds\".format(end - start))\n",
        "\n",
        "# Salvataggio dei risultati del tuning\n",
        "path = 'H:/.shortcut-targets-by-id/1veNClNl7CxCTFHVNY2Fp29hcMoEj-the/TextMiningProject/Model_estimated/Classificazione_binaria/W2V/lrr_gridsearch_W2V_bin.joblib'\n",
        "joblib.dump(grid_result, path)"
      ]
    },
    {
      "cell_type": "code",
      "execution_count": 27,
      "metadata": {
        "id": "TBfucnr3od4p",
        "outputId": "0c9070c9-f194-4486-e4fc-80cb0405479d"
      },
      "outputs": [
        {
          "name": "stdout",
          "output_type": "stream",
          "text": [
            "Best result: 0.855399 using {'solver': 'sag', 'penalty': 'l2', 'C': 50}\n"
          ]
        }
      ],
      "source": [
        "# Caricamento del risultato del tuning\n",
        "\n",
        "path = 'H:/.shortcut-targets-by-id/1veNClNl7CxCTFHVNY2Fp29hcMoEj-the/TextMiningProject/Model_estimated/Classificazione_binaria/W2V/lrr_gridsearch_W2V_bin.joblib'\n",
        "loaded_grid_search = joblib.load(path)\n",
        "\n",
        "# Summary dei risultati\n",
        "print(\"Best result: %f using %s\" % (loaded_grid_search.best_score_, loaded_grid_search.best_params_))\n",
        "\n",
        "#Salvo il modello con le migliori performance\n",
        "model_lr_W2V_bin = loaded_grid_search.best_estimator_"
      ]
    },
    {
      "attachments": {},
      "cell_type": "markdown",
      "metadata": {},
      "source": [
        "##### Random Forest"
      ]
    },
    {
      "cell_type": "code",
      "execution_count": 28,
      "metadata": {},
      "outputs": [
        {
          "name": "stdout",
          "output_type": "stream",
          "text": [
            "Fitting 2 folds for each of 6 candidates, totalling 12 fits\n",
            "[CV 1/2] END max_features=sqrt, n_estimators=50;, score=0.830 total time=  44.0s\n",
            "[CV 2/2] END max_features=sqrt, n_estimators=50;, score=0.833 total time=  44.0s\n",
            "[CV 1/2] END max_features=sqrt, n_estimators=100;, score=0.837 total time= 1.5min\n",
            "[CV 2/2] END max_features=sqrt, n_estimators=100;, score=0.838 total time= 1.5min\n",
            "[CV 1/2] END max_features=log2, n_estimators=500;, score=0.840 total time= 3.4min\n",
            "[CV 2/2] END max_features=log2, n_estimators=500;, score=0.842 total time= 4.9min\n",
            "[CV 1/2] END max_features=sqrt, n_estimators=10;, score=0.798 total time=  12.8s\n",
            "[CV 2/2] END max_features=sqrt, n_estimators=10;, score=0.801 total time=   8.7s\n",
            "[CV 1/2] END max_features=sqrt, n_estimators=500;, score=0.841 total time=10.3min\n",
            "[CV 2/2] END max_features=sqrt, n_estimators=500;, score=0.841 total time= 8.9min\n",
            "[CV 1/2] END max_features=sqrt, n_estimators=200;, score=0.839 total time= 3.5min\n",
            "[CV 2/2] END max_features=sqrt, n_estimators=200;, score=0.841 total time= 3.6min\n",
            "Train and tuning model in 2869.2403 seconds\n"
          ]
        },
        {
          "data": {
            "text/plain": [
              "['H:/.shortcut-targets-by-id/1veNClNl7CxCTFHVNY2Fp29hcMoEj-the/TextMiningProject/Model_estimated/Classificazione_binaria/W2V/rf_gridsearch_W2V_bin.joblib']"
            ]
          },
          "execution_count": 28,
          "metadata": {},
          "output_type": "execute_result"
        }
      ],
      "source": [
        "# Random Forest\n",
        "model = RandomForestClassifier()\n",
        "\n",
        "# # Parametri 'critici' da ottimizzare\n",
        "n_estimators = [10, 50, 70, 100, 200, 300, 400, 500]\n",
        "max_features = ['sqrt', 'log2']\n",
        "# #Definisco la griglia di ricerca \n",
        "grid = dict(n_estimators=n_estimators,max_features=max_features)\n",
        "\n",
        "# # Start the clock, train the classifier, then stop the clock\n",
        "start = time()\n",
        "\n",
        "random_search = RandomizedSearchCV(estimator=model, param_distributions=grid, n_iter=6 ,cv=2, scoring=\"accuracy\", error_score=0, verbose=3)\n",
        "grid_result = random_search.fit(X_train_bin_vect_avg, y_train_bin) \n",
        "end = time()\n",
        "print (\"Train and tuning model in {:.4f} seconds\".format(end - start))\n",
        "\n",
        "# Salvataggio dei risultati del tuning\n",
        "joblib.dump(grid_result, 'H:/.shortcut-targets-by-id/1veNClNl7CxCTFHVNY2Fp29hcMoEj-the/TextMiningProject/Model_estimated/Classificazione_binaria/W2V/rf_gridsearch_W2V_bin.joblib')"
      ]
    },
    {
      "cell_type": "code",
      "execution_count": 29,
      "metadata": {
        "id": "0Ozrj-lCod4p",
        "outputId": "d2e5d933-0232-4bb0-d111-8b84f96b741f"
      },
      "outputs": [
        {
          "name": "stdout",
          "output_type": "stream",
          "text": [
            "Best result: 0.840853 using {'n_estimators': 500, 'max_features': 'log2'}\n"
          ]
        }
      ],
      "source": [
        "\n",
        "# # Caricamento del risultato del tuning\n",
        "loaded_grid_search = joblib.load('H:/.shortcut-targets-by-id/1veNClNl7CxCTFHVNY2Fp29hcMoEj-the/TextMiningProject/Model_estimated/Classificazione_binaria/W2V/rf_gridsearch_W2V_bin.joblib')\n",
        "\n",
        "# # Summary dei risultati\n",
        "print(\"Best result: %f using %s\" % (loaded_grid_search.best_score_, loaded_grid_search.best_params_))\n",
        "\n",
        "# # Salvo il modello con le migliori perfomance\n",
        "model_rf_W2V_bin = loaded_grid_search.best_estimator_"
      ]
    },
    {
      "attachments": {},
      "cell_type": "markdown",
      "metadata": {},
      "source": [
        "##### KNN"
      ]
    },
    {
      "cell_type": "code",
      "execution_count": null,
      "metadata": {},
      "outputs": [],
      "source": [
        "model = KNeighborsClassifier(weights='distance')\n",
        "# Parametri critici da\n",
        "n_neighbors = range(1, 21, 1)\n",
        "\n",
        "# Definisco la griglia di ricerca\n",
        "grid = dict(n_neighbors=n_neighbors)\n",
        "\n",
        "# Start the clock, train the classifier, then stop the clock\n",
        "start = time()\n",
        "random_search = RandomizedSearchCV(estimator=model, param_distributions=grid, n_iter=6 ,cv=2, scoring=\"accuracy\", error_score=0, verbose=3)\n",
        "#grid_search = GridSearchCV(estimator=model, param_grid=grid, n_jobs=-1, cv=2, scoring='accuracy',error_score=0)\n",
        "grid_result = random_search.fit(X_train_bin_vect_avg, y_train_bin)\n",
        "end = time()\n",
        "print (\"Train and tuning model in {:.4f} seconds\".format(end - start))\n",
        "\n",
        "# Salvataggio dei risultati del tuning\n",
        "\n",
        "path = 'H:/.shortcut-targets-by-id/1veNClNl7CxCTFHVNY2Fp29hcMoEj-the/TextMiningProject/Model_estimated/Classificazione_binaria/W2V/knn_gridsearch_W2V_bin.joblib'\n",
        "joblib.dump(grid_result, path)"
      ]
    },
    {
      "cell_type": "code",
      "execution_count": 31,
      "metadata": {},
      "outputs": [
        {
          "data": {
            "text/plain": [
              "['H:/.shortcut-targets-by-id/1veNClNl7CxCTFHVNY2Fp29hcMoEj-the/TextMiningProject/Model_estimated/Classificazione_binaria/W2V/knn_gridsearch_W2V_bin.joblib']"
            ]
          },
          "execution_count": 31,
          "metadata": {},
          "output_type": "execute_result"
        }
      ],
      "source": [
        "path = 'H:/.shortcut-targets-by-id/1veNClNl7CxCTFHVNY2Fp29hcMoEj-the/TextMiningProject/Model_estimated/Classificazione_binaria/W2V/knn_gridsearch_W2V_bin.joblib'\n",
        "joblib.dump(grid_result, path)"
      ]
    },
    {
      "cell_type": "code",
      "execution_count": 32,
      "metadata": {},
      "outputs": [
        {
          "name": "stdout",
          "output_type": "stream",
          "text": [
            "Best result: 0.817263 using {'n_neighbors': 19}\n"
          ]
        }
      ],
      "source": [
        "# Caricamento del risultato del tuning\n",
        "\n",
        "path = 'H:/.shortcut-targets-by-id/1veNClNl7CxCTFHVNY2Fp29hcMoEj-the/TextMiningProject/Model_estimated/Classificazione_binaria/W2V/knn_gridsearch_W2V_bin.joblib'\n",
        "loaded_grid_search = joblib.load(path)\n",
        "\n",
        "# Summary dei risultati\n",
        "print(\"Best result: %f using %s\" % (loaded_grid_search.best_score_, loaded_grid_search.best_params_))\n",
        "\n",
        "# Salvo il modello con le migliori perfomance\n",
        "model_knn_W2V_bin = loaded_grid_search.best_estimator_"
      ]
    },
    {
      "attachments": {},
      "cell_type": "markdown",
      "metadata": {},
      "source": [
        "##### XGBoost"
      ]
    },
    {
      "cell_type": "code",
      "execution_count": 33,
      "metadata": {},
      "outputs": [
        {
          "data": {
            "text/plain": [
              "['H:/.shortcut-targets-by-id/1veNClNl7CxCTFHVNY2Fp29hcMoEj-the/TextMiningProject/Model_estimated/Classificazione_binaria/W2V/xgboost_holdout_W2V_bin.joblib']"
            ]
          },
          "execution_count": 33,
          "metadata": {},
          "output_type": "execute_result"
        }
      ],
      "source": [
        "from sklearn.preprocessing import LabelEncoder\n",
        "from xgboost import XGBClassifier\n",
        "\n",
        "le = LabelEncoder()\n",
        "y_train_xg = le.fit_transform(y_train_bin)\n",
        "\n",
        "model = XGBClassifier(sampling_method = 'gradient_based', max_depth = 6, eta = 0.2, n_jobs=-1, tree_method = 'hist', objective='binary:logistic')\n",
        "model_xgboost_W2V_bin = model.fit(X_train_bin_vect_avg, y_train_xg)\n",
        "\n",
        "# Salvataggio dei risultati dell'holdout\n",
        "path = 'H:/.shortcut-targets-by-id/1veNClNl7CxCTFHVNY2Fp29hcMoEj-the/TextMiningProject/Model_estimated/Classificazione_binaria/W2V/xgboost_holdout_W2V_bin.joblib'\n",
        "joblib.dump(model_xgboost_W2V_bin, path)"
      ]
    },
    {
      "cell_type": "code",
      "execution_count": 35,
      "metadata": {
        "id": "ykWDw0z6bdBG"
      },
      "outputs": [],
      "source": [
        "# Caricamento del risultato del tuning\n",
        "path = 'H:/.shortcut-targets-by-id/1veNClNl7CxCTFHVNY2Fp29hcMoEj-the/TextMiningProject/Model_estimated/Classificazione_binaria/W2V/xgboost_holdout_W2V_bin.joblib'\n",
        "model_xgboost_W2V_bin = joblib.load(path)\n",
        "\n",
        "# model_path = '/content/gdrive/MyDrive/TextMiningProject/xgboost_holdout_W2V.joblib'\n",
        "# model_xgboost_W2V = joblib.load(model_path)"
      ]
    },
    {
      "attachments": {},
      "cell_type": "markdown",
      "metadata": {},
      "source": [
        "### Analisi dei risultati"
      ]
    },
    {
      "cell_type": "code",
      "execution_count": 37,
      "metadata": {
        "id": "T76s-wjxod4q"
      },
      "outputs": [
        {
          "name": "stdout",
          "output_type": "stream",
          "text": [
            "[1 1 0 ... 0 1 0]\n",
            "                     Accuracy  Precision    Recall  F1 Score\n",
            "LR model             0.858952   0.859023  0.858952  0.858945\n",
            "KNN model            0.824369   0.824379  0.824369  0.824368\n",
            "Random Forest model  0.846374   0.846403  0.846374  0.846371\n",
            "XGBOOST model        0.856793   0.856815  0.856793  0.856790\n"
          ]
        }
      ],
      "source": [
        "models = [model_lr_W2V_bin, model_knn_W2V_bin, model_rf_W2V_bin, model_xgboost_W2V_bin]\n",
        "\n",
        "# Previsioni sul test set\n",
        "results = []\n",
        "for model in models:\n",
        "    if model == models[3]:\n",
        "        y_test_bin_xg = le.fit_transform(y_test_bin)\n",
        "        print(y_test_bin_xg)\n",
        "        y_pred = model.predict(X_test_bin_vect_avg)\n",
        "        acc = accuracy_score(y_test_bin_xg, y_pred)\n",
        "        prec = precision_score(y_test_bin_xg, y_pred, average='macro')\n",
        "        recall = recall_score(y_test_bin_xg, y_pred, average='macro')\n",
        "        f1 = f1_score(y_test_bin_xg, y_pred, average='macro')\n",
        "        results.append([acc, prec, recall, f1])\n",
        "    else:\n",
        "        y_pred = model.predict(X_test_bin_vect_avg)\n",
        "        acc = accuracy_score(y_test_bin, y_pred)\n",
        "        prec = precision_score(y_test_bin, y_pred, average='macro')\n",
        "        recall = recall_score(y_test_bin, y_pred, average='macro')\n",
        "        f1 = f1_score(y_test_bin, y_pred, average='macro')\n",
        "        results.append([acc, prec, recall, f1])\n",
        "\n",
        "# Creo la tabella e visualizzo i risultati\n",
        "df_results = pd.DataFrame(results, columns=['Accuracy', 'Precision', 'Recall', 'F1 Score'])\n",
        "df_results.index = ['LR model', 'KNN model', 'Random Forest model', 'XGBOOST model']\n",
        "print(df_results)"
      ]
    },
    {
      "cell_type": "code",
      "execution_count": 38,
      "metadata": {},
      "outputs": [],
      "source": [
        "#Salvo i risultati\n",
        "df_results.to_csv('H:/.shortcut-targets-by-id/1veNClNl7CxCTFHVNY2Fp29hcMoEj-the/TextMiningProject/df_results_W2V_bin.csv')"
      ]
    },
    {
      "cell_type": "code",
      "execution_count": 39,
      "metadata": {},
      "outputs": [
        {
          "name": "stdout",
          "output_type": "stream",
          "text": [
            "            Unnamed: 0  Accuracy  Precision    Recall  F1 Score\n",
            "0             LR model  0.858952   0.859023  0.858952  0.858945\n",
            "1            KNN model  0.824369   0.824379  0.824369  0.824368\n",
            "2  Random Forest model  0.846374   0.846403  0.846374  0.846371\n",
            "3        XGBOOST model  0.856793   0.856815  0.856793  0.856790\n"
          ]
        }
      ],
      "source": [
        "# Upload the results\n",
        "df_results_W2V_bin = pd.read_csv('H:/.shortcut-targets-by-id/1veNClNl7CxCTFHVNY2Fp29hcMoEj-the/TextMiningProject/df_results_W2V_bin.csv')\n",
        "print(df_results_W2V_bin)"
      ]
    },
    {
      "cell_type": "code",
      "execution_count": 41,
      "metadata": {},
      "outputs": [
        {
          "ename": "NameError",
          "evalue": "name 'X_test_vect_avg' is not defined",
          "output_type": "error",
          "traceback": [
            "\u001b[1;31m---------------------------------------------------------------------------\u001b[0m",
            "\u001b[1;31mNameError\u001b[0m                                 Traceback (most recent call last)",
            "Cell \u001b[1;32mIn[41], line 20\u001b[0m\n\u001b[0;32m     18\u001b[0m     plt\u001b[39m.\u001b[39mshow()\n\u001b[0;32m     19\u001b[0m \u001b[39melse\u001b[39;00m:\n\u001b[1;32m---> 20\u001b[0m     conf_matrix \u001b[39m=\u001b[39m confusion_matrix(y_test_bin, model\u001b[39m.\u001b[39mpredict(X_test_vect_avg))\n\u001b[0;32m     21\u001b[0m     plt\u001b[39m.\u001b[39mimshow(conf_matrix, cmap\u001b[39m=\u001b[39m\u001b[39m'\u001b[39m\u001b[39mBlues\u001b[39m\u001b[39m'\u001b[39m, interpolation\u001b[39m=\u001b[39m\u001b[39m'\u001b[39m\u001b[39mnearest\u001b[39m\u001b[39m'\u001b[39m)\n\u001b[0;32m     22\u001b[0m     plt\u001b[39m.\u001b[39mcolorbar()\n",
            "\u001b[1;31mNameError\u001b[0m: name 'X_test_vect_avg' is not defined"
          ]
        }
      ],
      "source": [
        "models = [model_lr_W2V_bin, model_knn_W2V_bin, model_rf_W2V_bin, model_xgboost_W2V_bin]\n",
        "model_names = [\"Logistic Regression\", \"K-NN\", \"Random Forest\", \"XG-boost\"]\n",
        "\n",
        "# Calcola e visualizza le matrici di confusione per ogni modello\n",
        "for i, model in enumerate(models):\n",
        "    if model == models[3]:\n",
        "        le = LabelEncoder()\n",
        "        y_test_xg = le.fit_transform(y_test_bin)\n",
        "        conf_matrix = confusion_matrix(y_test_xg, model.predict(X_test_vect_avg))\n",
        "        plt.imshow(conf_matrix, cmap='Blues', interpolation='nearest')\n",
        "        plt.colorbar()\n",
        "        classes = [1,2,3,4,5]\n",
        "        plt.xticks(np.arange(5),  classes)\n",
        "        plt.yticks(np.arange(5),  classes)\n",
        "        plt.xlabel(\"Predicted Class\")\n",
        "        plt.ylabel(\"True Class\")\n",
        "        plt.title(model_names[i])\n",
        "        plt.show()\n",
        "    else:\n",
        "        conf_matrix = confusion_matrix(y_test_bin, model.predict(X_test_vect_avg))\n",
        "        plt.imshow(conf_matrix, cmap='Blues', interpolation='nearest')\n",
        "        plt.colorbar()\n",
        "        classes = [1,2,3,4,5]\n",
        "        plt.xticks(np.arange(5), classes)\n",
        "        plt.yticks(np.arange(5), classes)\n",
        "        plt.xlabel(\"Predicted Class\")\n",
        "        plt.ylabel(\"True Class\")\n",
        "        plt.title(model_names[i])\n",
        "        plt.show()"
      ]
    }
  ],
  "metadata": {
    "colab": {
      "provenance": []
    },
    "kernelspec": {
      "display_name": "Nlp",
      "language": "python",
      "name": "nlp"
    },
    "language_info": {
      "codemirror_mode": {
        "name": "ipython",
        "version": 3
      },
      "file_extension": ".py",
      "mimetype": "text/x-python",
      "name": "python",
      "nbconvert_exporter": "python",
      "pygments_lexer": "ipython3",
      "version": "3.10.3"
    },
    "orig_nbformat": 4,
    "vscode": {
      "interpreter": {
        "hash": "dacea306b0f32c61537efd63a0134a85ab05fa1c452b30b5f779d236d2bf6c2d"
      }
    }
  },
  "nbformat": 4,
  "nbformat_minor": 0
}

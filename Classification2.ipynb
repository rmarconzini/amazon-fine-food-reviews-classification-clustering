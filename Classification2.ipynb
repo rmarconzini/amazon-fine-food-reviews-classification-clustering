{
  "cells": [
    {
      "attachments": {},
      "cell_type": "markdown",
      "metadata": {},
      "source": [
        "# Setting"
      ]
    },
    {
      "cell_type": "code",
      "execution_count": 1,
      "metadata": {
        "colab": {
          "base_uri": "https://localhost:8080/"
        },
        "id": "tZarTKRtbdAy",
        "outputId": "4d2d557c-d352-4c5c-9c40-5082b304ebb0"
      },
      "outputs": [
        {
          "name": "stderr",
          "output_type": "stream",
          "text": [
            "[nltk_data] Downloading package punkt to\n",
            "[nltk_data]     C:\\Users\\marco\\AppData\\Roaming\\nltk_data...\n",
            "[nltk_data]   Package punkt is already up-to-date!\n",
            "[nltk_data] Downloading package wordnet to\n",
            "[nltk_data]     C:\\Users\\marco\\AppData\\Roaming\\nltk_data...\n",
            "[nltk_data]   Package wordnet is already up-to-date!\n"
          ]
        }
      ],
      "source": [
        "# Base\n",
        "import pandas as pd \n",
        "import numpy as np \n",
        "from collections import Counter \n",
        "from matplotlib import pyplot as plt\n",
        "%matplotlib inline\n",
        "import seaborn as sns\n",
        "import warnings\n",
        "warnings.filterwarnings(\"ignore\")\n",
        "import re\n",
        "from time import time\n",
        "import itertools\n",
        "import joblib\n",
        "#NLP\n",
        "import nltk\n",
        "from nltk.tokenize import word_tokenize \n",
        "nltk.download('punkt')\n",
        "from nltk import word_tokenize\n",
        "from nltk.stem import WordNetLemmatizer \n",
        "nltk.download('wordnet')\n",
        "from nltk.corpus import stopwords\n",
        "from wordcloud import WordCloud \n",
        "import gensim\n",
        "from gensim.utils import simple_preprocess\n",
        "import gensim.corpora as corpora\n",
        "import string\n",
        "from textblob import TextBlob\n",
        "\n",
        "\n",
        "#ML\n",
        "from sklearn.utils import resample\n",
        "from sklearn.decomposition import TruncatedSVD \n",
        "from sklearn.model_selection import train_test_split\n",
        "from sklearn.metrics import accuracy_score, precision_score, recall_score, f1_score, roc_auc_score, roc_curve\n",
        "from sklearn.metrics import classification_report, confusion_matrix\n",
        "from sklearn.linear_model import LogisticRegression\n",
        "from sklearn.kernel_approximation import RBFSampler\n",
        "from sklearn.linear_model import SGDClassifier\n",
        "from sklearn.ensemble import RandomForestClassifier\n",
        "from sklearn.svm import SVC\n",
        "from sklearn.ensemble import GradientBoostingClassifier\n",
        "from sklearn.neighbors import KNeighborsClassifier\n",
        "from sklearn.utils import shuffle\n",
        "from sklearn import preprocessing\n",
        "# from sklearn.cluster import KMeans\n",
        "from sklearn.metrics import v_measure_score\n",
        "from sklearn.metrics.cluster import adjusted_rand_score\n",
        "#from sklearn.cluster import AgglomerativeClustering\n",
        "from sklearn.feature_extraction.text import TfidfVectorizer\n",
        "from sklearn.feature_extraction.text import CountVectorizer\n",
        "from sklearn.model_selection import RepeatedStratifiedKFold\n",
        "from sklearn.model_selection import GridSearchCV\n",
        "from sklearn.neighbors import KNeighborsClassifier\n",
        "from sklearn.preprocessing import LabelEncoder\n",
        "from xgboost import XGBClassifier\n",
        "from sklearn.model_selection import RandomizedSearchCV"
      ]
    },
    {
      "cell_type": "code",
      "execution_count": null,
      "metadata": {
        "colab": {
          "base_uri": "https://localhost:8080/"
        },
        "id": "na6phehtbm6P",
        "outputId": "961fcad2-a71b-469f-c008-3a6633ee4e65"
      },
      "outputs": [],
      "source": [
        "# Gdrive\n",
        "# from google.colab import drive\n",
        "# drive.mount('/content/gdrive')"
      ]
    },
    {
      "cell_type": "code",
      "execution_count": 2,
      "metadata": {
        "id": "1h5yU6bVbdA3"
      },
      "outputs": [],
      "source": [
        "# Rimozione della punteggiatura\n",
        "\n",
        "def rm_punct_symb(phrase):\n",
        "    phrase_no_punct = \"\".join([i for i in phrase if i not in string.punctuation])\n",
        "    return phrase_no_punct"
      ]
    },
    {
      "cell_type": "code",
      "execution_count": null,
      "metadata": {
        "id": "qMwscFMCbdA4"
      },
      "outputs": [],
      "source": [
        "# Importazione dataset e riconversione colonna in lista di stringhe, come già fatto nel preprocessing\n",
        "\n",
        "# Gian\n",
        "# df = pd.read_csv('C:/Users/cafe6/Documents/GitHub/Dati TextMining/df_lemmatized.csv')\n",
        "# df['Lemmatized Text'] = df['Lemmatized Text'].apply(rm_punct_symb)\n",
        "# df['Lemmatized Text'] = df['Lemmatized Text'].str.split(' ')"
      ]
    },
    {
      "cell_type": "code",
      "execution_count": 3,
      "metadata": {
        "id": "CV6Ed6HcbdA5"
      },
      "outputs": [],
      "source": [
        "# Remo \n",
        "df = pd.read_csv('H:/.shortcut-targets-by-id/1veNClNl7CxCTFHVNY2Fp29hcMoEj-the/TextMiningProject/df_lemmatized.csv')\n",
        "df['Lemmatized Text'] = df['Lemmatized Text'].apply(rm_punct_symb)\n",
        "df['Lemmatized Text'] = df['Lemmatized Text'].str.split(' ')"
      ]
    },
    {
      "cell_type": "code",
      "execution_count": null,
      "metadata": {
        "id": "xWACtbSdbpM-"
      },
      "outputs": [],
      "source": [
        "# Google colab\n",
        "# df = pd.read_csv('/content/gdrive/MyDrive/TextMiningProject/df_lemmatized.csv')\n",
        "# df['Lemmatized Text'] = df['Lemmatized Text'].apply(rm_punct_symb)\n",
        "# df['Lemmatized Text'] = df['Lemmatized Text'].str.split(' ')"
      ]
    },
    {
      "cell_type": "code",
      "execution_count": null,
      "metadata": {
        "id": "6kTs3jPmbdA5",
        "outputId": "c54ca658-60b1-43ee-f3fc-c3feedc2bfc0"
      },
      "outputs": [],
      "source": [
        "df.head()"
      ]
    },
    {
      "cell_type": "code",
      "execution_count": null,
      "metadata": {
        "id": "L52ToO9nbdA6",
        "outputId": "1ed07038-39ce-4880-f911-4336fc650ab1"
      },
      "outputs": [],
      "source": [
        "df.shape"
      ]
    },
    {
      "cell_type": "markdown",
      "metadata": {
        "id": "kNbi-FtzbdA6"
      },
      "source": [
        "# Classificazione"
      ]
    },
    {
      "cell_type": "code",
      "execution_count": 4,
      "metadata": {
        "id": "rsLkA6swbdA9"
      },
      "outputs": [],
      "source": [
        "classification_df = df[['Score', 'Lemmatized Text']]"
      ]
    },
    {
      "cell_type": "code",
      "execution_count": 5,
      "metadata": {
        "colab": {
          "base_uri": "https://localhost:8080/",
          "height": 312
        },
        "id": "XI_TBCaRbdA9",
        "outputId": "639f70ff-40d4-46a2-f710-503ea33b7165"
      },
      "outputs": [
        {
          "data": {
            "text/plain": [
              "Text(0, 0.5, 'Number of reviews')"
            ]
          },
          "execution_count": 5,
          "metadata": {},
          "output_type": "execute_result"
        },
        {
          "data": {
            "image/png": "[encoded data removed]",
            "text/plain": [
              "<Figure size 640x480 with 1 Axes>"
            ]
          },
          "metadata": {},
          "output_type": "display_data"
        }
      ],
      "source": [
        "sns.histplot(classification_df['Score'], discrete=True)\n",
        "plt.title(\"Score distribution\", fontweight='bold')\n",
        "plt.xlabel(\"Score\")\n",
        "plt.ylabel(\"Number of reviews\")"
      ]
    },
    {
      "cell_type": "code",
      "execution_count": null,
      "metadata": {
        "id": "de_1kzR9bdA-",
        "outputId": "d649eded-b23d-418d-a4a5-152d022c91a3"
      },
      "outputs": [],
      "source": [
        "print(classification_df['Score'].value_counts()/len(classification_df['Score']));"
      ]
    },
    {
      "cell_type": "markdown",
      "metadata": {
        "id": "UMG9UjhTbdA_"
      },
      "source": [
        "Le classi sono fortemente sbilanciate, con quasi il 78% delle review appartenenti alla classe 4 e 5. E' necessaria una procedura di resampling, in modo tale che i classificatori non diano stime distorte (classificando tutte le review come appartenenti alla classe 5 si otterrebbe comunque il 63% di accuratezza)."
      ]
    },
    {
      "cell_type": "code",
      "execution_count": 7,
      "metadata": {
        "id": "hfON1PArbdA_"
      },
      "outputs": [],
      "source": [
        "# Come sample size prendo il totale delle review appartenenti alla classe meno numerosa\n",
        "\n",
        "sample_size = classification_df.groupby('Score').count().min()[0]"
      ]
    },
    {
      "cell_type": "code",
      "execution_count": 8,
      "metadata": {
        "colab": {
          "base_uri": "https://localhost:8080/",
          "height": 424
        },
        "id": "ypBdrZB6bdA_",
        "outputId": "eacbc497-f580-4f68-9687-b5991bfa6f6e"
      },
      "outputs": [
        {
          "data": {
            "text/html": [
              "<div>\n",
              "<style scoped>\n",
              "    .dataframe tbody tr th:only-of-type {\n",
              "        vertical-align: middle;\n",
              "    }\n",
              "\n",
              "    .dataframe tbody tr th {\n",
              "        vertical-align: top;\n",
              "    }\n",
              "\n",
              "    .dataframe thead th {\n",
              "        text-align: right;\n",
              "    }\n",
              "</style>\n",
              "<table border=\"1\" class=\"dataframe\">\n",
              "  <thead>\n",
              "    <tr style=\"text-align: right;\">\n",
              "      <th></th>\n",
              "      <th>Score</th>\n",
              "      <th>Lemmatized Text</th>\n",
              "    </tr>\n",
              "  </thead>\n",
              "  <tbody>\n",
              "    <tr>\n",
              "      <th>122449</th>\n",
              "      <td>1</td>\n",
              "      <td>[monitor, dog, carefully, give, himher, chess,...</td>\n",
              "    </tr>\n",
              "    <tr>\n",
              "      <th>250869</th>\n",
              "      <td>1</td>\n",
              "      <td>[cant, get, past, aroma, like, raw, industrial...</td>\n",
              "    </tr>\n",
              "    <tr>\n",
              "      <th>126638</th>\n",
              "      <td>1</td>\n",
              "      <td>[excited, start, making, baby, foodi, died, sw...</td>\n",
              "    </tr>\n",
              "    <tr>\n",
              "      <th>62551</th>\n",
              "      <td>1</td>\n",
              "      <td>[everyone, family, share, opinion, thing, tast...</td>\n",
              "    </tr>\n",
              "    <tr>\n",
              "      <th>103237</th>\n",
              "      <td>1</td>\n",
              "      <td>[given, dog, two, eagle, benefit, constant, ga...</td>\n",
              "    </tr>\n",
              "    <tr>\n",
              "      <th>...</th>\n",
              "      <td>...</td>\n",
              "      <td>...</td>\n",
              "    </tr>\n",
              "    <tr>\n",
              "      <th>58537</th>\n",
              "      <td>5</td>\n",
              "      <td>[ever, since, wife, left, venice, ive, chip, s...</td>\n",
              "    </tr>\n",
              "    <tr>\n",
              "      <th>276651</th>\n",
              "      <td>5</td>\n",
              "      <td>[dont, get, eat, many, colony, want, taste, gr...</td>\n",
              "    </tr>\n",
              "    <tr>\n",
              "      <th>297242</th>\n",
              "      <td>5</td>\n",
              "      <td>[stumbled, upon, coffee, browsing, amazon, gro...</td>\n",
              "    </tr>\n",
              "    <tr>\n",
              "      <th>85452</th>\n",
              "      <td>5</td>\n",
              "      <td>[want, pleasant, way, start, day, answer, yes,...</td>\n",
              "    </tr>\n",
              "    <tr>\n",
              "      <th>81047</th>\n",
              "      <td>5</td>\n",
              "      <td>[extremely, pleased, fast, shipping, product, ...</td>\n",
              "    </tr>\n",
              "  </tbody>\n",
              "</table>\n",
              "<p>104010 rows × 2 columns</p>\n",
              "</div>"
            ],
            "text/plain": [
              "        Score                                    Lemmatized Text\n",
              "122449      1  [monitor, dog, carefully, give, himher, chess,...\n",
              "250869      1  [cant, get, past, aroma, like, raw, industrial...\n",
              "126638      1  [excited, start, making, baby, foodi, died, sw...\n",
              "62551       1  [everyone, family, share, opinion, thing, tast...\n",
              "103237      1  [given, dog, two, eagle, benefit, constant, ga...\n",
              "...       ...                                                ...\n",
              "58537       5  [ever, since, wife, left, venice, ive, chip, s...\n",
              "276651      5  [dont, get, eat, many, colony, want, taste, gr...\n",
              "297242      5  [stumbled, upon, coffee, browsing, amazon, gro...\n",
              "85452       5  [want, pleasant, way, start, day, answer, yes,...\n",
              "81047       5  [extremely, pleased, fast, shipping, product, ...\n",
              "\n",
              "[104010 rows x 2 columns]"
            ]
          },
          "execution_count": 8,
          "metadata": {},
          "output_type": "execute_result"
        }
      ],
      "source": [
        "df_downsampled = classification_df.groupby('Score', group_keys=False).apply(lambda x: x.sample(sample_size))\n",
        "df_downsampled"
      ]
    },
    {
      "cell_type": "code",
      "execution_count": null,
      "metadata": {
        "colab": {
          "base_uri": "https://localhost:8080/"
        },
        "id": "Ekf5XqvVbdBA",
        "outputId": "9e213da2-e37e-4fee-eff2-04e64e68e273"
      },
      "outputs": [],
      "source": [
        "df_downsampled.shape"
      ]
    },
    {
      "cell_type": "code",
      "execution_count": null,
      "metadata": {
        "colab": {
          "base_uri": "https://localhost:8080/",
          "height": 312
        },
        "id": "OBdFPYssbdBA",
        "outputId": "cf91dee1-07fc-4dd6-f230-beef8ddc39cf"
      },
      "outputs": [],
      "source": [
        "sns.histplot(df_downsampled['Score'], discrete=True)\n",
        "plt.title(\"Score distribution\", fontweight='bold')\n",
        "plt.xlabel(\"Score\")\n",
        "plt.ylabel(\"Number of reviews\")"
      ]
    },
    {
      "cell_type": "code",
      "execution_count": 9,
      "metadata": {
        "id": "tjUtT-5gbdBA"
      },
      "outputs": [],
      "source": [
        "# Separo train e test\n",
        "\n",
        "X_train, X_test, y_train, y_test = train_test_split(df_downsampled['Lemmatized Text'], \n",
        "                                                    df_downsampled[\"Score\"], \n",
        "                                                    test_size=0.3, \n",
        "                                                    random_state=1, \n",
        "                                                    stratify=df_downsampled['Score'])"
      ]
    },
    {
      "cell_type": "markdown",
      "metadata": {
        "id": "Nz5jl2JtbdBB"
      },
      "source": [
        "# Multi-label classification"
      ]
    },
    {
      "cell_type": "markdown",
      "metadata": {
        "id": "MOB6pct-bdBB"
      },
      "source": [
        "## Text representation"
      ]
    },
    {
      "cell_type": "markdown",
      "metadata": {
        "id": "519uwDQIbdBB"
      },
      "source": [
        "### Bag-of-word"
      ]
    },
    {
      "cell_type": "code",
      "execution_count": null,
      "metadata": {
        "id": "14eS1p7SbdBB"
      },
      "outputs": [],
      "source": [
        "cv = CountVectorizer(min_df=0., max_df=1.0)\n",
        "cv_model = cv.fit(X_train.astype(str)) \n",
        "X_train_BOW = cv_model.transform(X_train.astype(str))"
      ]
    },
    {
      "cell_type": "code",
      "execution_count": null,
      "metadata": {
        "id": "4e3W5JiGbdBC",
        "outputId": "58639c0d-41ef-45be-b8e7-d16cce8b97dd"
      },
      "outputs": [],
      "source": [
        "X_train_BOW.shape"
      ]
    },
    {
      "cell_type": "markdown",
      "metadata": {
        "id": "6t0Xvdq9bdBC"
      },
      "source": [
        "Devo necessariamente ridurre la dimensionalità della matrice. Applico una SVD senza assegnare il numero di componenti da considerare e poi usiamo la funzione cusum() per ottenere la varianza cumulata, quindi teniamo un numero di componenti necessarie per raggiungere una certa soglia di varianza cumulata (fissata a priori).\n",
        "\n",
        "Considerando l'elevata dimensionalità del dataset, non è possibile stimare l'intera SVD. Viene quindi considerato un numero comunque elevato di componenti, e.g. 1000, per poi andare a valutare la varianza cumulata. "
      ]
    },
    {
      "cell_type": "code",
      "execution_count": null,
      "metadata": {
        "id": "Un663iMmbdBC"
      },
      "outputs": [],
      "source": [
        "# Già eseguita e salvata, non runnare\n",
        "\n",
        "# Eseguo la SVD\n",
        "# n_components = 3000\n",
        "# tSVD_BOW = TruncatedSVD(n_components = n_components)\n",
        "# SVD_BOW = tSVD_BOW.fit(X_train_BOW)\n",
        "\n",
        "# Calcolo varianza cumulata delle componenti\n",
        "# cum_var = np.cumsum(SVD_BOW.explained_variance_ratio_)\n",
        "\n",
        "# Salvo SVD su disco\n",
        "# joblib.dump(SVD_BOW, \"SVD_BOW_3000.joblib\")"
      ]
    },
    {
      "cell_type": "code",
      "execution_count": null,
      "metadata": {
        "id": "nQrFIjLLbdBD"
      },
      "outputs": [],
      "source": [
        "# carico SVD\n",
        "SVD_BOW_3000 = joblib.load(\"H:/.shortcut-targets-by-id/1veNClNl7CxCTFHVNY2Fp29hcMoEj-the/TextMiningProject/SVD_BOW_3000.joblib\")\n",
        "cum_var = np.cumsum(SVD_BOW_3000.explained_variance_ratio_)"
      ]
    },
    {
      "cell_type": "code",
      "execution_count": null,
      "metadata": {
        "id": "gTI7lAa7bwIW"
      },
      "outputs": [],
      "source": [
        "# Carico SVD - Google colab\n",
        "# SVD_path = '/content/gdrive/MyDrive/TextMiningProject/SVD_BOW_3000.joblib'\n",
        "# SVD_BOW_3000 = joblib.load(SVD_path)\n",
        "# cum_var = np.cumsum(SVD_BOW_3000.explained_variance_ratio_)"
      ]
    },
    {
      "cell_type": "code",
      "execution_count": null,
      "metadata": {
        "colab": {
          "base_uri": "https://localhost:8080/",
          "height": 279
        },
        "id": "tnxqIYegbdBD",
        "outputId": "bebf82e2-ac40-4745-a4a5-92361511b227"
      },
      "outputs": [],
      "source": [
        "# Grafico varianza cumulata\n",
        "plt.plot(range(1, len(cum_var) + 1), cum_var)\n",
        "plt.xlabel(\"Numero di componenti\")\n",
        "plt.ylabel(\"Varianza cumulata\")\n",
        "plt.show()"
      ]
    },
    {
      "cell_type": "markdown",
      "metadata": {
        "id": "9IXQYxCBbdBD"
      },
      "source": [
        "Fissiamo una threshold pari all'85%. Ciò vuol dire che andremo a considerare un numero di componenti necessarie per arrivare ad una varianza spiegata pari all'85%"
      ]
    },
    {
      "cell_type": "code",
      "execution_count": null,
      "metadata": {
        "colab": {
          "base_uri": "https://localhost:8080/"
        },
        "id": "AiF_Fya8bdBD",
        "outputId": "8f7ef8e8-8527-4059-c99c-bd80a59de069"
      },
      "outputs": [],
      "source": [
        "threshold = 0.85\n",
        "n_components = np.argmax(cum_var >= threshold) + 1\n",
        "print(\"Numero di componenti necessariea spiegare una varianza pari all'85% sono : \", n_components)"
      ]
    },
    {
      "cell_type": "code",
      "execution_count": null,
      "metadata": {
        "id": "N1_peW_hbdBE"
      },
      "outputs": [],
      "source": [
        "# Stimo SVD ottimale, già runnato \n",
        "tSVD_BOW = TruncatedSVD(n_components = 1413)\n",
        "SVD_BOW = tSVD_BOW.fit(X_train_BOW)\n",
        "\n",
        "# Salvo SVD ottimizzata\n",
        "joblib.dump(SVD_BOW, \"H:/.shortcut-targets-by-id/1veNClNl7CxCTFHVNY2Fp29hcMoEj-the/TextMiningProject/SVD_BOW_optim.joblib\")"
      ]
    },
    {
      "cell_type": "code",
      "execution_count": null,
      "metadata": {
        "id": "-UL6PvopbdBJ"
      },
      "outputs": [],
      "source": [
        "# Inizializzo SVD con componenti ottimali\n",
        "tSVD_BOW = TruncatedSVD(n_components = 1413)\n",
        "\n",
        "# Carico SVD ottimizzata \n",
        "loaded_svd = joblib.load(\"H:/.shortcut-targets-by-id/1veNClNl7CxCTFHVNY2Fp29hcMoEj-the/TextMiningProject/SVD_BOW_optim.joblib\")\n",
        "loaded_svd.fit(X_train_BOW)"
      ]
    },
    {
      "cell_type": "code",
      "execution_count": null,
      "metadata": {},
      "outputs": [],
      "source": [
        "# Applico la trasformazione al training e test set \n",
        "X_train_BOW = tSVD_BOW.transform(X_train_BOW)\n",
        "\n",
        "X_test_BOW = cv_model.transform(X_test.astype(str))\n",
        "X_test_BOW = loaded_svd.transform(X_test_BOW)"
      ]
    },
    {
      "attachments": {},
      "cell_type": "markdown",
      "metadata": {
        "id": "PWKLf5CabdBE"
      },
      "source": [
        "#### Implementazione algoritmi\n",
        "\n",
        "- Regressione Logistica\n",
        "- Random Forest\n",
        "- KNN\n",
        "- XGboost"
      ]
    },
    {
      "cell_type": "markdown",
      "metadata": {
        "id": "kKNdbGb3bdBE"
      },
      "source": [
        "##### Regressione logistica"
      ]
    },
    {
      "cell_type": "code",
      "execution_count": null,
      "metadata": {
        "id": "quLHCvR5bdBE"
      },
      "outputs": [],
      "source": [
        "# Già eseguito, non runnare\n",
        "# Regressione logistica con ottimizzazione degli iperparametri\n",
        "# model = LogisticRegression(random_state=1)\n",
        "\n",
        "#Iperparametri \"critici\" da ottimizzare \n",
        "# solvers = ['newton-cg', 'lbfgs', 'liblinear', 'sag', 'saga']\n",
        "# penalty = ['None', 'l2']\n",
        "# c_values = [500, 200, 100, 50, 10, 1.0, 0.1, 0.01, 0.001]\n",
        "\n",
        "# Definisco la griglia di ricerca\n",
        "# grid = dict(solver=solvers,penalty=penalty,C=c_values)\n",
        "\n",
        "# Start the clock, train the classifier, then stop the clock\n",
        "# start = time()\n",
        "\n",
        "# CV and Tuning\n",
        "# random_search = RandomizedSearchCV(estimator=model, param_distributions=grid, n_iter=6 ,cv=2, scoring=\"accuracy\", error_score=0, verbose=3)\n",
        "# grid_result = random_search.fit(X_train_BOW, y_train)\n",
        "# end = time()\n",
        "# print (\"Train and tuning model in {:.4f} seconds\".format(end - start))\n",
        "\n",
        "# Salvataggio dei risultati del tuning\n",
        "# path = 'H:/.shortcut-targets-by-id/1veNClNl7CxCTFHVNY2Fp29hcMoEj-the/TextMiningProject/Model_estimated/logreg_gridsearch_BOW.joblib'\n",
        "# joblib.dump(grid_result, path)"
      ]
    },
    {
      "cell_type": "code",
      "execution_count": null,
      "metadata": {
        "id": "NySkmosjbdBE",
        "outputId": "0c9070c9-f194-4486-e4fc-80cb0405479d"
      },
      "outputs": [],
      "source": [
        "# Caricamento del risultato del tuning\n",
        "path = 'H:/.shortcut-targets-by-id/1veNClNl7CxCTFHVNY2Fp29hcMoEj-the/TextMiningProject/Model_estimated/logreg_gridsearch_BOW.joblib'\n",
        "loaded_grid_search = joblib.load(path)\n",
        "\n",
        "# Summary dei risultati\n",
        "print(\"Best result: %f using %s\" % (loaded_grid_search.best_score_, loaded_grid_search.best_params_))\n",
        "\n",
        "#Salvo il modello con le migliori performance\n",
        "model_lr_BOW = loaded_grid_search.best_estimator_"
      ]
    },
    {
      "cell_type": "markdown",
      "metadata": {
        "id": "CDGTrGWpbdBE"
      },
      "source": [
        "##### Random Forest"
      ]
    },
    {
      "cell_type": "code",
      "execution_count": null,
      "metadata": {
        "id": "_d58Ljk9bdBE",
        "outputId": "8f548533-d696-435a-fbdb-0b4d194d7d10"
      },
      "outputs": [],
      "source": [
        "# Random Forest, già runnato !!\n",
        "# model = RandomForestClassifier()\n",
        "\n",
        "# Parametri 'critici' da ottimizzare\n",
        "# n_estimators = [10, 100, 1000]\n",
        "# max_features = ['sqrt', 'log2']\n",
        "# Definisco la griglia di ricerca \n",
        "# grid = dict(n_estimators=n_estimators,max_features=max_features)\n",
        "\n",
        "# Start the clock, train the classifier, then stop the clock\n",
        "# start = time()\n",
        "\n",
        "# grid_search = GridSearchCV(estimator=model, param_grid=grid, n_jobs=-1, cv=2, scoring='accuracy', error_score=0)\n",
        "# grid_result = grid_search.fit(X_train_BOW, y_train)\n",
        "# end = time()\n",
        "# print (\"Train and tuning model in {:.4f} seconds\".format(end - start))\n",
        "\n",
        "# Salvataggio dei risultati del tuning\n",
        "# path = 'H:/.shortcut-targets-by-id/1veNClNl7CxCTFHVNY2Fp29hcMoEj-the/TextMiningProject/Model_estimated/rf_gridsearch_BOW.joblib'\n",
        "# joblib.dump(grid_result, path)"
      ]
    },
    {
      "cell_type": "code",
      "execution_count": null,
      "metadata": {
        "id": "CTg7m7sWbdBF",
        "outputId": "d2e5d933-0232-4bb0-d111-8b84f96b741f"
      },
      "outputs": [],
      "source": [
        "\n",
        "# Caricamento del risultato del tuning\n",
        "path = 'H:/.shortcut-targets-by-id/1veNClNl7CxCTFHVNY2Fp29hcMoEj-the/TextMiningProject/Model_estimated/rf_gridsearch_BOW.joblib'\n",
        "loaded_grid_search = joblib.load(path)\n",
        "\n",
        "# Summary dei risultati\n",
        "print(\"Best result: %f using %s\" % (loaded_grid_search.best_score_, loaded_grid_search.best_params_))\n",
        "\n",
        "# Salvo il modello con le migliori perfomance\n",
        "model_rf_BOW = loaded_grid_search.best_estimator_"
      ]
    },
    {
      "attachments": {},
      "cell_type": "markdown",
      "metadata": {
        "id": "bdYxtwVzbdBF"
      },
      "source": [
        "##### KNN"
      ]
    },
    {
      "cell_type": "code",
      "execution_count": null,
      "metadata": {},
      "outputs": [],
      "source": [
        "# model = KNeighborsClassifier(weights='distance')\n",
        "# # Parametri critici da\n",
        "# n_neighbors = range(1, 21, 4)\n",
        "\n",
        "# # Definisco la griglia di ricerca\n",
        "# grid = dict(n_neighbors=n_neighbors)\n",
        "\n",
        "# # Start the clock, train the classifier, then stop the clock\n",
        "# start = time()\n",
        "# random_search = RandomizedSearchCV(estimator=model, param_distributions=grid, n_iter=6 ,cv=2, scoring=\"accuracy\", error_score=0, verbose=3)\n",
        "# grid_result = random_search.fit(X_train_BOW, y_train)\n",
        "# end = time()\n",
        "# print (\"Train and tuning model in {:.4f} seconds\".format(end - start))\n",
        "# # Summary dei risultati\n",
        "# print(\"Best result: %f using %s\" % (grid_result.best_score_, grid_result.best_params_))\n",
        "\n",
        "# # Salvataggio dei risultati del tuning\n",
        "# path = 'H:/.shortcut-targets-by-id/1veNClNl7CxCTFHVNY2Fp29hcMoEj-the/TextMiningProject/Model_estimated/knn_gridsearch_BOW.joblib'\n",
        "# joblib.dump(grid_result, path)"
      ]
    },
    {
      "cell_type": "code",
      "execution_count": null,
      "metadata": {},
      "outputs": [],
      "source": [
        "# Caricamento del risultato del tuning\n",
        "path = 'H:/.shortcut-targets-by-id/1veNClNl7CxCTFHVNY2Fp29hcMoEj-the/TextMiningProject/Model_estimated/knn_gridsearch_BOW.joblib'\n",
        "loaded_grid_search = joblib.load(path)\n",
        "\n",
        "# Summary dei risultati\n",
        "print(\"Best result: %f using %s\" % (loaded_grid_search.best_score_, loaded_grid_search.best_params_))\n",
        "\n",
        "# Salvo il modello con le migliori perfomance\n",
        "model_knn_BOW = loaded_grid_search.best_estimator_"
      ]
    },
    {
      "cell_type": "markdown",
      "metadata": {
        "id": "VndvAmqRbdBG"
      },
      "source": [
        "##### XG-Boost"
      ]
    },
    {
      "attachments": {},
      "cell_type": "markdown",
      "metadata": {},
      "source": [
        "**Holdout**"
      ]
    },
    {
      "attachments": {},
      "cell_type": "markdown",
      "metadata": {},
      "source": [
        "**Ottimizzazione degli iper-parametri**"
      ]
    },
    {
      "attachments": {},
      "cell_type": "markdown",
      "metadata": {
        "id": "CHtAU1lAbdBG"
      },
      "source": [
        "Viene effettuata una ottimizzazione degli iper-parametri con metodo RandomSearch. \n",
        "\n",
        "Parametri ottimizzati\n",
        "\n",
        "- max_depth = profondità massima dell'albero di decisione utilizzato in una singola iterazione. \n",
        "- eta (a.k.a learning rate) = un valore compreso tra 0 e 1 che controlla la velocità di apprendimento dell'algoritmo.  \n",
        "- colsample_bytree = un valore compreso tra 0 e 1 che rappresenta la frazione di colonne utilizzate in ciascuna iterazione.\n",
        "- sampling_method = specifica il metodo di campionamento utilizzato per selezionare le osservazioni da utilizzare in ciascuna iterazione."
      ]
    },
    {
      "cell_type": "code",
      "execution_count": null,
      "metadata": {
        "id": "k5thU_GDbdBG"
      },
      "outputs": [],
      "source": [
        "le = LabelEncoder()\n",
        "y_train_xg = le.fit_transform(y_train)\n",
        "\n",
        "# XG-Boost con ottimizzazione degli iperparametri\n",
        "model = XGBClassifier( tree_method = 'gpu_hist', predictor = 'gpu_predictor')\n",
        "\n",
        "# Parametri critici da ottimizzare\n",
        "max_depth = [1,2,3, 4, 5, 6, 7, 8, 9]\n",
        "eta  = [0.001, 0.01, 0.01, 0.2, 0.4, 0.6, 0.8]\n",
        "colsample_bytree = [0.01, 0.1, 0.3, 0.5, 0.7, 0.9]\n",
        "sampling_method = ['uniform', 'gradient_based']\n",
        "\n",
        "#Definisco la griglia di ricerca\n",
        "grid = dict(max_depth=max_depth, eta =eta, colsample_bytree = colsample_bytree, sampling_method = sampling_method)\n",
        "\n",
        "# Start the clock, train the classifier, then stop the clock\n",
        "start = time()\n",
        "random_search = RandomizedSearchCV(estimator=model, param_distributions=grid, n_iter= 6, cv=2, scoring='accuracy', error_score=0, n_jobs=-1, random_state=0, verbose=4)\n",
        "grid_result = random_search.fit(X_train_BOW, y_train_xg)\n",
        "end = time()\n",
        "print (\"Train and tuning model in {:.4f} seconds\".format(end - start))\n",
        "\n",
        "# Salvataggio dei risultati del tuning\n",
        "path = 'H:/.shortcut-targets-by-id/1veNClNl7CxCTFHVNY2Fp29hcMoEj-the/TextMiningProject/Model_estimated/xgboost_gridsearch_BOW.joblib'\n",
        "joblib.dump(grid_result, path)\n",
        "\n",
        "# Salvataggio dei risultati del tuning Google-Colab\n",
        "# model_path = '/content/gdrive/MyDrive/TextMiningProject/xgboost_gridsearch_BOW.joblib'\n",
        "# joblib.dump(grid_result, model_path)"
      ]
    },
    {
      "cell_type": "code",
      "execution_count": null,
      "metadata": {
        "id": "ykWDw0z6bdBG"
      },
      "outputs": [],
      "source": [
        "# Caricamento del risultato del tuning\n",
        "path = 'H:/.shortcut-targets-by-id/1veNClNl7CxCTFHVNY2Fp29hcMoEj-the/TextMiningProject/Model_estimated/xgboost_gridsearch_BOW.joblib'\n",
        "loaded_grid_search = joblib.load(path)\n",
        "\n",
        "# Summary dei risultati\n",
        "print(\"Best result: %f using %s\" % (loaded_grid_search.best_score_, loaded_grid_search.best_params_))\n",
        "\n",
        "# Salvo il modello con le migliori perfomance\n",
        "model_xgboost_BOW = loaded_grid_search.best_estimator_"
      ]
    },
    {
      "cell_type": "code",
      "execution_count": null,
      "metadata": {},
      "outputs": [],
      "source": [
        "# y_test = le.fit_transform(y_test)\n",
        "# y_pred = model_xgboost_BOW.predict(X_test_BOW)\n",
        "# print(accuracy_score(y_test, y_pred))"
      ]
    },
    {
      "cell_type": "markdown",
      "metadata": {
        "id": "v6zxofQmbdBG"
      },
      "source": [
        "#### Analizzo i risultati:"
      ]
    },
    {
      "cell_type": "code",
      "execution_count": null,
      "metadata": {
        "id": "WV_ZjhsrbdBH"
      },
      "outputs": [],
      "source": [
        "models = [model_lr_BOW, model_rf_BOW, model_knn_BOW, model_xgboost_BOW]\n",
        "\n",
        "# Previsioni sul test set\n",
        "results = []\n",
        "for model in models:\n",
        "    if model == models[3]:\n",
        "        y_test_xg = le.fit_transform(y_test)\n",
        "        print(y_test_xg)\n",
        "        y_pred = model.predict(X_test_BOW)\n",
        "        acc = accuracy_score(y_test_xg, y_pred)\n",
        "        prec = precision_score(y_test_xg, y_pred, average='macro')\n",
        "        recall = recall_score(y_test_xg, y_pred, average='macro')\n",
        "        f1 = f1_score(y_test_xg, y_pred, average='macro')\n",
        "        results.append([acc, prec, recall, f1])\n",
        "    else:\n",
        "        y_pred = model.predict(X_test_BOW)\n",
        "        acc = accuracy_score(y_test, y_pred)\n",
        "        prec = precision_score(y_test, y_pred, average='macro')\n",
        "        recall = recall_score(y_test, y_pred, average='macro')\n",
        "        f1 = f1_score(y_test, y_pred, average='macro')\n",
        "        results.append([acc, prec, recall, f1])\n",
        "\n",
        "# Creo la tabella e visualizzo i risultati\n",
        "df_results = pd.DataFrame(results, columns=['Accuracy', 'Precision', 'Recall', 'F1 Score'])\n",
        "df_results.index = ['LR model', 'RF model', 'KNN model', 'XGBOOST model']\n",
        "print(df_results)"
      ]
    },
    {
      "cell_type": "code",
      "execution_count": null,
      "metadata": {},
      "outputs": [],
      "source": [
        "models[1]"
      ]
    },
    {
      "cell_type": "code",
      "execution_count": null,
      "metadata": {
        "id": "gpaUwiGgbdBH"
      },
      "outputs": [],
      "source": [
        "# Crea i grafici ROC per ogni modello\n",
        "# for model in models:\n",
        "#     y_pred_proba = model.predict_proba(X_test_BOW)[::,1]\n",
        "#     fpr, tpr, _ = roc_curve(y_test, y_pred_proba)\n",
        "#     auc = roc_auc_score(y_test, y_pred_proba)\n",
        "#     plt.plot(fpr,tpr,label=\"AUC=\"+str(auc))\n",
        "#     plt.legend(loc = 'lower right')"
      ]
    },
    {
      "cell_type": "code",
      "execution_count": null,
      "metadata": {
        "id": "C7Pg9f7-bdBH"
      },
      "outputs": [],
      "source": [
        "# # Creo le matrici di confusione per ogni modello\n",
        "# for model in models:\n",
        "#     cm = confusion_matrix(y_test, y_pred)\n",
        "#     plt.figure()\n",
        "#     plt.imshow(cm, interpolation='nearest', cmap=plt.cm.Blues)\n",
        "#     plt.title(\"Confusion Matrix - \" + str(model))\n",
        "#     plt.colorbar()\n",
        "#     tick_marks = np.arange(3)\n",
        "#     plt.xticks(tick_marks, [\"Class 1\", \"Class 2\", \"Class 3\", \"Class 4\", \"Class 5\"])\n",
        "#     plt.yticks(tick_marks, [\"Class 1\", \"Class 2\", \"Class 3\", \"Class 4\", \"Class 5\"])\n",
        "#     thresh = cm.max() / 2.\n",
        "#     for i, j in itertools.product(range(cm.shape[0]), range(cm.shape[1])):\n",
        "#         plt.text(j, i, format(cm[i, j]),\n",
        "#                  horizontalalignment=\"center\",\n",
        "#                  color=\"white\" if cm[i, j] > thresh else \"black\")\n",
        "#     plt.tight_layout()\n",
        "#     plt.ylabel('True label')\n",
        "#     plt.xlabel('Predicted label')\n",
        "#     plt.show()"
      ]
    },
    {
      "attachments": {},
      "cell_type": "markdown",
      "metadata": {
        "id": "CC5BmfiUbdBI"
      },
      "source": [
        "### **TF-IDF**"
      ]
    },
    {
      "cell_type": "code",
      "execution_count": null,
      "metadata": {
        "id": "Tu21H8jHbdBI"
      },
      "outputs": [],
      "source": [
        "tv = TfidfVectorizer(min_df=0., max_df=1., use_idf=True) \n",
        "tv_model = tv.fit(X_train.astype(str)) \n",
        "X_train_TFIDF = tv.transform(X_train.astype(str)) # Vettorizzo"
      ]
    },
    {
      "cell_type": "code",
      "execution_count": null,
      "metadata": {
        "id": "T6TNWrsRbdBI",
        "outputId": "4e4b6ebb-a4aa-438b-a737-f04267e2f083"
      },
      "outputs": [],
      "source": [
        "X_train_TFIDF.shape"
      ]
    },
    {
      "cell_type": "code",
      "execution_count": null,
      "metadata": {
        "id": "8uvn6tyEbdBI",
        "outputId": "e9d07380-3e44-43b3-a67d-d1e43d484f2e"
      },
      "outputs": [],
      "source": [
        "# Già eseguita e salvata, non runnare\n",
        "\n",
        "# Eseguo SVD\n",
        "# n_components = 5000\n",
        "# tSVD_TFIDF = TruncatedSVD(n_components = n_components)\n",
        "# SVD_TFIDF_5000 = tSVD_TFIDF.fit(X_train_TFIDF)\n",
        "\n",
        "# Calcolo varianza cumulata delle componenti\n",
        "# cum_var = np.cumsum(SVD_TFIDF_5000.explained_variance_ratio_)\n",
        "\n",
        "# Salvo SVD su disco\n",
        "# joblib.dump(SVD_TFIDF_5000, \"SVD_TFIDF_5000.joblib\")\n"
      ]
    },
    {
      "cell_type": "code",
      "execution_count": null,
      "metadata": {},
      "outputs": [],
      "source": [
        "# Carico SVD\n",
        "SVD_TFIDF_5000 = joblib.load(\"H:/.shortcut-targets-by-id/1veNClNl7CxCTFHVNY2Fp29hcMoEj-the/TextMiningProject/SVD_TFIDF_5000.joblib\")\n",
        "cum_var = np.cumsum(SVD_TFIDF_5000.explained_variance_ratio_)"
      ]
    },
    {
      "cell_type": "code",
      "execution_count": null,
      "metadata": {
        "id": "fUeiqLTGoA5B"
      },
      "outputs": [],
      "source": [
        "# Carico SVD - Google Colab\n",
        "# SVD_TFIDF_5000 = joblib.load(\"/content/gdrive/MyDrive/TextMiningProject/SVD_TFIDF_5000.joblib\")\n",
        "# cum_var = np.cumsum(SVD_TFIDF_5000.explained_variance_ratio_)"
      ]
    },
    {
      "cell_type": "code",
      "execution_count": null,
      "metadata": {
        "id": "xNYr7DPAn8hh"
      },
      "outputs": [],
      "source": [
        "# Grafico varianza cumulata\n",
        "plt.plot(range(1, len(cum_var) + 1), cum_var)\n",
        "plt.xlabel(\"Numero di componenti\")\n",
        "plt.ylabel(\"Varianza cumulata\")\n",
        "plt.show()"
      ]
    },
    {
      "cell_type": "code",
      "execution_count": null,
      "metadata": {
        "id": "XteUrLEibdBJ",
        "outputId": "254e8405-e85b-43f4-ce35-dd0a8234fbe5"
      },
      "outputs": [],
      "source": [
        "threshold = 0.85\n",
        "n_components = np.argmax(cum_var >= threshold) + 1\n",
        "print(\"Numero di componenti necessariea spiegare una varianza pari all'85% sono : \", n_components)"
      ]
    },
    {
      "cell_type": "code",
      "execution_count": null,
      "metadata": {},
      "outputs": [],
      "source": [
        "# Stimo SVD ottimale\n",
        "tSVD_TFIDF = TruncatedSVD(n_components = 4719)\n",
        "SVD_TFIDF = tSVD_TFIDF.fit(X_train_TFIDF)"
      ]
    },
    {
      "cell_type": "code",
      "execution_count": null,
      "metadata": {},
      "outputs": [],
      "source": [
        "# Applico la trasformazione al training e test set \n",
        "X_train_TFIDF = tSVD_TFIDF.transform(X_train_TFIDF)\n",
        "\n",
        "X_test_TFIDF = tv_model.transform(X_test.astype(str))\n",
        "X_test_TFIDF = SVD_TFIDF.transform(X_test_TFIDF)"
      ]
    },
    {
      "attachments": {},
      "cell_type": "markdown",
      "metadata": {},
      "source": [
        "#### Implementazione algoritmi\n",
        "\n",
        "- Regressione Logistica\n",
        "- KNN\n",
        "- XGBoost"
      ]
    },
    {
      "attachments": {},
      "cell_type": "markdown",
      "metadata": {},
      "source": [
        "##### Regressione Logistica"
      ]
    },
    {
      "cell_type": "code",
      "execution_count": null,
      "metadata": {
        "id": "Bc_7nKJtor5f"
      },
      "outputs": [],
      "source": [
        "# Regressione logistica con ottimizzazione degli iperparametri\n",
        "model = LogisticRegression(random_state=1)\n",
        "\n",
        "# Iperparametri \"critici\" da ottimizzare \n",
        "solvers = ['newton-cg', 'lbfgs', 'liblinear', 'sag', 'saga']\n",
        "penalty = ['None', 'l2']\n",
        "c_values = [500, 200, 100, 50, 10, 1.0, 0.1, 0.01, 0.001]\n",
        "\n",
        "# Definisco la griglia di ricerca\n",
        "grid = dict(penalty=penalty,C=c_values)\n",
        "\n",
        "# Start the clock, train the classifier, then stop the clock\n",
        "start = time()\n",
        "\n",
        "# CV and Tuning\n",
        "random_search = RandomizedSearchCV(estimator=model, param_distributions=grid, n_iter=6 ,cv=2, scoring=\"accuracy\", error_score=0, verbose=3)\n",
        "grid_result = random_search.fit(X_train_TFIDF, y_train)\n",
        "end = time()\n",
        "print (\"Train and tuning model in {:.4f} seconds\".format(end - start))\n",
        "\n",
        "# Salvataggio dei risultati del tuning\n",
        "# path = 'H:/.shortcut-targets-by-id/1veNClNl7CxCTFHVNY2Fp29hcMoEj-the/TextMiningProject/Model_estimated/lrr_gridsearch_TFIDF.joblib'\n",
        "# joblib.dump(grid_result, path)\n",
        "\n",
        "model_path = '/content/gdrive/MyDrive/TextMiningProject/logreg_gridsearch_TFIDF.joblib'\n",
        "joblib.dump(grid_result, model_path)"
      ]
    },
    {
      "cell_type": "code",
      "execution_count": null,
      "metadata": {
        "id": "TBfucnr3od4p",
        "outputId": "0c9070c9-f194-4486-e4fc-80cb0405479d"
      },
      "outputs": [],
      "source": [
        "# Caricamento del risultato del tuning\n",
        "\n",
        "# path = 'H:/.shortcut-targets-by-id/1veNClNl7CxCTFHVNY2Fp29hcMoEj-the/TextMiningProject/Model_estimated/lrr_gridsearch_TFIDF.joblib'\n",
        "# loaded_grid_search = joblib.load(path)\n",
        "model_path = '/content/gdrive/MyDrive/TextMiningProject/logreg_gridsearch_TFIDF.joblib'\n",
        "loaded_grid_search = joblib.load(model_path)\n",
        "\n",
        "# Summary dei risultati\n",
        "print(\"Best result: %f using %s\" % (loaded_grid_search.best_score_, loaded_grid_search.best_params_))\n",
        "\n",
        "#Salvo il modello con le migliori performance\n",
        "model_lr_TFIDF = loaded_grid_search.best_estimator_"
      ]
    },
    {
      "attachments": {},
      "cell_type": "markdown",
      "metadata": {},
      "source": [
        "##### KNN"
      ]
    },
    {
      "cell_type": "code",
      "execution_count": null,
      "metadata": {},
      "outputs": [],
      "source": [
        "model = KNeighborsClassifier(weights='distance')\n",
        "# Parametri critici da\n",
        "n_neighbors = range(1, 21, 1)\n",
        "\n",
        "# Definisco la griglia di ricerca\n",
        "grid = dict(n_neighbors=n_neighbors)\n",
        "\n",
        "# Start the clock, train the classifier, then stop the clock\n",
        "start = time()\n",
        "random_search = RandomizedSearchCV(estimator=model, param_distributions=grid, n_iter=6 ,cv=2, scoring=\"accuracy\", error_score=0, verbose=3)\n",
        "#grid_search = GridSearchCV(estimator=model, param_grid=grid, n_jobs=-1, cv=2, scoring='accuracy',error_score=0)\n",
        "grid_result = random_search.fit(X_train_TFIDF, y_train)\n",
        "end = time()\n",
        "print (\"Train and tuning model in {:.4f} seconds\".format(end - start))\n",
        "\n",
        "# Salvataggio dei risultati del tuning\n",
        "\n",
        "# path = 'H:/.shortcut-targets-by-id/1veNClNl7CxCTFHVNY2Fp29hcMoEj-the/TextMiningProject/Model_estimated/knn_gridsearch_TFIDF.joblib'\n",
        "# loaded_grid_search = joblib.load(path)\n",
        "model_path = '/content/gdrive/MyDrive/TextMiningProject/knn_gridsearch_TFIDF.joblib'\n",
        "joblib.dump(grid_result, model_path)"
      ]
    },
    {
      "cell_type": "code",
      "execution_count": null,
      "metadata": {},
      "outputs": [],
      "source": [
        "# Caricamento del risultato del tuning\n",
        "\n",
        "# path = 'H:/.shortcut-targets-by-id/1veNClNl7CxCTFHVNY2Fp29hcMoEj-the/TextMiningProject/Model_estimated/knn_gridsearch_TFIDF.joblib'\n",
        "# loaded_grid_search = joblib.load(path)\n",
        "model_path = '/content/gdrive/MyDrive/TextMiningProject/knn_gridsearch_TFIDF.joblib'\n",
        "loaded_grid_search = joblib.load(model_path)\n",
        "\n",
        "# Summary dei risultati\n",
        "print(\"Best result: %f using %s\" % (loaded_grid_search.best_score_, loaded_grid_search.best_params_))\n",
        "\n",
        "# Salvo il modello con le migliori perfomance\n",
        "model_knn_TFIDF = loaded_grid_search.best_estimator_"
      ]
    },
    {
      "attachments": {},
      "cell_type": "markdown",
      "metadata": {},
      "source": [
        "##### Random Forest"
      ]
    },
    {
      "cell_type": "code",
      "execution_count": null,
      "metadata": {
        "id": "_d58Ljk9bdBE",
        "outputId": "8f548533-d696-435a-fbdb-0b4d194d7d10"
      },
      "outputs": [],
      "source": [
        "# Random Forest\n",
        "model = RandomForestClassifier()\n",
        "\n",
        "# Parametri 'critici' da ottimizzare\n",
        "max_depth = [1, 2, 3, 4, 5, 6, 7]\n",
        "n_estimators = [10, 100, 200, 400, 600, 800, 1000]\n",
        "max_features = ['sqrt', 'log2']\n",
        "# Definisco la griglia di ricerca \n",
        "grid = dict(n_estimators=n_estimators,max_features=max_features, max_depth = max_depth)\n",
        "\n",
        "# Start the clock, train the classifier, then stop the clock\n",
        "start = time()\n",
        "\n",
        "random_search = RandomizedSearchCV(estimator=model, param_distributions=grid, n_iter=6 ,cv=2, scoring=\"accuracy\", error_score=0, verbose=3)\n",
        "grid_result = random_search.fit(X_train_TFIDF, y_train)\n",
        "end = time()\n",
        "print (\"Train and tuning model in {:.4f} seconds\".format(end - start))\n",
        "\n",
        "# Salvataggio dei risultati del tuning\n",
        "path = 'H:/.shortcut-targets-by-id/1veNClNl7CxCTFHVNY2Fp29hcMoEj-the/TextMiningProject/Model_estimated/rf_gridsearch_TFIDF.joblib'\n",
        "joblib.dump(grid_result, path)"
      ]
    },
    {
      "cell_type": "code",
      "execution_count": null,
      "metadata": {
        "id": "CTg7m7sWbdBF",
        "outputId": "d2e5d933-0232-4bb0-d111-8b84f96b741f"
      },
      "outputs": [],
      "source": [
        "\n",
        "# Caricamento del risultato del tuning\n",
        "path = 'H:/.shortcut-targets-by-id/1veNClNl7CxCTFHVNY2Fp29hcMoEj-the/TextMiningProject/Model_estimated/rf_gridsearch_TFIDF.joblib'\n",
        "loaded_grid_search = joblib.load(path)\n",
        "\n",
        "# Summary dei risultati\n",
        "print(\"Best result: %f using %s\" % (loaded_grid_search.best_score_, loaded_grid_search.best_params_))\n",
        "\n",
        "# Salvo il modello con le migliori perfomance\n",
        "model_rf_TFIDF = loaded_grid_search.best_estimator_"
      ]
    },
    {
      "attachments": {},
      "cell_type": "markdown",
      "metadata": {},
      "source": [
        "##### XGBoost"
      ]
    },
    {
      "attachments": {},
      "cell_type": "markdown",
      "metadata": {
        "id": "CHtAU1lAbdBG"
      },
      "source": [
        "Viene effettuata una ottimizzazione degli iper-parametri con metodo RandomSearch. \n",
        "\n",
        "Parametri ottimizzati\n",
        "\n",
        "- max_depth = profondità massima dell'albero di decisione utilizzato in una singola iterazione. \n",
        "- eta (a.k.a learning rate) = un valore compreso tra 0 e 1 che controlla la velocità di apprendimento dell'algoritmo.  \n",
        "- colsample_bytree = un valore compreso tra 0 e 1 che rappresenta la frazione di colonne utilizzate in ciascuna iterazione.\n",
        "- sampling_method = specifica il metodo di campionamento utilizzato per selezionare le osservazioni da utilizzare in ciascuna iterazione."
      ]
    },
    {
      "cell_type": "code",
      "execution_count": null,
      "metadata": {},
      "outputs": [],
      "source": [
        "from sklearn.preprocessing import LabelEncoder\n",
        "from xgboost import XGBClassifier\n",
        "from sklearn.model_selection import RandomizedSearchCV\n",
        "\n",
        "le = LabelEncoder()\n",
        "y_train_xg = le.fit_transform(y_train)\n",
        "\n",
        "model = XGBClassifier(sampling_method = 'gradient_based', max_depth = 6, eta = 0.2, n_jobs=-1, tree_method = 'hist', objective='multi:softmax')\n",
        "model_xgboost_TFIDF = model.fit(X_train_TFIDF, y_train_xg)\n",
        "\n",
        "# Salvataggio dei risultati dell'holdout\n",
        "path = 'H:/.shortcut-targets-by-id/1veNClNl7CxCTFHVNY2Fp29hcMoEj-the/TextMiningProject/Model_estimated/xgboost_holdout_TFIDF.joblib'\n",
        "joblib.dump(model_xgboost_TFIDF, path)"
      ]
    },
    {
      "cell_type": "code",
      "execution_count": null,
      "metadata": {},
      "outputs": [],
      "source": [
        "# Caricamento del risultato dell'holdout\n",
        "path = 'H:/.shortcut-targets-by-id/1veNClNl7CxCTFHVNY2Fp29hcMoEj-the/TextMiningProject/Model_estimated/rf_gridsearch_TFIDF.joblib'\n",
        "model_xgboost_TFIDF = joblib.load(path)"
      ]
    },
    {
      "attachments": {},
      "cell_type": "markdown",
      "metadata": {},
      "source": [
        "### Analisi dei risultati"
      ]
    },
    {
      "cell_type": "code",
      "execution_count": null,
      "metadata": {
        "id": "T76s-wjxod4q"
      },
      "outputs": [],
      "source": [
        "models = [model_lr_TFIDF, model_knn_TFIDF, model_xgboost_TFIDF]\n",
        "\n",
        "# Previsioni sul test set\n",
        "results = []\n",
        "for model in models:\n",
        "    if model == models[2]:\n",
        "        y_test_xg = le.fit_transform(y_test)\n",
        "        print(y_test_xg)\n",
        "        y_pred = model.predict(X_test_TFIDF)\n",
        "        acc = accuracy_score(y_test_xg, y_pred)\n",
        "        prec = precision_score(y_test_xg, y_pred, average='macro')\n",
        "        recall = recall_score(y_test_xg, y_pred, average='macro')\n",
        "        f1 = f1_score(y_test_xg, y_pred, average='macro')\n",
        "        results.append([acc, prec, recall, f1])\n",
        "    else:\n",
        "        y_pred = model.predict(X_test_TFIDF)\n",
        "        acc = accuracy_score(y_test, y_pred)\n",
        "        prec = precision_score(y_test, y_pred, average='macro')\n",
        "        recall = recall_score(y_test, y_pred, average='macro')\n",
        "        f1 = f1_score(y_test, y_pred, average='macro')\n",
        "        results.append([acc, prec, recall, f1])\n",
        "\n",
        "# Creo la tabella e visualizzo i risultati\n",
        "df_results = pd.DataFrame(results, columns=['Accuracy', 'Precision', 'Recall', 'F1 Score'])\n",
        "df_results.index = ['LR model', 'KNN model', 'XGBOOST model']\n",
        "print(df_results)"
      ]
    },
    {
      "cell_type": "code",
      "execution_count": null,
      "metadata": {
        "id": "2uIUd5_Qod4q"
      },
      "outputs": [],
      "source": [
        "# # Crea i grafici ROC per ogni modello\n",
        "# for model in models:\n",
        "#     y_pred_proba = model.predict_proba(X_test_BOW)[::,1]\n",
        "#     fpr, tpr, _ = roc_curve(y_test, y_pred_proba)\n",
        "#     auc = roc_auc_score(y_test, y_pred_proba)\n",
        "#     plt.plot(fpr,tpr,label=\"AUC=\"+str(auc))\n",
        "#     plt.legend(loc = 'lower right')"
      ]
    },
    {
      "cell_type": "code",
      "execution_count": null,
      "metadata": {
        "id": "Bq8r-Bxfod4q"
      },
      "outputs": [],
      "source": [
        "# # Creo le matrici di confusione per ogni modello\n",
        "# for model in models:\n",
        "#     cm = confusion_matrix(y_test, y_pred)\n",
        "#     plt.figure()\n",
        "#     plt.imshow(cm, interpolation='nearest', cmap=plt.cm.Blues)\n",
        "#     plt.title(\"Confusion Matrix - \" + str(model))\n",
        "#     plt.colorbar()\n",
        "#     tick_marks = np.arange(3)\n",
        "#     plt.xticks(tick_marks, [\"Class 1\", \"Class 2\", \"Class 3\", \"Class 4\", \"Class 5\"])\n",
        "#     plt.yticks(tick_marks, [\"Class 1\", \"Class 2\", \"Class 3\", \"Class 4\", \"Class 5\"])\n",
        "#     thresh = cm.max() / 2.\n",
        "#     for i, j in itertools.product(range(cm.shape[0]), range(cm.shape[1])):\n",
        "#         plt.text(j, i, format(cm[i, j]),\n",
        "#                  horizontalalignment=\"center\",\n",
        "#                  color=\"white\" if cm[i, j] > thresh else \"black\")\n",
        "#     plt.tight_layout()\n",
        "#     plt.ylabel('True label')\n",
        "#     plt.xlabel('Predicted label')\n",
        "#     plt.show()"
      ]
    },
    {
      "cell_type": "markdown",
      "metadata": {
        "id": "pfHMP-oXbdBK"
      },
      "source": [
        "### W2V Representation"
      ]
    },
    {
      "cell_type": "code",
      "execution_count": null,
      "metadata": {
        "id": "NHY37aO7bdBK"
      },
      "outputs": [],
      "source": [
        "# Creo il modello W2V sul training\n",
        "w2v_model = gensim.models.Word2Vec(X_train, vector_size=300, window=8, min_count=2)"
      ]
    },
    {
      "attachments": {},
      "cell_type": "markdown",
      "metadata": {},
      "source": [
        "Ho a disposizione il modello W2V, che ha convertito ogni parola presente nel training (nello specifico, deve essere presente almeno\n",
        "due volte --> min_count=2) in un vettore a 100 componenti. Per generare un vettore rappresentativo di ciascuna review andrò a creare un\n",
        "vettore costituito dalla media (componente per componente) dei vettori delle parole appartenenti alla review. (https://medium.com/@dilip.voleti/classification-using-word2vec-b1d79d375381)"
      ]
    },
    {
      "cell_type": "code",
      "execution_count": null,
      "metadata": {},
      "outputs": [],
      "source": [
        "words = set(w2v_model.wv.index_to_key) # Lista di parole presenti nel modello W2V\n",
        "\n",
        "# # Creo due liste, una per il training e una per il test. Ciascuna lista contiene come elementi delle altre liste. \n",
        "# # Ciascun elemento (ciascuna lista) contiene i vettori relativi alle parole di una specifica review (una lista per review contenente i vettori delle singole parole)\n",
        "\n",
        "# X_train_vect = np.array([np.array([w2v_model.wv[i] for i in ls if i in words])\n",
        "#                          for ls in X_train])\n",
        "# X_test_vect = np.array([np.array([w2v_model.wv[i] for i in ls if i in words])\n",
        "#                          for ls in X_test])"
      ]
    },
    {
      "cell_type": "code",
      "execution_count": null,
      "metadata": {},
      "outputs": [],
      "source": [
        "# Carico X_train_vect e X_test_vect\n",
        "X_train_vect = np.load(\"H:/.shortcut-targets-by-id/1veNClNl7CxCTFHVNY2Fp29hcMoEj-the/TextMiningProject/X_train_vect.npy\", allow_pickle=True)\n",
        "X_test_vect = np.load(\"H:/.shortcut-targets-by-id/1veNClNl7CxCTFHVNY2Fp29hcMoEj-the/TextMiningProject/X_test_vect.npy\", allow_pickle=True)"
      ]
    },
    {
      "attachments": {},
      "cell_type": "markdown",
      "metadata": {},
      "source": [
        "Per spiegare meglio quanto fatto sopra uso questo esempio:"
      ]
    },
    {
      "cell_type": "code",
      "execution_count": null,
      "metadata": {
        "id": "tolUovoSbdBK",
        "outputId": "35537d6f-9cc6-4e9b-b05d-fb15cca7b5f0"
      },
      "outputs": [],
      "source": [
        "# La prima review del training è la seguente\n",
        "X_train.head(1)"
      ]
    },
    {
      "cell_type": "code",
      "execution_count": null,
      "metadata": {
        "id": "IWpB32XmbdBL",
        "outputId": "21fe5258-a07e-400c-f844-893cb30109ac"
      },
      "outputs": [],
      "source": [
        "# Le prime due parole sono 'love' e 'walker'. Stampo i vettori di queste due parole\n",
        "w2v_model.wv.get_vector('love')"
      ]
    },
    {
      "cell_type": "code",
      "execution_count": null,
      "metadata": {
        "id": "BJtXrv72bdBL",
        "outputId": "c28ac932-3056-4307-9c61-a558d6effcad"
      },
      "outputs": [],
      "source": [
        "w2v_model.wv.get_vector('walker')"
      ]
    },
    {
      "attachments": {},
      "cell_type": "markdown",
      "metadata": {},
      "source": [
        "Per vedere che sono identici, stampo i primi due elementi della prima lista in X_train_vec. Questi due elementi corrispondono ai vettori delle prime due parole della review selezionata, ossia 'love' e 'walker'"
      ]
    },
    {
      "cell_type": "code",
      "execution_count": null,
      "metadata": {
        "id": "T6Et1uVybdBL",
        "outputId": "9b822d82-1af0-4fd1-bd3c-ac2261f37115"
      },
      "outputs": [],
      "source": [
        "X_train_vect[0][0]"
      ]
    },
    {
      "cell_type": "code",
      "execution_count": null,
      "metadata": {
        "id": "E23_cezqbdBL",
        "outputId": "9995459c-27f9-466d-c175-95159d5dc604"
      },
      "outputs": [],
      "source": [
        "X_train_vect[0][1]"
      ]
    },
    {
      "cell_type": "markdown",
      "metadata": {
        "id": "3sNfSiIFbdBL"
      },
      "source": [
        "Andremo a fare un loop su queste liste. Ogni frase avrà un diverso numero di parole e di conseguenza un numero differente di array da mediare"
      ]
    },
    {
      "cell_type": "code",
      "execution_count": null,
      "metadata": {
        "id": "sbCIseUjbdBL"
      },
      "outputs": [],
      "source": [
        "X_train_vect_avg = []\n",
        "for v in X_train_vect:\n",
        "    if v.size:\n",
        "        X_train_vect_avg.append(v.mean(axis=0))\n",
        "    else:\n",
        "        X_train_vect_avg.append(np.zeros(300, dtype=float))\n",
        "        \n",
        "X_test_vect_avg = []\n",
        "for v in X_test_vect:\n",
        "    if v.size:\n",
        "        X_test_vect_avg.append(v.mean(axis=0))\n",
        "    else:\n",
        "        X_test_vect_avg.append(np.zeros(300, dtype=float))"
      ]
    },
    {
      "cell_type": "code",
      "execution_count": null,
      "metadata": {
        "id": "-1dcfLhBbdBM",
        "outputId": "7d98e4bd-d2af-478c-ced9-de433b324283"
      },
      "outputs": [],
      "source": [
        "for i, v in enumerate(X_train_vect_avg):\n",
        "    print(len(X_train.iloc[i]), len(v))"
      ]
    },
    {
      "attachments": {},
      "cell_type": "markdown",
      "metadata": {
        "id": "4Dkpe8LbbdBM"
      },
      "source": [
        "Come si vede dal for eseguito qui sopra, ogni frase, indipendentemente dal numero di parole che la compongono, corrisponde a un vettore con 300 componenti, creato nello specifico mediando i vettori delle singole parole componente per componente."
      ]
    },
    {
      "attachments": {},
      "cell_type": "markdown",
      "metadata": {},
      "source": [
        "**X_train_vect_avg e X_test_vect_avg sono i vettori di feature da utilizzare, rispettivamente, per il training del modello e per le previsioni sul test set**"
      ]
    },
    {
      "attachments": {},
      "cell_type": "markdown",
      "metadata": {},
      "source": [
        "#### Implementazione algoritmi\n",
        "\n",
        "- Regressione Logistica\n",
        "- Random Forest\n",
        "- SVM\n",
        "- XGBoost"
      ]
    },
    {
      "attachments": {},
      "cell_type": "markdown",
      "metadata": {},
      "source": [
        "##### Regressione Logistica"
      ]
    },
    {
      "cell_type": "code",
      "execution_count": null,
      "metadata": {
        "id": "Bc_7nKJtor5f"
      },
      "outputs": [],
      "source": [
        "# Regressione logistica con ottimizzazione degli iperparametri\n",
        "model = LogisticRegression(random_state=1)\n",
        "\n",
        "# Iperparametri \"critici\" da ottimizzare \n",
        "solvers = ['lbfgs', 'sag', 'saga']\n",
        "penalty = ['None', 'l2']\n",
        "c_values = [500, 200, 100, 50, 10]\n",
        "\n",
        "# Definisco la griglia di ricerca\n",
        "grid = dict(penalty=penalty,C=c_values, solver = solvers)\n",
        "\n",
        "# Start the clock, train the classifier, then stop the clock\n",
        "start = time()\n",
        "\n",
        "# CV and Tuning\n",
        "random_search = RandomizedSearchCV(estimator=model, param_distributions=grid, n_iter=6 ,cv=2, scoring=\"accuracy\", error_score=0, verbose=3)\n",
        "grid_result = random_search.fit(X_train_vect_avg, y_train)\n",
        "end = time()\n",
        "print (\"Train and tuning model in {:.4f} seconds\".format(end - start))\n",
        "\n",
        "# Salvataggio dei risultati del tuning\n",
        "path = 'H:/.shortcut-targets-by-id/1veNClNl7CxCTFHVNY2Fp29hcMoEj-the/TextMiningProject/Model_estimated/lrr_gridsearch_W2V.joblib'\n",
        "joblib.dump(grid_result, path)\n",
        "\n",
        "# model_path = '/content/gdrive/MyDrive/TextMiningProject/logreg_gridsearch_W2V.joblib'\n",
        "# joblib.dump(grid_result, model_path)"
      ]
    },
    {
      "cell_type": "code",
      "execution_count": null,
      "metadata": {
        "id": "TBfucnr3od4p",
        "outputId": "0c9070c9-f194-4486-e4fc-80cb0405479d"
      },
      "outputs": [],
      "source": [
        "# Caricamento del risultato del tuning\n",
        "\n",
        "path = 'H:/.shortcut-targets-by-id/1veNClNl7CxCTFHVNY2Fp29hcMoEj-the/TextMiningProject/Model_estimated/lrr_gridsearch_W2V.joblib'\n",
        "loaded_grid_search = joblib.load(path)\n",
        "# model_path = '/content/gdrive/MyDrive/TextMiningProject/logreg_gridsearch_W2V.joblib'\n",
        "# loaded_grid_search = joblib.load(model_path)\n",
        "\n",
        "# Summary dei risultati\n",
        "print(\"Best result: %f using %s\" % (loaded_grid_search.best_score_, loaded_grid_search.best_params_))\n",
        "\n",
        "#Salvo il modello con le migliori performance\n",
        "model_lr_W2V = loaded_grid_search.best_estimator_"
      ]
    },
    {
      "attachments": {},
      "cell_type": "markdown",
      "metadata": {},
      "source": [
        "##### Random Forest"
      ]
    },
    {
      "cell_type": "code",
      "execution_count": null,
      "metadata": {
        "id": "a65EYpzJod4p",
        "outputId": "8f548533-d696-435a-fbdb-0b4d194d7d10"
      },
      "outputs": [],
      "source": [
        "# # Random Forest\n",
        "# model = RandomForestClassifier()\n",
        "\n",
        "# # Parametri 'critici' da ottimizzare\n",
        "# n_estimators = [10, 100, 1000]\n",
        "# max_features = ['sqrt', 'log2']\n",
        "# #Definisco la griglia di ricerca \n",
        "# grid = dict(n_estimators=n_estimators,max_features=max_features)\n",
        "\n",
        "# # Start the clock, train the classifier, then stop the clock\n",
        "# start = time()\n",
        "\n",
        "# grid_search = GridSearchCV(estimator=model, param_grid=grid, n_jobs=-1, cv=2, scoring='accuracy', error_score=0)\n",
        "# grid_result = grid_search.fit(X_train_vect_avg, y_train)\n",
        "# end = time()\n",
        "# print (\"Train and tuning model in {:.4f} seconds\".format(end - start))\n",
        "\n",
        "# # Salvataggio dei risultati del tuning\n",
        "# joblib.dump(grid_result, 'rf_gridsearch_TFIDF.joblib')\n",
        "\n",
        "# model_path = '/content/gdrive/MyDrive/TextMiningProject/rf_gridsearch_w2v.joblib'\n",
        "# joblib.dump(grid_result, model_path)"
      ]
    },
    {
      "cell_type": "code",
      "execution_count": null,
      "metadata": {
        "id": "0Ozrj-lCod4p",
        "outputId": "d2e5d933-0232-4bb0-d111-8b84f96b741f"
      },
      "outputs": [],
      "source": [
        "\n",
        "# # Caricamento del risultato del tuning\n",
        "# loaded_grid_search = joblib.load('rf_gridsearch_w2vjoblib')\n",
        "\n",
        "# # Summary dei risultati\n",
        "# print(\"Best result: %f using %s\" % (loaded_grid_search.best_score_, loaded_grid_search.best_params_))\n",
        "\n",
        "# # Salvo il modello con le migliori perfomance\n",
        "# model_rf_w2v = loaded_grid_search.best_estimator_"
      ]
    },
    {
      "attachments": {},
      "cell_type": "markdown",
      "metadata": {},
      "source": [
        "##### KNN"
      ]
    },
    {
      "cell_type": "code",
      "execution_count": null,
      "metadata": {},
      "outputs": [],
      "source": [
        "model = KNeighborsClassifier(weights='distance')\n",
        "# Parametri critici da\n",
        "n_neighbors = range(1, 21, 1)\n",
        "\n",
        "# Definisco la griglia di ricerca\n",
        "grid = dict(n_neighbors=n_neighbors)\n",
        "\n",
        "# Start the clock, train the classifier, then stop the clock\n",
        "start = time()\n",
        "random_search = RandomizedSearchCV(estimator=model, param_distributions=grid, n_iter=6 ,cv=2, scoring=\"accuracy\", error_score=0, verbose=3)\n",
        "#grid_search = GridSearchCV(estimator=model, param_grid=grid, n_jobs=-1, cv=2, scoring='accuracy',error_score=0)\n",
        "grid_result = random_search.fit(X_train_vect_avg, y_train)\n",
        "end = time()\n",
        "print (\"Train and tuning model in {:.4f} seconds\".format(end - start))\n",
        "\n",
        "# Salvataggio dei risultati del tuning\n",
        "\n",
        "path = 'H:/.shortcut-targets-by-id/1veNClNl7CxCTFHVNY2Fp29hcMoEj-the/TextMiningProject/Model_estimated/knn_gridsearch_W2V.joblib'\n",
        "joblib.dump(grid_result, path)\n",
        "# model_path = '/content/gdrive/MyDrive/TextMiningProject/knn_gridsearch_W2V.joblib'\n",
        "# joblib.dump(grid_result, model_path)"
      ]
    },
    {
      "cell_type": "code",
      "execution_count": null,
      "metadata": {},
      "outputs": [],
      "source": [
        "# Caricamento del risultato del tuning\n",
        "\n",
        "path = 'H:/.shortcut-targets-by-id/1veNClNl7CxCTFHVNY2Fp29hcMoEj-the/TextMiningProject/Model_estimated/knn_gridsearch_W2V.joblib'\n",
        "loaded_grid_search = joblib.load(path)\n",
        "# model_path = '/content/gdrive/MyDrive/TextMiningProject/knn_gridsearch_W2V.joblib'\n",
        "# loaded_grid_search = joblib.load(model_path)\n",
        "\n",
        "# Summary dei risultati\n",
        "print(\"Best result: %f using %s\" % (loaded_grid_search.best_score_, loaded_grid_search.best_params_))\n",
        "\n",
        "# Salvo il modello con le migliori perfomance\n",
        "model_knn_W2V = loaded_grid_search.best_estimator_"
      ]
    },
    {
      "attachments": {},
      "cell_type": "markdown",
      "metadata": {},
      "source": [
        "##### XGBoost"
      ]
    },
    {
      "attachments": {},
      "cell_type": "markdown",
      "metadata": {},
      "source": [
        "Parametri fissati: \n",
        "- subsample = 0.5 (valore basso per contenere overfitting)\n",
        "- max_depth = 5 (valore intermedio, non troppo basso per permettere al modello di comprendere pattern complessi, non troppo alto per evitare overfitting)\n",
        "\n",
        "Parametri da ottimizzare: \n",
        "- n_estimators [10, 100, 1000]\n",
        "- learning_rate in [0.01, 0.1, 0.5]\n",
        "\n",
        "L'ottimo sarebbe ottimizzare tutti e quattro questi parametri, ma la potenza computazionale disponibile non è sufficiente "
      ]
    },
    {
      "cell_type": "code",
      "execution_count": null,
      "metadata": {},
      "outputs": [],
      "source": [
        "from sklearn.preprocessing import LabelEncoder\n",
        "from xgboost import XGBClassifier\n",
        "from sklearn.model_selection import RandomizedSearchCV\n",
        "\n",
        "le = LabelEncoder()\n",
        "y_train_xg = le.fit_transform(y_train)\n",
        "\n",
        "model = XGBClassifier(sampling_method = 'gradient_based', max_depth = 6, eta = 0.2, n_jobs=-1, tree_method = 'hist', objective='multi:softmax')\n",
        "model_xgboost_W2V = model.fit(X_train_vect_avg, y_train_xg)"
      ]
    },
    {
      "cell_type": "code",
      "execution_count": null,
      "metadata": {},
      "outputs": [],
      "source": [
        "# Salvataggio dei risultati dell'holdout\n",
        "path = 'H:/.shortcut-targets-by-id/1veNClNl7CxCTFHVNY2Fp29hcMoEj-the/TextMiningProject/Model_estimated/xgboost_holdout_W2V.joblib'\n",
        "joblib.dump(model_xgboost_W2V, path)"
      ]
    },
    {
      "cell_type": "code",
      "execution_count": null,
      "metadata": {},
      "outputs": [],
      "source": [
        "from sklearn.preprocessing import LabelEncoder\n",
        "from xgboost import XGBClassifier\n",
        "from sklearn.model_selection import RandomizedSearchCV\n",
        "\n",
        "le = LabelEncoder()\n",
        "y_train_xg = le.fit_transform(y_train)\n",
        "\n",
        "# XG-Boost con ottimizzazione degli iperparametri\n",
        "model = XGBClassifier(tree_method = 'gpu_hist', predictor = 'gpu_predictor', sampling_method = 'gradient_based')\n",
        "\n",
        "# Parametri critici da ottimizzare\n",
        "max_depth = [1, 2, 3, 4, 5, 6, 7, 8, 9]\n",
        "eta  = [0.2, 0.4, 0.6, 0.8]\n",
        "colsample_bytree = [0.1, 0.3, 0.5, 0.7]\n",
        "# sampling_method = ['uniform', 'gradient_based']\n",
        "\n",
        "#Definisco la griglia di ricerca\n",
        "grid = dict(max_depth=max_depth, eta =eta, colsample_bytree = colsample_bytree)\n",
        "\n",
        "# Start the clock, train the classifier, then stop the clock\n",
        "start = time()\n",
        "random_search = RandomizedSearchCV(estimator=model, param_distributions=grid, n_iter= 6, cv=2, scoring='accuracy', error_score=0, n_jobs=-1, random_state=0, verbose=3)\n",
        "grid_result = random_search.fit(X_train_vect_avg, y_train_xg)\n",
        "end = time()\n",
        "print (\"Train and tuning model in {:.4f} seconds\".format(end - start))\n",
        "\n",
        "# Salvataggio dei risultati del tuning\n",
        "path = 'H:/.shortcut-targets-by-id/1veNClNl7CxCTFHVNY2Fp29hcMoEj-the/TextMiningProject/Model_estimated/xgboost_gridsearch_W2V.joblib'\n",
        "joblib.dump(grid_result, path)\n",
        "\n",
        "# Salvataggio dei risultati del tuning Google-Colab\n",
        "# model_path = '/content/gdrive/MyDrive/TextMiningProject/xgboost_gridsearch_W2V.joblib'\n",
        "# joblib.dump(grid_result, model_path)"
      ]
    },
    {
      "cell_type": "code",
      "execution_count": null,
      "metadata": {
        "id": "ykWDw0z6bdBG"
      },
      "outputs": [],
      "source": [
        "# Caricamento del risultato del tuning\n",
        "path = 'H:/.shortcut-targets-by-id/1veNClNl7CxCTFHVNY2Fp29hcMoEj-the/TextMiningProject/Model_estimated/xgboost_holdout_W2V.joblib'\n",
        "model_xgboost_W2V = joblib.load(path)\n",
        "\n",
        "# model_path = '/content/gdrive/MyDrive/TextMiningProject/xgboost_holdout_W2V.joblib'\n",
        "# model_xgboost_W2V = joblib.load(model_path)"
      ]
    },
    {
      "attachments": {},
      "cell_type": "markdown",
      "metadata": {},
      "source": [
        "### Analisi dei risultati"
      ]
    },
    {
      "cell_type": "code",
      "execution_count": null,
      "metadata": {
        "id": "T76s-wjxod4q"
      },
      "outputs": [],
      "source": [
        "models = [model_lr_W2V, model_knn_W2V, model_xgboost_W2V]\n",
        "\n",
        "# Previsioni sul test set\n",
        "results = []\n",
        "for model in models:\n",
        "    if model == models[2]:\n",
        "        y_test_xg = le.fit_transform(y_test)\n",
        "        print(y_test_xg)\n",
        "        y_pred = model.predict(X_test_vect_avg)\n",
        "        acc = accuracy_score(y_test_xg, y_pred)\n",
        "        prec = precision_score(y_test_xg, y_pred, average='macro')\n",
        "        recall = recall_score(y_test_xg, y_pred, average='macro')\n",
        "        f1 = f1_score(y_test_xg, y_pred, average='macro')\n",
        "        results.append([acc, prec, recall, f1])\n",
        "    else:\n",
        "        y_pred = model.predict(X_test_vect_avg)\n",
        "        acc = accuracy_score(y_test, y_pred)\n",
        "        prec = precision_score(y_test, y_pred, average='macro')\n",
        "        recall = recall_score(y_test, y_pred, average='macro')\n",
        "        f1 = f1_score(y_test, y_pred, average='macro')\n",
        "        results.append([acc, prec, recall, f1])\n",
        "\n",
        "# Creo la tabella e visualizzo i risultati\n",
        "df_results = pd.DataFrame(results, columns=['Accuracy', 'Precision', 'Recall', 'F1 Score'])\n",
        "df_results.index = ['LR model', 'KNN model', 'XGBOOST model']\n",
        "print(df_results)"
      ]
    },
    {
      "cell_type": "code",
      "execution_count": null,
      "metadata": {
        "id": "2uIUd5_Qod4q"
      },
      "outputs": [],
      "source": [
        "# # Crea i grafici ROC per ogni modello\n",
        "# for model in models:\n",
        "#     y_pred_proba = model.predict_proba(X_test_BOW)[::,1]\n",
        "#     fpr, tpr, _ = roc_curve(y_test, y_pred_proba)\n",
        "#     auc = roc_auc_score(y_test, y_pred_proba)\n",
        "#     plt.plot(fpr,tpr,label=\"AUC=\"+str(auc))\n",
        "#     plt.legend(loc = 'lower right')"
      ]
    },
    {
      "cell_type": "code",
      "execution_count": null,
      "metadata": {
        "id": "Bq8r-Bxfod4q"
      },
      "outputs": [],
      "source": [
        "# # Creo le matrici di confusione per ogni modello\n",
        "# for model in models:\n",
        "#     cm = confusion_matrix(y_test, y_pred)\n",
        "#     plt.figure()\n",
        "#     plt.imshow(cm, interpolation='nearest', cmap=plt.cm.Blues)\n",
        "#     plt.title(\"Confusion Matrix - \" + str(model))\n",
        "#     plt.colorbar()\n",
        "#     tick_marks = np.arange(3)\n",
        "#     plt.xticks(tick_marks, [\"Class 1\", \"Class 2\", \"Class 3\", \"Class 4\", \"Class 5\"])\n",
        "#     plt.yticks(tick_marks, [\"Class 1\", \"Class 2\", \"Class 3\", \"Class 4\", \"Class 5\"])\n",
        "#     thresh = cm.max() / 2.\n",
        "#     for i, j in itertools.product(range(cm.shape[0]), range(cm.shape[1])):\n",
        "#         plt.text(j, i, format(cm[i, j]),\n",
        "#                  horizontalalignment=\"center\",\n",
        "#                  color=\"white\" if cm[i, j] > thresh else \"black\")\n",
        "#     plt.tight_layout()\n",
        "#     plt.ylabel('True label')\n",
        "#     plt.xlabel('Predicted label')\n",
        "#     plt.show()"
      ]
    },
    {
      "attachments": {},
      "cell_type": "markdown",
      "metadata": {
        "id": "ttPs76bybdBM"
      },
      "source": [
        "# Binary Classification "
      ]
    },
    {
      "cell_type": "code",
      "execution_count": 10,
      "metadata": {
        "id": "HzY6n3G1bdBN"
      },
      "outputs": [],
      "source": [
        "# Tengo solo gli score diversi da 3\n",
        "df_binary = classification_df[classification_df['Score']!=3]"
      ]
    },
    {
      "cell_type": "code",
      "execution_count": 11,
      "metadata": {
        "id": "kCs59w6nbdBN",
        "outputId": "cfc88456-08cd-47cc-c28e-61c6a1981751"
      },
      "outputs": [
        {
          "data": {
            "text/html": [
              "<div>\n",
              "<style scoped>\n",
              "    .dataframe tbody tr th:only-of-type {\n",
              "        vertical-align: middle;\n",
              "    }\n",
              "\n",
              "    .dataframe tbody tr th {\n",
              "        vertical-align: top;\n",
              "    }\n",
              "\n",
              "    .dataframe thead th {\n",
              "        text-align: right;\n",
              "    }\n",
              "</style>\n",
              "<table border=\"1\" class=\"dataframe\">\n",
              "  <thead>\n",
              "    <tr style=\"text-align: right;\">\n",
              "      <th></th>\n",
              "      <th>Score</th>\n",
              "      <th>Lemmatized Text</th>\n",
              "    </tr>\n",
              "  </thead>\n",
              "  <tbody>\n",
              "    <tr>\n",
              "      <th>0</th>\n",
              "      <td>1</td>\n",
              "      <td>[bought, several, vitality, canned, dog, food,...</td>\n",
              "    </tr>\n",
              "    <tr>\n",
              "      <th>1</th>\n",
              "      <td>0</td>\n",
              "      <td>[product, arrived, labelled, lumbo, halted, pe...</td>\n",
              "    </tr>\n",
              "    <tr>\n",
              "      <th>2</th>\n",
              "      <td>1</td>\n",
              "      <td>[connection, around, century, light, pillow, c...</td>\n",
              "    </tr>\n",
              "    <tr>\n",
              "      <th>3</th>\n",
              "      <td>0</td>\n",
              "      <td>[looking, secret, ingredient, robitussin, beli...</td>\n",
              "    </tr>\n",
              "    <tr>\n",
              "      <th>4</th>\n",
              "      <td>1</td>\n",
              "      <td>[great, staff, great, price, wide, assortment,...</td>\n",
              "    </tr>\n",
              "  </tbody>\n",
              "</table>\n",
              "</div>"
            ],
            "text/plain": [
              "   Score                                    Lemmatized Text\n",
              "0      1  [bought, several, vitality, canned, dog, food,...\n",
              "1      0  [product, arrived, labelled, lumbo, halted, pe...\n",
              "2      1  [connection, around, century, light, pillow, c...\n",
              "3      0  [looking, secret, ingredient, robitussin, beli...\n",
              "4      1  [great, staff, great, price, wide, assortment,..."
            ]
          },
          "execution_count": 11,
          "metadata": {},
          "output_type": "execute_result"
        }
      ],
      "source": [
        "# Creo variabile binaria\n",
        "df_binary.loc[df_binary.Score < 3, \"Score\"] = 0\n",
        "df_binary.loc[df_binary.Score > 3, \"Score\"] = 1\n",
        "df_binary.head()"
      ]
    },
    {
      "cell_type": "code",
      "execution_count": 11,
      "metadata": {
        "id": "ct3JDf1ubdBN",
        "outputId": "32d0faa7-2f42-4952-c66b-89dcec87c5ed"
      },
      "outputs": [
        {
          "data": {
            "text/plain": [
              "Text(0, 0.5, 'Number of reviews')"
            ]
          },
          "execution_count": 11,
          "metadata": {},
          "output_type": "execute_result"
        },
        {
          "data": {
            "image/png": "[encoded data removed]",
            "text/plain": [
              "<Figure size 640x480 with 1 Axes>"
            ]
          },
          "metadata": {},
          "output_type": "display_data"
        }
      ],
      "source": [
        "sns.histplot(df_binary['Score'], discrete=True)\n",
        "plt.title(\"Score distribution\", fontweight='bold')\n",
        "plt.xlabel(\"Score\")\n",
        "plt.ylabel(\"Number of reviews\")"
      ]
    },
    {
      "cell_type": "code",
      "execution_count": 12,
      "metadata": {
        "id": "lhoAg9R-bdBN",
        "outputId": "4649b2c1-135c-400d-d00b-eaeb95371ecb"
      },
      "outputs": [
        {
          "data": {
            "text/plain": [
              "57108"
            ]
          },
          "execution_count": 12,
          "metadata": {},
          "output_type": "execute_result"
        }
      ],
      "source": [
        "sample_size_binary = df_binary.groupby('Score').count().min()[0]\n",
        "sample_size_binary"
      ]
    },
    {
      "cell_type": "code",
      "execution_count": 13,
      "metadata": {
        "id": "ZwJZHLe1bdBN",
        "outputId": "43e9754f-5e49-4041-f03b-f073582a77de"
      },
      "outputs": [
        {
          "data": {
            "text/html": [
              "<div>\n",
              "<style scoped>\n",
              "    .dataframe tbody tr th:only-of-type {\n",
              "        vertical-align: middle;\n",
              "    }\n",
              "\n",
              "    .dataframe tbody tr th {\n",
              "        vertical-align: top;\n",
              "    }\n",
              "\n",
              "    .dataframe thead th {\n",
              "        text-align: right;\n",
              "    }\n",
              "</style>\n",
              "<table border=\"1\" class=\"dataframe\">\n",
              "  <thead>\n",
              "    <tr style=\"text-align: right;\">\n",
              "      <th></th>\n",
              "      <th>Score</th>\n",
              "      <th>Lemmatized Text</th>\n",
              "    </tr>\n",
              "  </thead>\n",
              "  <tbody>\n",
              "    <tr>\n",
              "      <th>275547</th>\n",
              "      <td>0</td>\n",
              "      <td>[ordered, gift, give, christmas, disappointed,...</td>\n",
              "    </tr>\n",
              "    <tr>\n",
              "      <th>189730</th>\n",
              "      <td>0</td>\n",
              "      <td>[thought, great, idea, receiving, freight, came]</td>\n",
              "    </tr>\n",
              "    <tr>\n",
              "      <th>102720</th>\n",
              "      <td>0</td>\n",
              "      <td>[well, frustration, really, love, product, mak...</td>\n",
              "    </tr>\n",
              "    <tr>\n",
              "      <th>327715</th>\n",
              "      <td>0</td>\n",
              "      <td>[ive, making, month, much, success, new, thisi...</td>\n",
              "    </tr>\n",
              "    <tr>\n",
              "      <th>200276</th>\n",
              "      <td>0</td>\n",
              "      <td>[horrible, taste, like, ranch, little, hint, j...</td>\n",
              "    </tr>\n",
              "    <tr>\n",
              "      <th>...</th>\n",
              "      <td>...</td>\n",
              "      <td>...</td>\n",
              "    </tr>\n",
              "    <tr>\n",
              "      <th>88015</th>\n",
              "      <td>1</td>\n",
              "      <td>[great, biscuit, smell, good, enough, eat, org...</td>\n",
              "    </tr>\n",
              "    <tr>\n",
              "      <th>156994</th>\n",
              "      <td>1</td>\n",
              "      <td>[excellent, choice, want, sweet, treat, low, s...</td>\n",
              "    </tr>\n",
              "    <tr>\n",
              "      <th>78090</th>\n",
              "      <td>1</td>\n",
              "      <td>[almond, wonderful, fresh, crisp, perfect, add...</td>\n",
              "    </tr>\n",
              "    <tr>\n",
              "      <th>389751</th>\n",
              "      <td>1</td>\n",
              "      <td>[tried, band, like, similar, entail, eventuall...</td>\n",
              "    </tr>\n",
              "    <tr>\n",
              "      <th>327835</th>\n",
              "      <td>1</td>\n",
              "      <td>[love, flavor, crystal, like, clue, earth, dis...</td>\n",
              "    </tr>\n",
              "  </tbody>\n",
              "</table>\n",
              "<p>114216 rows × 2 columns</p>\n",
              "</div>"
            ],
            "text/plain": [
              "        Score                                    Lemmatized Text\n",
              "275547      0  [ordered, gift, give, christmas, disappointed,...\n",
              "189730      0   [thought, great, idea, receiving, freight, came]\n",
              "102720      0  [well, frustration, really, love, product, mak...\n",
              "327715      0  [ive, making, month, much, success, new, thisi...\n",
              "200276      0  [horrible, taste, like, ranch, little, hint, j...\n",
              "...       ...                                                ...\n",
              "88015       1  [great, biscuit, smell, good, enough, eat, org...\n",
              "156994      1  [excellent, choice, want, sweet, treat, low, s...\n",
              "78090       1  [almond, wonderful, fresh, crisp, perfect, add...\n",
              "389751      1  [tried, band, like, similar, entail, eventuall...\n",
              "327835      1  [love, flavor, crystal, like, clue, earth, dis...\n",
              "\n",
              "[114216 rows x 2 columns]"
            ]
          },
          "execution_count": 13,
          "metadata": {},
          "output_type": "execute_result"
        }
      ],
      "source": [
        "binary_downsampled = df_binary.groupby('Score', group_keys=False).apply(lambda x: x.sample(sample_size_binary))\n",
        "binary_downsampled"
      ]
    },
    {
      "cell_type": "code",
      "execution_count": 14,
      "metadata": {
        "id": "wby7To08bdBN"
      },
      "outputs": [],
      "source": [
        "X_train_bin, X_test_bin, y_train_bin, y_test_bin = train_test_split(binary_downsampled[\"Lemmatized Text\"], \n",
        "                                                    binary_downsampled[\"Score\"], \n",
        "                                                    test_size=0.3, \n",
        "                                                    random_state=1, \n",
        "                                                    stratify=binary_downsampled['Score'])"
      ]
    },
    {
      "attachments": {},
      "cell_type": "markdown",
      "metadata": {
        "id": "L84UBa5KbdBN"
      },
      "source": [
        "## BOW"
      ]
    },
    {
      "cell_type": "code",
      "execution_count": 15,
      "metadata": {
        "id": "I18Drqh5bdBN"
      },
      "outputs": [],
      "source": [
        "cv_bin = CountVectorizer(min_df=0., max_df=1.0)\n",
        "cv_model_bin = cv_bin.fit(X_train_bin.astype(str)) \n",
        "X_train_BOW_bin = cv_model_bin.transform(X_train_bin.astype(str))"
      ]
    },
    {
      "cell_type": "code",
      "execution_count": 31,
      "metadata": {},
      "outputs": [
        {
          "data": {
            "text/plain": [
              "(79951, 80905)"
            ]
          },
          "execution_count": 31,
          "metadata": {},
          "output_type": "execute_result"
        }
      ],
      "source": [
        "X_train_BOW_bin.shape"
      ]
    },
    {
      "cell_type": "code",
      "execution_count": null,
      "metadata": {
        "id": "Un663iMmbdBC"
      },
      "outputs": [],
      "source": [
        "# # Eseguo la SVD\n",
        "# n_components = 3000\n",
        "# tSVD_BOW_bin = TruncatedSVD(n_components = n_components)\n",
        "# SVD_BOW_bin = tSVD_BOW_bin.fit(X_train_BOW_bin)\n",
        "\n",
        "# # Calcolo varianza cumulata delle componenti\n",
        "# cum_var = np.cumsum(SVD_BOW_bin.explained_variance_ratio_)\n",
        "\n",
        "# # Salvo SVD su disco\n",
        "# joblib.dump(SVD_BOW_bin, \"H:/.shortcut-targets-by-id/1veNClNl7CxCTFHVNY2Fp29hcMoEj-the/TextMiningProject/SVD_BOW_3000_bin.joblib\")"
      ]
    },
    {
      "cell_type": "code",
      "execution_count": 16,
      "metadata": {
        "id": "nQrFIjLLbdBD"
      },
      "outputs": [],
      "source": [
        "# carico SVD\n",
        "SVD_BOW_3000_bin = joblib.load(\"H:/.shortcut-targets-by-id/1veNClNl7CxCTFHVNY2Fp29hcMoEj-the/TextMiningProject/SVD_BOW_3000_bin.joblib\")\n",
        "cum_var = np.cumsum(SVD_BOW_3000_bin.explained_variance_ratio_)"
      ]
    },
    {
      "cell_type": "code",
      "execution_count": 33,
      "metadata": {
        "colab": {
          "base_uri": "https://localhost:8080/",
          "height": 279
        },
        "id": "tnxqIYegbdBD",
        "outputId": "bebf82e2-ac40-4745-a4a5-92361511b227"
      },
      "outputs": [
        {
          "data": {
            "image/png": "[encoded data removed]",
            "text/plain": [
              "<Figure size 640x480 with 1 Axes>"
            ]
          },
          "metadata": {},
          "output_type": "display_data"
        }
      ],
      "source": [
        "# Grafico varianza cumulata\n",
        "plt.plot(range(1, len(cum_var) + 1), cum_var)\n",
        "plt.xlabel(\"Numero di componenti\")\n",
        "plt.ylabel(\"Varianza cumulata\")\n",
        "plt.show()"
      ]
    },
    {
      "cell_type": "code",
      "execution_count": 17,
      "metadata": {
        "colab": {
          "base_uri": "https://localhost:8080/"
        },
        "id": "AiF_Fya8bdBD",
        "outputId": "8f7ef8e8-8527-4059-c99c-bd80a59de069"
      },
      "outputs": [
        {
          "name": "stdout",
          "output_type": "stream",
          "text": [
            "Numero di componenti necessariea spiegare una varianza pari all'85% sono :  1466\n"
          ]
        }
      ],
      "source": [
        "threshold = 0.85\n",
        "n_components = np.argmax(cum_var >= threshold) + 1\n",
        "print(\"Numero di componenti necessariea spiegare una varianza pari all'85% sono : \", n_components)"
      ]
    },
    {
      "cell_type": "code",
      "execution_count": 18,
      "metadata": {},
      "outputs": [
        {
          "data": {
            "text/plain": [
              "['H:/.shortcut-targets-by-id/1veNClNl7CxCTFHVNY2Fp29hcMoEj-the/TextMiningProject/SVD_BOW_bin_optim.joblib']"
            ]
          },
          "execution_count": 18,
          "metadata": {},
          "output_type": "execute_result"
        }
      ],
      "source": [
        "# Stimo SVD ottimale\n",
        "tSVD_BOW_bin = TruncatedSVD(n_components = 1466)\n",
        "SVD_BOW_bin = tSVD_BOW_bin.fit(X_train_BOW_bin)\n",
        "\n",
        "# Salvo SVD ottimizzata\n",
        "joblib.dump(SVD_BOW_bin, \"H:/.shortcut-targets-by-id/1veNClNl7CxCTFHVNY2Fp29hcMoEj-the/TextMiningProject/SVD_BOW_bin_optim.joblib\")"
      ]
    },
    {
      "cell_type": "code",
      "execution_count": 19,
      "metadata": {},
      "outputs": [],
      "source": [
        "# Applico la trasformazione al training e test set \n",
        "X_train_BOW_bin = tSVD_BOW_bin.transform(X_train_BOW_bin)\n",
        "\n",
        "X_test_BOW_bin = cv_model_bin.transform(X_test_bin.astype(str))\n",
        "X_test_BOW_bin = SVD_BOW_bin.transform(X_test_BOW_bin)"
      ]
    },
    {
      "cell_type": "code",
      "execution_count": 28,
      "metadata": {},
      "outputs": [
        {
          "data": {
            "text/plain": [
              "(31203, 80905)"
            ]
          },
          "execution_count": 28,
          "metadata": {},
          "output_type": "execute_result"
        }
      ],
      "source": [
        "X_test_BOW_bin.shape"
      ]
    },
    {
      "attachments": {},
      "cell_type": "markdown",
      "metadata": {},
      "source": [
        "### Implementazione algoritmi"
      ]
    },
    {
      "attachments": {},
      "cell_type": "markdown",
      "metadata": {},
      "source": [
        "##### Logistic Regression"
      ]
    },
    {
      "cell_type": "code",
      "execution_count": 20,
      "metadata": {},
      "outputs": [
        {
          "name": "stdout",
          "output_type": "stream",
          "text": [
            "Fitting 2 folds for each of 6 candidates, totalling 12 fits\n",
            "[CV 1/2] END ......C=50, penalty=l2, solver=sag;, score=0.865 total time=  49.0s\n",
            "[CV 2/2] END ......C=50, penalty=l2, solver=sag;, score=0.866 total time=  50.4s\n",
            "[CV 1/2] END ...C=500, penalty=l2, solver=lbfgs;, score=0.864 total time=   5.6s\n",
            "[CV 2/2] END ...C=500, penalty=l2, solver=lbfgs;, score=0.863 total time=   5.3s\n",
            "[CV 1/2] END C=900, penalty=l2, solver=liblinear;, score=0.864 total time=  40.6s\n",
            "[CV 2/2] END C=900, penalty=l2, solver=liblinear;, score=0.863 total time=  40.2s\n",
            "[CV 1/2] END C=100, penalty=None, solver=liblinear;, score=0.000 total time=   0.2s\n",
            "[CV 2/2] END C=100, penalty=None, solver=liblinear;, score=0.000 total time=   0.1s\n",
            "[CV 1/2] END ......C=10, penalty=l2, solver=sag;, score=0.865 total time=  50.4s\n",
            "[CV 2/2] END ......C=10, penalty=l2, solver=sag;, score=0.866 total time=  45.2s\n",
            "[CV 1/2] END .....C=500, penalty=l2, solver=sag;, score=0.865 total time=  57.8s\n",
            "[CV 2/2] END .....C=500, penalty=l2, solver=sag;, score=0.866 total time= 1.0min\n"
          ]
        },
        {
          "data": {
            "text/plain": [
              "['H:/.shortcut-targets-by-id/1veNClNl7CxCTFHVNY2Fp29hcMoEj-the/TextMiningProject/Model_estimated/logreg_gridsearch_BOW_bin.joblib']"
            ]
          },
          "execution_count": 20,
          "metadata": {},
          "output_type": "execute_result"
        }
      ],
      "source": [
        "# Regressione logistica con ottimizzazione degli iperparametri\n",
        "model = LogisticRegression(random_state=1)\n",
        "\n",
        "# Iperparametri \"critici\" da ottimizzare \n",
        "solvers = ['lbfgs', 'liblinear', 'sag', 'saga']\n",
        "penalty = ['None', 'l2']\n",
        "c_values = [900, 700, 500, 200, 100, 50, 10]\n",
        "\n",
        "# Definisco la griglia di ricerca\n",
        "grid = dict(solver=solvers,penalty=penalty,C=c_values)\n",
        "\n",
        "# Start the clock, train the classifier, then stop the clock\n",
        "start = time()\n",
        "\n",
        "# CV and Tuning\n",
        "random_search = RandomizedSearchCV(estimator=model, param_distributions=grid, n_iter=6 ,cv=2, scoring=\"accuracy\", error_score=0, verbose=3)\n",
        "grid_result = random_search.fit(X_train_BOW_bin, y_train_bin)\n",
        "# end = time()\n",
        "# print (\"Train and tuning model in {:.4f} seconds\".format(end - start))\n",
        "\n",
        "# Salvataggio dei risultati del tuning\n",
        "path = 'H:/.shortcut-targets-by-id/1veNClNl7CxCTFHVNY2Fp29hcMoEj-the/TextMiningProject/Model_estimated/logreg_gridsearch_BOW_bin.joblib'\n",
        "joblib.dump(grid_result, path)"
      ]
    },
    {
      "cell_type": "code",
      "execution_count": 21,
      "metadata": {
        "id": "NySkmosjbdBE",
        "outputId": "0c9070c9-f194-4486-e4fc-80cb0405479d"
      },
      "outputs": [
        {
          "name": "stdout",
          "output_type": "stream",
          "text": [
            "Best result: 0.865630 using {'solver': 'sag', 'penalty': 'l2', 'C': 10}\n"
          ]
        }
      ],
      "source": [
        "# Caricamento del risultato del tuning\n",
        "path = 'H:/.shortcut-targets-by-id/1veNClNl7CxCTFHVNY2Fp29hcMoEj-the/TextMiningProject/Model_estimated/logreg_gridsearch_BOW_bin.joblib'\n",
        "loaded_grid_search = joblib.load(path)\n",
        "\n",
        "# Summary dei risultati\n",
        "print(\"Best result: %f using %s\" % (loaded_grid_search.best_score_, loaded_grid_search.best_params_))\n",
        "\n",
        "#Salvo il modello con le migliori performance\n",
        "model_lr_BOW_bin = loaded_grid_search.best_estimator_"
      ]
    },
    {
      "attachments": {},
      "cell_type": "markdown",
      "metadata": {},
      "source": [
        "##### Random Forest"
      ]
    },
    {
      "cell_type": "code",
      "execution_count": null,
      "metadata": {},
      "outputs": [],
      "source": [
        "del model"
      ]
    },
    {
      "cell_type": "code",
      "execution_count": null,
      "metadata": {
        "id": "_d58Ljk9bdBE",
        "outputId": "8f548533-d696-435a-fbdb-0b4d194d7d10"
      },
      "outputs": [
        {
          "name": "stdout",
          "output_type": "stream",
          "text": [
            "Fitting 2 folds for each of 6 candidates, totalling 12 fits\n",
            "[CV 1/2] END .....................n_neighbors=1;, score=0.637 total time=  49.6s\n",
            "[CV 2/2] END .....................n_neighbors=1;, score=0.631 total time=  51.6s\n",
            "[CV 1/2] END ....................n_neighbors=17;, score=0.714 total time=  53.8s\n",
            "[CV 2/2] END ....................n_neighbors=17;, score=0.681 total time=  53.1s\n",
            "[CV 1/2] END .....................n_neighbors=7;, score=0.689 total time=  55.9s\n",
            "[CV 2/2] END .....................n_neighbors=7;, score=0.669 total time=  55.5s\n",
            "[CV 1/2] END .....................n_neighbors=6;, score=0.681 total time=  54.6s\n"
          ]
        },
        {
          "ename": "",
          "evalue": "",
          "output_type": "error",
          "traceback": [
            "\u001b[1;31mCanceled future for execute_request message before replies were done"
          ]
        },
        {
          "ename": "",
          "evalue": "",
          "output_type": "error",
          "traceback": [
            "\u001b[1;31mThe Kernel crashed while executing code in the the current cell or a previous cell. Please review the code in the cell(s) to identify a possible cause of the failure. Click <a href='https://aka.ms/vscodeJupyterKernelCrash'>here</a> for more info. View Jupyter <a href='command:jupyter.viewOutput'>log</a> for further details."
          ]
        }
      ],
      "source": [
        "# Random Forest, già runnato !!\n",
        "model = RandomForestClassifier()\n",
        "\n",
        "# Parametri 'critici' da ottimizzare\n",
        "max_depth = [1, 2, 3, 4, 5, 6, 7]\n",
        "n_estimators = [10, 100, 200, 300, 500, 700, 1000]\n",
        "max_features = ['sqrt', 'log2']\n",
        "# Definisco la griglia di ricerca \n",
        "grid = dict(n_estimators=n_estimators,max_features=max_features, max_depth = max_depth)\n",
        "\n",
        "# Start the clock, train the classifier, then stop the clock\n",
        "start = time()\n",
        "\n",
        "grid_search = RandomizedSearchCV(estimator=model, param_distributions=grid, n_iter=6 ,cv=2, scoring=\"accuracy\", error_score=0, verbose=3)\n",
        "grid_result = random_search.fit(X_train_BOW_bin, y_train_bin)\n",
        "end = time()\n",
        "print (\"Train and tuning model in {:.4f} seconds\".format(end - start))\n",
        "\n",
        "# Salvataggio dei risultati del tuning\n",
        "path = 'H:/.shortcut-targets-by-id/1veNClNl7CxCTFHVNY2Fp29hcMoEj-the/TextMiningProject/Model_estimated/rf_gridsearch_BOW_bin.joblib'\n",
        "joblib.dump(grid_result, path)"
      ]
    },
    {
      "cell_type": "code",
      "execution_count": 41,
      "metadata": {
        "id": "CTg7m7sWbdBF",
        "outputId": "d2e5d933-0232-4bb0-d111-8b84f96b741f"
      },
      "outputs": [
        {
          "name": "stdout",
          "output_type": "stream",
          "text": [
            "Best result: 0.702142 using {'n_neighbors': 20}\n"
          ]
        }
      ],
      "source": [
        "\n",
        "# Caricamento del risultato del tuning\n",
        "path = 'H:/.shortcut-targets-by-id/1veNClNl7CxCTFHVNY2Fp29hcMoEj-the/TextMiningProject/Model_estimated/rf_gridsearch_BOW_bin.joblib'\n",
        "loaded_grid_search = joblib.load(path)\n",
        "\n",
        "# Summary dei risultati\n",
        "print(\"Best result: %f using %s\" % (loaded_grid_search.best_score_, loaded_grid_search.best_params_))\n",
        "\n",
        "# Salvo il modello con le migliori perfomance\n",
        "model_rf_BOW_bin = loaded_grid_search.best_estimator_"
      ]
    },
    {
      "attachments": {},
      "cell_type": "markdown",
      "metadata": {},
      "source": [
        "#### KNN"
      ]
    },
    {
      "cell_type": "code",
      "execution_count": 22,
      "metadata": {},
      "outputs": [
        {
          "name": "stdout",
          "output_type": "stream",
          "text": [
            "Fitting 2 folds for each of 6 candidates, totalling 12 fits\n",
            "[CV 1/2] END ....................n_neighbors=12;, score=0.704 total time=  49.4s\n",
            "[CV 2/2] END ....................n_neighbors=12;, score=0.678 total time=  47.9s\n",
            "[CV 1/2] END ....................n_neighbors=20;, score=0.718 total time=  49.1s\n",
            "[CV 2/2] END ....................n_neighbors=20;, score=0.686 total time=  49.8s\n",
            "[CV 1/2] END .....................n_neighbors=3;, score=0.665 total time=  53.0s\n",
            "[CV 2/2] END .....................n_neighbors=3;, score=0.653 total time=  50.1s\n",
            "[CV 1/2] END ....................n_neighbors=10;, score=0.700 total time=  50.2s\n",
            "[CV 2/2] END ....................n_neighbors=10;, score=0.675 total time=  53.1s\n",
            "[CV 1/2] END ....................n_neighbors=13;, score=0.705 total time=  53.9s\n",
            "[CV 2/2] END ....................n_neighbors=13;, score=0.677 total time=  54.4s\n",
            "[CV 1/2] END .....................n_neighbors=2;, score=0.637 total time=  53.8s\n",
            "[CV 2/2] END .....................n_neighbors=2;, score=0.630 total time=  54.7s\n",
            "Train and tuning model in 621.6593 seconds\n",
            "Best result: 0.702142 using {'n_neighbors': 20}\n"
          ]
        },
        {
          "data": {
            "text/plain": [
              "['H:/.shortcut-targets-by-id/1veNClNl7CxCTFHVNY2Fp29hcMoEj-the/TextMiningProject/Model_estimated/knn_gridsearch_BOW_bin.joblib']"
            ]
          },
          "execution_count": 22,
          "metadata": {},
          "output_type": "execute_result"
        }
      ],
      "source": [
        "model = KNeighborsClassifier(weights='distance')\n",
        "# Parametri critici da\n",
        "n_neighbors = range(1, 21, 1)\n",
        "\n",
        "# Definisco la griglia di ricerca\n",
        "grid = dict(n_neighbors=n_neighbors)\n",
        "\n",
        "# Start the clock, train the classifier, then stop the clock\n",
        "start = time()\n",
        "random_search = RandomizedSearchCV(estimator=model, param_distributions=grid, n_iter=6 ,cv=2, scoring=\"accuracy\", error_score=0, verbose=3)\n",
        "grid_result = random_search.fit(X_train_BOW_bin, y_train_bin)\n",
        "end = time()\n",
        "print (\"Train and tuning model in {:.4f} seconds\".format(end - start))\n",
        "# Summary dei risultati\n",
        "print(\"Best result: %f using %s\" % (grid_result.best_score_, grid_result.best_params_))\n",
        "\n",
        "# Salvataggio dei risultati del tuning\n",
        "path = 'H:/.shortcut-targets-by-id/1veNClNl7CxCTFHVNY2Fp29hcMoEj-the/TextMiningProject/Model_estimated/knn_gridsearch_BOW_bin.joblib'\n",
        "joblib.dump(grid_result, path)"
      ]
    },
    {
      "cell_type": "code",
      "execution_count": 23,
      "metadata": {},
      "outputs": [
        {
          "name": "stdout",
          "output_type": "stream",
          "text": [
            "Best result: 0.702142 using {'n_neighbors': 20}\n"
          ]
        }
      ],
      "source": [
        "# Caricamento del risultato del tuning\n",
        "path = 'H:/.shortcut-targets-by-id/1veNClNl7CxCTFHVNY2Fp29hcMoEj-the/TextMiningProject/Model_estimated/knn_gridsearch_BOW_bin.joblib'\n",
        "loaded_grid_search = joblib.load(path)\n",
        "\n",
        "# Summary dei risultati\n",
        "print(\"Best result: %f using %s\" % (loaded_grid_search.best_score_, loaded_grid_search.best_params_))\n",
        "\n",
        "# Salvo il modello con le migliori perfomance\n",
        "model_knn_BOW_bin = loaded_grid_search.best_estimator_"
      ]
    },
    {
      "attachments": {},
      "cell_type": "markdown",
      "metadata": {},
      "source": [
        "#### XGBoost"
      ]
    },
    {
      "cell_type": "code",
      "execution_count": 33,
      "metadata": {},
      "outputs": [],
      "source": [
        "from sklearn.preprocessing import LabelEncoder\n",
        "from xgboost import XGBClassifier\n",
        "from sklearn.model_selection import RandomizedSearchCV\n",
        "\n",
        "le = LabelEncoder()\n",
        "y_train_bin_xg = le.fit_transform(y_train_bin)\n",
        "\n",
        "model = XGBClassifier(sampling_method = 'gradient_based', max_depth = 6, eta = 0.2, n_jobs=-1, tree_method = 'hist', objective= 'binary:logistic')\n",
        "model_xgboost_BOW_bin = model.fit(X_train_BOW_bin, y_train_bin_xg)"
      ]
    },
    {
      "cell_type": "code",
      "execution_count": 34,
      "metadata": {},
      "outputs": [
        {
          "data": {
            "text/plain": [
              "['H:/.shortcut-targets-by-id/1veNClNl7CxCTFHVNY2Fp29hcMoEj-the/TextMiningProject/Model_estimated/xgboost_holdout_BOW_bin.joblib']"
            ]
          },
          "execution_count": 34,
          "metadata": {},
          "output_type": "execute_result"
        }
      ],
      "source": [
        "# Salvataggio dei risultati dell'holdout\n",
        "path = 'H:/.shortcut-targets-by-id/1veNClNl7CxCTFHVNY2Fp29hcMoEj-the/TextMiningProject/Model_estimated/xgboost_holdout_BOW_bin.joblib'\n",
        "joblib.dump(model_xgboost_BOW_bin, path)"
      ]
    },
    {
      "cell_type": "code",
      "execution_count": 35,
      "metadata": {},
      "outputs": [],
      "source": [
        "# Caricamento del risultato del tuning\n",
        "path = 'H:/.shortcut-targets-by-id/1veNClNl7CxCTFHVNY2Fp29hcMoEj-the/TextMiningProject/Model_estimated/xgboost_holdout_BOW_bin.joblib'\n",
        "xgboost_holdout_BOW_bin = joblib.load(path)"
      ]
    },
    {
      "attachments": {},
      "cell_type": "markdown",
      "metadata": {
        "id": "GpqZE1zCbdBO"
      },
      "source": [
        "### Analisi dei risultati"
      ]
    },
    {
      "cell_type": "code",
      "execution_count": 38,
      "metadata": {
        "id": "T76s-wjxod4q"
      },
      "outputs": [
        {
          "name": "stdout",
          "output_type": "stream",
          "text": [
            "[1 1 0 ... 0 1 0]\n",
            "               Accuracy  Precision    Recall  F1 Score\n",
            "LR model       0.870889   0.870895  0.870889  0.870888\n",
            "KNN model      0.719568   0.730389  0.719565  0.716234\n",
            "XGBOOST model  0.812987   0.813125  0.812987  0.812966\n"
          ]
        }
      ],
      "source": [
        "models = [model_lr_BOW_bin, model_knn_BOW_bin, model_xgboost_BOW_bin]\n",
        "\n",
        "# Previsioni sul test set\n",
        "results = []\n",
        "for model in models:\n",
        "    if model == models[2]:\n",
        "        y_test_bin_xg = le.fit_transform(y_test_bin)\n",
        "        print(y_test_bin_xg)\n",
        "        y_bin = model.predict(X_test_BOW_bin)\n",
        "        acc = accuracy_score(y_test_bin_xg, y_bin)\n",
        "        prec = precision_score(y_test_bin_xg, y_bin, average='macro')\n",
        "        recall = recall_score(y_test_bin_xg, y_bin, average='macro')\n",
        "        f1 = f1_score(y_test_bin_xg, y_bin, average='macro')\n",
        "        results.append([acc, prec, recall, f1])\n",
        "    else:\n",
        "        y_bin = model.predict(X_test_BOW_bin)\n",
        "        acc = accuracy_score(y_test_bin, y_bin)\n",
        "        prec = precision_score(y_test_bin, y_bin, average='macro')\n",
        "        recall = recall_score(y_test_bin, y_bin, average='macro')\n",
        "        f1 = f1_score(y_test_bin, y_bin, average='macro')\n",
        "        results.append([acc, prec, recall, f1])\n",
        "\n",
        "# Creo la tabella e visualizzo i risultati\n",
        "df_results = pd.DataFrame(results, columns=['Accuracy', 'Precision', 'Recall', 'F1 Score'])\n",
        "df_results.index = ['LR model', 'KNN model', 'XGBOOST model']\n",
        "print(df_results)"
      ]
    },
    {
      "attachments": {},
      "cell_type": "markdown",
      "metadata": {
        "id": "q0Pr6_tAbdBP"
      },
      "source": [
        "## **TF-IDF**"
      ]
    },
    {
      "cell_type": "code",
      "execution_count": null,
      "metadata": {},
      "outputs": [],
      "source": [
        "tv_bin = TfidfVectorizer(min_df=0., max_df=1., use_idf=True)\n",
        "tv_model_bin = tv_bin.fit(X_train_bin.astype(str))\n",
        "X_train_TFIDF_bin = tv_bin.transform(X_train_bin.astype(str))"
      ]
    },
    {
      "cell_type": "code",
      "execution_count": null,
      "metadata": {
        "id": "8uvn6tyEbdBI",
        "outputId": "e9d07380-3e44-43b3-a67d-d1e43d484f2e"
      },
      "outputs": [],
      "source": [
        "# Eseguo SVD - da runnare\n",
        "n_components = 5000\n",
        "tSVD_TFIDF_bin = TruncatedSVD(n_components = n_components)\n",
        "SVD_TFIDF_5000_bin = tSVD_TFIDF_bin.fit(X_train_TFIDF)\n",
        "\n",
        "# Calcolo varianza cumulata delle componenti\n",
        "cum_var = np.cumsum(SVD_TFIDF_5000.explained_variance_ratio_)\n",
        "\n",
        "# Salvo SVD su disco\n",
        "# joblib.dump(SVD_TFIDF_5000, \"H:/.shortcut-targets-by-id/1veNClNl7CxCTFHVNY2Fp29hcMoEj-the/TextMiningProject/SVD_TFIDF_5000_bin.joblib\")\n",
        "model_path = '/content/gdrive/MyDrive/TextMiningProject/SVD_TFIDF_5000_bin.joblib'\n",
        "joblib.dump(SVD_TFIDF_5000_bin, model_path)"
      ]
    },
    {
      "cell_type": "code",
      "execution_count": null,
      "metadata": {},
      "outputs": [],
      "source": [
        "# Carico SVD\n",
        "# SVD_TFIDF_5000_bin = joblib.load(\"H:/.shortcut-targets-by-id/1veNClNl7CxCTFHVNY2Fp29hcMoEj-the/TextMiningProject/SVD_TFIDF_5000_bin.joblib\")\n",
        "# cum_var = np.cumsum(SVD_TFIDF_5000.explained_variance_ratio_)"
      ]
    },
    {
      "cell_type": "code",
      "execution_count": null,
      "metadata": {
        "id": "fUeiqLTGoA5B"
      },
      "outputs": [],
      "source": [
        "# Carico SVD - Google Colab\n",
        "# SVD_TFIDF_5000 = joblib.load(\"/content/gdrive/MyDrive/TextMiningProject/SVD_TFIDF_5000_bin.joblib\")\n",
        "# cum_var = np.cumsum(SVD_TFIDF_5000.explained_variance_ratio_)"
      ]
    },
    {
      "cell_type": "code",
      "execution_count": null,
      "metadata": {
        "id": "xNYr7DPAn8hh"
      },
      "outputs": [],
      "source": [
        "# Grafico varianza cumulata\n",
        "plt.plot(range(1, len(cum_var) + 1), cum_var)\n",
        "plt.xlabel(\"Numero di componenti\")\n",
        "plt.ylabel(\"Varianza cumulata\")\n",
        "plt.show()"
      ]
    },
    {
      "cell_type": "code",
      "execution_count": null,
      "metadata": {
        "id": "XteUrLEibdBJ",
        "outputId": "254e8405-e85b-43f4-ce35-dd0a8234fbe5"
      },
      "outputs": [],
      "source": [
        "threshold = 0.85\n",
        "n_components = np.argmax(cum_var >= threshold) + 1\n",
        "print(\"Numero di componenti necessariea spiegare una varianza pari all'85% sono : \", n_components)"
      ]
    },
    {
      "cell_type": "code",
      "execution_count": null,
      "metadata": {},
      "outputs": [],
      "source": [
        "# Stimo SVD ottimale\n",
        "tSVD_TFID_bin = TruncatedSVD(n_components = ??) #Inseire numero componenti che la print sopra ti indica \n",
        "SVD_TFIDF_bin = tSVD_TFIDF.fit(X_train_TFIDF)"
      ]
    },
    {
      "cell_type": "code",
      "execution_count": null,
      "metadata": {},
      "outputs": [],
      "source": [
        "# Applico la trasformazione al training e test set \n",
        "X_train_TFIDF_bin = tv_bin.transform(X_train_bin.astype(str))\n",
        "\n",
        "X_test_TFIDF_bin = tv_model_bin.transform(X_test_bin.astype(str))\n",
        "X_test_TFIDF_bin = SVD_TFIDF_bin.transform(X_test_TFIDF_bin))"
      ]
    },
    {
      "attachments": {},
      "cell_type": "markdown",
      "metadata": {},
      "source": [
        "### Implementazione algoritmi"
      ]
    },
    {
      "attachments": {},
      "cell_type": "markdown",
      "metadata": {},
      "source": [
        "#### Logistic Regression"
      ]
    },
    {
      "cell_type": "code",
      "execution_count": null,
      "metadata": {
        "id": "Bc_7nKJtor5f"
      },
      "outputs": [],
      "source": [
        "# Regressione logistica con ottimizzazione degli iperparametri\n",
        "model = LogisticRegression(random_state=1)\n",
        "\n",
        "# Iperparametri \"critici\" da ottimizzare \n",
        "solvers = ['lbfgs', 'liblinear', 'sag', 'saga']\n",
        "penalty = ['None', 'l2']\n",
        "c_values = [500, 200, 100, 50, 10, 1.0]\n",
        "\n",
        "# Definisco la griglia di ricerca\n",
        "grid = dict(penalty=penalty,C=c_values)\n",
        "\n",
        "# Start the clock, train the classifier, then stop the clock\n",
        "start = time()\n",
        "\n",
        "# CV and Tuning\n",
        "random_search = RandomizedSearchCV(estimator=model, param_distributions=grid, n_iter=6 ,cv=2, scoring=\"accuracy\", error_score=0, verbose=3)\n",
        "grid_result = random_search.fit(X_train_TFIDF_bin, y_train)\n",
        "end = time()\n",
        "print (\"Train and tuning model in {:.4f} seconds\".format(end - start))\n",
        "\n",
        "# Salvataggio dei risultati del tuning\n",
        "# path = 'H:/.shortcut-targets-by-id/1veNClNl7CxCTFHVNY2Fp29hcMoEj-the/TextMiningProject/Model_estimated/lrr_gridsearch_TFIDF_bin.joblib'\n",
        "# joblib.dump(grid_result, path)\n",
        "\n",
        "model_path = '/content/gdrive/MyDrive/TextMiningProject/logreg_gridsearch_TFIDF_bin.joblib'\n",
        "joblib.dump(grid_result, model_path)"
      ]
    },
    {
      "cell_type": "code",
      "execution_count": null,
      "metadata": {
        "id": "TBfucnr3od4p",
        "outputId": "0c9070c9-f194-4486-e4fc-80cb0405479d"
      },
      "outputs": [],
      "source": [
        "# Caricamento del risultato del tuning\n",
        "\n",
        "# path = 'H:/.shortcut-targets-by-id/1veNClNl7CxCTFHVNY2Fp29hcMoEj-the/TextMiningProject/Model_estimated/lrr_gridsearch_TFIDF.joblib'\n",
        "# loaded_grid_search = joblib.load(path)\n",
        "model_path = '/content/gdrive/MyDrive/TextMiningProject/logreg_gridsearch_TFIDF_bin.joblib'\n",
        "loaded_grid_search = joblib.load(model_path)\n",
        "\n",
        "# Summary dei risultati\n",
        "print(\"Best result: %f using %s\" % (loaded_grid_search.best_score_, loaded_grid_search.best_params_))\n",
        "\n",
        "#Salvo il modello con le migliori performance\n",
        "model_lr_TFIDF_bin = loaded_grid_search.best_estimator_"
      ]
    },
    {
      "attachments": {},
      "cell_type": "markdown",
      "metadata": {},
      "source": [
        "#### KNN"
      ]
    },
    {
      "cell_type": "code",
      "execution_count": null,
      "metadata": {},
      "outputs": [],
      "source": [
        "model = KNeighborsClassifier(weights='distance')\n",
        "\n",
        "# Parametri critici da\n",
        "n_neighbors = range(1, 21, 1)\n",
        "\n",
        "# Definisco la griglia di ricerca\n",
        "grid = dict(n_neighbors=n_neighbors)\n",
        "\n",
        "# Start the clock, train the classifier, then stop the clock\n",
        "start = time()\n",
        "random_search = RandomizedSearchCV(estimator=model, param_distributions=grid, n_iter=6 ,cv=2, scoring=\"accuracy\", error_score=0, verbose=3)\n",
        "grid_result = random_search.fit(X_train_TFIDF_bin, y_train)\n",
        "end = time()\n",
        "print (\"Train and tuning model in {:.4f} seconds\".format(end - start))\n",
        "\n",
        "# Salvataggio dei risultati del tuning\n",
        "\n",
        "# path = 'H:/.shortcut-targets-by-id/1veNClNl7CxCTFHVNY2Fp29hcMoEj-the/TextMiningProject/Model_estimated/knn_gridsearch_TFIDF_bin.joblib'\n",
        "# loaded_grid_search = joblib.load(path)\n",
        "model_path = '/content/gdrive/MyDrive/TextMiningProject/knn_gridsearch_TFIDF_bin.joblib'\n",
        "joblib.dump(grid_result, model_path)"
      ]
    },
    {
      "cell_type": "code",
      "execution_count": null,
      "metadata": {},
      "outputs": [],
      "source": [
        "# Caricamento del risultato del tuning\n",
        "\n",
        "# path = 'H:/.shortcut-targets-by-id/1veNClNl7CxCTFHVNY2Fp29hcMoEj-the/TextMiningProject/Model_estimated/knn_gridsearch_TFIDF_bin.joblib'\n",
        "# loaded_grid_search = joblib.load(path)\n",
        "model_path = '/content/gdrive/MyDrive/TextMiningProject/knn_gridsearch_TFIDF_bin.joblib'\n",
        "loaded_grid_search = joblib.load(model_path)\n",
        "\n",
        "# Summary dei risultati\n",
        "print(\"Best result: %f using %s\" % (loaded_grid_search.best_score_, loaded_grid_search.best_params_))\n",
        "\n",
        "# Salvo il modello con le migliori perfomance\n",
        "model_knn_TFIDF_bin = loaded_grid_search.best_estimator_"
      ]
    },
    {
      "attachments": {},
      "cell_type": "markdown",
      "metadata": {},
      "source": [
        "#### Random Forest"
      ]
    },
    {
      "cell_type": "code",
      "execution_count": null,
      "metadata": {
        "id": "_d58Ljk9bdBE",
        "outputId": "8f548533-d696-435a-fbdb-0b4d194d7d10"
      },
      "outputs": [],
      "source": [
        "# Random Forest\n",
        "model = RandomForestClassifier()\n",
        "\n",
        "# Parametri 'critici' da ottimizzare\n",
        "max_depth = [1, 2, 3, 4, 5, 6, 7]\n",
        "n_estimators = [10, 100, 200, 400, 600, 800, 1000]\n",
        "max_features = ['sqrt', 'log2']\n",
        "# Definisco la griglia di ricerca \n",
        "grid = dict(n_estimators=n_estimators,max_features=max_features)\n",
        "\n",
        "# Start the clock, train the classifier, then stop the clock\n",
        "start = time()\n",
        "\n",
        "random_search = RandomizedSearchCV(estimator=model, param_distributions=grid, n_iter=6 ,cv=2, scoring=\"accuracy\", error_score=0, verbose=3)\n",
        "grid_result = random_search.fit(X_train_TFIDF_bin, y_train)\n",
        "end = time()\n",
        "print (\"Train and tuning model in {:.4f} seconds\".format(end - start))\n",
        "\n",
        "# Salvataggio dei risultati del tuning\n",
        "# path = 'H:/.shortcut-targets-by-id/1veNClNl7CxCTFHVNY2Fp29hcMoEj-the/TextMiningProject/Model_estimated/rf_gridsearch_TFIDF_bin.joblib'\n",
        "# joblib.dump(grid_result, path)\n",
        "\n",
        "model_path = '/content/gdrive/MyDrive/TextMiningProject/rf_gridsearch_TFIDF_bin.joblib'\n",
        "joblib.dump(grid_result, model_path)"
      ]
    },
    {
      "cell_type": "code",
      "execution_count": null,
      "metadata": {
        "id": "CTg7m7sWbdBF",
        "outputId": "d2e5d933-0232-4bb0-d111-8b84f96b741f"
      },
      "outputs": [],
      "source": [
        "\n",
        "# Caricamento del risultato del tuning\n",
        "# path = 'H:/.shortcut-targets-by-id/1veNClNl7CxCTFHVNY2Fp29hcMoEj-the/TextMiningProject/Model_estimated/rf_gridsearch_TFIDF_bin.joblib'\n",
        "# loaded_grid_search = joblib.load(path)\n",
        "\n",
        "model_path = '/content/gdrive/MyDrive/TextMiningProject/rf_gridsearch_TFIDF_bin.joblib'\n",
        "loaded_grid_search = joblib.load(model_path)\n",
        "\n",
        "# Summary dei risultati\n",
        "print(\"Best result: %f using %s\" % (loaded_grid_search.best_score_, loaded_grid_search.best_params_))\n",
        "\n",
        "# Salvo il modello con le migliori perfomance\n",
        "model_rf_TFIDF_bin = loaded_grid_search.best_estimator_"
      ]
    },
    {
      "attachments": {},
      "cell_type": "markdown",
      "metadata": {},
      "source": [
        "#### XGBoost"
      ]
    },
    {
      "cell_type": "code",
      "execution_count": null,
      "metadata": {},
      "outputs": [],
      "source": [
        "from sklearn.preprocessing import LabelEncoder\n",
        "from xgboost import XGBClassifier\n",
        "from sklearn.model_selection import RandomizedSearchCV\n",
        "\n",
        "le = LabelEncoder()\n",
        "y_train_xg = le.fit_transform(y_train)\n",
        "\n",
        "model = XGBClassifier(sampling_method = 'gradient_based', max_depth = 6, eta = 0.2, n_jobs=-1, tree_method = 'hist', objective='multi:softmax')\n",
        "model_xgboost_TFIDF = model.fit(X_train_TFIDF, y_train_xg)\n",
        "\n",
        "# Salvataggio dei risultati dell'holdout\n",
        "# path = 'H:/.shortcut-targets-by-id/1veNClNl7CxCTFHVNY2Fp29hcMoEj-the/TextMiningProject/Model_estimated/xgboost_holdout_TFIDF_bin.joblib'\n",
        "# joblib.dump(model_xgboost_TFIDF, path)\n",
        "\n",
        "model_path = '/content/gdrive/MyDrive/TextMiningProject/xgboost_holdout_TFIDF_bin.joblib'\n",
        "joblib.dump(grid_result, model_path)"
      ]
    },
    {
      "cell_type": "code",
      "execution_count": null,
      "metadata": {},
      "outputs": [],
      "source": [
        "# Caricamento del risultato dell'holdout\n",
        "# path = 'H:/.shortcut-targets-by-id/1veNClNl7CxCTFHVNY2Fp29hcMoEj-the/TextMiningProject/Model_estimated/xgboost_holdout_TFIDF_bin.joblib'\n",
        "# model_xgboost_TFIDF = joblib.load(path)\n",
        "\n",
        "model_path = '/content/gdrive/MyDrive/TextMiningProject/xgboost_holdout_TFIDF_bin.joblib'\n",
        "model_xgboost_TFIDF_bin = joblib.load(path)"
      ]
    },
    {
      "attachments": {},
      "cell_type": "markdown",
      "metadata": {},
      "source": [
        "### Analisi dei risultati"
      ]
    },
    {
      "cell_type": "code",
      "execution_count": null,
      "metadata": {
        "id": "T76s-wjxod4q"
      },
      "outputs": [],
      "source": [
        "models = [model_lr_TFIDF_bin, model_knn_TFIDF_bin, model_xgboost_TFIDF_bin, model_rf_TFIDF_bin]\n",
        "\n",
        "# Previsioni sul test set\n",
        "results = []\n",
        "for model in models:\n",
        "    if model == models[2]:\n",
        "        y_test_bin_xg = le.fit_transform(y_test_bin)\n",
        "        print(y_test_bin_xg)\n",
        "        y_pred = model.predict(X_test_TFIDF_bin)\n",
        "        acc = accuracy_score(y_test_bin_xg, y_pred)\n",
        "        prec = precision_score(y_test_bin_xg, y_pred, average='macro')\n",
        "        recall = recall_score(y_test_bin_xg, y_pred, average='macro')\n",
        "        f1 = f1_score(y_test_bin_xg, y_pred, average='macro')\n",
        "        results.append([acc, prec, recall, f1])\n",
        "    else:\n",
        "        y_pred = model.predict(X_test_TFIDF_bin)\n",
        "        acc = accuracy_score(y_test_bin, y_pred)\n",
        "        prec = precision_score(y_test_bin, y_pred, average='macro')\n",
        "        recall = recall_score(y_test_bin, y_pred, average='macro')\n",
        "        f1 = f1_score(y_test_bin, y_pred, average='macro')\n",
        "        results.append([acc, prec, recall, f1])\n",
        "\n",
        "# Creo la tabella e visualizzo i risultati\n",
        "df_results = pd.DataFrame(results, columns=['Accuracy', 'Precision', 'Recall', 'F1 Score'])\n",
        "df_results.index = ['LR model', 'KNN model', 'XGBOOST model', 'Random Forest']\n",
        "print(df_results)"
      ]
    },
    {
      "cell_type": "code",
      "execution_count": null,
      "metadata": {
        "id": "2uIUd5_Qod4q"
      },
      "outputs": [],
      "source": [
        "# # Crea i grafici ROC per ogni modello\n",
        "# for model in models:\n",
        "#     y_pred_proba = model.predict_proba(X_test_BOW)[::,1]\n",
        "#     fpr, tpr, _ = roc_curve(y_test, y_pred_proba)\n",
        "#     auc = roc_auc_score(y_test, y_pred_proba)\n",
        "#     plt.plot(fpr,tpr,label=\"AUC=\"+str(auc))\n",
        "#     plt.legend(loc = 'lower right')"
      ]
    },
    {
      "cell_type": "code",
      "execution_count": null,
      "metadata": {
        "id": "Bq8r-Bxfod4q"
      },
      "outputs": [],
      "source": [
        "# # Creo le matrici di confusione per ogni modello\n",
        "# for model in models:\n",
        "#     cm = confusion_matrix(y_test, y_pred)\n",
        "#     plt.figure()\n",
        "#     plt.imshow(cm, interpolation='nearest', cmap=plt.cm.Blues)\n",
        "#     plt.title(\"Confusion Matrix - \" + str(model))\n",
        "#     plt.colorbar()\n",
        "#     tick_marks = np.arange(3)\n",
        "#     plt.xticks(tick_marks, [\"Class 1\", \"Class 2\", \"Class 3\", \"Class 4\", \"Class 5\"])\n",
        "#     plt.yticks(tick_marks, [\"Class 1\", \"Class 2\", \"Class 3\", \"Class 4\", \"Class 5\"])\n",
        "#     thresh = cm.max() / 2.\n",
        "#     for i, j in itertools.product(range(cm.shape[0]), range(cm.shape[1])):\n",
        "#         plt.text(j, i, format(cm[i, j]),\n",
        "#                  horizontalalignment=\"center\",\n",
        "#                  color=\"white\" if cm[i, j] > thresh else \"black\")\n",
        "#     plt.tight_layout()\n",
        "#     plt.ylabel('True label')\n",
        "#     plt.xlabel('Predicted label')\n",
        "#     plt.show()"
      ]
    },
    {
      "cell_type": "markdown",
      "metadata": {
        "id": "_xLitnyfbdBQ"
      },
      "source": [
        "Performance:"
      ]
    },
    {
      "cell_type": "code",
      "execution_count": null,
      "metadata": {
        "id": "BwCEUJR0bdBQ",
        "outputId": "c980c38d-56b6-41e6-b162-7bcf37879eeb"
      },
      "outputs": [],
      "source": [
        "evaluation(predictions_lr_TFIDF_bin, y_test_bin)"
      ]
    },
    {
      "cell_type": "code",
      "execution_count": null,
      "metadata": {
        "id": "tWfiC0jDbdBQ",
        "outputId": "d1e8c505-9750-409e-8f55-609eb03d3c80"
      },
      "outputs": [],
      "source": [
        "evaluation(predictions_rf_TFIDF_bin, y_test_bin)"
      ]
    },
    {
      "cell_type": "markdown",
      "metadata": {
        "id": "SvKv3uJAbdBQ"
      },
      "source": [
        "### W2V"
      ]
    },
    {
      "cell_type": "code",
      "execution_count": null,
      "metadata": {
        "id": "zCVIqdo6bdBR"
      },
      "outputs": [],
      "source": [
        "w2v_model_bin = gensim.models.Word2Vec(X_train_bin, vector_size=300, window=8, min_count=2)"
      ]
    },
    {
      "cell_type": "code",
      "execution_count": null,
      "metadata": {
        "id": "ZL_Rkvl6bdBR"
      },
      "outputs": [],
      "source": [
        "words_bin = set(w2v_model_bin.wv.index_to_key) \n",
        "\n",
        "X_train_bin_vect = np.array([np.array([w2v_model_bin.wv[i] for i in ls if i in words_bin])\n",
        "                         for ls in X_train_bin])\n",
        "X_test_bin_vect = np.array([np.array([w2v_model_bin.wv[i] for i in ls if i in words_bin])\n",
        "                         for ls in X_test_bin])"
      ]
    },
    {
      "cell_type": "code",
      "execution_count": null,
      "metadata": {
        "id": "-xaUnBtybdBR"
      },
      "outputs": [],
      "source": [
        "X_train_bin_vect_avg = []\n",
        "for v in X_train_bin_vect:\n",
        "    if v.size:\n",
        "        X_train_bin_vect_avg.append(v.mean(axis=0))\n",
        "    else:\n",
        "        X_train_bin_vect_avg.append(np.zeros(300, dtype=float))\n",
        "        \n",
        "X_test_bin_vect_avg = []\n",
        "for v in X_test_bin_vect:\n",
        "    if v.size:\n",
        "        X_test_bin_vect_avg.append(v.mean(axis=0))\n",
        "    else:\n",
        "        X_test_bin_vect_avg.append(np.zeros(300, dtype=float))"
      ]
    },
    {
      "cell_type": "code",
      "execution_count": null,
      "metadata": {
        "id": "qnJg1fsabdBR"
      },
      "outputs": [],
      "source": [
        "# Regressione logistica\n",
        "\n",
        "lr_bin_W2V = LogisticRegression(random_state=1)\n",
        "model_lr_bin_W2V = lr_bin_W2V.fit(X_train_bin_vect_avg, y_train_bin)\n",
        "predictions_lr_bin_W2V = model_lr_bin_W2V.predict(X_test_bin_vect_avg)"
      ]
    },
    {
      "cell_type": "code",
      "execution_count": null,
      "metadata": {
        "id": "3RAC9dJYbdBR"
      },
      "outputs": [],
      "source": [
        "# Random Forest\n",
        "\n",
        "rf_bin_W2V = RandomForestClassifier(n_jobs = -1)\n",
        "model_rf_bin_W2V = rf_bin_W2V.fit(X_train_bin_vect_avg, y_train_bin)\n",
        "predictions_rf_bin_W2V = model_rf_bin_W2V.predict(X_test_bin_vect_avg)"
      ]
    },
    {
      "cell_type": "markdown",
      "metadata": {
        "id": "MA3jez-RbdBR"
      },
      "source": [
        "Performance:"
      ]
    },
    {
      "cell_type": "code",
      "execution_count": null,
      "metadata": {
        "id": "15Nm2RUmbdBS",
        "outputId": "cf77e272-1850-48a5-f876-81a4a5a9ae64"
      },
      "outputs": [],
      "source": [
        "evaluation(predictions_lr_bin_W2V, y_test_bin)"
      ]
    },
    {
      "cell_type": "code",
      "execution_count": null,
      "metadata": {
        "id": "xRqGpDSibdBS",
        "outputId": "95d466e1-e940-45a8-a1c9-e849fd83220d"
      },
      "outputs": [],
      "source": [
        "evaluation(predictions_rf_bin_W2V, y_test_bin)"
      ]
    },
    {
      "cell_type": "markdown",
      "metadata": {
        "id": "ZFToOhQkbdBS"
      },
      "source": [
        "# Idee successive"
      ]
    },
    {
      "cell_type": "markdown",
      "metadata": {
        "id": "3W26ADWfbdBS"
      },
      "source": [
        "- Usare altri altri modelli (SVM, KNN, ...)\n",
        "- Valutare considerazioni su downsampling\n",
        "- Iperparametri della SVD per la riduzione della dimensionalità (?)\n",
        "- Ottimizzazione iperparametri (specialmente su W2V, usare skipgram/cbow, e ottimizzare finestra, ecc...)\n",
        "- BERT (?)"
      ]
    }
  ],
  "metadata": {
    "colab": {
      "provenance": []
    },
    "kernelspec": {
      "display_name": "Nlp",
      "language": "python",
      "name": "nlp"
    },
    "language_info": {
      "codemirror_mode": {
        "name": "ipython",
        "version": 3
      },
      "file_extension": ".py",
      "mimetype": "text/x-python",
      "name": "python",
      "nbconvert_exporter": "python",
      "pygments_lexer": "ipython3",
      "version": "3.10.3"
    },
    "orig_nbformat": 4,
    "vscode": {
      "interpreter": {
        "hash": "dacea306b0f32c61537efd63a0134a85ab05fa1c452b30b5f779d236d2bf6c2d"
      }
    }
  },
  "nbformat": 4,
  "nbformat_minor": 0
}

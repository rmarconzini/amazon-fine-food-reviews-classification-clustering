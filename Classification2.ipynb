{
  "cells": [
    {
      "attachments": {},
      "cell_type": "markdown",
      "metadata": {},
      "source": [
        "# Setting"
      ]
    },
    {
      "cell_type": "code",
      "execution_count": 1,
      "metadata": {
        "colab": {
          "base_uri": "https://localhost:8080/"
        },
        "id": "tZarTKRtbdAy",
        "outputId": "4d2d557c-d352-4c5c-9c40-5082b304ebb0"
      },
      "outputs": [
        {
          "name": "stderr",
          "output_type": "stream",
          "text": [
            "[nltk_data] Downloading package punkt to\n",
            "[nltk_data]     C:\\Users\\marco\\AppData\\Roaming\\nltk_data...\n",
            "[nltk_data]   Package punkt is already up-to-date!\n",
            "[nltk_data] Downloading package wordnet to\n",
            "[nltk_data]     C:\\Users\\marco\\AppData\\Roaming\\nltk_data...\n",
            "[nltk_data]   Package wordnet is already up-to-date!\n"
          ]
        }
      ],
      "source": [
        "# Base\n",
        "import pandas as pd \n",
        "import numpy as np \n",
        "from collections import Counter \n",
        "from matplotlib import pyplot as plt\n",
        "%matplotlib inline\n",
        "import seaborn as sns\n",
        "import warnings\n",
        "warnings.filterwarnings(\"ignore\")\n",
        "import re\n",
        "from time import time\n",
        "import itertools\n",
        "import joblib\n",
        "#NLP\n",
        "import nltk\n",
        "from nltk.tokenize import word_tokenize \n",
        "nltk.download('punkt')\n",
        "from nltk import word_tokenize\n",
        "from nltk.stem import WordNetLemmatizer \n",
        "nltk.download('wordnet')\n",
        "from nltk.corpus import stopwords\n",
        "from wordcloud import WordCloud \n",
        "import gensim\n",
        "from gensim.utils import simple_preprocess\n",
        "import gensim.corpora as corpora\n",
        "import string\n",
        "from textblob import TextBlob\n",
        "\n",
        "\n",
        "#ML\n",
        "from sklearn.utils import resample\n",
        "from sklearn.decomposition import TruncatedSVD \n",
        "from sklearn.model_selection import train_test_split\n",
        "from sklearn.metrics import accuracy_score, precision_score, recall_score, f1_score, roc_auc_score, roc_curve\n",
        "from sklearn.metrics import classification_report, confusion_matrix\n",
        "from sklearn.linear_model import LogisticRegression\n",
        "from sklearn.kernel_approximation import RBFSampler\n",
        "from sklearn.linear_model import SGDClassifier\n",
        "from sklearn.ensemble import RandomForestClassifier\n",
        "from sklearn.svm import SVC\n",
        "from sklearn.ensemble import GradientBoostingClassifier\n",
        "from sklearn.neighbors import KNeighborsClassifier\n",
        "from sklearn.utils import shuffle\n",
        "from sklearn import preprocessing\n",
        "# from sklearn.cluster import KMeans\n",
        "from sklearn.metrics import v_measure_score\n",
        "from sklearn.metrics.cluster import adjusted_rand_score\n",
        "#from sklearn.cluster import AgglomerativeClustering\n",
        "from sklearn.feature_extraction.text import TfidfVectorizer\n",
        "from sklearn.feature_extraction.text import CountVectorizer\n",
        "from sklearn.model_selection import RepeatedStratifiedKFold\n",
        "from sklearn.model_selection import GridSearchCV\n",
        "from sklearn.neighbors import KNeighborsClassifier\n"
      ]
    },
    {
      "cell_type": "code",
      "execution_count": 2,
      "metadata": {
        "colab": {
          "base_uri": "https://localhost:8080/"
        },
        "id": "na6phehtbm6P",
        "outputId": "961fcad2-a71b-469f-c008-3a6633ee4e65"
      },
      "outputs": [],
      "source": [
        "# Gdrive\n",
        "# from google.colab import drive\n",
        "# drive.mount('/content/gdrive')"
      ]
    },
    {
      "cell_type": "code",
      "execution_count": 3,
      "metadata": {
        "id": "1h5yU6bVbdA3"
      },
      "outputs": [],
      "source": [
        "# Rimozione della punteggiatura\n",
        "\n",
        "def rm_punct_symb(phrase):\n",
        "    phrase_no_punct = \"\".join([i for i in phrase if i not in string.punctuation])\n",
        "    return phrase_no_punct"
      ]
    },
    {
      "cell_type": "code",
      "execution_count": 4,
      "metadata": {
        "id": "qMwscFMCbdA4"
      },
      "outputs": [],
      "source": [
        "# Importazione dataset e riconversione colonna in lista di stringhe, come già fatto nel preprocessing\n",
        "\n",
        "# Gian\n",
        "# df = pd.read_csv('C:/Users/cafe6/Documents/GitHub/Dati TextMining/df_lemmatized.csv')\n",
        "# df['Lemmatized Text'] = df['Lemmatized Text'].apply(rm_punct_symb)\n",
        "# df['Lemmatized Text'] = df['Lemmatized Text'].str.split(' ')"
      ]
    },
    {
      "cell_type": "code",
      "execution_count": 5,
      "metadata": {
        "id": "CV6Ed6HcbdA5"
      },
      "outputs": [],
      "source": [
        "# Remo \n",
        "df = pd.read_csv('H:/.shortcut-targets-by-id/1veNClNl7CxCTFHVNY2Fp29hcMoEj-the/TextMiningProject/df_lemmatized.csv')\n",
        "df['Lemmatized Text'] = df['Lemmatized Text'].apply(rm_punct_symb)\n",
        "df['Lemmatized Text'] = df['Lemmatized Text'].str.split(' ')"
      ]
    },
    {
      "cell_type": "code",
      "execution_count": 6,
      "metadata": {
        "id": "xWACtbSdbpM-"
      },
      "outputs": [],
      "source": [
        "# Google colab\n",
        "# df = pd.read_csv('/content/gdrive/MyDrive/TextMiningProject/df_lemmatized.csv')\n",
        "# df['Lemmatized Text'] = df['Lemmatized Text'].apply(rm_punct_symb)\n",
        "# df['Lemmatized Text'] = df['Lemmatized Text'].str.split(' ')"
      ]
    },
    {
      "cell_type": "code",
      "execution_count": 7,
      "metadata": {
        "id": "6kTs3jPmbdA5",
        "outputId": "c54ca658-60b1-43ee-f3fc-c3feedc2bfc0"
      },
      "outputs": [
        {
          "data": {
            "text/html": [
              "<div>\n",
              "<style scoped>\n",
              "    .dataframe tbody tr th:only-of-type {\n",
              "        vertical-align: middle;\n",
              "    }\n",
              "\n",
              "    .dataframe tbody tr th {\n",
              "        vertical-align: top;\n",
              "    }\n",
              "\n",
              "    .dataframe thead th {\n",
              "        text-align: right;\n",
              "    }\n",
              "</style>\n",
              "<table border=\"1\" class=\"dataframe\">\n",
              "  <thead>\n",
              "    <tr style=\"text-align: right;\">\n",
              "      <th></th>\n",
              "      <th>Unnamed: 0.1</th>\n",
              "      <th>Unnamed: 0</th>\n",
              "      <th>Id</th>\n",
              "      <th>ProductId</th>\n",
              "      <th>UserId</th>\n",
              "      <th>ProfileName</th>\n",
              "      <th>HelpfulnessNumerator</th>\n",
              "      <th>HelpfulnessDenominator</th>\n",
              "      <th>Score</th>\n",
              "      <th>Time</th>\n",
              "      <th>Summary</th>\n",
              "      <th>Text</th>\n",
              "      <th>HelpfulnessRatio</th>\n",
              "      <th>WordCount</th>\n",
              "      <th>Normalized Text</th>\n",
              "      <th>Tokenized Text</th>\n",
              "      <th>Text_No_Stop_Words</th>\n",
              "      <th>Lemmatized Text</th>\n",
              "    </tr>\n",
              "  </thead>\n",
              "  <tbody>\n",
              "    <tr>\n",
              "      <th>0</th>\n",
              "      <td>0</td>\n",
              "      <td>0</td>\n",
              "      <td>1</td>\n",
              "      <td>B001E4KFG0</td>\n",
              "      <td>A3SGXH7AUHU8GW</td>\n",
              "      <td>delmartian</td>\n",
              "      <td>1</td>\n",
              "      <td>1</td>\n",
              "      <td>5</td>\n",
              "      <td>2011-04-27</td>\n",
              "      <td>Good Quality Dog Food</td>\n",
              "      <td>I have bought several of the Vitality canned d...</td>\n",
              "      <td>1.0</td>\n",
              "      <td>48</td>\n",
              "      <td>i have bought several of the vitality canned d...</td>\n",
              "      <td>['i', 'have', 'bought', 'several', 'of', 'the'...</td>\n",
              "      <td>['bought', 'several', 'vitality', 'canned', 'd...</td>\n",
              "      <td>[bought, several, vitality, canned, dog, food,...</td>\n",
              "    </tr>\n",
              "    <tr>\n",
              "      <th>1</th>\n",
              "      <td>1</td>\n",
              "      <td>1</td>\n",
              "      <td>2</td>\n",
              "      <td>B00813GRG4</td>\n",
              "      <td>A1D87F6ZCVE5NK</td>\n",
              "      <td>dll pa</td>\n",
              "      <td>0</td>\n",
              "      <td>0</td>\n",
              "      <td>1</td>\n",
              "      <td>2012-09-07</td>\n",
              "      <td>Not as Advertised</td>\n",
              "      <td>Product arrived labeled as Jumbo Salted Peanut...</td>\n",
              "      <td>NaN</td>\n",
              "      <td>31</td>\n",
              "      <td>product arrived labelled as lumbo halted peanu...</td>\n",
              "      <td>['product', 'arrived', 'labelled', 'as', 'lumb...</td>\n",
              "      <td>['product', 'arrived', 'labelled', 'lumbo', 'h...</td>\n",
              "      <td>[product, arrived, labelled, lumbo, halted, pe...</td>\n",
              "    </tr>\n",
              "    <tr>\n",
              "      <th>2</th>\n",
              "      <td>2</td>\n",
              "      <td>2</td>\n",
              "      <td>3</td>\n",
              "      <td>B000LQOCH0</td>\n",
              "      <td>ABXLMWJIXXAIN</td>\n",
              "      <td>Natalia Corres \"Natalia Corres\"</td>\n",
              "      <td>1</td>\n",
              "      <td>1</td>\n",
              "      <td>4</td>\n",
              "      <td>2008-08-18</td>\n",
              "      <td>\"Delight\" says it all</td>\n",
              "      <td>This is a confection that has been around a fe...</td>\n",
              "      <td>1.0</td>\n",
              "      <td>94</td>\n",
              "      <td>this is a connection that has been around a fe...</td>\n",
              "      <td>['this', 'is', 'a', 'connection', 'that', 'has...</td>\n",
              "      <td>['connection', 'around', 'centuries', 'light',...</td>\n",
              "      <td>[connection, around, century, light, pillow, c...</td>\n",
              "    </tr>\n",
              "    <tr>\n",
              "      <th>3</th>\n",
              "      <td>3</td>\n",
              "      <td>3</td>\n",
              "      <td>4</td>\n",
              "      <td>B000UA0QIQ</td>\n",
              "      <td>A395BORC6FGVXV</td>\n",
              "      <td>Karl</td>\n",
              "      <td>3</td>\n",
              "      <td>3</td>\n",
              "      <td>2</td>\n",
              "      <td>2011-06-13</td>\n",
              "      <td>Cough Medicine</td>\n",
              "      <td>If you are looking for the secret ingredient i...</td>\n",
              "      <td>1.0</td>\n",
              "      <td>41</td>\n",
              "      <td>if you are looking for the secret ingredient i...</td>\n",
              "      <td>['if', 'you', 'are', 'looking', 'for', 'the', ...</td>\n",
              "      <td>['looking', 'secret', 'ingredient', 'robitussi...</td>\n",
              "      <td>[looking, secret, ingredient, robitussin, beli...</td>\n",
              "    </tr>\n",
              "    <tr>\n",
              "      <th>4</th>\n",
              "      <td>4</td>\n",
              "      <td>4</td>\n",
              "      <td>5</td>\n",
              "      <td>B006K2ZZ7K</td>\n",
              "      <td>A1UQRSCLF8GW1T</td>\n",
              "      <td>Michael D. Bigham \"M. Wassir\"</td>\n",
              "      <td>0</td>\n",
              "      <td>0</td>\n",
              "      <td>5</td>\n",
              "      <td>2012-10-21</td>\n",
              "      <td>Great taffy</td>\n",
              "      <td>Great taffy at a great price.  There was a wid...</td>\n",
              "      <td>NaN</td>\n",
              "      <td>27</td>\n",
              "      <td>great staff at a great price  there was a wide...</td>\n",
              "      <td>['great', 'staff', 'at', 'a', 'great', 'price'...</td>\n",
              "      <td>['great', 'staff', 'great', 'price', 'wide', '...</td>\n",
              "      <td>[great, staff, great, price, wide, assortment,...</td>\n",
              "    </tr>\n",
              "  </tbody>\n",
              "</table>\n",
              "</div>"
            ],
            "text/plain": [
              "   Unnamed: 0.1  Unnamed: 0  Id   ProductId          UserId  \\\n",
              "0             0           0   1  B001E4KFG0  A3SGXH7AUHU8GW   \n",
              "1             1           1   2  B00813GRG4  A1D87F6ZCVE5NK   \n",
              "2             2           2   3  B000LQOCH0   ABXLMWJIXXAIN   \n",
              "3             3           3   4  B000UA0QIQ  A395BORC6FGVXV   \n",
              "4             4           4   5  B006K2ZZ7K  A1UQRSCLF8GW1T   \n",
              "\n",
              "                       ProfileName  HelpfulnessNumerator  \\\n",
              "0                       delmartian                     1   \n",
              "1                           dll pa                     0   \n",
              "2  Natalia Corres \"Natalia Corres\"                     1   \n",
              "3                             Karl                     3   \n",
              "4    Michael D. Bigham \"M. Wassir\"                     0   \n",
              "\n",
              "   HelpfulnessDenominator  Score        Time                Summary  \\\n",
              "0                       1      5  2011-04-27  Good Quality Dog Food   \n",
              "1                       0      1  2012-09-07      Not as Advertised   \n",
              "2                       1      4  2008-08-18  \"Delight\" says it all   \n",
              "3                       3      2  2011-06-13         Cough Medicine   \n",
              "4                       0      5  2012-10-21            Great taffy   \n",
              "\n",
              "                                                Text  HelpfulnessRatio  \\\n",
              "0  I have bought several of the Vitality canned d...               1.0   \n",
              "1  Product arrived labeled as Jumbo Salted Peanut...               NaN   \n",
              "2  This is a confection that has been around a fe...               1.0   \n",
              "3  If you are looking for the secret ingredient i...               1.0   \n",
              "4  Great taffy at a great price.  There was a wid...               NaN   \n",
              "\n",
              "   WordCount                                    Normalized Text  \\\n",
              "0         48  i have bought several of the vitality canned d...   \n",
              "1         31  product arrived labelled as lumbo halted peanu...   \n",
              "2         94  this is a connection that has been around a fe...   \n",
              "3         41  if you are looking for the secret ingredient i...   \n",
              "4         27  great staff at a great price  there was a wide...   \n",
              "\n",
              "                                      Tokenized Text  \\\n",
              "0  ['i', 'have', 'bought', 'several', 'of', 'the'...   \n",
              "1  ['product', 'arrived', 'labelled', 'as', 'lumb...   \n",
              "2  ['this', 'is', 'a', 'connection', 'that', 'has...   \n",
              "3  ['if', 'you', 'are', 'looking', 'for', 'the', ...   \n",
              "4  ['great', 'staff', 'at', 'a', 'great', 'price'...   \n",
              "\n",
              "                                  Text_No_Stop_Words  \\\n",
              "0  ['bought', 'several', 'vitality', 'canned', 'd...   \n",
              "1  ['product', 'arrived', 'labelled', 'lumbo', 'h...   \n",
              "2  ['connection', 'around', 'centuries', 'light',...   \n",
              "3  ['looking', 'secret', 'ingredient', 'robitussi...   \n",
              "4  ['great', 'staff', 'great', 'price', 'wide', '...   \n",
              "\n",
              "                                     Lemmatized Text  \n",
              "0  [bought, several, vitality, canned, dog, food,...  \n",
              "1  [product, arrived, labelled, lumbo, halted, pe...  \n",
              "2  [connection, around, century, light, pillow, c...  \n",
              "3  [looking, secret, ingredient, robitussin, beli...  \n",
              "4  [great, staff, great, price, wide, assortment,...  "
            ]
          },
          "execution_count": 7,
          "metadata": {},
          "output_type": "execute_result"
        }
      ],
      "source": [
        "df.head()"
      ]
    },
    {
      "cell_type": "code",
      "execution_count": 8,
      "metadata": {
        "id": "L52ToO9nbdA6",
        "outputId": "1ed07038-39ce-4880-f911-4336fc650ab1"
      },
      "outputs": [
        {
          "data": {
            "text/plain": [
              "(393927, 18)"
            ]
          },
          "execution_count": 8,
          "metadata": {},
          "output_type": "execute_result"
        }
      ],
      "source": [
        "df.shape"
      ]
    },
    {
      "cell_type": "markdown",
      "metadata": {
        "id": "kNbi-FtzbdA6"
      },
      "source": [
        "# Classificazione"
      ]
    },
    {
      "cell_type": "code",
      "execution_count": 9,
      "metadata": {
        "id": "rsLkA6swbdA9"
      },
      "outputs": [],
      "source": [
        "classification_df = df[['Score', 'Lemmatized Text']]"
      ]
    },
    {
      "cell_type": "code",
      "execution_count": 10,
      "metadata": {
        "colab": {
          "base_uri": "https://localhost:8080/",
          "height": 312
        },
        "id": "XI_TBCaRbdA9",
        "outputId": "639f70ff-40d4-46a2-f710-503ea33b7165"
      },
      "outputs": [
        {
          "data": {
            "text/plain": [
              "Text(0, 0.5, 'Number of reviews')"
            ]
          },
          "execution_count": 10,
          "metadata": {},
          "output_type": "execute_result"
        },
        {
          "data": {
            "image/png": "[encoded data removed]",
            "text/plain": [
              "<Figure size 640x480 with 1 Axes>"
            ]
          },
          "metadata": {},
          "output_type": "display_data"
        }
      ],
      "source": [
        "sns.histplot(classification_df['Score'], discrete=True)\n",
        "plt.title(\"Score distribution\", fontweight='bold')\n",
        "plt.xlabel(\"Score\")\n",
        "plt.ylabel(\"Number of reviews\")"
      ]
    },
    {
      "cell_type": "code",
      "execution_count": 11,
      "metadata": {
        "id": "de_1kzR9bdA-",
        "outputId": "d649eded-b23d-418d-a4a5-152d022c91a3"
      },
      "outputs": [
        {
          "name": "stdout",
          "output_type": "stream",
          "text": [
            "5    0.637067\n",
            "4    0.142392\n",
            "1    0.092164\n",
            "3    0.075570\n",
            "2    0.052807\n",
            "Name: Score, dtype: float64\n"
          ]
        }
      ],
      "source": [
        "print(classification_df['Score'].value_counts()/len(classification_df['Score']));"
      ]
    },
    {
      "cell_type": "markdown",
      "metadata": {
        "id": "UMG9UjhTbdA_"
      },
      "source": [
        "Le classi sono fortemente sbilanciate, con quasi il 78% delle review appartenenti alla classe 4 e 5. E' necessaria una procedura di resampling, in modo tale che i classificatori non diano stime distorte (classificando tutte le review come appartenenti alla classe 5 si otterrebbe comunque il 63% di accuratezza)."
      ]
    },
    {
      "cell_type": "code",
      "execution_count": 12,
      "metadata": {
        "id": "hfON1PArbdA_"
      },
      "outputs": [],
      "source": [
        "# Come sample size prendo il totale delle review appartenenti alla classe meno numerosa\n",
        "\n",
        "sample_size = classification_df.groupby('Score').count().min()[0]"
      ]
    },
    {
      "cell_type": "code",
      "execution_count": 13,
      "metadata": {
        "colab": {
          "base_uri": "https://localhost:8080/",
          "height": 424
        },
        "id": "ypBdrZB6bdA_",
        "outputId": "eacbc497-f580-4f68-9687-b5991bfa6f6e"
      },
      "outputs": [
        {
          "data": {
            "text/html": [
              "<div>\n",
              "<style scoped>\n",
              "    .dataframe tbody tr th:only-of-type {\n",
              "        vertical-align: middle;\n",
              "    }\n",
              "\n",
              "    .dataframe tbody tr th {\n",
              "        vertical-align: top;\n",
              "    }\n",
              "\n",
              "    .dataframe thead th {\n",
              "        text-align: right;\n",
              "    }\n",
              "</style>\n",
              "<table border=\"1\" class=\"dataframe\">\n",
              "  <thead>\n",
              "    <tr style=\"text-align: right;\">\n",
              "      <th></th>\n",
              "      <th>Score</th>\n",
              "      <th>Lemmatized Text</th>\n",
              "    </tr>\n",
              "  </thead>\n",
              "  <tbody>\n",
              "    <tr>\n",
              "      <th>58373</th>\n",
              "      <td>1</td>\n",
              "      <td>[total, rip, shipping, handling, total, price,...</td>\n",
              "    </tr>\n",
              "    <tr>\n",
              "      <th>241438</th>\n",
              "      <td>1</td>\n",
              "      <td>[yes, north, max, kill, bag, used, without, pr...</td>\n",
              "    </tr>\n",
              "    <tr>\n",
              "      <th>34284</th>\n",
              "      <td>1</td>\n",
              "      <td>[awful, slim, rubber, texture, disappointing, ...</td>\n",
              "    </tr>\n",
              "    <tr>\n",
              "      <th>179425</th>\n",
              "      <td>1</td>\n",
              "      <td>[dog, time, play, toy, thrown, cure, wall, cur...</td>\n",
              "    </tr>\n",
              "    <tr>\n",
              "      <th>387926</th>\n",
              "      <td>1</td>\n",
              "      <td>[tried, different, variety, natural, value, tw...</td>\n",
              "    </tr>\n",
              "    <tr>\n",
              "      <th>...</th>\n",
              "      <td>...</td>\n",
              "      <td>...</td>\n",
              "    </tr>\n",
              "    <tr>\n",
              "      <th>241295</th>\n",
              "      <td>5</td>\n",
              "      <td>[going, put, cereal, morning, add, protein, sh...</td>\n",
              "    </tr>\n",
              "    <tr>\n",
              "      <th>14781</th>\n",
              "      <td>5</td>\n",
              "      <td>[okis, serious, like, food, even, dont, really...</td>\n",
              "    </tr>\n",
              "    <tr>\n",
              "      <th>169500</th>\n",
              "      <td>5</td>\n",
              "      <td>[finding, branch, peanut, cluster, nightmare, ...</td>\n",
              "    </tr>\n",
              "    <tr>\n",
              "      <th>272276</th>\n",
              "      <td>5</td>\n",
              "      <td>[even, reading, review, went, ahead, made, ord...</td>\n",
              "    </tr>\n",
              "    <tr>\n",
              "      <th>183112</th>\n",
              "      <td>5</td>\n",
              "      <td>[tinkyada, brown, rice, past, latane, nodule, ...</td>\n",
              "    </tr>\n",
              "  </tbody>\n",
              "</table>\n",
              "<p>104010 rows × 2 columns</p>\n",
              "</div>"
            ],
            "text/plain": [
              "        Score                                    Lemmatized Text\n",
              "58373       1  [total, rip, shipping, handling, total, price,...\n",
              "241438      1  [yes, north, max, kill, bag, used, without, pr...\n",
              "34284       1  [awful, slim, rubber, texture, disappointing, ...\n",
              "179425      1  [dog, time, play, toy, thrown, cure, wall, cur...\n",
              "387926      1  [tried, different, variety, natural, value, tw...\n",
              "...       ...                                                ...\n",
              "241295      5  [going, put, cereal, morning, add, protein, sh...\n",
              "14781       5  [okis, serious, like, food, even, dont, really...\n",
              "169500      5  [finding, branch, peanut, cluster, nightmare, ...\n",
              "272276      5  [even, reading, review, went, ahead, made, ord...\n",
              "183112      5  [tinkyada, brown, rice, past, latane, nodule, ...\n",
              "\n",
              "[104010 rows x 2 columns]"
            ]
          },
          "execution_count": 13,
          "metadata": {},
          "output_type": "execute_result"
        }
      ],
      "source": [
        "df_downsampled = classification_df.groupby('Score', group_keys=False).apply(lambda x: x.sample(sample_size))\n",
        "df_downsampled"
      ]
    },
    {
      "cell_type": "code",
      "execution_count": 14,
      "metadata": {
        "colab": {
          "base_uri": "https://localhost:8080/"
        },
        "id": "Ekf5XqvVbdBA",
        "outputId": "9e213da2-e37e-4fee-eff2-04e64e68e273"
      },
      "outputs": [
        {
          "data": {
            "text/plain": [
              "(104010, 2)"
            ]
          },
          "execution_count": 14,
          "metadata": {},
          "output_type": "execute_result"
        }
      ],
      "source": [
        "df_downsampled.shape"
      ]
    },
    {
      "cell_type": "code",
      "execution_count": 15,
      "metadata": {
        "colab": {
          "base_uri": "https://localhost:8080/",
          "height": 312
        },
        "id": "OBdFPYssbdBA",
        "outputId": "cf91dee1-07fc-4dd6-f230-beef8ddc39cf"
      },
      "outputs": [
        {
          "data": {
            "text/plain": [
              "Text(0, 0.5, 'Number of reviews')"
            ]
          },
          "execution_count": 15,
          "metadata": {},
          "output_type": "execute_result"
        },
        {
          "data": {
            "image/png": "[encoded data removed]",
            "text/plain": [
              "<Figure size 640x480 with 1 Axes>"
            ]
          },
          "metadata": {},
          "output_type": "display_data"
        }
      ],
      "source": [
        "sns.histplot(df_downsampled['Score'], discrete=True)\n",
        "plt.title(\"Score distribution\", fontweight='bold')\n",
        "plt.xlabel(\"Score\")\n",
        "plt.ylabel(\"Number of reviews\")"
      ]
    },
    {
      "cell_type": "code",
      "execution_count": 16,
      "metadata": {
        "id": "tjUtT-5gbdBA"
      },
      "outputs": [],
      "source": [
        "# Separo train e test\n",
        "\n",
        "X_train, X_test, y_train, y_test = train_test_split(df_downsampled['Lemmatized Text'], \n",
        "                                                    df_downsampled[\"Score\"], \n",
        "                                                    test_size=0.3, \n",
        "                                                    random_state=1, \n",
        "                                                    stratify=df_downsampled['Score'])"
      ]
    },
    {
      "cell_type": "markdown",
      "metadata": {
        "id": "Nz5jl2JtbdBB"
      },
      "source": [
        "# Multi-label classification"
      ]
    },
    {
      "cell_type": "markdown",
      "metadata": {
        "id": "MOB6pct-bdBB"
      },
      "source": [
        "## Text representation"
      ]
    },
    {
      "cell_type": "markdown",
      "metadata": {
        "id": "519uwDQIbdBB"
      },
      "source": [
        "### Bag-of-word"
      ]
    },
    {
      "cell_type": "code",
      "execution_count": 83,
      "metadata": {
        "id": "14eS1p7SbdBB"
      },
      "outputs": [],
      "source": [
        "cv = CountVectorizer(min_df=0., max_df=1.0)\n",
        "cv_model = cv.fit(X_train.astype(str)) \n",
        "X_train_BOW = cv_model.transform(X_train.astype(str))"
      ]
    },
    {
      "cell_type": "code",
      "execution_count": 84,
      "metadata": {
        "id": "4e3W5JiGbdBC",
        "outputId": "58639c0d-41ef-45be-b8e7-d16cce8b97dd"
      },
      "outputs": [
        {
          "data": {
            "text/plain": [
              "(72807, 80667)"
            ]
          },
          "execution_count": 84,
          "metadata": {},
          "output_type": "execute_result"
        }
      ],
      "source": [
        "X_train_BOW.shape"
      ]
    },
    {
      "cell_type": "markdown",
      "metadata": {
        "id": "6t0Xvdq9bdBC"
      },
      "source": [
        "Devo necessariamente ridurre la dimensionalità della matrice. Applico una SVD senza assegnare il numero di componenti da considerare e poi usiamo la funzione cusum() per ottenere la varianza cumulata, quindi teniamo un numero di componenti necessarie per raggiungere una certa soglia di varianza cumulata (fissata a priori).\n",
        "\n",
        "Considerando l'elevata dimensionalità del dataset, non è possibile stimare l'intera SVD. Viene quindi considerato un numero comunque elevato di componenti, e.g. 1000, per poi andare a valutare la varianza cumulata. "
      ]
    },
    {
      "cell_type": "code",
      "execution_count": 19,
      "metadata": {
        "id": "Un663iMmbdBC"
      },
      "outputs": [],
      "source": [
        "# Già eseguita e salvata, non runnare\n",
        "\n",
        "# Eseguo la SVD\n",
        "# n_components = 3000\n",
        "# tSVD_BOW = TruncatedSVD(n_components = n_components)\n",
        "# SVD_BOW = tSVD_BOW.fit(X_train_BOW)\n",
        "\n",
        "# Calcolo varianza cumulata delle componenti\n",
        "# cum_var = np.cumsum(SVD_BOW.explained_variance_ratio_)\n",
        "\n",
        "# Salvo SVD su disco\n",
        "# joblib.dump(SVD_BOW, \"SVD_BOW_3000.joblib\")"
      ]
    },
    {
      "cell_type": "code",
      "execution_count": 85,
      "metadata": {
        "id": "nQrFIjLLbdBD"
      },
      "outputs": [],
      "source": [
        "# carico SVD\n",
        "SVD_BOW_3000 = joblib.load(\"H:/.shortcut-targets-by-id/1veNClNl7CxCTFHVNY2Fp29hcMoEj-the/TextMiningProject/SVD_BOW_3000.joblib\")\n",
        "cum_var = np.cumsum(SVD_BOW_3000.explained_variance_ratio_)"
      ]
    },
    {
      "cell_type": "code",
      "execution_count": 21,
      "metadata": {
        "id": "gTI7lAa7bwIW"
      },
      "outputs": [],
      "source": [
        "# Carico SVD - Google colab\n",
        "# SVD_path = '/content/gdrive/MyDrive/TextMiningProject/SVD_BOW_3000.joblib'\n",
        "# SVD_BOW_3000 = joblib.load(SVD_path)\n",
        "# cum_var = np.cumsum(SVD_BOW_3000.explained_variance_ratio_)"
      ]
    },
    {
      "cell_type": "code",
      "execution_count": 22,
      "metadata": {
        "colab": {
          "base_uri": "https://localhost:8080/",
          "height": 279
        },
        "id": "tnxqIYegbdBD",
        "outputId": "bebf82e2-ac40-4745-a4a5-92361511b227"
      },
      "outputs": [
        {
          "data": {
            "image/png": "[encoded data removed]",
            "text/plain": [
              "<Figure size 640x480 with 1 Axes>"
            ]
          },
          "metadata": {},
          "output_type": "display_data"
        }
      ],
      "source": [
        "# Grafico varianza cumulata\n",
        "plt.plot(range(1, len(cum_var) + 1), cum_var)\n",
        "plt.xlabel(\"Numero di componenti\")\n",
        "plt.ylabel(\"Varianza cumulata\")\n",
        "plt.show()"
      ]
    },
    {
      "cell_type": "markdown",
      "metadata": {
        "id": "9IXQYxCBbdBD"
      },
      "source": [
        "Fissiamo una threshold pari all'85%. Ciò vuol dire che andremo a considerare un numero di componenti necessarie per arrivare ad una varianza spiegata pari all'85%"
      ]
    },
    {
      "cell_type": "code",
      "execution_count": 23,
      "metadata": {
        "colab": {
          "base_uri": "https://localhost:8080/"
        },
        "id": "AiF_Fya8bdBD",
        "outputId": "8f7ef8e8-8527-4059-c99c-bd80a59de069"
      },
      "outputs": [
        {
          "name": "stdout",
          "output_type": "stream",
          "text": [
            "Numero di componenti necessariea spiegare una varianza pari all'85% sono :  1413\n"
          ]
        }
      ],
      "source": [
        "threshold = 0.85\n",
        "n_components = np.argmax(cum_var >= threshold) + 1\n",
        "print(\"Numero di componenti necessariea spiegare una varianza pari all'85% sono : \", n_components)"
      ]
    },
    {
      "cell_type": "code",
      "execution_count": 86,
      "metadata": {
        "id": "N1_peW_hbdBE"
      },
      "outputs": [
        {
          "data": {
            "text/plain": [
              "['H:/.shortcut-targets-by-id/1veNClNl7CxCTFHVNY2Fp29hcMoEj-the/TextMiningProject/SVD_BOW_optim.joblib']"
            ]
          },
          "execution_count": 86,
          "metadata": {},
          "output_type": "execute_result"
        }
      ],
      "source": [
        "# Stimo SVD ottimale, già runnato \n",
        "tSVD_BOW = TruncatedSVD(n_components = 1413)\n",
        "SVD_BOW = tSVD_BOW.fit(X_train_BOW)\n",
        "\n",
        "# Salvo SVD ottimizzata\n",
        "joblib.dump(SVD_BOW, \"H:/.shortcut-targets-by-id/1veNClNl7CxCTFHVNY2Fp29hcMoEj-the/TextMiningProject/SVD_BOW_optim.joblib\")"
      ]
    },
    {
      "cell_type": "code",
      "execution_count": 89,
      "metadata": {
        "id": "-UL6PvopbdBJ"
      },
      "outputs": [
        {
          "data": {
            "text/html": [
              "<style>#sk-container-id-10 {color: black;background-color: white;}#sk-container-id-10 pre{padding: 0;}#sk-container-id-10 div.sk-toggleable {background-color: white;}#sk-container-id-10 label.sk-toggleable__label {cursor: pointer;display: block;width: 100%;margin-bottom: 0;padding: 0.3em;box-sizing: border-box;text-align: center;}#sk-container-id-10 label.sk-toggleable__label-arrow:before {content: \"▸\";float: left;margin-right: 0.25em;color: #696969;}#sk-container-id-10 label.sk-toggleable__label-arrow:hover:before {color: black;}#sk-container-id-10 div.sk-estimator:hover label.sk-toggleable__label-arrow:before {color: black;}#sk-container-id-10 div.sk-toggleable__content {max-height: 0;max-width: 0;overflow: hidden;text-align: left;background-color: #f0f8ff;}#sk-container-id-10 div.sk-toggleable__content pre {margin: 0.2em;color: black;border-radius: 0.25em;background-color: #f0f8ff;}#sk-container-id-10 input.sk-toggleable__control:checked~div.sk-toggleable__content {max-height: 200px;max-width: 100%;overflow: auto;}#sk-container-id-10 input.sk-toggleable__control:checked~label.sk-toggleable__label-arrow:before {content: \"▾\";}#sk-container-id-10 div.sk-estimator input.sk-toggleable__control:checked~label.sk-toggleable__label {background-color: #d4ebff;}#sk-container-id-10 div.sk-label input.sk-toggleable__control:checked~label.sk-toggleable__label {background-color: #d4ebff;}#sk-container-id-10 input.sk-hidden--visually {border: 0;clip: rect(1px 1px 1px 1px);clip: rect(1px, 1px, 1px, 1px);height: 1px;margin: -1px;overflow: hidden;padding: 0;position: absolute;width: 1px;}#sk-container-id-10 div.sk-estimator {font-family: monospace;background-color: #f0f8ff;border: 1px dotted black;border-radius: 0.25em;box-sizing: border-box;margin-bottom: 0.5em;}#sk-container-id-10 div.sk-estimator:hover {background-color: #d4ebff;}#sk-container-id-10 div.sk-parallel-item::after {content: \"\";width: 100%;border-bottom: 1px solid gray;flex-grow: 1;}#sk-container-id-10 div.sk-label:hover label.sk-toggleable__label {background-color: #d4ebff;}#sk-container-id-10 div.sk-serial::before {content: \"\";position: absolute;border-left: 1px solid gray;box-sizing: border-box;top: 0;bottom: 0;left: 50%;z-index: 0;}#sk-container-id-10 div.sk-serial {display: flex;flex-direction: column;align-items: center;background-color: white;padding-right: 0.2em;padding-left: 0.2em;position: relative;}#sk-container-id-10 div.sk-item {position: relative;z-index: 1;}#sk-container-id-10 div.sk-parallel {display: flex;align-items: stretch;justify-content: center;background-color: white;position: relative;}#sk-container-id-10 div.sk-item::before, #sk-container-id-10 div.sk-parallel-item::before {content: \"\";position: absolute;border-left: 1px solid gray;box-sizing: border-box;top: 0;bottom: 0;left: 50%;z-index: -1;}#sk-container-id-10 div.sk-parallel-item {display: flex;flex-direction: column;z-index: 1;position: relative;background-color: white;}#sk-container-id-10 div.sk-parallel-item:first-child::after {align-self: flex-end;width: 50%;}#sk-container-id-10 div.sk-parallel-item:last-child::after {align-self: flex-start;width: 50%;}#sk-container-id-10 div.sk-parallel-item:only-child::after {width: 0;}#sk-container-id-10 div.sk-dashed-wrapped {border: 1px dashed gray;margin: 0 0.4em 0.5em 0.4em;box-sizing: border-box;padding-bottom: 0.4em;background-color: white;}#sk-container-id-10 div.sk-label label {font-family: monospace;font-weight: bold;display: inline-block;line-height: 1.2em;}#sk-container-id-10 div.sk-label-container {text-align: center;}#sk-container-id-10 div.sk-container {/* jupyter's `normalize.less` sets `[hidden] { display: none; }` but bootstrap.min.css set `[hidden] { display: none !important; }` so we also need the `!important` here to be able to override the default hidden behavior on the sphinx rendered scikit-learn.org. See: https://github.com/scikit-learn/scikit-learn/issues/21755 */display: inline-block !important;position: relative;}#sk-container-id-10 div.sk-text-repr-fallback {display: none;}</style><div id=\"sk-container-id-10\" class=\"sk-top-container\"><div class=\"sk-text-repr-fallback\"><pre>TruncatedSVD(n_components=1413)</pre><b>In a Jupyter environment, please rerun this cell to show the HTML representation or trust the notebook. <br />On GitHub, the HTML representation is unable to render, please try loading this page with nbviewer.org.</b></div><div class=\"sk-container\" hidden><div class=\"sk-item\"><div class=\"sk-estimator sk-toggleable\"><input class=\"sk-toggleable__control sk-hidden--visually\" id=\"sk-estimator-id-10\" type=\"checkbox\" checked><label for=\"sk-estimator-id-10\" class=\"sk-toggleable__label sk-toggleable__label-arrow\">TruncatedSVD</label><div class=\"sk-toggleable__content\"><pre>TruncatedSVD(n_components=1413)</pre></div></div></div></div></div>"
            ],
            "text/plain": [
              "TruncatedSVD(n_components=1413)"
            ]
          },
          "execution_count": 89,
          "metadata": {},
          "output_type": "execute_result"
        }
      ],
      "source": [
        "# Inizializzo SVD con componenti ottimali\n",
        "tSVD_BOW = TruncatedSVD(n_components = 1413)\n",
        "\n",
        "# Carico SVD ottimizzata \n",
        "loaded_svd = joblib.load(\"H:/.shortcut-targets-by-id/1veNClNl7CxCTFHVNY2Fp29hcMoEj-the/TextMiningProject/SVD_BOW_optim.joblib\")\n",
        "loaded_svd.fit(X_train_BOW)"
      ]
    },
    {
      "cell_type": "code",
      "execution_count": 88,
      "metadata": {},
      "outputs": [
        {
          "ename": "NotFittedError",
          "evalue": "This TruncatedSVD instance is not fitted yet. Call 'fit' with appropriate arguments before using this estimator.",
          "output_type": "error",
          "traceback": [
            "\u001b[1;31m---------------------------------------------------------------------------\u001b[0m",
            "\u001b[1;31mNotFittedError\u001b[0m                            Traceback (most recent call last)",
            "Cell \u001b[1;32mIn[88], line 2\u001b[0m\n\u001b[0;32m      1\u001b[0m \u001b[39m# Applico la trasformazione al training e test set \u001b[39;00m\n\u001b[1;32m----> 2\u001b[0m X_train_BOW \u001b[39m=\u001b[39m tSVD_BOW\u001b[39m.\u001b[39;49mtransform(X_train_BOW)\n\u001b[0;32m      4\u001b[0m X_test_BOW \u001b[39m=\u001b[39m cv_model\u001b[39m.\u001b[39mtransform(X_test\u001b[39m.\u001b[39mastype(\u001b[39mstr\u001b[39m))\n\u001b[0;32m      5\u001b[0m X_test_BOW \u001b[39m=\u001b[39m loaded_svd\u001b[39m.\u001b[39mtransform(X_test_BOW)\n",
            "File \u001b[1;32mc:\\Users\\marco\\Documents\\venv\\NLP\\lib\\site-packages\\sklearn\\utils\\_set_output.py:142\u001b[0m, in \u001b[0;36m_wrap_method_output.<locals>.wrapped\u001b[1;34m(self, X, *args, **kwargs)\u001b[0m\n\u001b[0;32m    140\u001b[0m \u001b[39m@wraps\u001b[39m(f)\n\u001b[0;32m    141\u001b[0m \u001b[39mdef\u001b[39;00m \u001b[39mwrapped\u001b[39m(\u001b[39mself\u001b[39m, X, \u001b[39m*\u001b[39margs, \u001b[39m*\u001b[39m\u001b[39m*\u001b[39mkwargs):\n\u001b[1;32m--> 142\u001b[0m     data_to_wrap \u001b[39m=\u001b[39m f(\u001b[39mself\u001b[39m, X, \u001b[39m*\u001b[39margs, \u001b[39m*\u001b[39m\u001b[39m*\u001b[39mkwargs)\n\u001b[0;32m    143\u001b[0m     \u001b[39mif\u001b[39;00m \u001b[39misinstance\u001b[39m(data_to_wrap, \u001b[39mtuple\u001b[39m):\n\u001b[0;32m    144\u001b[0m         \u001b[39m# only wrap the first output for cross decomposition\u001b[39;00m\n\u001b[0;32m    145\u001b[0m         \u001b[39mreturn\u001b[39;00m (\n\u001b[0;32m    146\u001b[0m             _wrap_data_with_container(method, data_to_wrap[\u001b[39m0\u001b[39m], X, \u001b[39mself\u001b[39m),\n\u001b[0;32m    147\u001b[0m             \u001b[39m*\u001b[39mdata_to_wrap[\u001b[39m1\u001b[39m:],\n\u001b[0;32m    148\u001b[0m         )\n",
            "File \u001b[1;32mc:\\Users\\marco\\Documents\\venv\\NLP\\lib\\site-packages\\sklearn\\decomposition\\_truncated_svd.py:286\u001b[0m, in \u001b[0;36mTruncatedSVD.transform\u001b[1;34m(self, X)\u001b[0m\n\u001b[0;32m    273\u001b[0m \u001b[39mdef\u001b[39;00m \u001b[39mtransform\u001b[39m(\u001b[39mself\u001b[39m, X):\n\u001b[0;32m    274\u001b[0m \u001b[39m    \u001b[39m\u001b[39m\"\"\"Perform dimensionality reduction on X.\u001b[39;00m\n\u001b[0;32m    275\u001b[0m \n\u001b[0;32m    276\u001b[0m \u001b[39m    Parameters\u001b[39;00m\n\u001b[1;32m   (...)\u001b[0m\n\u001b[0;32m    284\u001b[0m \u001b[39m        Reduced version of X. This will always be a dense array.\u001b[39;00m\n\u001b[0;32m    285\u001b[0m \u001b[39m    \"\"\"\u001b[39;00m\n\u001b[1;32m--> 286\u001b[0m     check_is_fitted(\u001b[39mself\u001b[39;49m)\n\u001b[0;32m    287\u001b[0m     X \u001b[39m=\u001b[39m \u001b[39mself\u001b[39m\u001b[39m.\u001b[39m_validate_data(X, accept_sparse\u001b[39m=\u001b[39m[\u001b[39m\"\u001b[39m\u001b[39mcsr\u001b[39m\u001b[39m\"\u001b[39m, \u001b[39m\"\u001b[39m\u001b[39mcsc\u001b[39m\u001b[39m\"\u001b[39m], reset\u001b[39m=\u001b[39m\u001b[39mFalse\u001b[39;00m)\n\u001b[0;32m    288\u001b[0m     \u001b[39mreturn\u001b[39;00m safe_sparse_dot(X, \u001b[39mself\u001b[39m\u001b[39m.\u001b[39mcomponents_\u001b[39m.\u001b[39mT)\n",
            "File \u001b[1;32mc:\\Users\\marco\\Documents\\venv\\NLP\\lib\\site-packages\\sklearn\\utils\\validation.py:1380\u001b[0m, in \u001b[0;36mcheck_is_fitted\u001b[1;34m(estimator, attributes, msg, all_or_any)\u001b[0m\n\u001b[0;32m   1375\u001b[0m     fitted \u001b[39m=\u001b[39m [\n\u001b[0;32m   1376\u001b[0m         v \u001b[39mfor\u001b[39;00m v \u001b[39min\u001b[39;00m \u001b[39mvars\u001b[39m(estimator) \u001b[39mif\u001b[39;00m v\u001b[39m.\u001b[39mendswith(\u001b[39m\"\u001b[39m\u001b[39m_\u001b[39m\u001b[39m\"\u001b[39m) \u001b[39mand\u001b[39;00m \u001b[39mnot\u001b[39;00m v\u001b[39m.\u001b[39mstartswith(\u001b[39m\"\u001b[39m\u001b[39m__\u001b[39m\u001b[39m\"\u001b[39m)\n\u001b[0;32m   1377\u001b[0m     ]\n\u001b[0;32m   1379\u001b[0m \u001b[39mif\u001b[39;00m \u001b[39mnot\u001b[39;00m fitted:\n\u001b[1;32m-> 1380\u001b[0m     \u001b[39mraise\u001b[39;00m NotFittedError(msg \u001b[39m%\u001b[39m {\u001b[39m\"\u001b[39m\u001b[39mname\u001b[39m\u001b[39m\"\u001b[39m: \u001b[39mtype\u001b[39m(estimator)\u001b[39m.\u001b[39m\u001b[39m__name__\u001b[39m})\n",
            "\u001b[1;31mNotFittedError\u001b[0m: This TruncatedSVD instance is not fitted yet. Call 'fit' with appropriate arguments before using this estimator."
          ]
        }
      ],
      "source": [
        "# Applico la trasformazione al training e test set \n",
        "X_train_BOW = tSVD_BOW.transform(X_train_BOW)\n",
        "\n",
        "X_test_BOW = cv_model.transform(X_test.astype(str))\n",
        "X_test_BOW = loaded_svd.transform(X_test_BOW)"
      ]
    },
    {
      "attachments": {},
      "cell_type": "markdown",
      "metadata": {
        "id": "PWKLf5CabdBE"
      },
      "source": [
        "#### Implementazione algoritmi\n",
        "\n",
        "- Regressione Logistica\n",
        "- Random Forest\n",
        "- KNN\n",
        "- XGboost"
      ]
    },
    {
      "cell_type": "markdown",
      "metadata": {
        "id": "kKNdbGb3bdBE"
      },
      "source": [
        "##### Regressione logistica"
      ]
    },
    {
      "cell_type": "code",
      "execution_count": 26,
      "metadata": {
        "id": "quLHCvR5bdBE"
      },
      "outputs": [],
      "source": [
        "# Già eseguito, non runnare\n",
        "# Regressione logistica con ottimizzazione degli iperparametri\n",
        "# model = LogisticRegression(random_state=1)\n",
        "\n",
        "#Iperparametri \"critici\" da ottimizzare \n",
        "# solvers = ['newton-cg', 'lbfgs', 'liblinear', 'sag', 'saga']\n",
        "# penalty = ['None', 'l2']\n",
        "# c_values = [500, 200, 100, 50, 10, 1.0, 0.1, 0.01, 0.001]\n",
        "\n",
        "# Definisco la griglia di ricerca\n",
        "# grid = dict(solver=solvers,penalty=penalty,C=c_values)\n",
        "\n",
        "# Start the clock, train the classifier, then stop the clock\n",
        "# start = time()\n",
        "\n",
        "# CV and Tuning\n",
        "# random_search = RandomizedSearchCV(estimator=model, param_distributions=grid, n_iter=6 ,cv=2, scoring=\"accuracy\", error_score=0, verbose=3)\n",
        "# grid_result = random_search.fit(X_train_BOW, y_train)\n",
        "# end = time()\n",
        "# print (\"Train and tuning model in {:.4f} seconds\".format(end - start))\n",
        "\n",
        "# Salvataggio dei risultati del tuning\n",
        "# path = 'H:/.shortcut-targets-by-id/1veNClNl7CxCTFHVNY2Fp29hcMoEj-the/TextMiningProject/Model_estimated/logreg_gridsearch_BOW.joblib'\n",
        "# joblib.dump(grid_result, path)"
      ]
    },
    {
      "cell_type": "code",
      "execution_count": 27,
      "metadata": {
        "id": "NySkmosjbdBE",
        "outputId": "0c9070c9-f194-4486-e4fc-80cb0405479d"
      },
      "outputs": [
        {
          "name": "stdout",
          "output_type": "stream",
          "text": [
            "Best result: 0.485791 using {'C': 0.1, 'penalty': 'l2', 'solver': 'sag'}\n"
          ]
        }
      ],
      "source": [
        "# Caricamento del risultato del tuning\n",
        "path = 'H:/.shortcut-targets-by-id/1veNClNl7CxCTFHVNY2Fp29hcMoEj-the/TextMiningProject/Model_estimated/logreg_gridsearch_BOW.joblib'\n",
        "loaded_grid_search = joblib.load(path)\n",
        "\n",
        "# Summary dei risultati\n",
        "print(\"Best result: %f using %s\" % (loaded_grid_search.best_score_, loaded_grid_search.best_params_))\n",
        "\n",
        "#Salvo il modello con le migliori performance\n",
        "model_lr_BOW = loaded_grid_search.best_estimator_"
      ]
    },
    {
      "cell_type": "markdown",
      "metadata": {
        "id": "CDGTrGWpbdBE"
      },
      "source": [
        "##### Random Forest"
      ]
    },
    {
      "cell_type": "code",
      "execution_count": 28,
      "metadata": {
        "id": "_d58Ljk9bdBE",
        "outputId": "8f548533-d696-435a-fbdb-0b4d194d7d10"
      },
      "outputs": [],
      "source": [
        "# Random Forest, già runnato !!\n",
        "# model = RandomForestClassifier()\n",
        "\n",
        "# Parametri 'critici' da ottimizzare\n",
        "# n_estimators = [10, 100, 1000]\n",
        "# max_features = ['sqrt', 'log2']\n",
        "# Definisco la griglia di ricerca \n",
        "# grid = dict(n_estimators=n_estimators,max_features=max_features)\n",
        "\n",
        "# Start the clock, train the classifier, then stop the clock\n",
        "# start = time()\n",
        "\n",
        "# grid_search = GridSearchCV(estimator=model, param_grid=grid, n_jobs=-1, cv=2, scoring='accuracy', error_score=0)\n",
        "# grid_result = grid_search.fit(X_train_BOW, y_train)\n",
        "# end = time()\n",
        "# print (\"Train and tuning model in {:.4f} seconds\".format(end - start))\n",
        "\n",
        "# Salvataggio dei risultati del tuning\n",
        "# path = 'H:/.shortcut-targets-by-id/1veNClNl7CxCTFHVNY2Fp29hcMoEj-the/TextMiningProject/Model_estimated/rf_gridsearch_BOW.joblib'\n",
        "# joblib.dump(grid_result, path)"
      ]
    },
    {
      "cell_type": "code",
      "execution_count": 29,
      "metadata": {
        "id": "CTg7m7sWbdBF",
        "outputId": "d2e5d933-0232-4bb0-d111-8b84f96b741f"
      },
      "outputs": [
        {
          "name": "stdout",
          "output_type": "stream",
          "text": [
            "Best result: 0.375527 using {'max_features': 'sqrt', 'n_estimators': 1000}\n"
          ]
        }
      ],
      "source": [
        "\n",
        "# Caricamento del risultato del tuning\n",
        "path = 'H:/.shortcut-targets-by-id/1veNClNl7CxCTFHVNY2Fp29hcMoEj-the/TextMiningProject/Model_estimated/rf_gridsearch_BOW.joblib'\n",
        "loaded_grid_search = joblib.load(path)\n",
        "\n",
        "# Summary dei risultati\n",
        "print(\"Best result: %f using %s\" % (loaded_grid_search.best_score_, loaded_grid_search.best_params_))\n",
        "\n",
        "# Salvo il modello con le migliori perfomance\n",
        "model_rf_BOW = loaded_grid_search.best_estimator_"
      ]
    },
    {
      "attachments": {},
      "cell_type": "markdown",
      "metadata": {
        "id": "bdYxtwVzbdBF"
      },
      "source": [
        "##### KNN"
      ]
    },
    {
      "cell_type": "code",
      "execution_count": 30,
      "metadata": {},
      "outputs": [],
      "source": [
        "# model = KNeighborsClassifier(weights='distance')\n",
        "# # Parametri critici da\n",
        "# n_neighbors = range(1, 21, 4)\n",
        "\n",
        "# # Definisco la griglia di ricerca\n",
        "# grid = dict(n_neighbors=n_neighbors)\n",
        "\n",
        "# # Start the clock, train the classifier, then stop the clock\n",
        "# start = time()\n",
        "# random_search = RandomizedSearchCV(estimator=model, param_distributions=grid, n_iter=6 ,cv=2, scoring=\"accuracy\", error_score=0, verbose=3)\n",
        "# grid_result = random_search.fit(X_train_BOW, y_train)\n",
        "# end = time()\n",
        "# print (\"Train and tuning model in {:.4f} seconds\".format(end - start))\n",
        "# # Summary dei risultati\n",
        "# print(\"Best result: %f using %s\" % (grid_result.best_score_, grid_result.best_params_))\n",
        "\n",
        "# # Salvataggio dei risultati del tuning\n",
        "# path = 'H:/.shortcut-targets-by-id/1veNClNl7CxCTFHVNY2Fp29hcMoEj-the/TextMiningProject/Model_estimated/knn_gridsearch_BOW.joblib'\n",
        "# joblib.dump(grid_result, path)"
      ]
    },
    {
      "cell_type": "code",
      "execution_count": 31,
      "metadata": {},
      "outputs": [
        {
          "name": "stdout",
          "output_type": "stream",
          "text": [
            "Best result: 0.319585 using {'n_neighbors': 17}\n"
          ]
        }
      ],
      "source": [
        "# Caricamento del risultato del tuning\n",
        "path = 'H:/.shortcut-targets-by-id/1veNClNl7CxCTFHVNY2Fp29hcMoEj-the/TextMiningProject/Model_estimated/knn_gridsearch_BOW.joblib'\n",
        "loaded_grid_search = joblib.load(path)\n",
        "\n",
        "# Summary dei risultati\n",
        "print(\"Best result: %f using %s\" % (loaded_grid_search.best_score_, loaded_grid_search.best_params_))\n",
        "\n",
        "# Salvo il modello con le migliori perfomance\n",
        "model_knn_BOW = loaded_grid_search.best_estimator_"
      ]
    },
    {
      "cell_type": "markdown",
      "metadata": {
        "id": "VndvAmqRbdBG"
      },
      "source": [
        "##### XG-Boost"
      ]
    },
    {
      "attachments": {},
      "cell_type": "markdown",
      "metadata": {},
      "source": [
        "**Holdout**"
      ]
    },
    {
      "attachments": {},
      "cell_type": "markdown",
      "metadata": {},
      "source": [
        "**Ottimizzazione degli iper-parametri**"
      ]
    },
    {
      "attachments": {},
      "cell_type": "markdown",
      "metadata": {
        "id": "CHtAU1lAbdBG"
      },
      "source": [
        "Viene effettuata una ottimizzazione degli iper-parametri con metodo RandomSearch. \n",
        "\n",
        "Parametri ottimizzati\n",
        "\n",
        "- max_depth = profondità massima dell'albero di decisione utilizzato in una singola iterazione. \n",
        "- eta (a.k.a learning rate) = un valore compreso tra 0 e 1 che controlla la velocità di apprendimento dell'algoritmo.  \n",
        "- colsample_bytree = un valore compreso tra 0 e 1 che rappresenta la frazione di colonne utilizzate in ciascuna iterazione.\n",
        "- sampling_method = specifica il metodo di campionamento utilizzato per selezionare le osservazioni da utilizzare in ciascuna iterazione."
      ]
    },
    {
      "cell_type": "code",
      "execution_count": 34,
      "metadata": {
        "id": "k5thU_GDbdBG"
      },
      "outputs": [
        {
          "name": "stdout",
          "output_type": "stream",
          "text": [
            "Fitting 2 folds for each of 6 candidates, totalling 12 fits\n",
            "Train and tuning model in 652.3020 seconds\n"
          ]
        },
        {
          "data": {
            "text/plain": [
              "['H:/.shortcut-targets-by-id/1veNClNl7CxCTFHVNY2Fp29hcMoEj-the/TextMiningProject/Model_estimated/xgboost_gridsearch_BOW.joblib']"
            ]
          },
          "execution_count": 34,
          "metadata": {},
          "output_type": "execute_result"
        }
      ],
      "source": [
        "from sklearn.preprocessing import LabelEncoder\n",
        "from xgboost import XGBClassifier\n",
        "from sklearn.model_selection import RandomizedSearchCV\n",
        "\n",
        "le = LabelEncoder()\n",
        "y_train_xg = le.fit_transform(y_train)\n",
        "\n",
        "# XG-Boost con ottimizzazione degli iperparametri\n",
        "model = XGBClassifier( tree_method = 'gpu_hist', predictor = 'gpu_predictor')\n",
        "\n",
        "# Parametri critici da ottimizzare\n",
        "max_depth = [1,2,3, 4, 5, 6, 7, 8, 9]\n",
        "eta  = [0.001, 0.01, 0.01, 0.2, 0.4, 0.6, 0.8]\n",
        "colsample_bytree = [0.01, 0.1, 0.3, 0.5, 0.7, 0.9]\n",
        "sampling_method = ['uniform', 'gradient_based']\n",
        "\n",
        "#Definisco la griglia di ricerca\n",
        "grid = dict(max_depth=max_depth, eta =eta, colsample_bytree = colsample_bytree, sampling_method = sampling_method)\n",
        "\n",
        "# Start the clock, train the classifier, then stop the clock\n",
        "start = time()\n",
        "random_search = RandomizedSearchCV(estimator=model, param_distributions=grid, n_iter= 6, cv=2, scoring='accuracy', error_score=0, n_jobs=-1, random_state=0, verbose=4)\n",
        "grid_result = random_search.fit(X_train_BOW, y_train_xg)\n",
        "end = time()\n",
        "print (\"Train and tuning model in {:.4f} seconds\".format(end - start))\n",
        "\n",
        "# Salvataggio dei risultati del tuning\n",
        "path = 'H:/.shortcut-targets-by-id/1veNClNl7CxCTFHVNY2Fp29hcMoEj-the/TextMiningProject/Model_estimated/xgboost_gridsearch_BOW.joblib'\n",
        "joblib.dump(grid_result, path)\n",
        "\n",
        "# Salvataggio dei risultati del tuning Google-Colab\n",
        "# model_path = '/content/gdrive/MyDrive/TextMiningProject/xgboost_gridsearch_BOW.joblib'\n",
        "# joblib.dump(grid_result, model_path)"
      ]
    },
    {
      "cell_type": "code",
      "execution_count": 35,
      "metadata": {
        "id": "ykWDw0z6bdBG"
      },
      "outputs": [
        {
          "name": "stdout",
          "output_type": "stream",
          "text": [
            "Best result: 0.413065 using {'max_depth': 6, 'eta': 0.2, 'colsample_bytree': 0.5}\n"
          ]
        }
      ],
      "source": [
        "# Caricamento del risultato del tuning\n",
        "path = 'H:/.shortcut-targets-by-id/1veNClNl7CxCTFHVNY2Fp29hcMoEj-the/TextMiningProject/Model_estimated/xgboost_gridsearch_BOW.joblib'\n",
        "loaded_grid_search = joblib.load(path)\n",
        "\n",
        "# Summary dei risultati\n",
        "print(\"Best result: %f using %s\" % (loaded_grid_search.best_score_, loaded_grid_search.best_params_))\n",
        "\n",
        "# Salvo il modello con le migliori perfomance\n",
        "model_xgboost_BOW = loaded_grid_search.best_estimator_"
      ]
    },
    {
      "cell_type": "code",
      "execution_count": null,
      "metadata": {},
      "outputs": [],
      "source": [
        "# y_test = le.fit_transform(y_test)\n",
        "# y_pred = model_xgboost_BOW.predict(X_test_BOW)\n",
        "# print(accuracy_score(y_test, y_pred))"
      ]
    },
    {
      "cell_type": "markdown",
      "metadata": {
        "id": "v6zxofQmbdBG"
      },
      "source": [
        "#### Analizzo i risultati:"
      ]
    },
    {
      "cell_type": "code",
      "execution_count": 41,
      "metadata": {
        "id": "WV_ZjhsrbdBH"
      },
      "outputs": [
        {
          "name": "stdout",
          "output_type": "stream",
          "text": [
            "[3 2 1 ... 4 3 2]\n",
            "               Accuracy  Precision    Recall  F1 Score\n",
            "LR model       0.220492   0.218392  0.220489  0.217826\n",
            "RF model       0.297535   0.293372  0.297532  0.291559\n",
            "KNN model      0.226613   0.228918  0.226612  0.221385\n",
            "XGBOOST model  0.430119   0.422836  0.430112  0.425273\n"
          ]
        }
      ],
      "source": [
        "models = [model_lr_BOW, model_rf_BOW, model_knn_BOW, model_xgboost_BOW]\n",
        "\n",
        "# Previsioni sul test set\n",
        "results = []\n",
        "for model in models:\n",
        "    if model == models[3]:\n",
        "        y_test_xg = le.fit_transform(y_test)\n",
        "        print(y_test_xg)\n",
        "        y_pred = model.predict(X_test_BOW)\n",
        "        acc = accuracy_score(y_test_xg, y_pred)\n",
        "        prec = precision_score(y_test_xg, y_pred, average='macro')\n",
        "        recall = recall_score(y_test_xg, y_pred, average='macro')\n",
        "        f1 = f1_score(y_test_xg, y_pred, average='macro')\n",
        "        results.append([acc, prec, recall, f1])\n",
        "    else:\n",
        "        y_pred = model.predict(X_test_BOW)\n",
        "        acc = accuracy_score(y_test, y_pred)\n",
        "        prec = precision_score(y_test, y_pred, average='macro')\n",
        "        recall = recall_score(y_test, y_pred, average='macro')\n",
        "        f1 = f1_score(y_test, y_pred, average='macro')\n",
        "        results.append([acc, prec, recall, f1])\n",
        "\n",
        "# Creo la tabella e visualizzo i risultati\n",
        "df_results = pd.DataFrame(results, columns=['Accuracy', 'Precision', 'Recall', 'F1 Score'])\n",
        "df_results.index = ['LR model', 'RF model', 'KNN model', 'XGBOOST model']\n",
        "print(df_results)"
      ]
    },
    {
      "cell_type": "code",
      "execution_count": 47,
      "metadata": {},
      "outputs": [
        {
          "data": {
            "text/html": [
              "<style>#sk-container-id-8 {color: black;background-color: white;}#sk-container-id-8 pre{padding: 0;}#sk-container-id-8 div.sk-toggleable {background-color: white;}#sk-container-id-8 label.sk-toggleable__label {cursor: pointer;display: block;width: 100%;margin-bottom: 0;padding: 0.3em;box-sizing: border-box;text-align: center;}#sk-container-id-8 label.sk-toggleable__label-arrow:before {content: \"▸\";float: left;margin-right: 0.25em;color: #696969;}#sk-container-id-8 label.sk-toggleable__label-arrow:hover:before {color: black;}#sk-container-id-8 div.sk-estimator:hover label.sk-toggleable__label-arrow:before {color: black;}#sk-container-id-8 div.sk-toggleable__content {max-height: 0;max-width: 0;overflow: hidden;text-align: left;background-color: #f0f8ff;}#sk-container-id-8 div.sk-toggleable__content pre {margin: 0.2em;color: black;border-radius: 0.25em;background-color: #f0f8ff;}#sk-container-id-8 input.sk-toggleable__control:checked~div.sk-toggleable__content {max-height: 200px;max-width: 100%;overflow: auto;}#sk-container-id-8 input.sk-toggleable__control:checked~label.sk-toggleable__label-arrow:before {content: \"▾\";}#sk-container-id-8 div.sk-estimator input.sk-toggleable__control:checked~label.sk-toggleable__label {background-color: #d4ebff;}#sk-container-id-8 div.sk-label input.sk-toggleable__control:checked~label.sk-toggleable__label {background-color: #d4ebff;}#sk-container-id-8 input.sk-hidden--visually {border: 0;clip: rect(1px 1px 1px 1px);clip: rect(1px, 1px, 1px, 1px);height: 1px;margin: -1px;overflow: hidden;padding: 0;position: absolute;width: 1px;}#sk-container-id-8 div.sk-estimator {font-family: monospace;background-color: #f0f8ff;border: 1px dotted black;border-radius: 0.25em;box-sizing: border-box;margin-bottom: 0.5em;}#sk-container-id-8 div.sk-estimator:hover {background-color: #d4ebff;}#sk-container-id-8 div.sk-parallel-item::after {content: \"\";width: 100%;border-bottom: 1px solid gray;flex-grow: 1;}#sk-container-id-8 div.sk-label:hover label.sk-toggleable__label {background-color: #d4ebff;}#sk-container-id-8 div.sk-serial::before {content: \"\";position: absolute;border-left: 1px solid gray;box-sizing: border-box;top: 0;bottom: 0;left: 50%;z-index: 0;}#sk-container-id-8 div.sk-serial {display: flex;flex-direction: column;align-items: center;background-color: white;padding-right: 0.2em;padding-left: 0.2em;position: relative;}#sk-container-id-8 div.sk-item {position: relative;z-index: 1;}#sk-container-id-8 div.sk-parallel {display: flex;align-items: stretch;justify-content: center;background-color: white;position: relative;}#sk-container-id-8 div.sk-item::before, #sk-container-id-8 div.sk-parallel-item::before {content: \"\";position: absolute;border-left: 1px solid gray;box-sizing: border-box;top: 0;bottom: 0;left: 50%;z-index: -1;}#sk-container-id-8 div.sk-parallel-item {display: flex;flex-direction: column;z-index: 1;position: relative;background-color: white;}#sk-container-id-8 div.sk-parallel-item:first-child::after {align-self: flex-end;width: 50%;}#sk-container-id-8 div.sk-parallel-item:last-child::after {align-self: flex-start;width: 50%;}#sk-container-id-8 div.sk-parallel-item:only-child::after {width: 0;}#sk-container-id-8 div.sk-dashed-wrapped {border: 1px dashed gray;margin: 0 0.4em 0.5em 0.4em;box-sizing: border-box;padding-bottom: 0.4em;background-color: white;}#sk-container-id-8 div.sk-label label {font-family: monospace;font-weight: bold;display: inline-block;line-height: 1.2em;}#sk-container-id-8 div.sk-label-container {text-align: center;}#sk-container-id-8 div.sk-container {/* jupyter's `normalize.less` sets `[hidden] { display: none; }` but bootstrap.min.css set `[hidden] { display: none !important; }` so we also need the `!important` here to be able to override the default hidden behavior on the sphinx rendered scikit-learn.org. See: https://github.com/scikit-learn/scikit-learn/issues/21755 */display: inline-block !important;position: relative;}#sk-container-id-8 div.sk-text-repr-fallback {display: none;}</style><div id=\"sk-container-id-8\" class=\"sk-top-container\"><div class=\"sk-text-repr-fallback\"><pre>RandomForestClassifier(n_estimators=1000)</pre><b>In a Jupyter environment, please rerun this cell to show the HTML representation or trust the notebook. <br />On GitHub, the HTML representation is unable to render, please try loading this page with nbviewer.org.</b></div><div class=\"sk-container\" hidden><div class=\"sk-item\"><div class=\"sk-estimator sk-toggleable\"><input class=\"sk-toggleable__control sk-hidden--visually\" id=\"sk-estimator-id-8\" type=\"checkbox\" checked><label for=\"sk-estimator-id-8\" class=\"sk-toggleable__label sk-toggleable__label-arrow\">RandomForestClassifier</label><div class=\"sk-toggleable__content\"><pre>RandomForestClassifier(n_estimators=1000)</pre></div></div></div></div></div>"
            ],
            "text/plain": [
              "RandomForestClassifier(n_estimators=1000)"
            ]
          },
          "execution_count": 47,
          "metadata": {},
          "output_type": "execute_result"
        }
      ],
      "source": [
        "models[1]"
      ]
    },
    {
      "cell_type": "code",
      "execution_count": null,
      "metadata": {
        "id": "gpaUwiGgbdBH"
      },
      "outputs": [],
      "source": [
        "# Crea i grafici ROC per ogni modello\n",
        "# for model in models:\n",
        "#     y_pred_proba = model.predict_proba(X_test_BOW)[::,1]\n",
        "#     fpr, tpr, _ = roc_curve(y_test, y_pred_proba)\n",
        "#     auc = roc_auc_score(y_test, y_pred_proba)\n",
        "#     plt.plot(fpr,tpr,label=\"AUC=\"+str(auc))\n",
        "#     plt.legend(loc = 'lower right')"
      ]
    },
    {
      "cell_type": "code",
      "execution_count": null,
      "metadata": {
        "id": "C7Pg9f7-bdBH"
      },
      "outputs": [],
      "source": [
        "# # Creo le matrici di confusione per ogni modello\n",
        "# for model in models:\n",
        "#     cm = confusion_matrix(y_test, y_pred)\n",
        "#     plt.figure()\n",
        "#     plt.imshow(cm, interpolation='nearest', cmap=plt.cm.Blues)\n",
        "#     plt.title(\"Confusion Matrix - \" + str(model))\n",
        "#     plt.colorbar()\n",
        "#     tick_marks = np.arange(3)\n",
        "#     plt.xticks(tick_marks, [\"Class 1\", \"Class 2\", \"Class 3\", \"Class 4\", \"Class 5\"])\n",
        "#     plt.yticks(tick_marks, [\"Class 1\", \"Class 2\", \"Class 3\", \"Class 4\", \"Class 5\"])\n",
        "#     thresh = cm.max() / 2.\n",
        "#     for i, j in itertools.product(range(cm.shape[0]), range(cm.shape[1])):\n",
        "#         plt.text(j, i, format(cm[i, j]),\n",
        "#                  horizontalalignment=\"center\",\n",
        "#                  color=\"white\" if cm[i, j] > thresh else \"black\")\n",
        "#     plt.tight_layout()\n",
        "#     plt.ylabel('True label')\n",
        "#     plt.xlabel('Predicted label')\n",
        "#     plt.show()"
      ]
    },
    {
      "attachments": {},
      "cell_type": "markdown",
      "metadata": {
        "id": "CC5BmfiUbdBI"
      },
      "source": [
        "### **TF-IDF**"
      ]
    },
    {
      "cell_type": "code",
      "execution_count": 58,
      "metadata": {
        "id": "Tu21H8jHbdBI"
      },
      "outputs": [],
      "source": [
        "tv = TfidfVectorizer(min_df=0., max_df=1., use_idf=True) \n",
        "tv_model = tv.fit(X_train.astype(str)) \n",
        "X_train_TFIDF = tv.transform(X_train.astype(str)) # Vettorizzo"
      ]
    },
    {
      "cell_type": "code",
      "execution_count": 59,
      "metadata": {
        "id": "T6TNWrsRbdBI",
        "outputId": "4e4b6ebb-a4aa-438b-a737-f04267e2f083"
      },
      "outputs": [
        {
          "data": {
            "text/plain": [
              "(72807, 80667)"
            ]
          },
          "execution_count": 59,
          "metadata": {},
          "output_type": "execute_result"
        }
      ],
      "source": [
        "X_train_TFIDF.shape"
      ]
    },
    {
      "cell_type": "code",
      "execution_count": null,
      "metadata": {
        "id": "8uvn6tyEbdBI",
        "outputId": "e9d07380-3e44-43b3-a67d-d1e43d484f2e"
      },
      "outputs": [],
      "source": [
        "# Già eseguita e salvata, non runnare\n",
        "\n",
        "# Eseguo SVD\n",
        "# n_components = 5000\n",
        "# tSVD_TFIDF = TruncatedSVD(n_components = n_components)\n",
        "# SVD_TFIDF_5000 = tSVD_TFIDF.fit(X_train_TFIDF)\n",
        "\n",
        "# Calcolo varianza cumulata delle componenti\n",
        "# cum_var = np.cumsum(SVD_TFIDF_5000.explained_variance_ratio_)\n",
        "\n",
        "# Salvo SVD su disco\n",
        "# joblib.dump(SVD_TFIDF_5000, \"SVD_TFIDF_5000.joblib\")\n"
      ]
    },
    {
      "cell_type": "code",
      "execution_count": 50,
      "metadata": {},
      "outputs": [],
      "source": [
        "# Carico SVD\n",
        "SVD_TFIDF_5000 = joblib.load(\"H:/.shortcut-targets-by-id/1veNClNl7CxCTFHVNY2Fp29hcMoEj-the/TextMiningProject/SVD_TFIDF_5000.joblib\")\n",
        "cum_var = np.cumsum(SVD_TFIDF_5000.explained_variance_ratio_)"
      ]
    },
    {
      "cell_type": "code",
      "execution_count": null,
      "metadata": {
        "id": "fUeiqLTGoA5B"
      },
      "outputs": [],
      "source": [
        "# Carico SVD - Google Colab\n",
        "# SVD_TFIDF_5000 = joblib.load(\"/content/gdrive/MyDrive/TextMiningProject/SVD_TFIDF_5000.joblib\")\n",
        "# cum_var = np.cumsum(SVD_TFIDF_5000.explained_variance_ratio_)"
      ]
    },
    {
      "cell_type": "code",
      "execution_count": 60,
      "metadata": {
        "id": "xNYr7DPAn8hh"
      },
      "outputs": [
        {
          "data": {
            "image/png": "[encoded data removed]",
            "text/plain": [
              "<Figure size 640x480 with 1 Axes>"
            ]
          },
          "metadata": {},
          "output_type": "display_data"
        }
      ],
      "source": [
        "# Grafico varianza cumulata\n",
        "plt.plot(range(1, len(cum_var) + 1), cum_var)\n",
        "plt.xlabel(\"Numero di componenti\")\n",
        "plt.ylabel(\"Varianza cumulata\")\n",
        "plt.show()"
      ]
    },
    {
      "cell_type": "code",
      "execution_count": 61,
      "metadata": {
        "id": "XteUrLEibdBJ",
        "outputId": "254e8405-e85b-43f4-ce35-dd0a8234fbe5"
      },
      "outputs": [
        {
          "name": "stdout",
          "output_type": "stream",
          "text": [
            "Numero di componenti necessariea spiegare una varianza pari all'85% sono :  4719\n"
          ]
        }
      ],
      "source": [
        "threshold = 0.85\n",
        "n_components = np.argmax(cum_var >= threshold) + 1\n",
        "print(\"Numero di componenti necessariea spiegare una varianza pari all'85% sono : \", n_components)"
      ]
    },
    {
      "cell_type": "code",
      "execution_count": null,
      "metadata": {},
      "outputs": [],
      "source": [
        "# Stimo SVD ottimale\n",
        "tSVD_TFIDF = TruncatedSVD(n_components = 4719)\n",
        "SVD_TFIDF = tSVD_TFIDF.fit(X_train_TFIDF)"
      ]
    },
    {
      "cell_type": "code",
      "execution_count": null,
      "metadata": {},
      "outputs": [],
      "source": [
        "# Applico la trasformazione al training e test set \n",
        "X_train_TFIDF = tSVD_TFIDF.transform(X_train_TFIDF)\n",
        "\n",
        "X_test_TFIDF = tv_model.transform(X_test.astype(str))\n",
        "X_test_TFIDF = SVD_TFIDF.transform(X_test_TFIDF)"
      ]
    },
    {
      "attachments": {},
      "cell_type": "markdown",
      "metadata": {},
      "source": [
        "#### Implementazione algoritmi\n",
        "\n",
        "- Regressione Logistica\n",
        "- KNN\n",
        "- XGBoost"
      ]
    },
    {
      "attachments": {},
      "cell_type": "markdown",
      "metadata": {},
      "source": [
        "##### Regressione Logistica"
      ]
    },
    {
      "cell_type": "code",
      "execution_count": null,
      "metadata": {
        "id": "Bc_7nKJtor5f"
      },
      "outputs": [],
      "source": [
        "\n",
        "# Regressione logistica con ottimizzazione degli iperparametri\n",
        "model = LogisticRegression(random_state=1)\n",
        "\n",
        "# Iperparametri \"critici\" da ottimizzare \n",
        "solvers = ['newton-cg', 'lbfgs', 'liblinear', 'sag', 'saga']\n",
        "penalty = ['None', 'l2']\n",
        "c_values = [500, 200, 100, 50, 10, 1.0, 0.1, 0.01, 0.001]\n",
        "\n",
        "# Definisco la griglia di ricerca\n",
        "grid = dict(penalty=penalty,C=c_values)\n",
        "\n",
        "# Start the clock, train the classifier, then stop the clock\n",
        "start = time()\n",
        "\n",
        "# CV and Tuning\n",
        "random_search = RandomizedSearchCV(estimator=model, param_distributions=grid, n_iter=6 ,cv=2, scoring=\"accuracy\", error_score=0, verbose=3)\n",
        "grid_result = random_search.fit(X_train_TFIDF, y_train)\n",
        "end = time()\n",
        "print (\"Train and tuning model in {:.4f} seconds\".format(end - start))\n",
        "\n",
        "# Salvataggio dei risultati del tuning\n",
        "# path = 'H:/.shortcut-targets-by-id/1veNClNl7CxCTFHVNY2Fp29hcMoEj-the/TextMiningProject/Model_estimated/lrr_gridsearch_TFIDF.joblib'\n",
        "# joblib.dump(grid_result, path)\n",
        "\n",
        "model_path = '/content/gdrive/MyDrive/TextMiningProject/logreg_gridsearch_TFIDF.joblib'\n",
        "joblib.dump(grid_result, model_path)"
      ]
    },
    {
      "cell_type": "code",
      "execution_count": null,
      "metadata": {
        "id": "TBfucnr3od4p",
        "outputId": "0c9070c9-f194-4486-e4fc-80cb0405479d"
      },
      "outputs": [],
      "source": [
        "# Caricamento del risultato del tuning\n",
        "\n",
        "# path = 'H:/.shortcut-targets-by-id/1veNClNl7CxCTFHVNY2Fp29hcMoEj-the/TextMiningProject/Model_estimated/lrr_gridsearch_TFIDF.joblib'\n",
        "# loaded_grid_search = joblib.load(path)\n",
        "model_path = '/content/gdrive/MyDrive/TextMiningProject/logreg_gridsearch_TFIDF.joblib'\n",
        "loaded_grid_search = joblib.load(model_path)\n",
        "\n",
        "# Summary dei risultati\n",
        "print(\"Best result: %f using %s\" % (loaded_grid_search.best_score_, loaded_grid_search.best_params_))\n",
        "\n",
        "#Salvo il modello con le migliori performance\n",
        "model_lr_TFIDF = loaded_grid_search.best_estimator_"
      ]
    },
    {
      "attachments": {},
      "cell_type": "markdown",
      "metadata": {},
      "source": [
        "##### KNN"
      ]
    },
    {
      "cell_type": "code",
      "execution_count": null,
      "metadata": {},
      "outputs": [],
      "source": [
        "model = KNeighborsClassifier(weights='distance')\n",
        "# Parametri critici da\n",
        "n_neighbors = range(1, 21, 1)\n",
        "\n",
        "# Definisco la griglia di ricerca\n",
        "grid = dict(n_neighbors=n_neighbors)\n",
        "\n",
        "# Start the clock, train the classifier, then stop the clock\n",
        "start = time()\n",
        "random_search = RandomizedSearchCV(estimator=model, param_distributions=grid, n_iter=6 ,cv=2, scoring=\"accuracy\", error_score=0, verbose=3)\n",
        "#grid_search = GridSearchCV(estimator=model, param_grid=grid, n_jobs=-1, cv=2, scoring='accuracy',error_score=0)\n",
        "grid_result = random_search.fit(X_train_TFIDF, y_train)\n",
        "end = time()\n",
        "print (\"Train and tuning model in {:.4f} seconds\".format(end - start))\n",
        "\n",
        "# Salvataggio dei risultati del tuning\n",
        "\n",
        "# path = 'H:/.shortcut-targets-by-id/1veNClNl7CxCTFHVNY2Fp29hcMoEj-the/TextMiningProject/Model_estimated/knn_gridsearch_TFIDF.joblib'\n",
        "# loaded_grid_search = joblib.load(path)\n",
        "model_path = '/content/gdrive/MyDrive/TextMiningProject/knn_gridsearch_TFIDF.joblib'\n",
        "joblib.dump(grid_result, model_path)"
      ]
    },
    {
      "cell_type": "code",
      "execution_count": null,
      "metadata": {},
      "outputs": [],
      "source": [
        "# Caricamento del risultato del tuning\n",
        "\n",
        "# path = 'H:/.shortcut-targets-by-id/1veNClNl7CxCTFHVNY2Fp29hcMoEj-the/TextMiningProject/Model_estimated/knn_gridsearch_TFIDF.joblib'\n",
        "# loaded_grid_search = joblib.load(path)\n",
        "model_path = '/content/gdrive/MyDrive/TextMiningProject/knn_gridsearch_TFIDF.joblib'\n",
        "loaded_grid_search = joblib.load(model_path)\n",
        "\n",
        "# Summary dei risultati\n",
        "print(\"Best result: %f using %s\" % (loaded_grid_search.best_score_, loaded_grid_search.best_params_))\n",
        "\n",
        "# Salvo il modello con le migliori perfomance\n",
        "model_knn_TFIDF = loaded_grid_search.best_estimator_"
      ]
    },
    {
      "attachments": {},
      "cell_type": "markdown",
      "metadata": {},
      "source": [
        "##### XGBoost"
      ]
    },
    {
      "attachments": {},
      "cell_type": "markdown",
      "metadata": {
        "id": "CHtAU1lAbdBG"
      },
      "source": [
        "Viene effettuata una ottimizzazione degli iper-parametri con metodo RandomSearch. \n",
        "\n",
        "Parametri ottimizzati\n",
        "\n",
        "- max_depth = profondità massima dell'albero di decisione utilizzato in una singola iterazione. \n",
        "- eta (a.k.a learning rate) = un valore compreso tra 0 e 1 che controlla la velocità di apprendimento dell'algoritmo.  \n",
        "- colsample_bytree = un valore compreso tra 0 e 1 che rappresenta la frazione di colonne utilizzate in ciascuna iterazione.\n",
        "- sampling_method = specifica il metodo di campionamento utilizzato per selezionare le osservazioni da utilizzare in ciascuna iterazione."
      ]
    },
    {
      "cell_type": "code",
      "execution_count": null,
      "metadata": {
        "id": "k5thU_GDbdBG"
      },
      "outputs": [
        {
          "name": "stdout",
          "output_type": "stream",
          "text": [
            "Fitting 2 folds for each of 6 candidates, totalling 12 fits\n",
            "Train and tuning model in 652.3020 seconds\n"
          ]
        },
        {
          "data": {
            "text/plain": [
              "['H:/.shortcut-targets-by-id/1veNClNl7CxCTFHVNY2Fp29hcMoEj-the/TextMiningProject/Model_estimated/xgboost_gridsearch_BOW.joblib']"
            ]
          },
          "metadata": {},
          "output_type": "display_data"
        }
      ],
      "source": [
        "from sklearn.preprocessing import LabelEncoder\n",
        "from xgboost import XGBClassifier\n",
        "from sklearn.model_selection import RandomizedSearchCV\n",
        "\n",
        "le = LabelEncoder()\n",
        "y_train_xg = le.fit_transform(y_train)\n",
        "\n",
        "# XG-Boost con ottimizzazione degli iperparametri\n",
        "model = XGBClassifier( tree_method = 'gpu_hist', predictor = 'gpu_predictor')\n",
        "\n",
        "# Parametri critici da ottimizzare\n",
        "max_depth = [1,2,3, 4, 5, 6, 7, 8, 9]\n",
        "eta  = [0.001, 0.01, 0.01, 0.2, 0.4, 0.6, 0.8]\n",
        "colsample_bytree = [0.01, 0.1, 0.3, 0.5, 0.7, 0.9]\n",
        "sampling_method = ['uniform', 'gradient_based']\n",
        "\n",
        "#Definisco la griglia di ricerca\n",
        "grid = dict(max_depth=max_depth, eta =eta, colsample_bytree = colsample_bytree, sampling_method = sampling_method)\n",
        "\n",
        "# Start the clock, train the classifier, then stop the clock\n",
        "start = time()\n",
        "random_search = RandomizedSearchCV(estimator=model, param_distributions=grid, n_iter= 6, cv=2, scoring='accuracy', error_score=0, n_jobs=-1, random_state=0, verbose=3)\n",
        "grid_result = random_search.fit(X_train_TFIDF, y_train_xg)\n",
        "end = time()\n",
        "print (\"Train and tuning model in {:.4f} seconds\".format(end - start))\n",
        "\n",
        "# Salvataggio dei risultati del tuning\n",
        "# path = 'H:/.shortcut-targets-by-id/1veNClNl7CxCTFHVNY2Fp29hcMoEj-the/TextMiningProject/Model_estimated/xgboost_gridsearch_TFIDF.joblib'\n",
        "# joblib.dump(grid_result, path)\n",
        "\n",
        "# Salvataggio dei risultati del tuning Google-Colab\n",
        "model_path = '/content/gdrive/MyDrive/TextMiningProject/xgboost_gridsearch_TFIDF.joblib'\n",
        "joblib.dump(grid_result, model_path)"
      ]
    },
    {
      "cell_type": "code",
      "execution_count": null,
      "metadata": {
        "id": "ykWDw0z6bdBG"
      },
      "outputs": [
        {
          "name": "stdout",
          "output_type": "stream",
          "text": [
            "Best result: 0.413065 using {'max_depth': 6, 'eta': 0.2, 'colsample_bytree': 0.5}\n"
          ]
        }
      ],
      "source": [
        "# Caricamento del risultato del tuning\n",
        "# path = 'H:/.shortcut-targets-by-id/1veNClNl7CxCTFHVNY2Fp29hcMoEj-the/TextMiningProject/Model_estimated/xgboost_gridsearch_TFIDF.joblib'\n",
        "# loaded_grid_search = joblib.load(path)\n",
        "\n",
        "model_path = '/content/gdrive/MyDrive/TextMiningProject/xgboost_gridsearch_TFIDF.joblib'\n",
        "loaded_grid_search = joblib.load(model_path)\n",
        "\n",
        "# Summary dei risultati\n",
        "print(\"Best result: %f using %s\" % (loaded_grid_search.best_score_, loaded_grid_search.best_params_))\n",
        "\n",
        "# Salvo il modello con le migliori perfomance\n",
        "model_xgboost_TFIDF = loaded_grid_search.best_estimator_"
      ]
    },
    {
      "attachments": {},
      "cell_type": "markdown",
      "metadata": {},
      "source": [
        "### Analisi dei risultati"
      ]
    },
    {
      "cell_type": "code",
      "execution_count": null,
      "metadata": {
        "id": "T76s-wjxod4q"
      },
      "outputs": [],
      "source": [
        "models = [model_lr_TFIDF, model_knn_TFIDF, model_xgboost_TFIDF]\n",
        "\n",
        "# Previsioni sul test set\n",
        "results = []\n",
        "for model in models:\n",
        "    if model == models[2]:\n",
        "        y_test_xg = le.fit_transform(y_test)\n",
        "        print(y_test_xg)\n",
        "        y_pred = model.predict(X_test_TFIDF)\n",
        "        acc = accuracy_score(y_test_xg, y_pred)\n",
        "        prec = precision_score(y_test_xg, y_pred, average='macro')\n",
        "        recall = recall_score(y_test_xg, y_pred, average='macro')\n",
        "        f1 = f1_score(y_test_xg, y_pred, average='macro')\n",
        "        results.append([acc, prec, recall, f1])\n",
        "    else:\n",
        "        y_pred = model.predict(X_test_TFIDF)\n",
        "        acc = accuracy_score(y_test, y_pred)\n",
        "        prec = precision_score(y_test, y_pred, average='macro')\n",
        "        recall = recall_score(y_test, y_pred, average='macro')\n",
        "        f1 = f1_score(y_test, y_pred, average='macro')\n",
        "        results.append([acc, prec, recall, f1])\n",
        "\n",
        "# Creo la tabella e visualizzo i risultati\n",
        "df_results = pd.DataFrame(results, columns=['Accuracy', 'Precision', 'Recall', 'F1 Score'])\n",
        "df_results.index = ['LR model', 'KNN model', 'XGBOOST model']\n",
        "print(df_results)"
      ]
    },
    {
      "cell_type": "code",
      "execution_count": null,
      "metadata": {
        "id": "2uIUd5_Qod4q"
      },
      "outputs": [],
      "source": [
        "# # Crea i grafici ROC per ogni modello\n",
        "# for model in models:\n",
        "#     y_pred_proba = model.predict_proba(X_test_BOW)[::,1]\n",
        "#     fpr, tpr, _ = roc_curve(y_test, y_pred_proba)\n",
        "#     auc = roc_auc_score(y_test, y_pred_proba)\n",
        "#     plt.plot(fpr,tpr,label=\"AUC=\"+str(auc))\n",
        "#     plt.legend(loc = 'lower right')"
      ]
    },
    {
      "cell_type": "code",
      "execution_count": null,
      "metadata": {
        "id": "Bq8r-Bxfod4q"
      },
      "outputs": [],
      "source": [
        "# # Creo le matrici di confusione per ogni modello\n",
        "# for model in models:\n",
        "#     cm = confusion_matrix(y_test, y_pred)\n",
        "#     plt.figure()\n",
        "#     plt.imshow(cm, interpolation='nearest', cmap=plt.cm.Blues)\n",
        "#     plt.title(\"Confusion Matrix - \" + str(model))\n",
        "#     plt.colorbar()\n",
        "#     tick_marks = np.arange(3)\n",
        "#     plt.xticks(tick_marks, [\"Class 1\", \"Class 2\", \"Class 3\", \"Class 4\", \"Class 5\"])\n",
        "#     plt.yticks(tick_marks, [\"Class 1\", \"Class 2\", \"Class 3\", \"Class 4\", \"Class 5\"])\n",
        "#     thresh = cm.max() / 2.\n",
        "#     for i, j in itertools.product(range(cm.shape[0]), range(cm.shape[1])):\n",
        "#         plt.text(j, i, format(cm[i, j]),\n",
        "#                  horizontalalignment=\"center\",\n",
        "#                  color=\"white\" if cm[i, j] > thresh else \"black\")\n",
        "#     plt.tight_layout()\n",
        "#     plt.ylabel('True label')\n",
        "#     plt.xlabel('Predicted label')\n",
        "#     plt.show()"
      ]
    },
    {
      "cell_type": "markdown",
      "metadata": {
        "id": "pfHMP-oXbdBK"
      },
      "source": [
        "### W2V Representation"
      ]
    },
    {
      "cell_type": "code",
      "execution_count": null,
      "metadata": {
        "id": "NHY37aO7bdBK"
      },
      "outputs": [],
      "source": [
        "# Creo il modello W2V sul training\n",
        "w2v_model = gensim.models.Word2Vec(X_train, vector_size=300, window=8, min_count=2)"
      ]
    },
    {
      "attachments": {},
      "cell_type": "markdown",
      "metadata": {},
      "source": [
        "Ho a disposizione il modello W2V, che ha convertito ogni parola presente nel training (nello specifico, deve essere presente almeno\n",
        "due volte --> min_count=2) in un vettore a 100 componenti. Per generare un vettore rappresentativo di ciascuna review andrò a creare un\n",
        "vettore costituito dalla media (componente per componente) dei vettori delle parole appartenenti alla review. (https://medium.com/@dilip.voleti/classification-using-word2vec-b1d79d375381)"
      ]
    },
    {
      "cell_type": "code",
      "execution_count": null,
      "metadata": {
        "id": "7ohvpxYpbdBK"
      },
      "outputs": [],
      "source": [
        "words = set(w2v_model.wv.index_to_key) # Lista di parole presenti nel modello W2V\n",
        "\n",
        "# Creo due liste, una per il training e una per il test. Ciascuna lista contiene come elementi delle altre liste. \n",
        "# Ciascun elemento (ciascuna lista) contiene i vettori relativi alle parole di una specifica review (una lista per review contenente i vettori delle singole parole)\n",
        "\n",
        "X_train_vect = np.array([np.array([w2v_model.wv[i] for i in ls if i in words])\n",
        "                         for ls in X_train])\n",
        "X_test_vect = np.array([np.array([w2v_model.wv[i] for i in ls if i in words])\n",
        "                         for ls in X_test])"
      ]
    },
    {
      "attachments": {},
      "cell_type": "markdown",
      "metadata": {},
      "source": [
        "Per spiegare meglio quanto fatto sopra uso questo esempio:"
      ]
    },
    {
      "cell_type": "code",
      "execution_count": null,
      "metadata": {
        "id": "tolUovoSbdBK",
        "outputId": "35537d6f-9cc6-4e9b-b05d-fb15cca7b5f0"
      },
      "outputs": [],
      "source": [
        "# La prima review del training è la seguente\n",
        "X_train.head(1)"
      ]
    },
    {
      "cell_type": "code",
      "execution_count": null,
      "metadata": {
        "id": "IWpB32XmbdBL",
        "outputId": "21fe5258-a07e-400c-f844-893cb30109ac"
      },
      "outputs": [],
      "source": [
        "# Le prime due parole sono 'love' e 'walker'. Stampo i vettori di queste due parole\n",
        "w2v_model.wv.get_vector('love')"
      ]
    },
    {
      "cell_type": "code",
      "execution_count": null,
      "metadata": {
        "id": "BJtXrv72bdBL",
        "outputId": "c28ac932-3056-4307-9c61-a558d6effcad"
      },
      "outputs": [],
      "source": [
        "w2v_model.wv.get_vector('walker')"
      ]
    },
    {
      "attachments": {},
      "cell_type": "markdown",
      "metadata": {},
      "source": [
        "Per vedere che sono identici, stampo i primi due elementi della prima lista in X_train_vec. Questi due elementi corrispondono ai vettori delle prime due parole della review selezionata, ossia 'love' e 'walker'"
      ]
    },
    {
      "cell_type": "code",
      "execution_count": null,
      "metadata": {
        "id": "T6Et1uVybdBL",
        "outputId": "9b822d82-1af0-4fd1-bd3c-ac2261f37115"
      },
      "outputs": [],
      "source": [
        "X_train_vect[0][0]"
      ]
    },
    {
      "cell_type": "code",
      "execution_count": null,
      "metadata": {
        "id": "E23_cezqbdBL",
        "outputId": "9995459c-27f9-466d-c175-95159d5dc604"
      },
      "outputs": [],
      "source": [
        "X_train_vect[0][1]"
      ]
    },
    {
      "cell_type": "markdown",
      "metadata": {
        "id": "3sNfSiIFbdBL"
      },
      "source": [
        "Andremo a fare un loop su queste liste. Ogni frase avrà un diverso numero di parole e di conseguenza un numero differente di array da mediare"
      ]
    },
    {
      "cell_type": "code",
      "execution_count": null,
      "metadata": {
        "id": "sbCIseUjbdBL"
      },
      "outputs": [],
      "source": [
        "X_train_vect_avg = []\n",
        "for v in X_train_vect:\n",
        "    if v.size:\n",
        "        X_train_vect_avg.append(v.mean(axis=0))\n",
        "    else:\n",
        "        X_train_vect_avg.append(np.zeros(300, dtype=float))\n",
        "        \n",
        "X_test_vect_avg = []\n",
        "for v in X_test_vect:\n",
        "    if v.size:\n",
        "        X_test_vect_avg.append(v.mean(axis=0))\n",
        "    else:\n",
        "        X_test_vect_avg.append(np.zeros(300, dtype=float))"
      ]
    },
    {
      "cell_type": "code",
      "execution_count": null,
      "metadata": {
        "id": "-1dcfLhBbdBM",
        "outputId": "7d98e4bd-d2af-478c-ced9-de433b324283"
      },
      "outputs": [],
      "source": [
        "for i, v in enumerate(X_train_vect_avg):\n",
        "    print(len(X_train.iloc[i]), len(v))"
      ]
    },
    {
      "attachments": {},
      "cell_type": "markdown",
      "metadata": {
        "id": "4Dkpe8LbbdBM"
      },
      "source": [
        "Come si vede dal for eseguito qui sopra, ogni frase, indipendentemente dal numero di parole che la compongono, corrisponde a un vettore con 300 componenti, creato nello specifico mediando i vettori delle singole parole componente per componente."
      ]
    },
    {
      "cell_type": "code",
      "execution_count": null,
      "metadata": {},
      "outputs": [],
      "source": [
        "# Salvo gli embedding\n"
      ]
    },
    {
      "cell_type": "code",
      "execution_count": null,
      "metadata": {},
      "outputs": [],
      "source": [
        "# Carico gli embedding"
      ]
    },
    {
      "attachments": {},
      "cell_type": "markdown",
      "metadata": {},
      "source": [
        "#### Implementazione algoritmi"
      ]
    },
    {
      "attachments": {},
      "cell_type": "markdown",
      "metadata": {},
      "source": [
        "**X_train_vect_avg e X_test_vect_avg sono i vettori di feature da utilizzare, rispettivamente, per il training del modello e per le previsioni sul test set**"
      ]
    },
    {
      "cell_type": "code",
      "execution_count": null,
      "metadata": {},
      "outputs": [],
      "source": []
    },
    {
      "attachments": {},
      "cell_type": "markdown",
      "metadata": {},
      "source": [
        "#### Implementazione algoritmi\n",
        "\n",
        "- Regressione Logistica\n",
        "- Random Forest\n",
        "- SVM\n",
        "- XGBoost"
      ]
    },
    {
      "attachments": {},
      "cell_type": "markdown",
      "metadata": {},
      "source": [
        "##### Regressione Logistica"
      ]
    },
    {
      "cell_type": "code",
      "execution_count": null,
      "metadata": {
        "id": "Bc_7nKJtor5f"
      },
      "outputs": [],
      "source": [
        "\n",
        "# Regressione logistica con ottimizzazione degli iperparametri\n",
        "model = LogisticRegression(random_state=1)\n",
        "\n",
        "# Iperparametri \"critici\" da ottimizzare \n",
        "solvers = ['newton-cg', 'lbfgs', 'liblinear', 'sag', 'saga']\n",
        "penalty = ['None', 'l2']\n",
        "c_values = [100, 10, 1.0, 0.1, 0.01]\n",
        "\n",
        "# Definisco la griglia di ricerca\n",
        "grid = dict(solver=solvers,penalty=penalty,C=c_values)\n",
        "\n",
        "# Start the clock, train the classifier, then stop the clock\n",
        "start = time()\n",
        "\n",
        "# CV and Tuning\n",
        "grid_search = GridSearchCV(estimator=model, param_grid=grid, n_jobs=-1, cv=2, scoring='accuracy',error_score=0)\n",
        "grid_result = grid_search.fit(X_train_vect_avg, y_train)\n",
        "end = time()\n",
        "print (\"Train and tuning model in {:.4f} seconds\".format(end - start))\n",
        "\n",
        "# Salvataggio dei risultati del tuning\n",
        "# joblib.dump(grid_result, 'logreg_gridsearch_TFIDF.joblib')\n",
        "\n",
        "model_path = '/content/gdrive/MyDrive/TextMiningProject/logreg_gridsearch_w2v.joblib'\n",
        "joblib.dump(grid_result, model_path)"
      ]
    },
    {
      "cell_type": "code",
      "execution_count": null,
      "metadata": {
        "id": "TBfucnr3od4p",
        "outputId": "0c9070c9-f194-4486-e4fc-80cb0405479d"
      },
      "outputs": [],
      "source": [
        "# Caricamento del risultato del tuning\n",
        "loaded_grid_search = joblib.load('./Model_estimated/logreg_gridsearch_w2v.joblib')\n",
        "\n",
        "# Summary dei risultati\n",
        "print(\"Best result: %f using %s\" % (loaded_grid_search.best_score_, loaded_grid_search.best_params_))\n",
        "\n",
        "#Salvo il modello con le migliori performance\n",
        "model_lr_w2v = loaded_grid_search.best_estimator_"
      ]
    },
    {
      "attachments": {},
      "cell_type": "markdown",
      "metadata": {},
      "source": [
        "##### Random Forest"
      ]
    },
    {
      "cell_type": "code",
      "execution_count": null,
      "metadata": {
        "id": "a65EYpzJod4p",
        "outputId": "8f548533-d696-435a-fbdb-0b4d194d7d10"
      },
      "outputs": [],
      "source": [
        "# Random Forest\n",
        "model = RandomForestClassifier()\n",
        "\n",
        "# Parametri 'critici' da ottimizzare\n",
        "n_estimators = [10, 100, 1000]\n",
        "max_features = ['sqrt', 'log2']\n",
        "#Definisco la griglia di ricerca \n",
        "grid = dict(n_estimators=n_estimators,max_features=max_features)\n",
        "\n",
        "# Start the clock, train the classifier, then stop the clock\n",
        "start = time()\n",
        "\n",
        "grid_search = GridSearchCV(estimator=model, param_grid=grid, n_jobs=-1, cv=2, scoring='accuracy', error_score=0)\n",
        "grid_result = grid_search.fit(X_train_vect_avg, y_train)\n",
        "end = time()\n",
        "print (\"Train and tuning model in {:.4f} seconds\".format(end - start))\n",
        "\n",
        "# Salvataggio dei risultati del tuning\n",
        "joblib.dump(grid_result, 'rf_gridsearch_TFIDF.joblib')\n",
        "\n",
        "model_path = '/content/gdrive/MyDrive/TextMiningProject/rf_gridsearch_w2v.joblib'\n",
        "joblib.dump(grid_result, model_path)"
      ]
    },
    {
      "cell_type": "code",
      "execution_count": null,
      "metadata": {
        "id": "0Ozrj-lCod4p",
        "outputId": "d2e5d933-0232-4bb0-d111-8b84f96b741f"
      },
      "outputs": [],
      "source": [
        "\n",
        "# Caricamento del risultato del tuning\n",
        "loaded_grid_search = joblib.load('rf_gridsearch_w2vjoblib')\n",
        "\n",
        "# Summary dei risultati\n",
        "print(\"Best result: %f using %s\" % (loaded_grid_search.best_score_, loaded_grid_search.best_params_))\n",
        "\n",
        "# Salvo il modello con le migliori perfomance\n",
        "model_rf_w2v = loaded_grid_search.best_estimator_"
      ]
    },
    {
      "attachments": {},
      "cell_type": "markdown",
      "metadata": {},
      "source": [
        "##### KNN"
      ]
    },
    {
      "attachments": {},
      "cell_type": "markdown",
      "metadata": {},
      "source": [
        "##### XGBoost"
      ]
    },
    {
      "attachments": {},
      "cell_type": "markdown",
      "metadata": {},
      "source": [
        "Parametri fissati: \n",
        "- subsample = 0.5 (valore basso per contenere overfitting)\n",
        "- max_depth = 5 (valore intermedio, non troppo basso per permettere al modello di comprendere pattern complessi, non troppo alto per evitare overfitting)\n",
        "\n",
        "Parametri da ottimizzare: \n",
        "- n_estimators [10, 100, 1000]\n",
        "- learning_rate in [0.01, 0.1, 0.5]\n",
        "\n",
        "L'ottimo sarebbe ottimizzare tutti e quattro questi parametri, ma la potenza computazionale disponibile non è sufficiente "
      ]
    },
    {
      "cell_type": "code",
      "execution_count": null,
      "metadata": {
        "id": "ZDawPai8od4q"
      },
      "outputs": [],
      "source": [
        "# XG-Boost con ottimizzazione degli iperparametri\n",
        "model = GradientBoostingClassifier(subsample=0.5, max_depth=5)\n",
        "\n",
        "# Parametri critici da\n",
        "n_estimators = [10, 100, 1000]\n",
        "learning_rate = [0.01, 0.1, 0.5]\n",
        "\n",
        "#Definisco la griglia di ricerca\n",
        "grid = dict(learning_rate=learning_rate, n_estimators=n_estimators)\n",
        "\n",
        "# Start the clock, train the classifier, then stop the clock\n",
        "start = time()\n",
        "\n",
        "grid_search = GridSearchCV(estimator=model, param_grid=grid, n_jobs=-1, cv =2, scoring='accuracy', error_score=0)\n",
        "grid_result = grid_search.fit(X_train_vect_avg, y_train)\n",
        "end = time()\n",
        "print (\"Train and tuning model in {:.4f} seconds\".format(end - start))\n",
        "\n",
        "# Salvataggio dei risultati del tuning\n",
        "# joblib.dump(grid_result, 'xgboost_gridsearch_TFIDF.joblib')\n",
        "\n",
        "# Salvataggio dei risultati del tuning Google-Colab\n",
        "model_path = '/content/gdrive/MyDrive/TextMiningProject/xgboost_gridsearch_w2v.joblib'\n",
        "joblib.dump(grid_result, model_path)"
      ]
    },
    {
      "cell_type": "code",
      "execution_count": null,
      "metadata": {
        "id": "fj35n2L0od4q"
      },
      "outputs": [],
      "source": [
        "# Caricamento del risultato del tuning\n",
        "loaded_grid_search = joblib.load('xgboost_gridsearch_w2v.joblib')\n",
        "\n",
        "# Summary dei risultati\n",
        "print(\"Best result: %f using %s\" % (loaded_grid_search.best_score_, loaded_grid_search.best_params_))\n",
        "\n",
        "# Salvo il modello con le migliori perfomance\n",
        "model_xgboost_w2v = loaded_grid_search.best_estimator_\n"
      ]
    },
    {
      "attachments": {},
      "cell_type": "markdown",
      "metadata": {},
      "source": [
        "### Analisi dei risultati"
      ]
    },
    {
      "cell_type": "code",
      "execution_count": null,
      "metadata": {
        "id": "T76s-wjxod4q"
      },
      "outputs": [],
      "source": [
        "models = [model_lr_w2v, model_rf_w2v, model_svm_w2v, model_xgboost_w2v]\n",
        "\n",
        "# Previsioni sul test set\n",
        "results = []\n",
        "for model in models:\n",
        "    y_pred = model.predict(X_test_vect_avg)\n",
        "    acc = accuracy_score(y_test, y_pred)\n",
        "    prec = precision_score(y_test, y_pred)\n",
        "    recall = recall_score(y_test, y_pred)\n",
        "    f1 = f1_score(y_test, y_pred)\n",
        "    results.append([acc, prec, recall, f1])\n",
        "\n",
        "# Creo la tabella e visualizzo i risultati\n",
        "df_results = pd.DataFrame(results, columns=['Accuracy', 'Precision', 'Recall', 'F1 Score'])\n",
        "df_results.index = ['LR model', 'RF model', 'SVM model', 'XGBOOST model']\n",
        "print(df_results)"
      ]
    },
    {
      "cell_type": "code",
      "execution_count": null,
      "metadata": {
        "id": "2uIUd5_Qod4q"
      },
      "outputs": [],
      "source": [
        "# Crea i grafici ROC per ogni modello\n",
        "for model in models:\n",
        "    y_pred_proba = model.predict_proba(X_test_BOW)[::,1]\n",
        "    fpr, tpr, _ = roc_curve(y_test, y_pred_proba)\n",
        "    auc = roc_auc_score(y_test, y_pred_proba)\n",
        "    plt.plot(fpr,tpr,label=\"AUC=\"+str(auc))\n",
        "    plt.legend(loc = 'lower right')"
      ]
    },
    {
      "cell_type": "code",
      "execution_count": null,
      "metadata": {
        "id": "Bq8r-Bxfod4q"
      },
      "outputs": [],
      "source": [
        "# Creo le matrici di confusione per ogni modello\n",
        "for model in models:\n",
        "    cm = confusion_matrix(y_test, y_pred)\n",
        "    plt.figure()\n",
        "    plt.imshow(cm, interpolation='nearest', cmap=plt.cm.Blues)\n",
        "    plt.title(\"Confusion Matrix - \" + str(model))\n",
        "    plt.colorbar()\n",
        "    tick_marks = np.arange(3)\n",
        "    plt.xticks(tick_marks, [\"Class 1\", \"Class 2\", \"Class 3\", \"Class 4\", \"Class 5\"])\n",
        "    plt.yticks(tick_marks, [\"Class 1\", \"Class 2\", \"Class 3\", \"Class 4\", \"Class 5\"])\n",
        "    thresh = cm.max() / 2.\n",
        "    for i, j in itertools.product(range(cm.shape[0]), range(cm.shape[1])):\n",
        "        plt.text(j, i, format(cm[i, j]),\n",
        "                 horizontalalignment=\"center\",\n",
        "                 color=\"white\" if cm[i, j] > thresh else \"black\")\n",
        "    plt.tight_layout()\n",
        "    plt.ylabel('True label')\n",
        "    plt.xlabel('Predicted label')\n",
        "    plt.show()"
      ]
    },
    {
      "attachments": {},
      "cell_type": "markdown",
      "metadata": {
        "id": "GIkkUxzRbdBJ"
      },
      "source": [
        "#### Analizzo i risultati:"
      ]
    },
    {
      "attachments": {},
      "cell_type": "markdown",
      "metadata": {},
      "source": [
        "##### Regressione logistica"
      ]
    },
    {
      "attachments": {},
      "cell_type": "markdown",
      "metadata": {},
      "source": [
        "##### Random Forest"
      ]
    },
    {
      "attachments": {},
      "cell_type": "markdown",
      "metadata": {
        "id": "ttPs76bybdBM"
      },
      "source": [
        "# Binary Classification "
      ]
    },
    {
      "cell_type": "code",
      "execution_count": null,
      "metadata": {
        "id": "HzY6n3G1bdBN"
      },
      "outputs": [],
      "source": [
        "# Tengo solo gli score diversi da 3\n",
        "df_binary = classification_df[classification_df['Score']!=3]"
      ]
    },
    {
      "cell_type": "code",
      "execution_count": null,
      "metadata": {
        "id": "kCs59w6nbdBN",
        "outputId": "cfc88456-08cd-47cc-c28e-61c6a1981751"
      },
      "outputs": [],
      "source": [
        "# Creo variabile binaria\n",
        "df_binary.loc[df_binary.Score < 3, \"Score\"] = 0\n",
        "df_binary.loc[df_binary.Score > 3, \"Score\"] = 1\n",
        "df_binary.head()"
      ]
    },
    {
      "cell_type": "code",
      "execution_count": null,
      "metadata": {
        "id": "ct3JDf1ubdBN",
        "outputId": "32d0faa7-2f42-4952-c66b-89dcec87c5ed"
      },
      "outputs": [],
      "source": [
        "sns.histplot(df_binary['Score'], discrete=True)\n",
        "plt.title(\"Score distribution\", fontweight='bold')\n",
        "plt.xlabel(\"Score\")\n",
        "plt.ylabel(\"Number of reviews\")"
      ]
    },
    {
      "cell_type": "code",
      "execution_count": null,
      "metadata": {
        "id": "lhoAg9R-bdBN",
        "outputId": "4649b2c1-135c-400d-d00b-eaeb95371ecb"
      },
      "outputs": [],
      "source": [
        "sample_size_binary = df_binary.groupby('Score').count().min()[0]\n",
        "sample_size_binary"
      ]
    },
    {
      "cell_type": "code",
      "execution_count": null,
      "metadata": {
        "id": "ZwJZHLe1bdBN",
        "outputId": "43e9754f-5e49-4041-f03b-f073582a77de"
      },
      "outputs": [],
      "source": [
        "binary_downsampled = df_binary.groupby('Score', group_keys=False).apply(lambda x: x.sample(sample_size_binary))\n",
        "binary_downsampled"
      ]
    },
    {
      "cell_type": "code",
      "execution_count": null,
      "metadata": {
        "id": "wby7To08bdBN"
      },
      "outputs": [],
      "source": [
        "X_train_bin, X_test_bin, y_train_bin, y_test_bin = train_test_split(binary_downsampled[\"Lemmatized Text\"], \n",
        "                                                    binary_downsampled[\"Score\"], \n",
        "                                                    test_size=0.3, \n",
        "                                                    random_state=1, \n",
        "                                                    stratify=binary_downsampled['Score'])"
      ]
    },
    {
      "cell_type": "markdown",
      "metadata": {
        "id": "L84UBa5KbdBN"
      },
      "source": [
        "### BOW"
      ]
    },
    {
      "cell_type": "code",
      "execution_count": null,
      "metadata": {
        "id": "I18Drqh5bdBN"
      },
      "outputs": [],
      "source": [
        "cv_bin = CountVectorizer(min_df=0., max_df=1.0)\n",
        "cv_model_bin = cv_bin.fit(X_train_bin.astype(str)) \n",
        "X_train_BOW_bin = cv_model_bin.transform(X_train_bin.astype(str))"
      ]
    },
    {
      "cell_type": "code",
      "execution_count": null,
      "metadata": {
        "id": "RryY_XjJbdBO",
        "outputId": "1f14d880-cd31-4b5f-94ab-58f5bd92697e"
      },
      "outputs": [],
      "source": [
        "tSVD_BOW_bin = TruncatedSVD(n_components = 1000)\n",
        "SVD_BOW_bin = tSVD_BOW_bin.fit(X_train_BOW_bin)\n",
        "X_train_BOW_bin = tSVD_BOW_bin.transform(X_train_BOW_bin)\n",
        "print(SVD_BOW_bin.explained_variance_ratio_.sum())"
      ]
    },
    {
      "cell_type": "code",
      "execution_count": null,
      "metadata": {
        "id": "wtSDTRO6bdBO"
      },
      "outputs": [],
      "source": [
        "X_test_BOW_bin = cv_model_bin.transform(X_test_bin.astype(str))\n",
        "X_test_BOW_bin = SVD_BOW_bin.transform(X_test_BOW_bin)"
      ]
    },
    {
      "cell_type": "code",
      "execution_count": null,
      "metadata": {
        "id": "ZPEMtQxKbdBO"
      },
      "outputs": [],
      "source": [
        "# Regressione\n",
        "\n",
        "lr_BOW_bin = LogisticRegression(random_state=1)\n",
        "model_lr_BOW_bin = lr_BOW_bin.fit(X_train_BOW_bin, y_train_bin)\n",
        "predictions_lr_BOW_bin = model_lr_BOW_bin.predict(X_test_BOW_bin)"
      ]
    },
    {
      "cell_type": "code",
      "execution_count": null,
      "metadata": {
        "id": "b4m7w7jKbdBO"
      },
      "outputs": [],
      "source": [
        "# Random Forest\n",
        "\n",
        "rf_BOW_bin = RandomForestClassifier(n_jobs = -1)\n",
        "model_rf_BOW_bin = rf_BOW_bin.fit(X_train_BOW_bin, y_train_bin)\n",
        "predictions_rf_BOW_bin = model_rf_BOW_bin.predict(X_test_BOW_bin)"
      ]
    },
    {
      "cell_type": "markdown",
      "metadata": {
        "id": "GpqZE1zCbdBO"
      },
      "source": [
        "Performance:"
      ]
    },
    {
      "cell_type": "code",
      "execution_count": null,
      "metadata": {
        "id": "SzZLIzPGbdBO",
        "outputId": "30918f4d-faac-4f50-b4f3-2a1fc0fde540"
      },
      "outputs": [],
      "source": [
        "evaluation(predictions_lr_BOW_bin, y_test_bin)"
      ]
    },
    {
      "cell_type": "code",
      "execution_count": null,
      "metadata": {
        "id": "j97Q64O4bdBP",
        "outputId": "840e9b98-82ba-4435-b397-a605cab67a7c"
      },
      "outputs": [],
      "source": [
        "evaluation(predictions_rf_BOW_bin, y_test_bin)"
      ]
    },
    {
      "cell_type": "markdown",
      "metadata": {
        "id": "q0Pr6_tAbdBP"
      },
      "source": [
        "### TF-IDF"
      ]
    },
    {
      "cell_type": "code",
      "execution_count": null,
      "metadata": {
        "id": "9IgrRTp-bdBP"
      },
      "outputs": [],
      "source": [
        "tv_bin = TfidfVectorizer(min_df=0., max_df=1., use_idf=True)\n",
        "tv_model_bin = tv_bin.fit(X_train_bin.astype(str))\n",
        "X_train_TFIDF_bin = tv_bin.transform(X_train_bin.astype(str))"
      ]
    },
    {
      "cell_type": "code",
      "execution_count": null,
      "metadata": {
        "id": "0tMJP-LbbdBP",
        "outputId": "8b1dadf1-c4cc-45db-c089-3a0b1af997a0"
      },
      "outputs": [],
      "source": [
        "tSVD_TFIDF_bin = TruncatedSVD(n_components = 1000)\n",
        "SVD_TFIDF_bin = tSVD_TFIDF_bin.fit(X_train_TFIDF_bin)\n",
        "X_train_TFIDF_bin = tSVD_TFIDF_bin.transform(X_train_TFIDF_bin)\n",
        "print(SVD_TFIDF_bin.explained_variance_ratio_.sum())"
      ]
    },
    {
      "cell_type": "code",
      "execution_count": null,
      "metadata": {
        "id": "xqGdlXS1bdBP"
      },
      "outputs": [],
      "source": [
        "X_test_TFIDF_bin = tv_model_bin.transform(X_test_bin.astype(str))\n",
        "X_test_TFIDF_bin = SVD_TFIDF_bin.transform(X_test_TFIDF_bin)"
      ]
    },
    {
      "cell_type": "code",
      "execution_count": null,
      "metadata": {
        "id": "UqZHHVzNbdBQ"
      },
      "outputs": [],
      "source": [
        "# Regressione\n",
        "\n",
        "lr_TFIDF_bin = LogisticRegression(random_state=1)\n",
        "model_lr_TFIDF_bin = lr_TFIDF_bin.fit(X_train_TFIDF_bin, y_train_bin)\n",
        "predictions_lr_TFIDF_bin = model_lr_TFIDF_bin.predict(X_test_TFIDF_bin)"
      ]
    },
    {
      "cell_type": "code",
      "execution_count": null,
      "metadata": {
        "id": "0yQVxc8ZbdBQ"
      },
      "outputs": [],
      "source": [
        "# Random Forest\n",
        "\n",
        "rf_TFIDF_bin = RandomForestClassifier(n_jobs = -1)\n",
        "model_rf_TFIDF_bin = rf_TFIDF_bin.fit(X_train_TFIDF_bin, y_train_bin)\n",
        "predictions_rf_TFIDF_bin = model_rf_TFIDF_bin.predict(X_test_TFIDF_bin)"
      ]
    },
    {
      "cell_type": "markdown",
      "metadata": {
        "id": "_xLitnyfbdBQ"
      },
      "source": [
        "Performance:"
      ]
    },
    {
      "cell_type": "code",
      "execution_count": null,
      "metadata": {
        "id": "BwCEUJR0bdBQ",
        "outputId": "c980c38d-56b6-41e6-b162-7bcf37879eeb"
      },
      "outputs": [],
      "source": [
        "evaluation(predictions_lr_TFIDF_bin, y_test_bin)"
      ]
    },
    {
      "cell_type": "code",
      "execution_count": null,
      "metadata": {
        "id": "tWfiC0jDbdBQ",
        "outputId": "d1e8c505-9750-409e-8f55-609eb03d3c80"
      },
      "outputs": [],
      "source": [
        "evaluation(predictions_rf_TFIDF_bin, y_test_bin)"
      ]
    },
    {
      "cell_type": "markdown",
      "metadata": {
        "id": "SvKv3uJAbdBQ"
      },
      "source": [
        "### W2V"
      ]
    },
    {
      "cell_type": "code",
      "execution_count": null,
      "metadata": {
        "id": "zCVIqdo6bdBR"
      },
      "outputs": [],
      "source": [
        "w2v_model_bin = gensim.models.Word2Vec(X_train_bin, vector_size=300, window=8, min_count=2)"
      ]
    },
    {
      "cell_type": "code",
      "execution_count": null,
      "metadata": {
        "id": "ZL_Rkvl6bdBR"
      },
      "outputs": [],
      "source": [
        "words_bin = set(w2v_model_bin.wv.index_to_key) \n",
        "\n",
        "X_train_bin_vect = np.array([np.array([w2v_model_bin.wv[i] for i in ls if i in words_bin])\n",
        "                         for ls in X_train_bin])\n",
        "X_test_bin_vect = np.array([np.array([w2v_model_bin.wv[i] for i in ls if i in words_bin])\n",
        "                         for ls in X_test_bin])"
      ]
    },
    {
      "cell_type": "code",
      "execution_count": null,
      "metadata": {
        "id": "-xaUnBtybdBR"
      },
      "outputs": [],
      "source": [
        "X_train_bin_vect_avg = []\n",
        "for v in X_train_bin_vect:\n",
        "    if v.size:\n",
        "        X_train_bin_vect_avg.append(v.mean(axis=0))\n",
        "    else:\n",
        "        X_train_bin_vect_avg.append(np.zeros(300, dtype=float))\n",
        "        \n",
        "X_test_bin_vect_avg = []\n",
        "for v in X_test_bin_vect:\n",
        "    if v.size:\n",
        "        X_test_bin_vect_avg.append(v.mean(axis=0))\n",
        "    else:\n",
        "        X_test_bin_vect_avg.append(np.zeros(300, dtype=float))"
      ]
    },
    {
      "cell_type": "code",
      "execution_count": null,
      "metadata": {
        "id": "qnJg1fsabdBR"
      },
      "outputs": [],
      "source": [
        "# Regressione logistica\n",
        "\n",
        "lr_bin_W2V = LogisticRegression(random_state=1)\n",
        "model_lr_bin_W2V = lr_bin_W2V.fit(X_train_bin_vect_avg, y_train_bin)\n",
        "predictions_lr_bin_W2V = model_lr_bin_W2V.predict(X_test_bin_vect_avg)"
      ]
    },
    {
      "cell_type": "code",
      "execution_count": null,
      "metadata": {
        "id": "3RAC9dJYbdBR"
      },
      "outputs": [],
      "source": [
        "# Random Forest\n",
        "\n",
        "rf_bin_W2V = RandomForestClassifier(n_jobs = -1)\n",
        "model_rf_bin_W2V = rf_bin_W2V.fit(X_train_bin_vect_avg, y_train_bin)\n",
        "predictions_rf_bin_W2V = model_rf_bin_W2V.predict(X_test_bin_vect_avg)"
      ]
    },
    {
      "cell_type": "markdown",
      "metadata": {
        "id": "MA3jez-RbdBR"
      },
      "source": [
        "Performance:"
      ]
    },
    {
      "cell_type": "code",
      "execution_count": null,
      "metadata": {
        "id": "15Nm2RUmbdBS",
        "outputId": "cf77e272-1850-48a5-f876-81a4a5a9ae64"
      },
      "outputs": [],
      "source": [
        "evaluation(predictions_lr_bin_W2V, y_test_bin)"
      ]
    },
    {
      "cell_type": "code",
      "execution_count": null,
      "metadata": {
        "id": "xRqGpDSibdBS",
        "outputId": "95d466e1-e940-45a8-a1c9-e849fd83220d"
      },
      "outputs": [],
      "source": [
        "evaluation(predictions_rf_bin_W2V, y_test_bin)"
      ]
    },
    {
      "cell_type": "markdown",
      "metadata": {
        "id": "ZFToOhQkbdBS"
      },
      "source": [
        "# Idee successive"
      ]
    },
    {
      "cell_type": "markdown",
      "metadata": {
        "id": "3W26ADWfbdBS"
      },
      "source": [
        "- Usare altri altri modelli (SVM, KNN, ...)\n",
        "- Valutare considerazioni su downsampling\n",
        "- Iperparametri della SVD per la riduzione della dimensionalità (?)\n",
        "- Ottimizzazione iperparametri (specialmente su W2V, usare skipgram/cbow, e ottimizzare finestra, ecc...)\n",
        "- BERT (?)"
      ]
    }
  ],
  "metadata": {
    "colab": {
      "provenance": []
    },
    "kernelspec": {
      "display_name": "Nlp",
      "language": "python",
      "name": "nlp"
    },
    "language_info": {
      "codemirror_mode": {
        "name": "ipython",
        "version": 3
      },
      "file_extension": ".py",
      "mimetype": "text/x-python",
      "name": "python",
      "nbconvert_exporter": "python",
      "pygments_lexer": "ipython3",
      "version": "3.10.3"
    },
    "orig_nbformat": 4,
    "vscode": {
      "interpreter": {
        "hash": "dacea306b0f32c61537efd63a0134a85ab05fa1c452b30b5f779d236d2bf6c2d"
      }
    }
  },
  "nbformat": 4,
  "nbformat_minor": 0
}

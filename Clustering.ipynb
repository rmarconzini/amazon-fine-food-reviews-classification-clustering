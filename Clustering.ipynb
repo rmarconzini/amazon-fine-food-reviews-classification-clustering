{
 "cells": [
  {
   "cell_type": "code",
   "execution_count": 1,
   "metadata": {},
   "outputs": [
    {
     "name": "stderr",
     "output_type": "stream",
     "text": [
      "[nltk_data] Downloading package punkt to\n",
      "[nltk_data]     C:\\Users\\cafe6\\AppData\\Roaming\\nltk_data...\n",
      "[nltk_data]   Package punkt is already up-to-date!\n",
      "[nltk_data] Downloading package wordnet to\n",
      "[nltk_data]     C:\\Users\\cafe6\\AppData\\Roaming\\nltk_data...\n",
      "[nltk_data]   Package wordnet is already up-to-date!\n"
     ]
    }
   ],
   "source": [
    "import pandas as pd \n",
    "import numpy as np \n",
    "from collections import Counter \n",
    "from matplotlib import pyplot as plt\n",
    "%matplotlib inline\n",
    "import seaborn as sns\n",
    "import warnings\n",
    "warnings.filterwarnings(\"ignore\")\n",
    "import re\n",
    "\n",
    "import nltk\n",
    "from nltk.tokenize import word_tokenize \n",
    "nltk.download('punkt')\n",
    "from nltk import word_tokenize\n",
    "from nltk.stem import WordNetLemmatizer \n",
    "nltk.download('wordnet')\n",
    "from nltk.corpus import stopwords\n",
    "\n",
    "from wordcloud import WordCloud \n",
    "\n",
    "from sklearn.utils import resample\n",
    "from sklearn.decomposition import TruncatedSVD \n",
    "from sklearn.model_selection import train_test_split\n",
    "from sklearn.metrics import classification_report, confusion_matrix\n",
    "from sklearn.linear_model import LogisticRegression\n",
    "from sklearn.kernel_approximation import RBFSampler\n",
    "from sklearn.linear_model import SGDClassifier\n",
    "from sklearn.ensemble import RandomForestClassifier\n",
    "from sklearn.utils import shuffle\n",
    "from sklearn import preprocessing\n",
    "from sklearn.cluster import KMeans\n",
    "from sklearn.metrics import v_measure_score\n",
    "from sklearn.metrics.cluster import adjusted_rand_score\n",
    "from sklearn.cluster import AgglomerativeClustering\n",
    "from sklearn.feature_extraction.text import TfidfVectorizer\n",
    "from sklearn.feature_extraction.text import CountVectorizer\n",
    "\n",
    "import gensim\n",
    "from gensim.utils import simple_preprocess\n",
    "import gensim.corpora as corpora\n",
    "\n",
    "import string\n",
    "\n",
    "from textblob import TextBlob"
   ]
  },
  {
   "cell_type": "code",
   "execution_count": 2,
   "metadata": {},
   "outputs": [],
   "source": [
    "def rm_punct_symb(phrase):\n",
    "    phrase_no_punct = \"\".join([i for i in phrase if i not in string.punctuation])\n",
    "    return phrase_no_punct"
   ]
  },
  {
   "attachments": {},
   "cell_type": "markdown",
   "metadata": {},
   "source": [
    "# Data preparation"
   ]
  },
  {
   "cell_type": "code",
   "execution_count": 3,
   "metadata": {},
   "outputs": [],
   "source": [
    "# Importazione dataset e riconversione colonna in lista di stringhe, come già fatto nel preprocessing\n",
    "\n",
    "df = pd.read_csv('C:/Users/cafe6/Documents/GitHub/Dati TextMining/df_lemmatized.csv')\n",
    "df['Lemmatized Text'] = df['Lemmatized Text'].apply(rm_punct_symb)\n",
    "df['Lemmatized Text'] = df['Lemmatized Text'].str.split(' ')"
   ]
  },
  {
   "cell_type": "code",
   "execution_count": 4,
   "metadata": {},
   "outputs": [],
   "source": [
    "# Mantengo solo le colonne necessarie al clustering\n",
    "\n",
    "clust_df = df[['Lemmatized Text', 'Score']]"
   ]
  },
  {
   "cell_type": "code",
   "execution_count": 5,
   "metadata": {},
   "outputs": [
    {
     "data": {
      "text/html": [
       "<div>\n",
       "<style scoped>\n",
       "    .dataframe tbody tr th:only-of-type {\n",
       "        vertical-align: middle;\n",
       "    }\n",
       "\n",
       "    .dataframe tbody tr th {\n",
       "        vertical-align: top;\n",
       "    }\n",
       "\n",
       "    .dataframe thead th {\n",
       "        text-align: right;\n",
       "    }\n",
       "</style>\n",
       "<table border=\"1\" class=\"dataframe\">\n",
       "  <thead>\n",
       "    <tr style=\"text-align: right;\">\n",
       "      <th></th>\n",
       "      <th>Lemmatized Text</th>\n",
       "      <th>Score</th>\n",
       "    </tr>\n",
       "  </thead>\n",
       "  <tbody>\n",
       "    <tr>\n",
       "      <th>0</th>\n",
       "      <td>[bought, several, vitality, canned, dog, food,...</td>\n",
       "      <td>5</td>\n",
       "    </tr>\n",
       "    <tr>\n",
       "      <th>1</th>\n",
       "      <td>[product, arrived, labelled, lumbo, halted, pe...</td>\n",
       "      <td>1</td>\n",
       "    </tr>\n",
       "    <tr>\n",
       "      <th>2</th>\n",
       "      <td>[connection, around, century, light, pillow, c...</td>\n",
       "      <td>4</td>\n",
       "    </tr>\n",
       "    <tr>\n",
       "      <th>3</th>\n",
       "      <td>[looking, secret, ingredient, robitussin, beli...</td>\n",
       "      <td>2</td>\n",
       "    </tr>\n",
       "    <tr>\n",
       "      <th>4</th>\n",
       "      <td>[great, staff, great, price, wide, assortment,...</td>\n",
       "      <td>5</td>\n",
       "    </tr>\n",
       "  </tbody>\n",
       "</table>\n",
       "</div>"
      ],
      "text/plain": [
       "                                     Lemmatized Text  Score\n",
       "0  [bought, several, vitality, canned, dog, food,...      5\n",
       "1  [product, arrived, labelled, lumbo, halted, pe...      1\n",
       "2  [connection, around, century, light, pillow, c...      4\n",
       "3  [looking, secret, ingredient, robitussin, beli...      2\n",
       "4  [great, staff, great, price, wide, assortment,...      5"
      ]
     },
     "execution_count": 5,
     "metadata": {},
     "output_type": "execute_result"
    }
   ],
   "source": [
    "clust_df.head()"
   ]
  },
  {
   "attachments": {},
   "cell_type": "markdown",
   "metadata": {},
   "source": [
    "Sappiamo che le review sono sbilanciate verso la classe '4' e '5': procedo al downsampling."
   ]
  },
  {
   "cell_type": "code",
   "execution_count": 6,
   "metadata": {},
   "outputs": [
    {
     "data": {
      "text/plain": [
       "Text(0, 0.5, 'Number of reviews')"
      ]
     },
     "execution_count": 6,
     "metadata": {},
     "output_type": "execute_result"
    },
    {
     "data": {
      "image/png": "[encoded data removed]",
      "text/plain": [
       "<Figure size 640x480 with 1 Axes>"
      ]
     },
     "metadata": {},
     "output_type": "display_data"
    }
   ],
   "source": [
    "sns.histplot(clust_df['Score'], discrete=True)\n",
    "plt.title(\"Score distribution\", fontweight='bold')\n",
    "plt.xlabel(\"Score\")\n",
    "plt.ylabel(\"Number of reviews\")"
   ]
  },
  {
   "cell_type": "code",
   "execution_count": 9,
   "metadata": {},
   "outputs": [
    {
     "data": {
      "text/html": [
       "<div>\n",
       "<style scoped>\n",
       "    .dataframe tbody tr th:only-of-type {\n",
       "        vertical-align: middle;\n",
       "    }\n",
       "\n",
       "    .dataframe tbody tr th {\n",
       "        vertical-align: top;\n",
       "    }\n",
       "\n",
       "    .dataframe thead th {\n",
       "        text-align: right;\n",
       "    }\n",
       "</style>\n",
       "<table border=\"1\" class=\"dataframe\">\n",
       "  <thead>\n",
       "    <tr style=\"text-align: right;\">\n",
       "      <th></th>\n",
       "      <th>Lemmatized Text</th>\n",
       "      <th>Score</th>\n",
       "    </tr>\n",
       "  </thead>\n",
       "  <tbody>\n",
       "    <tr>\n",
       "      <th>351921</th>\n",
       "      <td>[dont, know, well, insecticide, work, could, g...</td>\n",
       "      <td>1</td>\n",
       "    </tr>\n",
       "    <tr>\n",
       "      <th>306465</th>\n",
       "      <td>[delivered, product, around, spaggetti, box, a...</td>\n",
       "      <td>1</td>\n",
       "    </tr>\n",
       "    <tr>\n",
       "      <th>75840</th>\n",
       "      <td>[drinking, costa, ricans, coffee, year, came, ...</td>\n",
       "      <td>1</td>\n",
       "    </tr>\n",
       "    <tr>\n",
       "      <th>302607</th>\n",
       "      <td>[save, money, even, sauce, thought, eating, do...</td>\n",
       "      <td>1</td>\n",
       "    </tr>\n",
       "    <tr>\n",
       "      <th>302539</th>\n",
       "      <td>[son, love, elbas, kitchen, fruit, verge, pouc...</td>\n",
       "      <td>1</td>\n",
       "    </tr>\n",
       "    <tr>\n",
       "      <th>...</th>\n",
       "      <td>...</td>\n",
       "      <td>...</td>\n",
       "    </tr>\n",
       "    <tr>\n",
       "      <th>146642</th>\n",
       "      <td>[ordered, cereal, subscribe, save, cheap, pric...</td>\n",
       "      <td>5</td>\n",
       "    </tr>\n",
       "    <tr>\n",
       "      <th>377518</th>\n",
       "      <td>[thrilled, find, avoids, ginger, available, am...</td>\n",
       "      <td>5</td>\n",
       "    </tr>\n",
       "    <tr>\n",
       "      <th>322393</th>\n",
       "      <td>[recently, saw, vital, coronet, water, sale, c...</td>\n",
       "      <td>5</td>\n",
       "    </tr>\n",
       "    <tr>\n",
       "      <th>133608</th>\n",
       "      <td>[tea, amazing, great, new, tea, enjoyed, tea, ...</td>\n",
       "      <td>5</td>\n",
       "    </tr>\n",
       "    <tr>\n",
       "      <th>187792</th>\n",
       "      <td>[wasnt, much, garlic, lover, bought, tone, gar...</td>\n",
       "      <td>5</td>\n",
       "    </tr>\n",
       "  </tbody>\n",
       "</table>\n",
       "<p>104010 rows × 2 columns</p>\n",
       "</div>"
      ],
      "text/plain": [
       "                                          Lemmatized Text  Score\n",
       "351921  [dont, know, well, insecticide, work, could, g...      1\n",
       "306465  [delivered, product, around, spaggetti, box, a...      1\n",
       "75840   [drinking, costa, ricans, coffee, year, came, ...      1\n",
       "302607  [save, money, even, sauce, thought, eating, do...      1\n",
       "302539  [son, love, elbas, kitchen, fruit, verge, pouc...      1\n",
       "...                                                   ...    ...\n",
       "146642  [ordered, cereal, subscribe, save, cheap, pric...      5\n",
       "377518  [thrilled, find, avoids, ginger, available, am...      5\n",
       "322393  [recently, saw, vital, coronet, water, sale, c...      5\n",
       "133608  [tea, amazing, great, new, tea, enjoyed, tea, ...      5\n",
       "187792  [wasnt, much, garlic, lover, bought, tone, gar...      5\n",
       "\n",
       "[104010 rows x 2 columns]"
      ]
     },
     "execution_count": 9,
     "metadata": {},
     "output_type": "execute_result"
    }
   ],
   "source": [
    "sample_size = clust_df.groupby('Score').count().min()[0] # Prendo come dimensione quella minima fra tutte le classi\n",
    "\n",
    "df_downsampled = clust_df.groupby('Score', group_keys=False).apply(lambda x: x.sample(sample_size))\n",
    "df_downsampled"
   ]
  },
  {
   "cell_type": "code",
   "execution_count": 10,
   "metadata": {},
   "outputs": [
    {
     "data": {
      "text/plain": [
       "Text(0, 0.5, 'Number of reviews')"
      ]
     },
     "execution_count": 10,
     "metadata": {},
     "output_type": "execute_result"
    },
    {
     "data": {
      "image/png": "[encoded data removed]",
      "text/plain": [
       "<Figure size 640x480 with 1 Axes>"
      ]
     },
     "metadata": {},
     "output_type": "display_data"
    }
   ],
   "source": [
    "sns.histplot(df_downsampled['Score'], discrete=True)\n",
    "plt.title(\"Score distribution\", fontweight='bold')\n",
    "plt.xlabel(\"Score\")\n",
    "plt.ylabel(\"Number of reviews\")"
   ]
  },
  {
   "cell_type": "code",
   "execution_count": 11,
   "metadata": {},
   "outputs": [
    {
     "data": {
      "text/html": [
       "<div>\n",
       "<style scoped>\n",
       "    .dataframe tbody tr th:only-of-type {\n",
       "        vertical-align: middle;\n",
       "    }\n",
       "\n",
       "    .dataframe tbody tr th {\n",
       "        vertical-align: top;\n",
       "    }\n",
       "\n",
       "    .dataframe thead th {\n",
       "        text-align: right;\n",
       "    }\n",
       "</style>\n",
       "<table border=\"1\" class=\"dataframe\">\n",
       "  <thead>\n",
       "    <tr style=\"text-align: right;\">\n",
       "      <th></th>\n",
       "      <th>Lemmatized Text</th>\n",
       "      <th>Score</th>\n",
       "    </tr>\n",
       "  </thead>\n",
       "  <tbody>\n",
       "    <tr>\n",
       "      <th>179027</th>\n",
       "      <td>[love, anything, chocolateand, almost, every, ...</td>\n",
       "      <td>1</td>\n",
       "    </tr>\n",
       "    <tr>\n",
       "      <th>210404</th>\n",
       "      <td>[appreciate, namastes, line, allergen, leave, ...</td>\n",
       "      <td>2</td>\n",
       "    </tr>\n",
       "    <tr>\n",
       "      <th>270887</th>\n",
       "      <td>[pad, delicious, convenient, expensive, worrie...</td>\n",
       "      <td>5</td>\n",
       "    </tr>\n",
       "    <tr>\n",
       "      <th>273389</th>\n",
       "      <td>[theyve, raised, price, noble, product, paying...</td>\n",
       "      <td>4</td>\n",
       "    </tr>\n",
       "    <tr>\n",
       "      <th>117040</th>\n",
       "      <td>[television, commercial, pepperidge, farm, mil...</td>\n",
       "      <td>2</td>\n",
       "    </tr>\n",
       "  </tbody>\n",
       "</table>\n",
       "</div>"
      ],
      "text/plain": [
       "                                          Lemmatized Text  Score\n",
       "179027  [love, anything, chocolateand, almost, every, ...      1\n",
       "210404  [appreciate, namastes, line, allergen, leave, ...      2\n",
       "270887  [pad, delicious, convenient, expensive, worrie...      5\n",
       "273389  [theyve, raised, price, noble, product, paying...      4\n",
       "117040  [television, commercial, pepperidge, farm, mil...      2"
      ]
     },
     "execution_count": 11,
     "metadata": {},
     "output_type": "execute_result"
    }
   ],
   "source": [
    "# Eseguo uno shuffle dei dati\n",
    "\n",
    "df_4_clustering = shuffle(df_downsampled, random_state = 123)\n",
    "df_4_clustering.head()"
   ]
  },
  {
   "cell_type": "code",
   "execution_count": 12,
   "metadata": {},
   "outputs": [],
   "source": [
    "# Divido x e y\n",
    "\n",
    "x_clust = df_4_clustering['Lemmatized Text']\n",
    "y_clust = df_4_clustering['Score']"
   ]
  },
  {
   "attachments": {},
   "cell_type": "markdown",
   "metadata": {},
   "source": [
    "# Clustering"
   ]
  },
  {
   "attachments": {},
   "cell_type": "markdown",
   "metadata": {},
   "source": [
    "## BOW"
   ]
  },
  {
   "cell_type": "code",
   "execution_count": 23,
   "metadata": {},
   "outputs": [],
   "source": [
    "cv = CountVectorizer(min_df=0., max_df=1.0)\n",
    "cv_model = cv.fit(x_clust.astype(str)) \n",
    "x_clust_BOW = cv_model.transform(x_clust.astype(str))"
   ]
  },
  {
   "cell_type": "code",
   "execution_count": 24,
   "metadata": {},
   "outputs": [
    {
     "name": "stdout",
     "output_type": "stream",
     "text": [
      "0.7975663681341931\n"
     ]
    }
   ],
   "source": [
    "tSVD_BOW = TruncatedSVD(n_components = 1000)\n",
    "SVD_BOW = tSVD_BOW.fit(x_clust_BOW)\n",
    "x_clust_BOW = tSVD_BOW.transform(x_clust_BOW)\n",
    "print(SVD_BOW.explained_variance_ratio_.sum())"
   ]
  },
  {
   "cell_type": "code",
   "execution_count": null,
   "metadata": {},
   "outputs": [],
   "source": [
    "# Normalizzo i dati\n",
    "\n",
    "# x_clust_BOW_norm = preprocessing.normalize(x_clust_BOW)"
   ]
  },
  {
   "attachments": {},
   "cell_type": "markdown",
   "metadata": {},
   "source": [
    "### K-means"
   ]
  },
  {
   "cell_type": "code",
   "execution_count": 25,
   "metadata": {},
   "outputs": [],
   "source": [
    "n_cluster = 5\n",
    "k_means = KMeans(n_clusters=n_cluster, max_iter=20, n_init=10, random_state=123)\n",
    "k_means = k_means.fit(x_clust_BOW)\n",
    "y_k_means = k_means.predict(x_clust_BOW)"
   ]
  },
  {
   "cell_type": "code",
   "execution_count": 26,
   "metadata": {},
   "outputs": [
    {
     "name": "stdout",
     "output_type": "stream",
     "text": [
      "V measure: 0.006521313553687253\n",
      "Adjusted Rand Index: 0.002580407143986559\n"
     ]
    }
   ],
   "source": [
    "print(f'''V measure: {v_measure_score(y_k_means, y_clust)}''')\n",
    "print(f'''Adjusted Rand Index: {adjusted_rand_score(y_k_means, y_clust)}''')"
   ]
  },
  {
   "attachments": {},
   "cell_type": "markdown",
   "metadata": {},
   "source": [
    "## TF-IDF"
   ]
  },
  {
   "cell_type": "code",
   "execution_count": 14,
   "metadata": {},
   "outputs": [],
   "source": [
    "tv = TfidfVectorizer(min_df=0., max_df=1., use_idf=True)\n",
    "tv_model = tv.fit(x_clust.astype(str))\n",
    "x_clust_TFIDF = tv.transform(x_clust.astype(str))"
   ]
  },
  {
   "cell_type": "code",
   "execution_count": 15,
   "metadata": {},
   "outputs": [
    {
     "name": "stdout",
     "output_type": "stream",
     "text": [
      "0.5641514593482457\n"
     ]
    }
   ],
   "source": [
    "tSVD_TFIDF = TruncatedSVD(n_components = 1000)\n",
    "SVD_TFIDF = tSVD_TFIDF.fit(x_clust_TFIDF)\n",
    "x_clust_TFIDF = tSVD_TFIDF.transform(x_clust_TFIDF)\n",
    "print(SVD_TFIDF.explained_variance_ratio_.sum())"
   ]
  },
  {
   "cell_type": "code",
   "execution_count": null,
   "metadata": {},
   "outputs": [],
   "source": [
    "# Normalizzo i dati\n",
    "\n",
    "# x_clust_TFIDF_norm = preprocessing.normalize(x_clust_TFIDF)"
   ]
  },
  {
   "attachments": {},
   "cell_type": "markdown",
   "metadata": {},
   "source": [
    "### K-means"
   ]
  },
  {
   "cell_type": "code",
   "execution_count": 16,
   "metadata": {},
   "outputs": [],
   "source": [
    "n_cluster = 5\n",
    "k_means = KMeans(n_clusters=n_cluster, max_iter=20, n_init=10, random_state=123)\n",
    "k_means = k_means.fit(x_clust_TFIDF)\n",
    "y_k_means = k_means.predict(x_clust_TFIDF)"
   ]
  },
  {
   "cell_type": "code",
   "execution_count": 18,
   "metadata": {},
   "outputs": [
    {
     "name": "stdout",
     "output_type": "stream",
     "text": [
      "V measure: 0.0014930992852929602\n",
      "Adjusted Rand Index: 0.0002900744815036901\n"
     ]
    }
   ],
   "source": [
    "print(f'''V measure: {v_measure_score(y_k_means, y_clust)}''')\n",
    "print(f'''Adjusted Rand Index: {adjusted_rand_score(y_k_means, y_clust)}''')"
   ]
  },
  {
   "attachments": {},
   "cell_type": "markdown",
   "metadata": {},
   "source": [
    "## W2V"
   ]
  },
  {
   "cell_type": "code",
   "execution_count": 27,
   "metadata": {},
   "outputs": [],
   "source": [
    "w2v_model = gensim.models.Word2Vec(x_clust, vector_size=300, window=8, min_count=2)\n",
    "words = set(w2v_model.wv.index_to_key)"
   ]
  },
  {
   "cell_type": "code",
   "execution_count": 28,
   "metadata": {},
   "outputs": [],
   "source": [
    "x_clust_vect = np.array([np.array([w2v_model.wv[i] for i in ls if i in words])\n",
    "                         for ls in x_clust])"
   ]
  },
  {
   "cell_type": "code",
   "execution_count": 29,
   "metadata": {},
   "outputs": [],
   "source": [
    "x_clust_avg = []\n",
    "for v in x_clust_vect:\n",
    "    if v.size:\n",
    "        x_clust_avg.append(v.mean(axis=0))\n",
    "    else:\n",
    "        x_clust_avg.append(np.zeros(300, dtype=float))"
   ]
  },
  {
   "cell_type": "code",
   "execution_count": null,
   "metadata": {},
   "outputs": [],
   "source": [
    "# Normalizzo i dati\n",
    "\n",
    "# x_clust_avg_norm = preprocessing.normalize(x_clust_avg)"
   ]
  },
  {
   "attachments": {},
   "cell_type": "markdown",
   "metadata": {},
   "source": [
    "### K-means"
   ]
  },
  {
   "cell_type": "code",
   "execution_count": 30,
   "metadata": {},
   "outputs": [],
   "source": [
    "n_cluster = 5\n",
    "k_means = KMeans(n_clusters=n_cluster, max_iter=20, n_init=10, random_state=123)\n",
    "k_means = k_means.fit(x_clust_avg)\n",
    "y_k_means = k_means.predict(x_clust_avg)"
   ]
  },
  {
   "cell_type": "code",
   "execution_count": 31,
   "metadata": {},
   "outputs": [
    {
     "name": "stdout",
     "output_type": "stream",
     "text": [
      "V measure: 0.010985978410116075\n",
      "Adjusted Rand Index: 0.009217988442792549\n"
     ]
    }
   ],
   "source": [
    "print(f'''V measure: {v_measure_score(y_k_means, y_clust)}''')\n",
    "print(f'''Adjusted Rand Index: {adjusted_rand_score(y_k_means, y_clust)}''')"
   ]
  },
  {
   "attachments": {},
   "cell_type": "markdown",
   "metadata": {},
   "source": [
    "# Idee successive"
   ]
  },
  {
   "attachments": {},
   "cell_type": "markdown",
   "metadata": {},
   "source": [
    "- Altri metodi di clustering (DBSCAN, Agglomerative clustering, ...)\n",
    "- Ottimizzazione iperparametri\n",
    "    - Sia quelli di BOW/TF-IDF/W2V che quelli degli algoritmi di clustering (n_init, max_iter)\n",
    "    - Lavorare sul numero di cluster ottimale: per provare il modello ho lavorato ipotizzando che siano 5 cluster, ma in realtà la suddivisione in cluster va in base all'argomento della review, che non centra nulla con il voto associato alla review stessa. Probabilmente avrebbe più senso iterare per cercare il numero ottimale di cluster e valutare diverse misure di performance\n",
    "- Misure di performance: per ora ho considerato v_measure e ARI ipotizzando che la classe a cui appartengono le review sia la ground truth (cosa scorretta). Questo discorso si riallaccia a quello precedente sul numero di clusters "
   ]
  }
 ],
 "metadata": {
  "kernelspec": {
   "display_name": "TextMS",
   "language": "python",
   "name": "textms"
  },
  "language_info": {
   "codemirror_mode": {
    "name": "ipython",
    "version": 3
   },
   "file_extension": ".py",
   "mimetype": "text/x-python",
   "name": "python",
   "nbconvert_exporter": "python",
   "pygments_lexer": "ipython3",
   "version": "3.9.7"
  },
  "orig_nbformat": 4,
  "vscode": {
   "interpreter": {
    "hash": "c347c8f9a7ef94e4c9e03b4513be7835ed18f45b99a2a817fb579f408b867b16"
   }
  }
 },
 "nbformat": 4,
 "nbformat_minor": 2
}

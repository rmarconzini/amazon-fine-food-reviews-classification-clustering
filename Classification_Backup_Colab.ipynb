{
  "cells": [
    {
      "cell_type": "markdown",
      "metadata": {
        "id": "akcujJeIxL09"
      },
      "source": [
        "# Setting"
      ]
    },
    {
      "cell_type": "code",
      "execution_count": 1,
      "metadata": {
        "colab": {
          "base_uri": "https://localhost:8080/"
        },
        "id": "tZarTKRtbdAy",
        "outputId": "2f4ce8d4-58f1-4369-f23f-b2d2adfebc31"
      },
      "outputs": [
        {
          "output_type": "stream",
          "name": "stderr",
          "text": [
            "[nltk_data] Downloading package punkt to /root/nltk_data...\n",
            "[nltk_data]   Unzipping tokenizers/punkt.zip.\n",
            "[nltk_data] Downloading package wordnet to /root/nltk_data...\n"
          ]
        }
      ],
      "source": [
        "# Base\n",
        "import pandas as pd \n",
        "import numpy as np \n",
        "from collections import Counter \n",
        "from matplotlib import pyplot as plt\n",
        "%matplotlib inline\n",
        "import seaborn as sns\n",
        "import warnings\n",
        "warnings.filterwarnings(\"ignore\")\n",
        "import re\n",
        "from time import time\n",
        "import itertools\n",
        "import joblib\n",
        "#NLP\n",
        "import nltk\n",
        "from nltk.tokenize import word_tokenize \n",
        "nltk.download('punkt')\n",
        "from nltk import word_tokenize\n",
        "from nltk.stem import WordNetLemmatizer \n",
        "nltk.download('wordnet')\n",
        "from nltk.corpus import stopwords\n",
        "from wordcloud import WordCloud \n",
        "import gensim\n",
        "from gensim.utils import simple_preprocess\n",
        "import gensim.corpora as corpora\n",
        "import string\n",
        "from textblob import TextBlob\n",
        "\n",
        "\n",
        "#ML\n",
        "from sklearn.utils import resample\n",
        "from sklearn.decomposition import TruncatedSVD \n",
        "from sklearn.model_selection import train_test_split\n",
        "from sklearn.metrics import accuracy_score, precision_score, recall_score, f1_score, roc_auc_score, roc_curve\n",
        "from sklearn.metrics import classification_report, confusion_matrix\n",
        "from sklearn.linear_model import LogisticRegression\n",
        "from sklearn.kernel_approximation import RBFSampler\n",
        "from sklearn.linear_model import SGDClassifier\n",
        "from sklearn.ensemble import RandomForestClassifier\n",
        "from sklearn.svm import SVC\n",
        "from sklearn.ensemble import GradientBoostingClassifier\n",
        "from sklearn.neighbors import KNeighborsClassifier\n",
        "from sklearn.utils import shuffle\n",
        "from sklearn import preprocessing\n",
        "# from sklearn.cluster import KMeans\n",
        "from sklearn.metrics import v_measure_score\n",
        "from sklearn.metrics.cluster import adjusted_rand_score\n",
        "#from sklearn.cluster import AgglomerativeClustering\n",
        "from sklearn.feature_extraction.text import TfidfVectorizer\n",
        "from sklearn.feature_extraction.text import CountVectorizer\n",
        "from sklearn.model_selection import RepeatedStratifiedKFold\n",
        "from sklearn.model_selection import GridSearchCV\n",
        "from sklearn.neighbors import KNeighborsClassifier\n",
        "from sklearn.preprocessing import LabelEncoder\n",
        "from xgboost import XGBClassifier\n",
        "from sklearn.model_selection import RandomizedSearchCV"
      ]
    },
    {
      "cell_type": "code",
      "execution_count": 2,
      "metadata": {
        "colab": {
          "base_uri": "https://localhost:8080/"
        },
        "id": "na6phehtbm6P",
        "outputId": "56d173cb-1eb7-4b7a-9c52-ee492a1ea686"
      },
      "outputs": [
        {
          "output_type": "stream",
          "name": "stdout",
          "text": [
            "Mounted at /content/gdrive\n"
          ]
        }
      ],
      "source": [
        "# Gdrive\n",
        "from google.colab import drive\n",
        "drive.mount('/content/gdrive')"
      ]
    },
    {
      "cell_type": "code",
      "execution_count": 3,
      "metadata": {
        "id": "1h5yU6bVbdA3"
      },
      "outputs": [],
      "source": [
        "# Rimozione della punteggiatura\n",
        "\n",
        "def rm_punct_symb(phrase):\n",
        "    phrase_no_punct = \"\".join([i for i in phrase if i not in string.punctuation])\n",
        "    return phrase_no_punct"
      ]
    },
    {
      "cell_type": "code",
      "execution_count": null,
      "metadata": {
        "id": "qMwscFMCbdA4"
      },
      "outputs": [],
      "source": [
        "# Importazione dataset e riconversione colonna in lista di stringhe, come già fatto nel preprocessing\n",
        "\n",
        "# Gian\n",
        "# df = pd.read_csv('C:/Users/cafe6/Documents/GitHub/Dati TextMining/df_lemmatized.csv')\n",
        "# df['Lemmatized Text'] = df['Lemmatized Text'].apply(rm_punct_symb)\n",
        "# df['Lemmatized Text'] = df['Lemmatized Text'].str.split(' ')"
      ]
    },
    {
      "cell_type": "code",
      "execution_count": null,
      "metadata": {
        "id": "CV6Ed6HcbdA5"
      },
      "outputs": [],
      "source": [
        "# Remo \n",
        "# df = pd.read_csv('H:/.shortcut-targets-by-id/1veNClNl7CxCTFHVNY2Fp29hcMoEj-the/TextMiningProject/df_lemmatized.csv')\n",
        "# df['Lemmatized Text'] = df['Lemmatized Text'].apply(rm_punct_symb)\n",
        "# df['Lemmatized Text'] = df['Lemmatized Text'].str.split(' ')"
      ]
    },
    {
      "cell_type": "code",
      "execution_count": 4,
      "metadata": {
        "id": "xWACtbSdbpM-"
      },
      "outputs": [],
      "source": [
        "# Google colab\n",
        "df = pd.read_csv('/content/gdrive/MyDrive/TextMiningProject/df_lemmatized.csv')\n",
        "df['Lemmatized Text'] = df['Lemmatized Text'].apply(rm_punct_symb)\n",
        "df['Lemmatized Text'] = df['Lemmatized Text'].str.split(' ')"
      ]
    },
    {
      "cell_type": "code",
      "execution_count": 5,
      "metadata": {
        "id": "6kTs3jPmbdA5",
        "outputId": "ecd773bf-4731-41cb-b062-1cd80bf2086a",
        "colab": {
          "base_uri": "https://localhost:8080/",
          "height": 756
        }
      },
      "outputs": [
        {
          "output_type": "execute_result",
          "data": {
            "text/plain": [
              "   Unnamed: 0  Unnamed: 0.1  Id   ProductId          UserId  \\\n",
              "0           0             0   1  B001E4KFG0  A3SGXH7AUHU8GW   \n",
              "1           1             1   2  B00813GRG4  A1D87F6ZCVE5NK   \n",
              "2           2             2   3  B000LQOCH0   ABXLMWJIXXAIN   \n",
              "3           3             3   4  B000UA0QIQ  A395BORC6FGVXV   \n",
              "4           4             4   5  B006K2ZZ7K  A1UQRSCLF8GW1T   \n",
              "\n",
              "                       ProfileName  HelpfulnessNumerator  \\\n",
              "0                       delmartian                     1   \n",
              "1                           dll pa                     0   \n",
              "2  Natalia Corres \"Natalia Corres\"                     1   \n",
              "3                             Karl                     3   \n",
              "4    Michael D. Bigham \"M. Wassir\"                     0   \n",
              "\n",
              "   HelpfulnessDenominator  Score        Time                Summary  \\\n",
              "0                       1      5  2011-04-27  Good Quality Dog Food   \n",
              "1                       0      1  2012-09-07      Not as Advertised   \n",
              "2                       1      4  2008-08-18  \"Delight\" says it all   \n",
              "3                       3      2  2011-06-13         Cough Medicine   \n",
              "4                       0      5  2012-10-21            Great taffy   \n",
              "\n",
              "                                                Text  HelpfulnessRatio  \\\n",
              "0  I have bought several of the Vitality canned d...               1.0   \n",
              "1  Product arrived labeled as Jumbo Salted Peanut...               NaN   \n",
              "2  This is a confection that has been around a fe...               1.0   \n",
              "3  If you are looking for the secret ingredient i...               1.0   \n",
              "4  Great taffy at a great price.  There was a wid...               NaN   \n",
              "\n",
              "   WordCount                                    Normalized Text  \\\n",
              "0         48  i have bought several of the vitality canned d...   \n",
              "1         31  product arrived labelled as lumbo halted peanu...   \n",
              "2         94  this is a connection that has been around a fe...   \n",
              "3         41  if you are looking for the secret ingredient i...   \n",
              "4         27  great staff at a great price  there was a wide...   \n",
              "\n",
              "                                      Tokenized Text  \\\n",
              "0  ['i', 'have', 'bought', 'several', 'of', 'the'...   \n",
              "1  ['product', 'arrived', 'labelled', 'as', 'lumb...   \n",
              "2  ['this', 'is', 'a', 'connection', 'that', 'has...   \n",
              "3  ['if', 'you', 'are', 'looking', 'for', 'the', ...   \n",
              "4  ['great', 'staff', 'at', 'a', 'great', 'price'...   \n",
              "\n",
              "                                  Text_No_Stop_Words  \\\n",
              "0  ['bought', 'several', 'vitality', 'canned', 'd...   \n",
              "1  ['product', 'arrived', 'labelled', 'lumbo', 'h...   \n",
              "2  ['connection', 'around', 'centuries', 'light',...   \n",
              "3  ['looking', 'secret', 'ingredient', 'robitussi...   \n",
              "4  ['great', 'staff', 'great', 'price', 'wide', '...   \n",
              "\n",
              "                                     Lemmatized Text  \n",
              "0  [bought, several, vitality, canned, dog, food,...  \n",
              "1  [product, arrived, labelled, lumbo, halted, pe...  \n",
              "2  [connection, around, century, light, pillow, c...  \n",
              "3  [looking, secret, ingredient, robitussin, beli...  \n",
              "4  [great, staff, great, price, wide, assortment,...  "
            ],
            "text/html": [
              "\n",
              "  <div id=\"df-e9761859-6ace-402c-8476-de63ad532ddc\">\n",
              "    <div class=\"colab-df-container\">\n",
              "      <div>\n",
              "<style scoped>\n",
              "    .dataframe tbody tr th:only-of-type {\n",
              "        vertical-align: middle;\n",
              "    }\n",
              "\n",
              "    .dataframe tbody tr th {\n",
              "        vertical-align: top;\n",
              "    }\n",
              "\n",
              "    .dataframe thead th {\n",
              "        text-align: right;\n",
              "    }\n",
              "</style>\n",
              "<table border=\"1\" class=\"dataframe\">\n",
              "  <thead>\n",
              "    <tr style=\"text-align: right;\">\n",
              "      <th></th>\n",
              "      <th>Unnamed: 0</th>\n",
              "      <th>Unnamed: 0.1</th>\n",
              "      <th>Id</th>\n",
              "      <th>ProductId</th>\n",
              "      <th>UserId</th>\n",
              "      <th>ProfileName</th>\n",
              "      <th>HelpfulnessNumerator</th>\n",
              "      <th>HelpfulnessDenominator</th>\n",
              "      <th>Score</th>\n",
              "      <th>Time</th>\n",
              "      <th>Summary</th>\n",
              "      <th>Text</th>\n",
              "      <th>HelpfulnessRatio</th>\n",
              "      <th>WordCount</th>\n",
              "      <th>Normalized Text</th>\n",
              "      <th>Tokenized Text</th>\n",
              "      <th>Text_No_Stop_Words</th>\n",
              "      <th>Lemmatized Text</th>\n",
              "    </tr>\n",
              "  </thead>\n",
              "  <tbody>\n",
              "    <tr>\n",
              "      <th>0</th>\n",
              "      <td>0</td>\n",
              "      <td>0</td>\n",
              "      <td>1</td>\n",
              "      <td>B001E4KFG0</td>\n",
              "      <td>A3SGXH7AUHU8GW</td>\n",
              "      <td>delmartian</td>\n",
              "      <td>1</td>\n",
              "      <td>1</td>\n",
              "      <td>5</td>\n",
              "      <td>2011-04-27</td>\n",
              "      <td>Good Quality Dog Food</td>\n",
              "      <td>I have bought several of the Vitality canned d...</td>\n",
              "      <td>1.0</td>\n",
              "      <td>48</td>\n",
              "      <td>i have bought several of the vitality canned d...</td>\n",
              "      <td>['i', 'have', 'bought', 'several', 'of', 'the'...</td>\n",
              "      <td>['bought', 'several', 'vitality', 'canned', 'd...</td>\n",
              "      <td>[bought, several, vitality, canned, dog, food,...</td>\n",
              "    </tr>\n",
              "    <tr>\n",
              "      <th>1</th>\n",
              "      <td>1</td>\n",
              "      <td>1</td>\n",
              "      <td>2</td>\n",
              "      <td>B00813GRG4</td>\n",
              "      <td>A1D87F6ZCVE5NK</td>\n",
              "      <td>dll pa</td>\n",
              "      <td>0</td>\n",
              "      <td>0</td>\n",
              "      <td>1</td>\n",
              "      <td>2012-09-07</td>\n",
              "      <td>Not as Advertised</td>\n",
              "      <td>Product arrived labeled as Jumbo Salted Peanut...</td>\n",
              "      <td>NaN</td>\n",
              "      <td>31</td>\n",
              "      <td>product arrived labelled as lumbo halted peanu...</td>\n",
              "      <td>['product', 'arrived', 'labelled', 'as', 'lumb...</td>\n",
              "      <td>['product', 'arrived', 'labelled', 'lumbo', 'h...</td>\n",
              "      <td>[product, arrived, labelled, lumbo, halted, pe...</td>\n",
              "    </tr>\n",
              "    <tr>\n",
              "      <th>2</th>\n",
              "      <td>2</td>\n",
              "      <td>2</td>\n",
              "      <td>3</td>\n",
              "      <td>B000LQOCH0</td>\n",
              "      <td>ABXLMWJIXXAIN</td>\n",
              "      <td>Natalia Corres \"Natalia Corres\"</td>\n",
              "      <td>1</td>\n",
              "      <td>1</td>\n",
              "      <td>4</td>\n",
              "      <td>2008-08-18</td>\n",
              "      <td>\"Delight\" says it all</td>\n",
              "      <td>This is a confection that has been around a fe...</td>\n",
              "      <td>1.0</td>\n",
              "      <td>94</td>\n",
              "      <td>this is a connection that has been around a fe...</td>\n",
              "      <td>['this', 'is', 'a', 'connection', 'that', 'has...</td>\n",
              "      <td>['connection', 'around', 'centuries', 'light',...</td>\n",
              "      <td>[connection, around, century, light, pillow, c...</td>\n",
              "    </tr>\n",
              "    <tr>\n",
              "      <th>3</th>\n",
              "      <td>3</td>\n",
              "      <td>3</td>\n",
              "      <td>4</td>\n",
              "      <td>B000UA0QIQ</td>\n",
              "      <td>A395BORC6FGVXV</td>\n",
              "      <td>Karl</td>\n",
              "      <td>3</td>\n",
              "      <td>3</td>\n",
              "      <td>2</td>\n",
              "      <td>2011-06-13</td>\n",
              "      <td>Cough Medicine</td>\n",
              "      <td>If you are looking for the secret ingredient i...</td>\n",
              "      <td>1.0</td>\n",
              "      <td>41</td>\n",
              "      <td>if you are looking for the secret ingredient i...</td>\n",
              "      <td>['if', 'you', 'are', 'looking', 'for', 'the', ...</td>\n",
              "      <td>['looking', 'secret', 'ingredient', 'robitussi...</td>\n",
              "      <td>[looking, secret, ingredient, robitussin, beli...</td>\n",
              "    </tr>\n",
              "    <tr>\n",
              "      <th>4</th>\n",
              "      <td>4</td>\n",
              "      <td>4</td>\n",
              "      <td>5</td>\n",
              "      <td>B006K2ZZ7K</td>\n",
              "      <td>A1UQRSCLF8GW1T</td>\n",
              "      <td>Michael D. Bigham \"M. Wassir\"</td>\n",
              "      <td>0</td>\n",
              "      <td>0</td>\n",
              "      <td>5</td>\n",
              "      <td>2012-10-21</td>\n",
              "      <td>Great taffy</td>\n",
              "      <td>Great taffy at a great price.  There was a wid...</td>\n",
              "      <td>NaN</td>\n",
              "      <td>27</td>\n",
              "      <td>great staff at a great price  there was a wide...</td>\n",
              "      <td>['great', 'staff', 'at', 'a', 'great', 'price'...</td>\n",
              "      <td>['great', 'staff', 'great', 'price', 'wide', '...</td>\n",
              "      <td>[great, staff, great, price, wide, assortment,...</td>\n",
              "    </tr>\n",
              "  </tbody>\n",
              "</table>\n",
              "</div>\n",
              "      <button class=\"colab-df-convert\" onclick=\"convertToInteractive('df-e9761859-6ace-402c-8476-de63ad532ddc')\"\n",
              "              title=\"Convert this dataframe to an interactive table.\"\n",
              "              style=\"display:none;\">\n",
              "        \n",
              "  <svg xmlns=\"http://www.w3.org/2000/svg\" height=\"24px\"viewBox=\"0 0 24 24\"\n",
              "       width=\"24px\">\n",
              "    <path d=\"M0 0h24v24H0V0z\" fill=\"none\"/>\n",
              "    <path d=\"M18.56 5.44l.94 2.06.94-2.06 2.06-.94-2.06-.94-.94-2.06-.94 2.06-2.06.94zm-11 1L8.5 8.5l.94-2.06 2.06-.94-2.06-.94L8.5 2.5l-.94 2.06-2.06.94zm10 10l.94 2.06.94-2.06 2.06-.94-2.06-.94-.94-2.06-.94 2.06-2.06.94z\"/><path d=\"M17.41 7.96l-1.37-1.37c-.4-.4-.92-.59-1.43-.59-.52 0-1.04.2-1.43.59L10.3 9.45l-7.72 7.72c-.78.78-.78 2.05 0 2.83L4 21.41c.39.39.9.59 1.41.59.51 0 1.02-.2 1.41-.59l7.78-7.78 2.81-2.81c.8-.78.8-2.07 0-2.86zM5.41 20L4 18.59l7.72-7.72 1.47 1.35L5.41 20z\"/>\n",
              "  </svg>\n",
              "      </button>\n",
              "      \n",
              "  <style>\n",
              "    .colab-df-container {\n",
              "      display:flex;\n",
              "      flex-wrap:wrap;\n",
              "      gap: 12px;\n",
              "    }\n",
              "\n",
              "    .colab-df-convert {\n",
              "      background-color: #E8F0FE;\n",
              "      border: none;\n",
              "      border-radius: 50%;\n",
              "      cursor: pointer;\n",
              "      display: none;\n",
              "      fill: #1967D2;\n",
              "      height: 32px;\n",
              "      padding: 0 0 0 0;\n",
              "      width: 32px;\n",
              "    }\n",
              "\n",
              "    .colab-df-convert:hover {\n",
              "      background-color: #E2EBFA;\n",
              "      box-shadow: 0px 1px 2px rgba(60, 64, 67, 0.3), 0px 1px 3px 1px rgba(60, 64, 67, 0.15);\n",
              "      fill: #174EA6;\n",
              "    }\n",
              "\n",
              "    [theme=dark] .colab-df-convert {\n",
              "      background-color: #3B4455;\n",
              "      fill: #D2E3FC;\n",
              "    }\n",
              "\n",
              "    [theme=dark] .colab-df-convert:hover {\n",
              "      background-color: #434B5C;\n",
              "      box-shadow: 0px 1px 3px 1px rgba(0, 0, 0, 0.15);\n",
              "      filter: drop-shadow(0px 1px 2px rgba(0, 0, 0, 0.3));\n",
              "      fill: #FFFFFF;\n",
              "    }\n",
              "  </style>\n",
              "\n",
              "      <script>\n",
              "        const buttonEl =\n",
              "          document.querySelector('#df-e9761859-6ace-402c-8476-de63ad532ddc button.colab-df-convert');\n",
              "        buttonEl.style.display =\n",
              "          google.colab.kernel.accessAllowed ? 'block' : 'none';\n",
              "\n",
              "        async function convertToInteractive(key) {\n",
              "          const element = document.querySelector('#df-e9761859-6ace-402c-8476-de63ad532ddc');\n",
              "          const dataTable =\n",
              "            await google.colab.kernel.invokeFunction('convertToInteractive',\n",
              "                                                     [key], {});\n",
              "          if (!dataTable) return;\n",
              "\n",
              "          const docLinkHtml = 'Like what you see? Visit the ' +\n",
              "            '<a target=\"_blank\" href=https://colab.research.google.com/notebooks/data_table.ipynb>data table notebook</a>'\n",
              "            + ' to learn more about interactive tables.';\n",
              "          element.innerHTML = '';\n",
              "          dataTable['output_type'] = 'display_data';\n",
              "          await google.colab.output.renderOutput(dataTable, element);\n",
              "          const docLink = document.createElement('div');\n",
              "          docLink.innerHTML = docLinkHtml;\n",
              "          element.appendChild(docLink);\n",
              "        }\n",
              "      </script>\n",
              "    </div>\n",
              "  </div>\n",
              "  "
            ]
          },
          "metadata": {},
          "execution_count": 5
        }
      ],
      "source": [
        "df.head()"
      ]
    },
    {
      "cell_type": "code",
      "execution_count": 6,
      "metadata": {
        "id": "L52ToO9nbdA6",
        "outputId": "ae4ec115-aec1-48ff-9fc9-937ba927fcfc",
        "colab": {
          "base_uri": "https://localhost:8080/"
        }
      },
      "outputs": [
        {
          "output_type": "execute_result",
          "data": {
            "text/plain": [
              "(393927, 18)"
            ]
          },
          "metadata": {},
          "execution_count": 6
        }
      ],
      "source": [
        "df.shape"
      ]
    },
    {
      "cell_type": "markdown",
      "metadata": {
        "id": "kNbi-FtzbdA6"
      },
      "source": [
        "# Classificazione"
      ]
    },
    {
      "cell_type": "code",
      "execution_count": 7,
      "metadata": {
        "id": "rsLkA6swbdA9"
      },
      "outputs": [],
      "source": [
        "classification_df = df[['Score', 'Lemmatized Text']]"
      ]
    },
    {
      "cell_type": "code",
      "execution_count": 8,
      "metadata": {
        "colab": {
          "base_uri": "https://localhost:8080/",
          "height": 312
        },
        "id": "XI_TBCaRbdA9",
        "outputId": "921963ec-98e1-4918-c18c-38fef1b4a2ac"
      },
      "outputs": [
        {
          "output_type": "execute_result",
          "data": {
            "text/plain": [
              "Text(0, 0.5, 'Number of reviews')"
            ]
          },
          "metadata": {},
          "execution_count": 8
        },
        {
          "output_type": "display_data",
          "data": {
            "text/plain": [
              "<Figure size 432x288 with 1 Axes>"
            ],
            "image/png": "[encoded data removed]"
          },
          "metadata": {
            "needs_background": "light"
          }
        }
      ],
      "source": [
        "sns.histplot(classification_df['Score'], discrete=True)\n",
        "plt.title(\"Score distribution\", fontweight='bold')\n",
        "plt.xlabel(\"Score\")\n",
        "plt.ylabel(\"Number of reviews\")"
      ]
    },
    {
      "cell_type": "code",
      "execution_count": 9,
      "metadata": {
        "id": "de_1kzR9bdA-",
        "outputId": "0d99c1f1-52d1-49d7-9b9d-9a381f8b69cf",
        "colab": {
          "base_uri": "https://localhost:8080/"
        }
      },
      "outputs": [
        {
          "output_type": "stream",
          "name": "stdout",
          "text": [
            "5    0.637067\n",
            "4    0.142392\n",
            "1    0.092164\n",
            "3    0.075570\n",
            "2    0.052807\n",
            "Name: Score, dtype: float64\n"
          ]
        }
      ],
      "source": [
        "print(classification_df['Score'].value_counts()/len(classification_df['Score']));"
      ]
    },
    {
      "cell_type": "markdown",
      "metadata": {
        "id": "UMG9UjhTbdA_"
      },
      "source": [
        "Le classi sono fortemente sbilanciate, con quasi il 78% delle review appartenenti alla classe 4 e 5. E' necessaria una procedura di resampling, in modo tale che i classificatori non diano stime distorte (classificando tutte le review come appartenenti alla classe 5 si otterrebbe comunque il 63% di accuratezza)."
      ]
    },
    {
      "cell_type": "code",
      "execution_count": 10,
      "metadata": {
        "id": "hfON1PArbdA_"
      },
      "outputs": [],
      "source": [
        "# Come sample size prendo il totale delle review appartenenti alla classe meno numerosa\n",
        "\n",
        "sample_size = classification_df.groupby('Score').count().min()[0]"
      ]
    },
    {
      "cell_type": "code",
      "execution_count": 11,
      "metadata": {
        "colab": {
          "base_uri": "https://localhost:8080/",
          "height": 424
        },
        "id": "ypBdrZB6bdA_",
        "outputId": "d202e59d-2f25-409c-f410-62181f0ba44b"
      },
      "outputs": [
        {
          "output_type": "execute_result",
          "data": {
            "text/plain": [
              "        Score                                    Lemmatized Text\n",
              "319513      1  [first, extremely, obvious, person, gave, prod...\n",
              "319431      1  [price, joke, right, theory, blueberry, one, d...\n",
              "129754      1  [percent, candy, band, still, sold, store, tod...\n",
              "49440       1  [oz, pushkin, bidding, one, right, mind, would...\n",
              "91273       1  [subscribed, happily, disappointed, im, south,...\n",
              "...       ...                                                ...\n",
              "180869      5  [ordered, groan, mistake, thinking, steel, cut...\n",
              "188282      5  [cat, food, right, indoor, cat, containing, tu...\n",
              "356578      5  [introduced, product, central, grocer, new, or...\n",
              "347435      5  [seriously, good, everythingsoups, part, child...\n",
              "97186       5  [happy, find, pest, amazon, grocer, store, qui...\n",
              "\n",
              "[104010 rows x 2 columns]"
            ],
            "text/html": [
              "\n",
              "  <div id=\"df-19264ba4-b4c3-4dd9-9c51-4e9e56fe57f1\">\n",
              "    <div class=\"colab-df-container\">\n",
              "      <div>\n",
              "<style scoped>\n",
              "    .dataframe tbody tr th:only-of-type {\n",
              "        vertical-align: middle;\n",
              "    }\n",
              "\n",
              "    .dataframe tbody tr th {\n",
              "        vertical-align: top;\n",
              "    }\n",
              "\n",
              "    .dataframe thead th {\n",
              "        text-align: right;\n",
              "    }\n",
              "</style>\n",
              "<table border=\"1\" class=\"dataframe\">\n",
              "  <thead>\n",
              "    <tr style=\"text-align: right;\">\n",
              "      <th></th>\n",
              "      <th>Score</th>\n",
              "      <th>Lemmatized Text</th>\n",
              "    </tr>\n",
              "  </thead>\n",
              "  <tbody>\n",
              "    <tr>\n",
              "      <th>319513</th>\n",
              "      <td>1</td>\n",
              "      <td>[first, extremely, obvious, person, gave, prod...</td>\n",
              "    </tr>\n",
              "    <tr>\n",
              "      <th>319431</th>\n",
              "      <td>1</td>\n",
              "      <td>[price, joke, right, theory, blueberry, one, d...</td>\n",
              "    </tr>\n",
              "    <tr>\n",
              "      <th>129754</th>\n",
              "      <td>1</td>\n",
              "      <td>[percent, candy, band, still, sold, store, tod...</td>\n",
              "    </tr>\n",
              "    <tr>\n",
              "      <th>49440</th>\n",
              "      <td>1</td>\n",
              "      <td>[oz, pushkin, bidding, one, right, mind, would...</td>\n",
              "    </tr>\n",
              "    <tr>\n",
              "      <th>91273</th>\n",
              "      <td>1</td>\n",
              "      <td>[subscribed, happily, disappointed, im, south,...</td>\n",
              "    </tr>\n",
              "    <tr>\n",
              "      <th>...</th>\n",
              "      <td>...</td>\n",
              "      <td>...</td>\n",
              "    </tr>\n",
              "    <tr>\n",
              "      <th>180869</th>\n",
              "      <td>5</td>\n",
              "      <td>[ordered, groan, mistake, thinking, steel, cut...</td>\n",
              "    </tr>\n",
              "    <tr>\n",
              "      <th>188282</th>\n",
              "      <td>5</td>\n",
              "      <td>[cat, food, right, indoor, cat, containing, tu...</td>\n",
              "    </tr>\n",
              "    <tr>\n",
              "      <th>356578</th>\n",
              "      <td>5</td>\n",
              "      <td>[introduced, product, central, grocer, new, or...</td>\n",
              "    </tr>\n",
              "    <tr>\n",
              "      <th>347435</th>\n",
              "      <td>5</td>\n",
              "      <td>[seriously, good, everythingsoups, part, child...</td>\n",
              "    </tr>\n",
              "    <tr>\n",
              "      <th>97186</th>\n",
              "      <td>5</td>\n",
              "      <td>[happy, find, pest, amazon, grocer, store, qui...</td>\n",
              "    </tr>\n",
              "  </tbody>\n",
              "</table>\n",
              "<p>104010 rows × 2 columns</p>\n",
              "</div>\n",
              "      <button class=\"colab-df-convert\" onclick=\"convertToInteractive('df-19264ba4-b4c3-4dd9-9c51-4e9e56fe57f1')\"\n",
              "              title=\"Convert this dataframe to an interactive table.\"\n",
              "              style=\"display:none;\">\n",
              "        \n",
              "  <svg xmlns=\"http://www.w3.org/2000/svg\" height=\"24px\"viewBox=\"0 0 24 24\"\n",
              "       width=\"24px\">\n",
              "    <path d=\"M0 0h24v24H0V0z\" fill=\"none\"/>\n",
              "    <path d=\"M18.56 5.44l.94 2.06.94-2.06 2.06-.94-2.06-.94-.94-2.06-.94 2.06-2.06.94zm-11 1L8.5 8.5l.94-2.06 2.06-.94-2.06-.94L8.5 2.5l-.94 2.06-2.06.94zm10 10l.94 2.06.94-2.06 2.06-.94-2.06-.94-.94-2.06-.94 2.06-2.06.94z\"/><path d=\"M17.41 7.96l-1.37-1.37c-.4-.4-.92-.59-1.43-.59-.52 0-1.04.2-1.43.59L10.3 9.45l-7.72 7.72c-.78.78-.78 2.05 0 2.83L4 21.41c.39.39.9.59 1.41.59.51 0 1.02-.2 1.41-.59l7.78-7.78 2.81-2.81c.8-.78.8-2.07 0-2.86zM5.41 20L4 18.59l7.72-7.72 1.47 1.35L5.41 20z\"/>\n",
              "  </svg>\n",
              "      </button>\n",
              "      \n",
              "  <style>\n",
              "    .colab-df-container {\n",
              "      display:flex;\n",
              "      flex-wrap:wrap;\n",
              "      gap: 12px;\n",
              "    }\n",
              "\n",
              "    .colab-df-convert {\n",
              "      background-color: #E8F0FE;\n",
              "      border: none;\n",
              "      border-radius: 50%;\n",
              "      cursor: pointer;\n",
              "      display: none;\n",
              "      fill: #1967D2;\n",
              "      height: 32px;\n",
              "      padding: 0 0 0 0;\n",
              "      width: 32px;\n",
              "    }\n",
              "\n",
              "    .colab-df-convert:hover {\n",
              "      background-color: #E2EBFA;\n",
              "      box-shadow: 0px 1px 2px rgba(60, 64, 67, 0.3), 0px 1px 3px 1px rgba(60, 64, 67, 0.15);\n",
              "      fill: #174EA6;\n",
              "    }\n",
              "\n",
              "    [theme=dark] .colab-df-convert {\n",
              "      background-color: #3B4455;\n",
              "      fill: #D2E3FC;\n",
              "    }\n",
              "\n",
              "    [theme=dark] .colab-df-convert:hover {\n",
              "      background-color: #434B5C;\n",
              "      box-shadow: 0px 1px 3px 1px rgba(0, 0, 0, 0.15);\n",
              "      filter: drop-shadow(0px 1px 2px rgba(0, 0, 0, 0.3));\n",
              "      fill: #FFFFFF;\n",
              "    }\n",
              "  </style>\n",
              "\n",
              "      <script>\n",
              "        const buttonEl =\n",
              "          document.querySelector('#df-19264ba4-b4c3-4dd9-9c51-4e9e56fe57f1 button.colab-df-convert');\n",
              "        buttonEl.style.display =\n",
              "          google.colab.kernel.accessAllowed ? 'block' : 'none';\n",
              "\n",
              "        async function convertToInteractive(key) {\n",
              "          const element = document.querySelector('#df-19264ba4-b4c3-4dd9-9c51-4e9e56fe57f1');\n",
              "          const dataTable =\n",
              "            await google.colab.kernel.invokeFunction('convertToInteractive',\n",
              "                                                     [key], {});\n",
              "          if (!dataTable) return;\n",
              "\n",
              "          const docLinkHtml = 'Like what you see? Visit the ' +\n",
              "            '<a target=\"_blank\" href=https://colab.research.google.com/notebooks/data_table.ipynb>data table notebook</a>'\n",
              "            + ' to learn more about interactive tables.';\n",
              "          element.innerHTML = '';\n",
              "          dataTable['output_type'] = 'display_data';\n",
              "          await google.colab.output.renderOutput(dataTable, element);\n",
              "          const docLink = document.createElement('div');\n",
              "          docLink.innerHTML = docLinkHtml;\n",
              "          element.appendChild(docLink);\n",
              "        }\n",
              "      </script>\n",
              "    </div>\n",
              "  </div>\n",
              "  "
            ]
          },
          "metadata": {},
          "execution_count": 11
        }
      ],
      "source": [
        "df_downsampled = classification_df.groupby('Score', group_keys=False).apply(lambda x: x.sample(sample_size))\n",
        "df_downsampled"
      ]
    },
    {
      "cell_type": "code",
      "execution_count": 12,
      "metadata": {
        "colab": {
          "base_uri": "https://localhost:8080/"
        },
        "id": "Ekf5XqvVbdBA",
        "outputId": "8f3cb90f-137a-4792-900e-124c9c5fb78e"
      },
      "outputs": [
        {
          "output_type": "execute_result",
          "data": {
            "text/plain": [
              "(104010, 2)"
            ]
          },
          "metadata": {},
          "execution_count": 12
        }
      ],
      "source": [
        "df_downsampled.shape"
      ]
    },
    {
      "cell_type": "code",
      "execution_count": 13,
      "metadata": {
        "colab": {
          "base_uri": "https://localhost:8080/",
          "height": 312
        },
        "id": "OBdFPYssbdBA",
        "outputId": "143dae8d-ca2a-4bbf-ceff-8aaba9e15245"
      },
      "outputs": [
        {
          "output_type": "execute_result",
          "data": {
            "text/plain": [
              "Text(0, 0.5, 'Number of reviews')"
            ]
          },
          "metadata": {},
          "execution_count": 13
        },
        {
          "output_type": "display_data",
          "data": {
            "text/plain": [
              "<Figure size 432x288 with 1 Axes>"
            ],
            "image/png": "[encoded data removed]"
          },
          "metadata": {
            "needs_background": "light"
          }
        }
      ],
      "source": [
        "sns.histplot(df_downsampled['Score'], discrete=True)\n",
        "plt.title(\"Score distribution\", fontweight='bold')\n",
        "plt.xlabel(\"Score\")\n",
        "plt.ylabel(\"Number of reviews\")"
      ]
    },
    {
      "cell_type": "code",
      "execution_count": 14,
      "metadata": {
        "id": "tjUtT-5gbdBA"
      },
      "outputs": [],
      "source": [
        "# Separo train e test\n",
        "\n",
        "X_train, X_test, y_train, y_test = train_test_split(df_downsampled['Lemmatized Text'], \n",
        "                                                    df_downsampled[\"Score\"], \n",
        "                                                    test_size=0.3, \n",
        "                                                    random_state=1, \n",
        "                                                    stratify=df_downsampled['Score'])"
      ]
    },
    {
      "cell_type": "markdown",
      "metadata": {
        "id": "Nz5jl2JtbdBB"
      },
      "source": [
        "# Multi-label classification"
      ]
    },
    {
      "cell_type": "markdown",
      "metadata": {
        "id": "MOB6pct-bdBB"
      },
      "source": [
        "## Text representation"
      ]
    },
    {
      "cell_type": "markdown",
      "metadata": {
        "id": "519uwDQIbdBB"
      },
      "source": [
        "### Bag-of-word"
      ]
    },
    {
      "cell_type": "code",
      "execution_count": null,
      "metadata": {
        "id": "14eS1p7SbdBB"
      },
      "outputs": [],
      "source": [
        "cv = CountVectorizer(min_df=0., max_df=1.0)\n",
        "cv_model = cv.fit(X_train.astype(str)) \n",
        "X_train_BOW = cv_model.transform(X_train.astype(str))"
      ]
    },
    {
      "cell_type": "code",
      "execution_count": null,
      "metadata": {
        "id": "4e3W5JiGbdBC"
      },
      "outputs": [],
      "source": [
        "X_train_BOW.shape"
      ]
    },
    {
      "cell_type": "markdown",
      "metadata": {
        "id": "6t0Xvdq9bdBC"
      },
      "source": [
        "Devo necessariamente ridurre la dimensionalità della matrice. Applico una SVD senza assegnare il numero di componenti da considerare e poi usiamo la funzione cusum() per ottenere la varianza cumulata, quindi teniamo un numero di componenti necessarie per raggiungere una certa soglia di varianza cumulata (fissata a priori).\n",
        "\n",
        "Considerando l'elevata dimensionalità del dataset, non è possibile stimare l'intera SVD. Viene quindi considerato un numero comunque elevato di componenti, e.g. 1000, per poi andare a valutare la varianza cumulata. "
      ]
    },
    {
      "cell_type": "code",
      "execution_count": null,
      "metadata": {
        "id": "Un663iMmbdBC"
      },
      "outputs": [],
      "source": [
        "# Già eseguita e salvata, non runnare\n",
        "\n",
        "# Eseguo la SVD\n",
        "# n_components = 3000\n",
        "# tSVD_BOW = TruncatedSVD(n_components = n_components)\n",
        "# SVD_BOW = tSVD_BOW.fit(X_train_BOW)\n",
        "\n",
        "# Calcolo varianza cumulata delle componenti\n",
        "# cum_var = np.cumsum(SVD_BOW.explained_variance_ratio_)\n",
        "\n",
        "# Salvo SVD su disco\n",
        "# joblib.dump(SVD_BOW, \"SVD_BOW_3000.joblib\")"
      ]
    },
    {
      "cell_type": "code",
      "execution_count": null,
      "metadata": {
        "id": "nQrFIjLLbdBD"
      },
      "outputs": [],
      "source": [
        "# carico SVD\n",
        "SVD_BOW_3000 = joblib.load(\"H:/.shortcut-targets-by-id/1veNClNl7CxCTFHVNY2Fp29hcMoEj-the/TextMiningProject/SVD_BOW_3000.joblib\")\n",
        "cum_var = np.cumsum(SVD_BOW_3000.explained_variance_ratio_)"
      ]
    },
    {
      "cell_type": "code",
      "execution_count": null,
      "metadata": {
        "id": "gTI7lAa7bwIW"
      },
      "outputs": [],
      "source": [
        "# Carico SVD - Google colab\n",
        "# SVD_path = '/content/gdrive/MyDrive/TextMiningProject/SVD_BOW_3000.joblib'\n",
        "# SVD_BOW_3000 = joblib.load(SVD_path)\n",
        "# cum_var = np.cumsum(SVD_BOW_3000.explained_variance_ratio_)"
      ]
    },
    {
      "cell_type": "code",
      "execution_count": null,
      "metadata": {
        "id": "tnxqIYegbdBD"
      },
      "outputs": [],
      "source": [
        "# Grafico varianza cumulata\n",
        "plt.plot(range(1, len(cum_var) + 1), cum_var)\n",
        "plt.xlabel(\"Numero di componenti\")\n",
        "plt.ylabel(\"Varianza cumulata\")\n",
        "plt.show()"
      ]
    },
    {
      "cell_type": "markdown",
      "metadata": {
        "id": "9IXQYxCBbdBD"
      },
      "source": [
        "Fissiamo una threshold pari all'85%. Ciò vuol dire che andremo a considerare un numero di componenti necessarie per arrivare ad una varianza spiegata pari all'85%"
      ]
    },
    {
      "cell_type": "code",
      "execution_count": null,
      "metadata": {
        "id": "AiF_Fya8bdBD"
      },
      "outputs": [],
      "source": [
        "threshold = 0.85\n",
        "n_components = np.argmax(cum_var >= threshold) + 1\n",
        "print(\"Numero di componenti necessariea spiegare una varianza pari all'85% sono : \", n_components)"
      ]
    },
    {
      "cell_type": "code",
      "execution_count": null,
      "metadata": {
        "id": "N1_peW_hbdBE"
      },
      "outputs": [],
      "source": [
        "# Stimo SVD ottimale, già runnato \n",
        "tSVD_BOW = TruncatedSVD(n_components = 1413)\n",
        "SVD_BOW = tSVD_BOW.fit(X_train_BOW)\n",
        "\n",
        "# Salvo SVD ottimizzata\n",
        "joblib.dump(SVD_BOW, \"H:/.shortcut-targets-by-id/1veNClNl7CxCTFHVNY2Fp29hcMoEj-the/TextMiningProject/SVD_BOW_optim.joblib\")"
      ]
    },
    {
      "cell_type": "code",
      "execution_count": null,
      "metadata": {
        "id": "-UL6PvopbdBJ"
      },
      "outputs": [],
      "source": [
        "# Inizializzo SVD con componenti ottimali\n",
        "tSVD_BOW = TruncatedSVD(n_components = 1413)\n",
        "\n",
        "# Carico SVD ottimizzata \n",
        "loaded_svd = joblib.load(\"H:/.shortcut-targets-by-id/1veNClNl7CxCTFHVNY2Fp29hcMoEj-the/TextMiningProject/SVD_BOW_optim.joblib\")\n",
        "loaded_svd.fit(X_train_BOW)"
      ]
    },
    {
      "cell_type": "code",
      "execution_count": null,
      "metadata": {
        "id": "sj9MzFe1xL15"
      },
      "outputs": [],
      "source": [
        "# Applico la trasformazione al training e test set \n",
        "X_train_BOW = tSVD_BOW.transform(X_train_BOW)\n",
        "\n",
        "X_test_BOW = cv_model.transform(X_test.astype(str))\n",
        "X_test_BOW = loaded_svd.transform(X_test_BOW)"
      ]
    },
    {
      "cell_type": "markdown",
      "metadata": {
        "id": "PWKLf5CabdBE"
      },
      "source": [
        "#### Implementazione algoritmi\n",
        "\n",
        "- Regressione Logistica\n",
        "- Random Forest\n",
        "- KNN\n",
        "- XGboost"
      ]
    },
    {
      "cell_type": "markdown",
      "metadata": {
        "id": "kKNdbGb3bdBE"
      },
      "source": [
        "##### Regressione logistica"
      ]
    },
    {
      "cell_type": "code",
      "execution_count": null,
      "metadata": {
        "id": "quLHCvR5bdBE"
      },
      "outputs": [],
      "source": [
        "# Già eseguito, non runnare\n",
        "# Regressione logistica con ottimizzazione degli iperparametri\n",
        "# model = LogisticRegression(random_state=1)\n",
        "\n",
        "#Iperparametri \"critici\" da ottimizzare \n",
        "# solvers = ['newton-cg', 'lbfgs', 'liblinear', 'sag', 'saga']\n",
        "# penalty = ['None', 'l2']\n",
        "# c_values = [500, 200, 100, 50, 10, 1.0, 0.1, 0.01, 0.001]\n",
        "\n",
        "# Definisco la griglia di ricerca\n",
        "# grid = dict(solver=solvers,penalty=penalty,C=c_values)\n",
        "\n",
        "# Start the clock, train the classifier, then stop the clock\n",
        "# start = time()\n",
        "\n",
        "# CV and Tuning\n",
        "# random_search = RandomizedSearchCV(estimator=model, param_distributions=grid, n_iter=6 ,cv=2, scoring=\"accuracy\", error_score=0, verbose=3)\n",
        "# grid_result = random_search.fit(X_train_BOW, y_train)\n",
        "# end = time()\n",
        "# print (\"Train and tuning model in {:.4f} seconds\".format(end - start))\n",
        "\n",
        "# Salvataggio dei risultati del tuning\n",
        "# path = 'H:/.shortcut-targets-by-id/1veNClNl7CxCTFHVNY2Fp29hcMoEj-the/TextMiningProject/Model_estimated/logreg_gridsearch_BOW.joblib'\n",
        "# joblib.dump(grid_result, path)"
      ]
    },
    {
      "cell_type": "code",
      "execution_count": null,
      "metadata": {
        "id": "NySkmosjbdBE"
      },
      "outputs": [],
      "source": [
        "# Caricamento del risultato del tuning\n",
        "path = 'H:/.shortcut-targets-by-id/1veNClNl7CxCTFHVNY2Fp29hcMoEj-the/TextMiningProject/Model_estimated/logreg_gridsearch_BOW.joblib'\n",
        "loaded_grid_search = joblib.load(path)\n",
        "\n",
        "# Summary dei risultati\n",
        "print(\"Best result: %f using %s\" % (loaded_grid_search.best_score_, loaded_grid_search.best_params_))\n",
        "\n",
        "#Salvo il modello con le migliori performance\n",
        "model_lr_BOW = loaded_grid_search.best_estimator_"
      ]
    },
    {
      "cell_type": "markdown",
      "metadata": {
        "id": "CDGTrGWpbdBE"
      },
      "source": [
        "##### Random Forest"
      ]
    },
    {
      "cell_type": "code",
      "execution_count": null,
      "metadata": {
        "id": "_d58Ljk9bdBE"
      },
      "outputs": [],
      "source": [
        "# Random Forest, già runnato !!\n",
        "# model = RandomForestClassifier()\n",
        "\n",
        "# Parametri 'critici' da ottimizzare\n",
        "# n_estimators = [10, 100, 1000]\n",
        "# max_features = ['sqrt', 'log2']\n",
        "# Definisco la griglia di ricerca \n",
        "# grid = dict(n_estimators=n_estimators,max_features=max_features)\n",
        "\n",
        "# Start the clock, train the classifier, then stop the clock\n",
        "# start = time()\n",
        "\n",
        "# grid_search = GridSearchCV(estimator=model, param_grid=grid, n_jobs=-1, cv=2, scoring='accuracy', error_score=0)\n",
        "# grid_result = grid_search.fit(X_train_BOW, y_train)\n",
        "# end = time()\n",
        "# print (\"Train and tuning model in {:.4f} seconds\".format(end - start))\n",
        "\n",
        "# Salvataggio dei risultati del tuning\n",
        "# path = 'H:/.shortcut-targets-by-id/1veNClNl7CxCTFHVNY2Fp29hcMoEj-the/TextMiningProject/Model_estimated/rf_gridsearch_BOW.joblib'\n",
        "# joblib.dump(grid_result, path)"
      ]
    },
    {
      "cell_type": "code",
      "execution_count": null,
      "metadata": {
        "id": "CTg7m7sWbdBF"
      },
      "outputs": [],
      "source": [
        "\n",
        "# Caricamento del risultato del tuning\n",
        "path = 'H:/.shortcut-targets-by-id/1veNClNl7CxCTFHVNY2Fp29hcMoEj-the/TextMiningProject/Model_estimated/rf_gridsearch_BOW.joblib'\n",
        "loaded_grid_search = joblib.load(path)\n",
        "\n",
        "# Summary dei risultati\n",
        "print(\"Best result: %f using %s\" % (loaded_grid_search.best_score_, loaded_grid_search.best_params_))\n",
        "\n",
        "# Salvo il modello con le migliori perfomance\n",
        "model_rf_BOW = loaded_grid_search.best_estimator_"
      ]
    },
    {
      "cell_type": "markdown",
      "metadata": {
        "id": "bdYxtwVzbdBF"
      },
      "source": [
        "##### KNN"
      ]
    },
    {
      "cell_type": "code",
      "execution_count": null,
      "metadata": {
        "id": "RxFgJoq4xL2A"
      },
      "outputs": [],
      "source": [
        "# model = KNeighborsClassifier(weights='distance')\n",
        "# # Parametri critici da\n",
        "# n_neighbors = range(1, 21, 4)\n",
        "\n",
        "# # Definisco la griglia di ricerca\n",
        "# grid = dict(n_neighbors=n_neighbors)\n",
        "\n",
        "# # Start the clock, train the classifier, then stop the clock\n",
        "# start = time()\n",
        "# random_search = RandomizedSearchCV(estimator=model, param_distributions=grid, n_iter=6 ,cv=2, scoring=\"accuracy\", error_score=0, verbose=3)\n",
        "# grid_result = random_search.fit(X_train_BOW, y_train)\n",
        "# end = time()\n",
        "# print (\"Train and tuning model in {:.4f} seconds\".format(end - start))\n",
        "# # Summary dei risultati\n",
        "# print(\"Best result: %f using %s\" % (grid_result.best_score_, grid_result.best_params_))\n",
        "\n",
        "# # Salvataggio dei risultati del tuning\n",
        "# path = 'H:/.shortcut-targets-by-id/1veNClNl7CxCTFHVNY2Fp29hcMoEj-the/TextMiningProject/Model_estimated/knn_gridsearch_BOW.joblib'\n",
        "# joblib.dump(grid_result, path)"
      ]
    },
    {
      "cell_type": "code",
      "execution_count": null,
      "metadata": {
        "id": "OXhaQKIhxL2A"
      },
      "outputs": [],
      "source": [
        "# Caricamento del risultato del tuning\n",
        "path = 'H:/.shortcut-targets-by-id/1veNClNl7CxCTFHVNY2Fp29hcMoEj-the/TextMiningProject/Model_estimated/knn_gridsearch_BOW.joblib'\n",
        "loaded_grid_search = joblib.load(path)\n",
        "\n",
        "# Summary dei risultati\n",
        "print(\"Best result: %f using %s\" % (loaded_grid_search.best_score_, loaded_grid_search.best_params_))\n",
        "\n",
        "# Salvo il modello con le migliori perfomance\n",
        "model_knn_BOW = loaded_grid_search.best_estimator_"
      ]
    },
    {
      "cell_type": "markdown",
      "metadata": {
        "id": "VndvAmqRbdBG"
      },
      "source": [
        "##### XG-Boost"
      ]
    },
    {
      "cell_type": "markdown",
      "metadata": {
        "id": "Hbo3Ehn8xL2C"
      },
      "source": [
        "**Holdout**"
      ]
    },
    {
      "cell_type": "markdown",
      "metadata": {
        "id": "x5t_ChyNxL2C"
      },
      "source": [
        "**Ottimizzazione degli iper-parametri**"
      ]
    },
    {
      "cell_type": "markdown",
      "metadata": {
        "id": "CHtAU1lAbdBG"
      },
      "source": [
        "Viene effettuata una ottimizzazione degli iper-parametri con metodo RandomSearch. \n",
        "\n",
        "Parametri ottimizzati\n",
        "\n",
        "- max_depth = profondità massima dell'albero di decisione utilizzato in una singola iterazione. \n",
        "- eta (a.k.a learning rate) = un valore compreso tra 0 e 1 che controlla la velocità di apprendimento dell'algoritmo.  \n",
        "- colsample_bytree = un valore compreso tra 0 e 1 che rappresenta la frazione di colonne utilizzate in ciascuna iterazione.\n",
        "- sampling_method = specifica il metodo di campionamento utilizzato per selezionare le osservazioni da utilizzare in ciascuna iterazione."
      ]
    },
    {
      "cell_type": "code",
      "execution_count": null,
      "metadata": {
        "id": "k5thU_GDbdBG"
      },
      "outputs": [],
      "source": [
        "le = LabelEncoder()\n",
        "y_train_xg = le.fit_transform(y_train)\n",
        "\n",
        "# XG-Boost con ottimizzazione degli iperparametri\n",
        "model = XGBClassifier( tree_method = 'gpu_hist', predictor = 'gpu_predictor')\n",
        "\n",
        "# Parametri critici da ottimizzare\n",
        "max_depth = [1,2,3, 4, 5, 6, 7, 8, 9]\n",
        "eta  = [0.001, 0.01, 0.01, 0.2, 0.4, 0.6, 0.8]\n",
        "colsample_bytree = [0.01, 0.1, 0.3, 0.5, 0.7, 0.9]\n",
        "sampling_method = ['uniform', 'gradient_based']\n",
        "\n",
        "#Definisco la griglia di ricerca\n",
        "grid = dict(max_depth=max_depth, eta =eta, colsample_bytree = colsample_bytree, sampling_method = sampling_method)\n",
        "\n",
        "# Start the clock, train the classifier, then stop the clock\n",
        "start = time()\n",
        "random_search = RandomizedSearchCV(estimator=model, param_distributions=grid, n_iter= 6, cv=2, scoring='accuracy', error_score=0, n_jobs=-1, random_state=0, verbose=4)\n",
        "grid_result = random_search.fit(X_train_BOW, y_train_xg)\n",
        "end = time()\n",
        "print (\"Train and tuning model in {:.4f} seconds\".format(end - start))\n",
        "\n",
        "# Salvataggio dei risultati del tuning\n",
        "path = 'H:/.shortcut-targets-by-id/1veNClNl7CxCTFHVNY2Fp29hcMoEj-the/TextMiningProject/Model_estimated/xgboost_gridsearch_BOW.joblib'\n",
        "joblib.dump(grid_result, path)\n",
        "\n",
        "# Salvataggio dei risultati del tuning Google-Colab\n",
        "# model_path = '/content/gdrive/MyDrive/TextMiningProject/xgboost_gridsearch_BOW.joblib'\n",
        "# joblib.dump(grid_result, model_path)"
      ]
    },
    {
      "cell_type": "code",
      "execution_count": null,
      "metadata": {
        "id": "ykWDw0z6bdBG"
      },
      "outputs": [],
      "source": [
        "# Caricamento del risultato del tuning\n",
        "path = 'H:/.shortcut-targets-by-id/1veNClNl7CxCTFHVNY2Fp29hcMoEj-the/TextMiningProject/Model_estimated/xgboost_gridsearch_BOW.joblib'\n",
        "loaded_grid_search = joblib.load(path)\n",
        "\n",
        "# Summary dei risultati\n",
        "print(\"Best result: %f using %s\" % (loaded_grid_search.best_score_, loaded_grid_search.best_params_))\n",
        "\n",
        "# Salvo il modello con le migliori perfomance\n",
        "model_xgboost_BOW = loaded_grid_search.best_estimator_"
      ]
    },
    {
      "cell_type": "code",
      "execution_count": null,
      "metadata": {
        "id": "RfCRwy0NxL2H"
      },
      "outputs": [],
      "source": [
        "# y_test = le.fit_transform(y_test)\n",
        "# y_pred = model_xgboost_BOW.predict(X_test_BOW)\n",
        "# print(accuracy_score(y_test, y_pred))"
      ]
    },
    {
      "cell_type": "markdown",
      "metadata": {
        "id": "v6zxofQmbdBG"
      },
      "source": [
        "#### Analizzo i risultati:"
      ]
    },
    {
      "cell_type": "code",
      "execution_count": null,
      "metadata": {
        "id": "WV_ZjhsrbdBH"
      },
      "outputs": [],
      "source": [
        "models = [model_lr_BOW, model_rf_BOW, model_knn_BOW, model_xgboost_BOW]\n",
        "\n",
        "# Previsioni sul test set\n",
        "results = []\n",
        "for model in models:\n",
        "    if model == models[3]:\n",
        "        y_test_xg = le.fit_transform(y_test)\n",
        "        print(y_test_xg)\n",
        "        y_pred = model.predict(X_test_BOW)\n",
        "        acc = accuracy_score(y_test_xg, y_pred)\n",
        "        prec = precision_score(y_test_xg, y_pred, average='macro')\n",
        "        recall = recall_score(y_test_xg, y_pred, average='macro')\n",
        "        f1 = f1_score(y_test_xg, y_pred, average='macro')\n",
        "        results.append([acc, prec, recall, f1])\n",
        "    else:\n",
        "        y_pred = model.predict(X_test_BOW)\n",
        "        acc = accuracy_score(y_test, y_pred)\n",
        "        prec = precision_score(y_test, y_pred, average='macro')\n",
        "        recall = recall_score(y_test, y_pred, average='macro')\n",
        "        f1 = f1_score(y_test, y_pred, average='macro')\n",
        "        results.append([acc, prec, recall, f1])\n",
        "\n",
        "# Creo la tabella e visualizzo i risultati\n",
        "df_results = pd.DataFrame(results, columns=['Accuracy', 'Precision', 'Recall', 'F1 Score'])\n",
        "df_results.index = ['LR model', 'RF model', 'KNN model', 'XGBOOST model']\n",
        "print(df_results)"
      ]
    },
    {
      "cell_type": "code",
      "execution_count": null,
      "metadata": {
        "id": "guTi2LnsxL2J"
      },
      "outputs": [],
      "source": [
        "models[1]"
      ]
    },
    {
      "cell_type": "code",
      "execution_count": null,
      "metadata": {
        "id": "gpaUwiGgbdBH"
      },
      "outputs": [],
      "source": [
        "# Crea i grafici ROC per ogni modello\n",
        "# for model in models:\n",
        "#     y_pred_proba = model.predict_proba(X_test_BOW)[::,1]\n",
        "#     fpr, tpr, _ = roc_curve(y_test, y_pred_proba)\n",
        "#     auc = roc_auc_score(y_test, y_pred_proba)\n",
        "#     plt.plot(fpr,tpr,label=\"AUC=\"+str(auc))\n",
        "#     plt.legend(loc = 'lower right')"
      ]
    },
    {
      "cell_type": "code",
      "execution_count": null,
      "metadata": {
        "id": "C7Pg9f7-bdBH"
      },
      "outputs": [],
      "source": [
        "# # Creo le matrici di confusione per ogni modello\n",
        "# for model in models:\n",
        "#     cm = confusion_matrix(y_test, y_pred)\n",
        "#     plt.figure()\n",
        "#     plt.imshow(cm, interpolation='nearest', cmap=plt.cm.Blues)\n",
        "#     plt.title(\"Confusion Matrix - \" + str(model))\n",
        "#     plt.colorbar()\n",
        "#     tick_marks = np.arange(3)\n",
        "#     plt.xticks(tick_marks, [\"Class 1\", \"Class 2\", \"Class 3\", \"Class 4\", \"Class 5\"])\n",
        "#     plt.yticks(tick_marks, [\"Class 1\", \"Class 2\", \"Class 3\", \"Class 4\", \"Class 5\"])\n",
        "#     thresh = cm.max() / 2.\n",
        "#     for i, j in itertools.product(range(cm.shape[0]), range(cm.shape[1])):\n",
        "#         plt.text(j, i, format(cm[i, j]),\n",
        "#                  horizontalalignment=\"center\",\n",
        "#                  color=\"white\" if cm[i, j] > thresh else \"black\")\n",
        "#     plt.tight_layout()\n",
        "#     plt.ylabel('True label')\n",
        "#     plt.xlabel('Predicted label')\n",
        "#     plt.show()"
      ]
    },
    {
      "cell_type": "markdown",
      "metadata": {
        "id": "CC5BmfiUbdBI"
      },
      "source": [
        "### **TF-IDF**"
      ]
    },
    {
      "cell_type": "code",
      "execution_count": null,
      "metadata": {
        "id": "Tu21H8jHbdBI"
      },
      "outputs": [],
      "source": [
        "tv = TfidfVectorizer(min_df=0., max_df=1., use_idf=True) \n",
        "tv_model = tv.fit(X_train.astype(str)) \n",
        "X_train_TFIDF = tv.transform(X_train.astype(str)) # Vettorizzo"
      ]
    },
    {
      "cell_type": "code",
      "execution_count": null,
      "metadata": {
        "id": "T6TNWrsRbdBI"
      },
      "outputs": [],
      "source": [
        "X_train_TFIDF.shape"
      ]
    },
    {
      "cell_type": "code",
      "execution_count": null,
      "metadata": {
        "id": "8uvn6tyEbdBI"
      },
      "outputs": [],
      "source": [
        "# Già eseguita e salvata, non runnare\n",
        "\n",
        "# Eseguo SVD\n",
        "# n_components = 5000\n",
        "# tSVD_TFIDF = TruncatedSVD(n_components = n_components)\n",
        "# SVD_TFIDF_5000 = tSVD_TFIDF.fit(X_train_TFIDF)\n",
        "\n",
        "# Calcolo varianza cumulata delle componenti\n",
        "# cum_var = np.cumsum(SVD_TFIDF_5000.explained_variance_ratio_)\n",
        "\n",
        "# Salvo SVD su disco\n",
        "# joblib.dump(SVD_TFIDF_5000, \"SVD_TFIDF_5000.joblib\")\n"
      ]
    },
    {
      "cell_type": "code",
      "execution_count": null,
      "metadata": {
        "id": "rVw3zQAExL2O"
      },
      "outputs": [],
      "source": [
        "# Carico SVD\n",
        "SVD_TFIDF_5000 = joblib.load(\"H:/.shortcut-targets-by-id/1veNClNl7CxCTFHVNY2Fp29hcMoEj-the/TextMiningProject/SVD_TFIDF_5000.joblib\")\n",
        "cum_var = np.cumsum(SVD_TFIDF_5000.explained_variance_ratio_)"
      ]
    },
    {
      "cell_type": "code",
      "execution_count": null,
      "metadata": {
        "id": "fUeiqLTGoA5B"
      },
      "outputs": [],
      "source": [
        "# Carico SVD - Google Colab\n",
        "# SVD_TFIDF_5000 = joblib.load(\"/content/gdrive/MyDrive/TextMiningProject/SVD_TFIDF_5000.joblib\")\n",
        "# cum_var = np.cumsum(SVD_TFIDF_5000.explained_variance_ratio_)"
      ]
    },
    {
      "cell_type": "code",
      "execution_count": null,
      "metadata": {
        "id": "xNYr7DPAn8hh"
      },
      "outputs": [],
      "source": [
        "# Grafico varianza cumulata\n",
        "plt.plot(range(1, len(cum_var) + 1), cum_var)\n",
        "plt.xlabel(\"Numero di componenti\")\n",
        "plt.ylabel(\"Varianza cumulata\")\n",
        "plt.show()"
      ]
    },
    {
      "cell_type": "code",
      "execution_count": null,
      "metadata": {
        "id": "XteUrLEibdBJ"
      },
      "outputs": [],
      "source": [
        "threshold = 0.85\n",
        "n_components = np.argmax(cum_var >= threshold) + 1\n",
        "print(\"Numero di componenti necessariea spiegare una varianza pari all'85% sono : \", n_components)"
      ]
    },
    {
      "cell_type": "code",
      "execution_count": null,
      "metadata": {
        "id": "Iw2A_KVaxL2R"
      },
      "outputs": [],
      "source": [
        "# Stimo SVD ottimale\n",
        "tSVD_TFIDF = TruncatedSVD(n_components = 4719)\n",
        "SVD_TFIDF = tSVD_TFIDF.fit(X_train_TFIDF)"
      ]
    },
    {
      "cell_type": "code",
      "execution_count": null,
      "metadata": {
        "id": "0KdUVf4ExL2R"
      },
      "outputs": [],
      "source": [
        "# Applico la trasformazione al training e test set \n",
        "X_train_TFIDF = tSVD_TFIDF.transform(X_train_TFIDF)\n",
        "\n",
        "X_test_TFIDF = tv_model.transform(X_test.astype(str))\n",
        "X_test_TFIDF = SVD_TFIDF.transform(X_test_TFIDF)"
      ]
    },
    {
      "cell_type": "markdown",
      "metadata": {
        "id": "xh_g19lXxL2S"
      },
      "source": [
        "#### Implementazione algoritmi\n",
        "\n",
        "- Regressione Logistica\n",
        "- KNN\n",
        "- XGBoost"
      ]
    },
    {
      "cell_type": "markdown",
      "metadata": {
        "id": "MQFjWOh2xL2T"
      },
      "source": [
        "##### Regressione Logistica"
      ]
    },
    {
      "cell_type": "code",
      "execution_count": null,
      "metadata": {
        "id": "Bc_7nKJtor5f"
      },
      "outputs": [],
      "source": [
        "# Regressione logistica con ottimizzazione degli iperparametri\n",
        "model = LogisticRegression(random_state=1)\n",
        "\n",
        "# Iperparametri \"critici\" da ottimizzare \n",
        "solvers = ['newton-cg', 'lbfgs', 'liblinear', 'sag', 'saga']\n",
        "penalty = ['None', 'l2']\n",
        "c_values = [500, 200, 100, 50, 10, 1.0, 0.1, 0.01, 0.001]\n",
        "\n",
        "# Definisco la griglia di ricerca\n",
        "grid = dict(penalty=penalty,C=c_values)\n",
        "\n",
        "# Start the clock, train the classifier, then stop the clock\n",
        "start = time()\n",
        "\n",
        "# CV and Tuning\n",
        "random_search = RandomizedSearchCV(estimator=model, param_distributions=grid, n_iter=6 ,cv=2, scoring=\"accuracy\", error_score=0, verbose=3)\n",
        "grid_result = random_search.fit(X_train_TFIDF, y_train)\n",
        "end = time()\n",
        "print (\"Train and tuning model in {:.4f} seconds\".format(end - start))\n",
        "\n",
        "# Salvataggio dei risultati del tuning\n",
        "# path = 'H:/.shortcut-targets-by-id/1veNClNl7CxCTFHVNY2Fp29hcMoEj-the/TextMiningProject/Model_estimated/lrr_gridsearch_TFIDF.joblib'\n",
        "# joblib.dump(grid_result, path)\n",
        "\n",
        "model_path = '/content/gdrive/MyDrive/TextMiningProject/logreg_gridsearch_TFIDF.joblib'\n",
        "joblib.dump(grid_result, model_path)"
      ]
    },
    {
      "cell_type": "code",
      "execution_count": null,
      "metadata": {
        "id": "TBfucnr3od4p"
      },
      "outputs": [],
      "source": [
        "# Caricamento del risultato del tuning\n",
        "\n",
        "# path = 'H:/.shortcut-targets-by-id/1veNClNl7CxCTFHVNY2Fp29hcMoEj-the/TextMiningProject/Model_estimated/lrr_gridsearch_TFIDF.joblib'\n",
        "# loaded_grid_search = joblib.load(path)\n",
        "model_path = '/content/gdrive/MyDrive/TextMiningProject/logreg_gridsearch_TFIDF.joblib'\n",
        "loaded_grid_search = joblib.load(model_path)\n",
        "\n",
        "# Summary dei risultati\n",
        "print(\"Best result: %f using %s\" % (loaded_grid_search.best_score_, loaded_grid_search.best_params_))\n",
        "\n",
        "#Salvo il modello con le migliori performance\n",
        "model_lr_TFIDF = loaded_grid_search.best_estimator_"
      ]
    },
    {
      "cell_type": "markdown",
      "metadata": {
        "id": "rPy5XJ9pxL2V"
      },
      "source": [
        "##### KNN"
      ]
    },
    {
      "cell_type": "code",
      "execution_count": null,
      "metadata": {
        "id": "as1iAOKRxL2W"
      },
      "outputs": [],
      "source": [
        "model = KNeighborsClassifier(weights='distance')\n",
        "# Parametri critici da\n",
        "n_neighbors = range(1, 21, 1)\n",
        "\n",
        "# Definisco la griglia di ricerca\n",
        "grid = dict(n_neighbors=n_neighbors)\n",
        "\n",
        "# Start the clock, train the classifier, then stop the clock\n",
        "start = time()\n",
        "random_search = RandomizedSearchCV(estimator=model, param_distributions=grid, n_iter=6 ,cv=2, scoring=\"accuracy\", error_score=0, verbose=3)\n",
        "#grid_search = GridSearchCV(estimator=model, param_grid=grid, n_jobs=-1, cv=2, scoring='accuracy',error_score=0)\n",
        "grid_result = random_search.fit(X_train_TFIDF, y_train)\n",
        "end = time()\n",
        "print (\"Train and tuning model in {:.4f} seconds\".format(end - start))\n",
        "\n",
        "# Salvataggio dei risultati del tuning\n",
        "\n",
        "# path = 'H:/.shortcut-targets-by-id/1veNClNl7CxCTFHVNY2Fp29hcMoEj-the/TextMiningProject/Model_estimated/knn_gridsearch_TFIDF.joblib'\n",
        "# loaded_grid_search = joblib.load(path)\n",
        "model_path = '/content/gdrive/MyDrive/TextMiningProject/knn_gridsearch_TFIDF.joblib'\n",
        "joblib.dump(grid_result, model_path)"
      ]
    },
    {
      "cell_type": "code",
      "execution_count": null,
      "metadata": {
        "id": "9jB2k_gwxL2X"
      },
      "outputs": [],
      "source": [
        "# Caricamento del risultato del tuning\n",
        "\n",
        "# path = 'H:/.shortcut-targets-by-id/1veNClNl7CxCTFHVNY2Fp29hcMoEj-the/TextMiningProject/Model_estimated/knn_gridsearch_TFIDF.joblib'\n",
        "# loaded_grid_search = joblib.load(path)\n",
        "model_path = '/content/gdrive/MyDrive/TextMiningProject/knn_gridsearch_TFIDF.joblib'\n",
        "loaded_grid_search = joblib.load(model_path)\n",
        "\n",
        "# Summary dei risultati\n",
        "print(\"Best result: %f using %s\" % (loaded_grid_search.best_score_, loaded_grid_search.best_params_))\n",
        "\n",
        "# Salvo il modello con le migliori perfomance\n",
        "model_knn_TFIDF = loaded_grid_search.best_estimator_"
      ]
    },
    {
      "cell_type": "markdown",
      "metadata": {
        "id": "reKLm68bxL2X"
      },
      "source": [
        "##### Random Forest"
      ]
    },
    {
      "cell_type": "code",
      "execution_count": null,
      "metadata": {
        "id": "kq9LX9_-xL2Y"
      },
      "outputs": [],
      "source": [
        "# Random Forest\n",
        "model = RandomForestClassifier()\n",
        "\n",
        "# Parametri 'critici' da ottimizzare\n",
        "max_depth = [1, 2, 3, 4, 5, 6, 7]\n",
        "n_estimators = [10, 100, 200, 400, 600, 800, 1000]\n",
        "max_features = ['sqrt', 'log2']\n",
        "# Definisco la griglia di ricerca \n",
        "grid = dict(n_estimators=n_estimators,max_features=max_features, max_depth = max_depth)\n",
        "\n",
        "# Start the clock, train the classifier, then stop the clock\n",
        "start = time()\n",
        "\n",
        "random_search = RandomizedSearchCV(estimator=model, param_distributions=grid, n_iter=6 ,cv=2, scoring=\"accuracy\", error_score=0, verbose=3)\n",
        "grid_result = random_search.fit(X_train_TFIDF, y_train)\n",
        "end = time()\n",
        "print (\"Train and tuning model in {:.4f} seconds\".format(end - start))\n",
        "\n",
        "# Salvataggio dei risultati del tuning\n",
        "path = 'H:/.shortcut-targets-by-id/1veNClNl7CxCTFHVNY2Fp29hcMoEj-the/TextMiningProject/Model_estimated/rf_gridsearch_TFIDF.joblib'\n",
        "joblib.dump(grid_result, path)"
      ]
    },
    {
      "cell_type": "code",
      "execution_count": null,
      "metadata": {
        "id": "S-FDFSR_xL2Z"
      },
      "outputs": [],
      "source": [
        "\n",
        "# Caricamento del risultato del tuning\n",
        "path = 'H:/.shortcut-targets-by-id/1veNClNl7CxCTFHVNY2Fp29hcMoEj-the/TextMiningProject/Model_estimated/rf_gridsearch_TFIDF.joblib'\n",
        "loaded_grid_search = joblib.load(path)\n",
        "\n",
        "# Summary dei risultati\n",
        "print(\"Best result: %f using %s\" % (loaded_grid_search.best_score_, loaded_grid_search.best_params_))\n",
        "\n",
        "# Salvo il modello con le migliori perfomance\n",
        "model_rf_TFIDF = loaded_grid_search.best_estimator_"
      ]
    },
    {
      "cell_type": "markdown",
      "metadata": {
        "id": "PFHhr3_mxL2Z"
      },
      "source": [
        "##### XGBoost"
      ]
    },
    {
      "cell_type": "markdown",
      "metadata": {
        "id": "nUfOfU7uxL2a"
      },
      "source": [
        "Viene effettuata una ottimizzazione degli iper-parametri con metodo RandomSearch. \n",
        "\n",
        "Parametri ottimizzati\n",
        "\n",
        "- max_depth = profondità massima dell'albero di decisione utilizzato in una singola iterazione. \n",
        "- eta (a.k.a learning rate) = un valore compreso tra 0 e 1 che controlla la velocità di apprendimento dell'algoritmo.  \n",
        "- colsample_bytree = un valore compreso tra 0 e 1 che rappresenta la frazione di colonne utilizzate in ciascuna iterazione.\n",
        "- sampling_method = specifica il metodo di campionamento utilizzato per selezionare le osservazioni da utilizzare in ciascuna iterazione."
      ]
    },
    {
      "cell_type": "code",
      "execution_count": null,
      "metadata": {
        "id": "MnImKSSMxL2b"
      },
      "outputs": [],
      "source": [
        "from sklearn.preprocessing import LabelEncoder\n",
        "from xgboost import XGBClassifier\n",
        "from sklearn.model_selection import RandomizedSearchCV\n",
        "\n",
        "le = LabelEncoder()\n",
        "y_train_xg = le.fit_transform(y_train)\n",
        "\n",
        "model = XGBClassifier(sampling_method = 'gradient_based', max_depth = 6, eta = 0.2, n_jobs=-1, tree_method = 'hist', objective='multi:softmax')\n",
        "model_xgboost_TFIDF = model.fit(X_train_TFIDF, y_train_xg)\n",
        "\n",
        "# Salvataggio dei risultati dell'holdout\n",
        "path = 'H:/.shortcut-targets-by-id/1veNClNl7CxCTFHVNY2Fp29hcMoEj-the/TextMiningProject/Model_estimated/xgboost_holdout_TFIDF.joblib'\n",
        "joblib.dump(model_xgboost_TFIDF, path)"
      ]
    },
    {
      "cell_type": "code",
      "execution_count": null,
      "metadata": {
        "id": "A6Alt-vWxL2c"
      },
      "outputs": [],
      "source": [
        "# Caricamento del risultato dell'holdout\n",
        "path = 'H:/.shortcut-targets-by-id/1veNClNl7CxCTFHVNY2Fp29hcMoEj-the/TextMiningProject/Model_estimated/rf_gridsearch_TFIDF.joblib'\n",
        "model_xgboost_TFIDF = joblib.load(path)"
      ]
    },
    {
      "cell_type": "markdown",
      "metadata": {
        "id": "91VKZofgxL2d"
      },
      "source": [
        "### Analisi dei risultati"
      ]
    },
    {
      "cell_type": "code",
      "execution_count": null,
      "metadata": {
        "id": "T76s-wjxod4q"
      },
      "outputs": [],
      "source": [
        "models = [model_lr_TFIDF, model_knn_TFIDF, model_xgboost_TFIDF]\n",
        "\n",
        "# Previsioni sul test set\n",
        "results = []\n",
        "for model in models:\n",
        "    if model == models[2]:\n",
        "        y_test_xg = le.fit_transform(y_test)\n",
        "        print(y_test_xg)\n",
        "        y_pred = model.predict(X_test_TFIDF)\n",
        "        acc = accuracy_score(y_test_xg, y_pred)\n",
        "        prec = precision_score(y_test_xg, y_pred, average='macro')\n",
        "        recall = recall_score(y_test_xg, y_pred, average='macro')\n",
        "        f1 = f1_score(y_test_xg, y_pred, average='macro')\n",
        "        results.append([acc, prec, recall, f1])\n",
        "    else:\n",
        "        y_pred = model.predict(X_test_TFIDF)\n",
        "        acc = accuracy_score(y_test, y_pred)\n",
        "        prec = precision_score(y_test, y_pred, average='macro')\n",
        "        recall = recall_score(y_test, y_pred, average='macro')\n",
        "        f1 = f1_score(y_test, y_pred, average='macro')\n",
        "        results.append([acc, prec, recall, f1])\n",
        "\n",
        "# Creo la tabella e visualizzo i risultati\n",
        "df_results = pd.DataFrame(results, columns=['Accuracy', 'Precision', 'Recall', 'F1 Score'])\n",
        "df_results.index = ['LR model', 'KNN model', 'XGBOOST model']\n",
        "print(df_results)"
      ]
    },
    {
      "cell_type": "code",
      "execution_count": null,
      "metadata": {
        "id": "2uIUd5_Qod4q"
      },
      "outputs": [],
      "source": [
        "# # Crea i grafici ROC per ogni modello\n",
        "# for model in models:\n",
        "#     y_pred_proba = model.predict_proba(X_test_BOW)[::,1]\n",
        "#     fpr, tpr, _ = roc_curve(y_test, y_pred_proba)\n",
        "#     auc = roc_auc_score(y_test, y_pred_proba)\n",
        "#     plt.plot(fpr,tpr,label=\"AUC=\"+str(auc))\n",
        "#     plt.legend(loc = 'lower right')"
      ]
    },
    {
      "cell_type": "code",
      "execution_count": null,
      "metadata": {
        "id": "Bq8r-Bxfod4q"
      },
      "outputs": [],
      "source": [
        "# # Creo le matrici di confusione per ogni modello\n",
        "# for model in models:\n",
        "#     cm = confusion_matrix(y_test, y_pred)\n",
        "#     plt.figure()\n",
        "#     plt.imshow(cm, interpolation='nearest', cmap=plt.cm.Blues)\n",
        "#     plt.title(\"Confusion Matrix - \" + str(model))\n",
        "#     plt.colorbar()\n",
        "#     tick_marks = np.arange(3)\n",
        "#     plt.xticks(tick_marks, [\"Class 1\", \"Class 2\", \"Class 3\", \"Class 4\", \"Class 5\"])\n",
        "#     plt.yticks(tick_marks, [\"Class 1\", \"Class 2\", \"Class 3\", \"Class 4\", \"Class 5\"])\n",
        "#     thresh = cm.max() / 2.\n",
        "#     for i, j in itertools.product(range(cm.shape[0]), range(cm.shape[1])):\n",
        "#         plt.text(j, i, format(cm[i, j]),\n",
        "#                  horizontalalignment=\"center\",\n",
        "#                  color=\"white\" if cm[i, j] > thresh else \"black\")\n",
        "#     plt.tight_layout()\n",
        "#     plt.ylabel('True label')\n",
        "#     plt.xlabel('Predicted label')\n",
        "#     plt.show()"
      ]
    },
    {
      "cell_type": "markdown",
      "metadata": {
        "id": "pfHMP-oXbdBK"
      },
      "source": [
        "### W2V Representation"
      ]
    },
    {
      "cell_type": "code",
      "execution_count": null,
      "metadata": {
        "id": "NHY37aO7bdBK"
      },
      "outputs": [],
      "source": [
        "# Creo il modello W2V sul training\n",
        "w2v_model = gensim.models.Word2Vec(X_train, vector_size=300, window=8, min_count=2)"
      ]
    },
    {
      "cell_type": "markdown",
      "metadata": {
        "id": "eySx4o-uxL2j"
      },
      "source": [
        "Ho a disposizione il modello W2V, che ha convertito ogni parola presente nel training (nello specifico, deve essere presente almeno\n",
        "due volte --> min_count=2) in un vettore a 100 componenti. Per generare un vettore rappresentativo di ciascuna review andrò a creare un\n",
        "vettore costituito dalla media (componente per componente) dei vettori delle parole appartenenti alla review. (https://medium.com/@dilip.voleti/classification-using-word2vec-b1d79d375381)"
      ]
    },
    {
      "cell_type": "code",
      "execution_count": null,
      "metadata": {
        "id": "aUoR22R1xL2k"
      },
      "outputs": [],
      "source": [
        "words = set(w2v_model.wv.index_to_key) # Lista di parole presenti nel modello W2V\n",
        "\n",
        "# # Creo due liste, una per il training e una per il test. Ciascuna lista contiene come elementi delle altre liste. \n",
        "# # Ciascun elemento (ciascuna lista) contiene i vettori relativi alle parole di una specifica review (una lista per review contenente i vettori delle singole parole)\n",
        "\n",
        "# X_train_vect = np.array([np.array([w2v_model.wv[i] for i in ls if i in words])\n",
        "#                          for ls in X_train])\n",
        "# X_test_vect = np.array([np.array([w2v_model.wv[i] for i in ls if i in words])\n",
        "#                          for ls in X_test])"
      ]
    },
    {
      "cell_type": "code",
      "execution_count": null,
      "metadata": {
        "id": "JyDVP3hexL2l"
      },
      "outputs": [],
      "source": [
        "# Carico X_train_vect e X_test_vect\n",
        "X_train_vect = np.load(\"H:/.shortcut-targets-by-id/1veNClNl7CxCTFHVNY2Fp29hcMoEj-the/TextMiningProject/X_train_vect.npy\", allow_pickle=True)\n",
        "X_test_vect = np.load(\"H:/.shortcut-targets-by-id/1veNClNl7CxCTFHVNY2Fp29hcMoEj-the/TextMiningProject/X_test_vect.npy\", allow_pickle=True)"
      ]
    },
    {
      "cell_type": "markdown",
      "metadata": {
        "id": "bvIAhc7bxL2l"
      },
      "source": [
        "Per spiegare meglio quanto fatto sopra uso questo esempio:"
      ]
    },
    {
      "cell_type": "code",
      "execution_count": null,
      "metadata": {
        "id": "tolUovoSbdBK"
      },
      "outputs": [],
      "source": [
        "# La prima review del training è la seguente\n",
        "X_train.head(1)"
      ]
    },
    {
      "cell_type": "code",
      "execution_count": null,
      "metadata": {
        "id": "IWpB32XmbdBL"
      },
      "outputs": [],
      "source": [
        "# Le prime due parole sono 'love' e 'walker'. Stampo i vettori di queste due parole\n",
        "w2v_model.wv.get_vector('love')"
      ]
    },
    {
      "cell_type": "code",
      "execution_count": null,
      "metadata": {
        "id": "BJtXrv72bdBL"
      },
      "outputs": [],
      "source": [
        "w2v_model.wv.get_vector('walker')"
      ]
    },
    {
      "cell_type": "markdown",
      "metadata": {
        "id": "LRTLIPO2xL2o"
      },
      "source": [
        "Per vedere che sono identici, stampo i primi due elementi della prima lista in X_train_vec. Questi due elementi corrispondono ai vettori delle prime due parole della review selezionata, ossia 'love' e 'walker'"
      ]
    },
    {
      "cell_type": "code",
      "execution_count": null,
      "metadata": {
        "id": "T6Et1uVybdBL"
      },
      "outputs": [],
      "source": [
        "X_train_vect[0][0]"
      ]
    },
    {
      "cell_type": "code",
      "execution_count": null,
      "metadata": {
        "id": "E23_cezqbdBL"
      },
      "outputs": [],
      "source": [
        "X_train_vect[0][1]"
      ]
    },
    {
      "cell_type": "markdown",
      "metadata": {
        "id": "3sNfSiIFbdBL"
      },
      "source": [
        "Andremo a fare un loop su queste liste. Ogni frase avrà un diverso numero di parole e di conseguenza un numero differente di array da mediare"
      ]
    },
    {
      "cell_type": "code",
      "execution_count": null,
      "metadata": {
        "id": "sbCIseUjbdBL"
      },
      "outputs": [],
      "source": [
        "X_train_vect_avg = []\n",
        "for v in X_train_vect:\n",
        "    if v.size:\n",
        "        X_train_vect_avg.append(v.mean(axis=0))\n",
        "    else:\n",
        "        X_train_vect_avg.append(np.zeros(300, dtype=float))\n",
        "        \n",
        "X_test_vect_avg = []\n",
        "for v in X_test_vect:\n",
        "    if v.size:\n",
        "        X_test_vect_avg.append(v.mean(axis=0))\n",
        "    else:\n",
        "        X_test_vect_avg.append(np.zeros(300, dtype=float))"
      ]
    },
    {
      "cell_type": "code",
      "execution_count": null,
      "metadata": {
        "id": "-1dcfLhBbdBM"
      },
      "outputs": [],
      "source": [
        "for i, v in enumerate(X_train_vect_avg):\n",
        "    print(len(X_train.iloc[i]), len(v))"
      ]
    },
    {
      "cell_type": "markdown",
      "metadata": {
        "id": "4Dkpe8LbbdBM"
      },
      "source": [
        "Come si vede dal for eseguito qui sopra, ogni frase, indipendentemente dal numero di parole che la compongono, corrisponde a un vettore con 300 componenti, creato nello specifico mediando i vettori delle singole parole componente per componente."
      ]
    },
    {
      "cell_type": "markdown",
      "metadata": {
        "id": "y_qfs2WJxL2u"
      },
      "source": [
        "**X_train_vect_avg e X_test_vect_avg sono i vettori di feature da utilizzare, rispettivamente, per il training del modello e per le previsioni sul test set**"
      ]
    },
    {
      "cell_type": "markdown",
      "metadata": {
        "id": "urCo5jwwxL2u"
      },
      "source": [
        "#### Implementazione algoritmi\n",
        "\n",
        "- Regressione Logistica\n",
        "- Random Forest\n",
        "- SVM\n",
        "- XGBoost"
      ]
    },
    {
      "cell_type": "markdown",
      "metadata": {
        "id": "5aUY6vQUxL2v"
      },
      "source": [
        "##### Regressione Logistica"
      ]
    },
    {
      "cell_type": "code",
      "execution_count": null,
      "metadata": {
        "id": "UL3LfH_WxL2v"
      },
      "outputs": [],
      "source": [
        "# Regressione logistica con ottimizzazione degli iperparametri\n",
        "model = LogisticRegression(random_state=1)\n",
        "\n",
        "# Iperparametri \"critici\" da ottimizzare \n",
        "solvers = ['lbfgs', 'sag', 'saga']\n",
        "penalty = ['None', 'l2']\n",
        "c_values = [500, 200, 100, 50, 10]\n",
        "\n",
        "# Definisco la griglia di ricerca\n",
        "grid = dict(penalty=penalty,C=c_values, solver = solvers)\n",
        "\n",
        "# Start the clock, train the classifier, then stop the clock\n",
        "start = time()\n",
        "\n",
        "# CV and Tuning\n",
        "random_search = RandomizedSearchCV(estimator=model, param_distributions=grid, n_iter=6 ,cv=2, scoring=\"accuracy\", error_score=0, verbose=3)\n",
        "grid_result = random_search.fit(X_train_vect_avg, y_train)\n",
        "end = time()\n",
        "print (\"Train and tuning model in {:.4f} seconds\".format(end - start))\n",
        "\n",
        "# Salvataggio dei risultati del tuning\n",
        "path = 'H:/.shortcut-targets-by-id/1veNClNl7CxCTFHVNY2Fp29hcMoEj-the/TextMiningProject/Model_estimated/lrr_gridsearch_W2V.joblib'\n",
        "joblib.dump(grid_result, path)\n",
        "\n",
        "# model_path = '/content/gdrive/MyDrive/TextMiningProject/logreg_gridsearch_W2V.joblib'\n",
        "# joblib.dump(grid_result, model_path)"
      ]
    },
    {
      "cell_type": "code",
      "execution_count": null,
      "metadata": {
        "id": "8DKeHvn4xL2w"
      },
      "outputs": [],
      "source": [
        "# Caricamento del risultato del tuning\n",
        "\n",
        "path = 'H:/.shortcut-targets-by-id/1veNClNl7CxCTFHVNY2Fp29hcMoEj-the/TextMiningProject/Model_estimated/lrr_gridsearch_W2V.joblib'\n",
        "loaded_grid_search = joblib.load(path)\n",
        "# model_path = '/content/gdrive/MyDrive/TextMiningProject/logreg_gridsearch_W2V.joblib'\n",
        "# loaded_grid_search = joblib.load(model_path)\n",
        "\n",
        "# Summary dei risultati\n",
        "print(\"Best result: %f using %s\" % (loaded_grid_search.best_score_, loaded_grid_search.best_params_))\n",
        "\n",
        "#Salvo il modello con le migliori performance\n",
        "model_lr_W2V = loaded_grid_search.best_estimator_"
      ]
    },
    {
      "cell_type": "markdown",
      "metadata": {
        "id": "tqC27sYyxL2w"
      },
      "source": [
        "##### Random Forest"
      ]
    },
    {
      "cell_type": "code",
      "execution_count": null,
      "metadata": {
        "id": "a65EYpzJod4p"
      },
      "outputs": [],
      "source": [
        "# # Random Forest\n",
        "# model = RandomForestClassifier()\n",
        "\n",
        "# # Parametri 'critici' da ottimizzare\n",
        "# n_estimators = [10, 100, 1000]\n",
        "# max_features = ['sqrt', 'log2']\n",
        "# #Definisco la griglia di ricerca \n",
        "# grid = dict(n_estimators=n_estimators,max_features=max_features)\n",
        "\n",
        "# # Start the clock, train the classifier, then stop the clock\n",
        "# start = time()\n",
        "\n",
        "# grid_search = GridSearchCV(estimator=model, param_grid=grid, n_jobs=-1, cv=2, scoring='accuracy', error_score=0)\n",
        "# grid_result = grid_search.fit(X_train_vect_avg, y_train)\n",
        "# end = time()\n",
        "# print (\"Train and tuning model in {:.4f} seconds\".format(end - start))\n",
        "\n",
        "# # Salvataggio dei risultati del tuning\n",
        "# joblib.dump(grid_result, 'rf_gridsearch_TFIDF.joblib')\n",
        "\n",
        "# model_path = '/content/gdrive/MyDrive/TextMiningProject/rf_gridsearch_w2v.joblib'\n",
        "# joblib.dump(grid_result, model_path)"
      ]
    },
    {
      "cell_type": "code",
      "execution_count": null,
      "metadata": {
        "id": "0Ozrj-lCod4p"
      },
      "outputs": [],
      "source": [
        "\n",
        "# # Caricamento del risultato del tuning\n",
        "# loaded_grid_search = joblib.load('rf_gridsearch_w2vjoblib')\n",
        "\n",
        "# # Summary dei risultati\n",
        "# print(\"Best result: %f using %s\" % (loaded_grid_search.best_score_, loaded_grid_search.best_params_))\n",
        "\n",
        "# # Salvo il modello con le migliori perfomance\n",
        "# model_rf_w2v = loaded_grid_search.best_estimator_"
      ]
    },
    {
      "cell_type": "markdown",
      "metadata": {
        "id": "yMsmnuEdxL2y"
      },
      "source": [
        "##### KNN"
      ]
    },
    {
      "cell_type": "code",
      "execution_count": null,
      "metadata": {
        "id": "OFztf7N-xL2z"
      },
      "outputs": [],
      "source": [
        "model = KNeighborsClassifier(weights='distance')\n",
        "# Parametri critici da\n",
        "n_neighbors = range(1, 21, 1)\n",
        "\n",
        "# Definisco la griglia di ricerca\n",
        "grid = dict(n_neighbors=n_neighbors)\n",
        "\n",
        "# Start the clock, train the classifier, then stop the clock\n",
        "start = time()\n",
        "random_search = RandomizedSearchCV(estimator=model, param_distributions=grid, n_iter=6 ,cv=2, scoring=\"accuracy\", error_score=0, verbose=3)\n",
        "#grid_search = GridSearchCV(estimator=model, param_grid=grid, n_jobs=-1, cv=2, scoring='accuracy',error_score=0)\n",
        "grid_result = random_search.fit(X_train_vect_avg, y_train)\n",
        "end = time()\n",
        "print (\"Train and tuning model in {:.4f} seconds\".format(end - start))\n",
        "\n",
        "# Salvataggio dei risultati del tuning\n",
        "\n",
        "path = 'H:/.shortcut-targets-by-id/1veNClNl7CxCTFHVNY2Fp29hcMoEj-the/TextMiningProject/Model_estimated/knn_gridsearch_W2V.joblib'\n",
        "joblib.dump(grid_result, path)\n",
        "# model_path = '/content/gdrive/MyDrive/TextMiningProject/knn_gridsearch_W2V.joblib'\n",
        "# joblib.dump(grid_result, model_path)"
      ]
    },
    {
      "cell_type": "code",
      "execution_count": null,
      "metadata": {
        "id": "vU_FbvPixL2z"
      },
      "outputs": [],
      "source": [
        "# Caricamento del risultato del tuning\n",
        "\n",
        "path = 'H:/.shortcut-targets-by-id/1veNClNl7CxCTFHVNY2Fp29hcMoEj-the/TextMiningProject/Model_estimated/knn_gridsearch_W2V.joblib'\n",
        "loaded_grid_search = joblib.load(path)\n",
        "# model_path = '/content/gdrive/MyDrive/TextMiningProject/knn_gridsearch_W2V.joblib'\n",
        "# loaded_grid_search = joblib.load(model_path)\n",
        "\n",
        "# Summary dei risultati\n",
        "print(\"Best result: %f using %s\" % (loaded_grid_search.best_score_, loaded_grid_search.best_params_))\n",
        "\n",
        "# Salvo il modello con le migliori perfomance\n",
        "model_knn_W2V = loaded_grid_search.best_estimator_"
      ]
    },
    {
      "cell_type": "markdown",
      "metadata": {
        "id": "Syag2Dz8xL20"
      },
      "source": [
        "##### XGBoost"
      ]
    },
    {
      "cell_type": "markdown",
      "metadata": {
        "id": "55ULZrRnxL21"
      },
      "source": [
        "Parametri fissati: \n",
        "- subsample = 0.5 (valore basso per contenere overfitting)\n",
        "- max_depth = 5 (valore intermedio, non troppo basso per permettere al modello di comprendere pattern complessi, non troppo alto per evitare overfitting)\n",
        "\n",
        "Parametri da ottimizzare: \n",
        "- n_estimators [10, 100, 1000]\n",
        "- learning_rate in [0.01, 0.1, 0.5]\n",
        "\n",
        "L'ottimo sarebbe ottimizzare tutti e quattro questi parametri, ma la potenza computazionale disponibile non è sufficiente "
      ]
    },
    {
      "cell_type": "code",
      "execution_count": null,
      "metadata": {
        "id": "vQ3gHelMxL22"
      },
      "outputs": [],
      "source": [
        "from sklearn.preprocessing import LabelEncoder\n",
        "from xgboost import XGBClassifier\n",
        "from sklearn.model_selection import RandomizedSearchCV\n",
        "\n",
        "le = LabelEncoder()\n",
        "y_train_xg = le.fit_transform(y_train)\n",
        "\n",
        "model = XGBClassifier(sampling_method = 'gradient_based', max_depth = 6, eta = 0.2, n_jobs=-1, tree_method = 'hist', objective='multi:softmax')\n",
        "model_xgboost_W2V = model.fit(X_train_vect_avg, y_train_xg)"
      ]
    },
    {
      "cell_type": "code",
      "execution_count": null,
      "metadata": {
        "id": "jpCosu26xL23"
      },
      "outputs": [],
      "source": [
        "# Salvataggio dei risultati dell'holdout\n",
        "path = 'H:/.shortcut-targets-by-id/1veNClNl7CxCTFHVNY2Fp29hcMoEj-the/TextMiningProject/Model_estimated/xgboost_holdout_W2V.joblib'\n",
        "joblib.dump(model_xgboost_W2V, path)"
      ]
    },
    {
      "cell_type": "code",
      "execution_count": null,
      "metadata": {
        "id": "4dyyX1z5xL24"
      },
      "outputs": [],
      "source": [
        "from sklearn.preprocessing import LabelEncoder\n",
        "from xgboost import XGBClassifier\n",
        "from sklearn.model_selection import RandomizedSearchCV\n",
        "\n",
        "le = LabelEncoder()\n",
        "y_train_xg = le.fit_transform(y_train)\n",
        "\n",
        "# XG-Boost con ottimizzazione degli iperparametri\n",
        "model = XGBClassifier(tree_method = 'gpu_hist', predictor = 'gpu_predictor', sampling_method = 'gradient_based')\n",
        "\n",
        "# Parametri critici da ottimizzare\n",
        "max_depth = [1, 2, 3, 4, 5, 6, 7, 8, 9]\n",
        "eta  = [0.2, 0.4, 0.6, 0.8]\n",
        "colsample_bytree = [0.1, 0.3, 0.5, 0.7]\n",
        "# sampling_method = ['uniform', 'gradient_based']\n",
        "\n",
        "#Definisco la griglia di ricerca\n",
        "grid = dict(max_depth=max_depth, eta =eta, colsample_bytree = colsample_bytree)\n",
        "\n",
        "# Start the clock, train the classifier, then stop the clock\n",
        "start = time()\n",
        "random_search = RandomizedSearchCV(estimator=model, param_distributions=grid, n_iter= 6, cv=2, scoring='accuracy', error_score=0, n_jobs=-1, random_state=0, verbose=3)\n",
        "grid_result = random_search.fit(X_train_vect_avg, y_train_xg)\n",
        "end = time()\n",
        "print (\"Train and tuning model in {:.4f} seconds\".format(end - start))\n",
        "\n",
        "# Salvataggio dei risultati del tuning\n",
        "path = 'H:/.shortcut-targets-by-id/1veNClNl7CxCTFHVNY2Fp29hcMoEj-the/TextMiningProject/Model_estimated/xgboost_gridsearch_W2V.joblib'\n",
        "joblib.dump(grid_result, path)\n",
        "\n",
        "# Salvataggio dei risultati del tuning Google-Colab\n",
        "# model_path = '/content/gdrive/MyDrive/TextMiningProject/xgboost_gridsearch_W2V.joblib'\n",
        "# joblib.dump(grid_result, model_path)"
      ]
    },
    {
      "cell_type": "code",
      "execution_count": null,
      "metadata": {
        "id": "kkBKmH-txL25"
      },
      "outputs": [],
      "source": [
        "# Caricamento del risultato del tuning\n",
        "path = 'H:/.shortcut-targets-by-id/1veNClNl7CxCTFHVNY2Fp29hcMoEj-the/TextMiningProject/Model_estimated/xgboost_holdout_W2V.joblib'\n",
        "model_xgboost_W2V = joblib.load(path)\n",
        "\n",
        "# model_path = '/content/gdrive/MyDrive/TextMiningProject/xgboost_holdout_W2V.joblib'\n",
        "# model_xgboost_W2V = joblib.load(model_path)"
      ]
    },
    {
      "cell_type": "markdown",
      "metadata": {
        "id": "CbzGRIOTxL26"
      },
      "source": [
        "### Analisi dei risultati"
      ]
    },
    {
      "cell_type": "code",
      "execution_count": null,
      "metadata": {
        "id": "V7Um33uHxL26"
      },
      "outputs": [],
      "source": [
        "models = [model_lr_W2V, model_knn_W2V, model_xgboost_W2V]\n",
        "\n",
        "# Previsioni sul test set\n",
        "results = []\n",
        "for model in models:\n",
        "    if model == models[2]:\n",
        "        y_test_xg = le.fit_transform(y_test)\n",
        "        print(y_test_xg)\n",
        "        y_pred = model.predict(X_test_vect_avg)\n",
        "        acc = accuracy_score(y_test_xg, y_pred)\n",
        "        prec = precision_score(y_test_xg, y_pred, average='macro')\n",
        "        recall = recall_score(y_test_xg, y_pred, average='macro')\n",
        "        f1 = f1_score(y_test_xg, y_pred, average='macro')\n",
        "        results.append([acc, prec, recall, f1])\n",
        "    else:\n",
        "        y_pred = model.predict(X_test_vect_avg)\n",
        "        acc = accuracy_score(y_test, y_pred)\n",
        "        prec = precision_score(y_test, y_pred, average='macro')\n",
        "        recall = recall_score(y_test, y_pred, average='macro')\n",
        "        f1 = f1_score(y_test, y_pred, average='macro')\n",
        "        results.append([acc, prec, recall, f1])\n",
        "\n",
        "# Creo la tabella e visualizzo i risultati\n",
        "df_results = pd.DataFrame(results, columns=['Accuracy', 'Precision', 'Recall', 'F1 Score'])\n",
        "df_results.index = ['LR model', 'KNN model', 'XGBOOST model']\n",
        "print(df_results)"
      ]
    },
    {
      "cell_type": "code",
      "execution_count": null,
      "metadata": {
        "id": "aV4sj5GBxL27"
      },
      "outputs": [],
      "source": [
        "# # Crea i grafici ROC per ogni modello\n",
        "# for model in models:\n",
        "#     y_pred_proba = model.predict_proba(X_test_BOW)[::,1]\n",
        "#     fpr, tpr, _ = roc_curve(y_test, y_pred_proba)\n",
        "#     auc = roc_auc_score(y_test, y_pred_proba)\n",
        "#     plt.plot(fpr,tpr,label=\"AUC=\"+str(auc))\n",
        "#     plt.legend(loc = 'lower right')"
      ]
    },
    {
      "cell_type": "code",
      "execution_count": null,
      "metadata": {
        "id": "0kwQTTb6xL28"
      },
      "outputs": [],
      "source": [
        "# # Creo le matrici di confusione per ogni modello\n",
        "# for model in models:\n",
        "#     cm = confusion_matrix(y_test, y_pred)\n",
        "#     plt.figure()\n",
        "#     plt.imshow(cm, interpolation='nearest', cmap=plt.cm.Blues)\n",
        "#     plt.title(\"Confusion Matrix - \" + str(model))\n",
        "#     plt.colorbar()\n",
        "#     tick_marks = np.arange(3)\n",
        "#     plt.xticks(tick_marks, [\"Class 1\", \"Class 2\", \"Class 3\", \"Class 4\", \"Class 5\"])\n",
        "#     plt.yticks(tick_marks, [\"Class 1\", \"Class 2\", \"Class 3\", \"Class 4\", \"Class 5\"])\n",
        "#     thresh = cm.max() / 2.\n",
        "#     for i, j in itertools.product(range(cm.shape[0]), range(cm.shape[1])):\n",
        "#         plt.text(j, i, format(cm[i, j]),\n",
        "#                  horizontalalignment=\"center\",\n",
        "#                  color=\"white\" if cm[i, j] > thresh else \"black\")\n",
        "#     plt.tight_layout()\n",
        "#     plt.ylabel('True label')\n",
        "#     plt.xlabel('Predicted label')\n",
        "#     plt.show()"
      ]
    },
    {
      "cell_type": "markdown",
      "metadata": {
        "id": "ttPs76bybdBM"
      },
      "source": [
        "# Binary Classification "
      ]
    },
    {
      "cell_type": "code",
      "execution_count": 15,
      "metadata": {
        "id": "HzY6n3G1bdBN"
      },
      "outputs": [],
      "source": [
        "# Tengo solo gli score diversi da 3\n",
        "df_binary = classification_df[classification_df['Score']!=3]"
      ]
    },
    {
      "cell_type": "code",
      "execution_count": 16,
      "metadata": {
        "id": "kCs59w6nbdBN",
        "outputId": "dc178453-dee4-402f-a6cc-fdecf955d68d",
        "colab": {
          "base_uri": "https://localhost:8080/",
          "height": 206
        }
      },
      "outputs": [
        {
          "output_type": "execute_result",
          "data": {
            "text/plain": [
              "   Score                                    Lemmatized Text\n",
              "0      1  [bought, several, vitality, canned, dog, food,...\n",
              "1      0  [product, arrived, labelled, lumbo, halted, pe...\n",
              "2      1  [connection, around, century, light, pillow, c...\n",
              "3      0  [looking, secret, ingredient, robitussin, beli...\n",
              "4      1  [great, staff, great, price, wide, assortment,..."
            ],
            "text/html": [
              "\n",
              "  <div id=\"df-ad324a03-7592-4d5f-b268-ab0cbdf1845e\">\n",
              "    <div class=\"colab-df-container\">\n",
              "      <div>\n",
              "<style scoped>\n",
              "    .dataframe tbody tr th:only-of-type {\n",
              "        vertical-align: middle;\n",
              "    }\n",
              "\n",
              "    .dataframe tbody tr th {\n",
              "        vertical-align: top;\n",
              "    }\n",
              "\n",
              "    .dataframe thead th {\n",
              "        text-align: right;\n",
              "    }\n",
              "</style>\n",
              "<table border=\"1\" class=\"dataframe\">\n",
              "  <thead>\n",
              "    <tr style=\"text-align: right;\">\n",
              "      <th></th>\n",
              "      <th>Score</th>\n",
              "      <th>Lemmatized Text</th>\n",
              "    </tr>\n",
              "  </thead>\n",
              "  <tbody>\n",
              "    <tr>\n",
              "      <th>0</th>\n",
              "      <td>1</td>\n",
              "      <td>[bought, several, vitality, canned, dog, food,...</td>\n",
              "    </tr>\n",
              "    <tr>\n",
              "      <th>1</th>\n",
              "      <td>0</td>\n",
              "      <td>[product, arrived, labelled, lumbo, halted, pe...</td>\n",
              "    </tr>\n",
              "    <tr>\n",
              "      <th>2</th>\n",
              "      <td>1</td>\n",
              "      <td>[connection, around, century, light, pillow, c...</td>\n",
              "    </tr>\n",
              "    <tr>\n",
              "      <th>3</th>\n",
              "      <td>0</td>\n",
              "      <td>[looking, secret, ingredient, robitussin, beli...</td>\n",
              "    </tr>\n",
              "    <tr>\n",
              "      <th>4</th>\n",
              "      <td>1</td>\n",
              "      <td>[great, staff, great, price, wide, assortment,...</td>\n",
              "    </tr>\n",
              "  </tbody>\n",
              "</table>\n",
              "</div>\n",
              "      <button class=\"colab-df-convert\" onclick=\"convertToInteractive('df-ad324a03-7592-4d5f-b268-ab0cbdf1845e')\"\n",
              "              title=\"Convert this dataframe to an interactive table.\"\n",
              "              style=\"display:none;\">\n",
              "        \n",
              "  <svg xmlns=\"http://www.w3.org/2000/svg\" height=\"24px\"viewBox=\"0 0 24 24\"\n",
              "       width=\"24px\">\n",
              "    <path d=\"M0 0h24v24H0V0z\" fill=\"none\"/>\n",
              "    <path d=\"M18.56 5.44l.94 2.06.94-2.06 2.06-.94-2.06-.94-.94-2.06-.94 2.06-2.06.94zm-11 1L8.5 8.5l.94-2.06 2.06-.94-2.06-.94L8.5 2.5l-.94 2.06-2.06.94zm10 10l.94 2.06.94-2.06 2.06-.94-2.06-.94-.94-2.06-.94 2.06-2.06.94z\"/><path d=\"M17.41 7.96l-1.37-1.37c-.4-.4-.92-.59-1.43-.59-.52 0-1.04.2-1.43.59L10.3 9.45l-7.72 7.72c-.78.78-.78 2.05 0 2.83L4 21.41c.39.39.9.59 1.41.59.51 0 1.02-.2 1.41-.59l7.78-7.78 2.81-2.81c.8-.78.8-2.07 0-2.86zM5.41 20L4 18.59l7.72-7.72 1.47 1.35L5.41 20z\"/>\n",
              "  </svg>\n",
              "      </button>\n",
              "      \n",
              "  <style>\n",
              "    .colab-df-container {\n",
              "      display:flex;\n",
              "      flex-wrap:wrap;\n",
              "      gap: 12px;\n",
              "    }\n",
              "\n",
              "    .colab-df-convert {\n",
              "      background-color: #E8F0FE;\n",
              "      border: none;\n",
              "      border-radius: 50%;\n",
              "      cursor: pointer;\n",
              "      display: none;\n",
              "      fill: #1967D2;\n",
              "      height: 32px;\n",
              "      padding: 0 0 0 0;\n",
              "      width: 32px;\n",
              "    }\n",
              "\n",
              "    .colab-df-convert:hover {\n",
              "      background-color: #E2EBFA;\n",
              "      box-shadow: 0px 1px 2px rgba(60, 64, 67, 0.3), 0px 1px 3px 1px rgba(60, 64, 67, 0.15);\n",
              "      fill: #174EA6;\n",
              "    }\n",
              "\n",
              "    [theme=dark] .colab-df-convert {\n",
              "      background-color: #3B4455;\n",
              "      fill: #D2E3FC;\n",
              "    }\n",
              "\n",
              "    [theme=dark] .colab-df-convert:hover {\n",
              "      background-color: #434B5C;\n",
              "      box-shadow: 0px 1px 3px 1px rgba(0, 0, 0, 0.15);\n",
              "      filter: drop-shadow(0px 1px 2px rgba(0, 0, 0, 0.3));\n",
              "      fill: #FFFFFF;\n",
              "    }\n",
              "  </style>\n",
              "\n",
              "      <script>\n",
              "        const buttonEl =\n",
              "          document.querySelector('#df-ad324a03-7592-4d5f-b268-ab0cbdf1845e button.colab-df-convert');\n",
              "        buttonEl.style.display =\n",
              "          google.colab.kernel.accessAllowed ? 'block' : 'none';\n",
              "\n",
              "        async function convertToInteractive(key) {\n",
              "          const element = document.querySelector('#df-ad324a03-7592-4d5f-b268-ab0cbdf1845e');\n",
              "          const dataTable =\n",
              "            await google.colab.kernel.invokeFunction('convertToInteractive',\n",
              "                                                     [key], {});\n",
              "          if (!dataTable) return;\n",
              "\n",
              "          const docLinkHtml = 'Like what you see? Visit the ' +\n",
              "            '<a target=\"_blank\" href=https://colab.research.google.com/notebooks/data_table.ipynb>data table notebook</a>'\n",
              "            + ' to learn more about interactive tables.';\n",
              "          element.innerHTML = '';\n",
              "          dataTable['output_type'] = 'display_data';\n",
              "          await google.colab.output.renderOutput(dataTable, element);\n",
              "          const docLink = document.createElement('div');\n",
              "          docLink.innerHTML = docLinkHtml;\n",
              "          element.appendChild(docLink);\n",
              "        }\n",
              "      </script>\n",
              "    </div>\n",
              "  </div>\n",
              "  "
            ]
          },
          "metadata": {},
          "execution_count": 16
        }
      ],
      "source": [
        "# Creo variabile binaria\n",
        "df_binary.loc[df_binary.Score < 3, \"Score\"] = 0\n",
        "df_binary.loc[df_binary.Score > 3, \"Score\"] = 1\n",
        "df_binary.head()"
      ]
    },
    {
      "cell_type": "code",
      "execution_count": 17,
      "metadata": {
        "id": "ct3JDf1ubdBN",
        "outputId": "963d51e1-5a2c-4946-b3b8-5deb6c0b2e46",
        "colab": {
          "base_uri": "https://localhost:8080/",
          "height": 312
        }
      },
      "outputs": [
        {
          "output_type": "execute_result",
          "data": {
            "text/plain": [
              "Text(0, 0.5, 'Number of reviews')"
            ]
          },
          "metadata": {},
          "execution_count": 17
        },
        {
          "output_type": "display_data",
          "data": {
            "text/plain": [
              "<Figure size 432x288 with 1 Axes>"
            ],
            "image/png": "[encoded data removed]"
          },
          "metadata": {
            "needs_background": "light"
          }
        }
      ],
      "source": [
        "sns.histplot(df_binary['Score'], discrete=True)\n",
        "plt.title(\"Score distribution\", fontweight='bold')\n",
        "plt.xlabel(\"Score\")\n",
        "plt.ylabel(\"Number of reviews\")"
      ]
    },
    {
      "cell_type": "code",
      "execution_count": 18,
      "metadata": {
        "id": "lhoAg9R-bdBN",
        "outputId": "1e23f460-20c9-40a2-8c58-151eabb7f1d8",
        "colab": {
          "base_uri": "https://localhost:8080/"
        }
      },
      "outputs": [
        {
          "output_type": "execute_result",
          "data": {
            "text/plain": [
              "57108"
            ]
          },
          "metadata": {},
          "execution_count": 18
        }
      ],
      "source": [
        "sample_size_binary = df_binary.groupby('Score').count().min()[0]\n",
        "sample_size_binary"
      ]
    },
    {
      "cell_type": "code",
      "execution_count": 19,
      "metadata": {
        "id": "ZwJZHLe1bdBN",
        "outputId": "9c3366a0-0e63-4f54-dbaa-071e87b97997",
        "colab": {
          "base_uri": "https://localhost:8080/",
          "height": 424
        }
      },
      "outputs": [
        {
          "output_type": "execute_result",
          "data": {
            "text/plain": [
              "        Score                                    Lemmatized Text\n",
              "367627      0  [product, past, bottle, vinegar, tasted, nothi...\n",
              "138343      0  [bought, popcorn, without, reading, ingredient...\n",
              "255516      0  [good, half, skinny, sticky, bad, costo, stopp...\n",
              "290022      0  [purchased, case, enhanced, water, one, absolu...\n",
              "333696      0  [many, piece, peanut, peanut, brittle, hard, c...\n",
              "...       ...                                                ...\n",
              "150573      1  [worked, flavor, bad, used, ever, seemed, like...\n",
              "196059      1  [actually, first, branded, product, remember, ...\n",
              "100720      1  [master, chocolate, pantry, chef, data, taylor...\n",
              "314956      1  [bought, try, alternative, ti, ill, pad, use, ...\n",
              "290480      1  [trip, paris, visited, mille, store, hundred, ...\n",
              "\n",
              "[114216 rows x 2 columns]"
            ],
            "text/html": [
              "\n",
              "  <div id=\"df-5bab9fa8-1710-4d31-b3d8-f95fd787993b\">\n",
              "    <div class=\"colab-df-container\">\n",
              "      <div>\n",
              "<style scoped>\n",
              "    .dataframe tbody tr th:only-of-type {\n",
              "        vertical-align: middle;\n",
              "    }\n",
              "\n",
              "    .dataframe tbody tr th {\n",
              "        vertical-align: top;\n",
              "    }\n",
              "\n",
              "    .dataframe thead th {\n",
              "        text-align: right;\n",
              "    }\n",
              "</style>\n",
              "<table border=\"1\" class=\"dataframe\">\n",
              "  <thead>\n",
              "    <tr style=\"text-align: right;\">\n",
              "      <th></th>\n",
              "      <th>Score</th>\n",
              "      <th>Lemmatized Text</th>\n",
              "    </tr>\n",
              "  </thead>\n",
              "  <tbody>\n",
              "    <tr>\n",
              "      <th>367627</th>\n",
              "      <td>0</td>\n",
              "      <td>[product, past, bottle, vinegar, tasted, nothi...</td>\n",
              "    </tr>\n",
              "    <tr>\n",
              "      <th>138343</th>\n",
              "      <td>0</td>\n",
              "      <td>[bought, popcorn, without, reading, ingredient...</td>\n",
              "    </tr>\n",
              "    <tr>\n",
              "      <th>255516</th>\n",
              "      <td>0</td>\n",
              "      <td>[good, half, skinny, sticky, bad, costo, stopp...</td>\n",
              "    </tr>\n",
              "    <tr>\n",
              "      <th>290022</th>\n",
              "      <td>0</td>\n",
              "      <td>[purchased, case, enhanced, water, one, absolu...</td>\n",
              "    </tr>\n",
              "    <tr>\n",
              "      <th>333696</th>\n",
              "      <td>0</td>\n",
              "      <td>[many, piece, peanut, peanut, brittle, hard, c...</td>\n",
              "    </tr>\n",
              "    <tr>\n",
              "      <th>...</th>\n",
              "      <td>...</td>\n",
              "      <td>...</td>\n",
              "    </tr>\n",
              "    <tr>\n",
              "      <th>150573</th>\n",
              "      <td>1</td>\n",
              "      <td>[worked, flavor, bad, used, ever, seemed, like...</td>\n",
              "    </tr>\n",
              "    <tr>\n",
              "      <th>196059</th>\n",
              "      <td>1</td>\n",
              "      <td>[actually, first, branded, product, remember, ...</td>\n",
              "    </tr>\n",
              "    <tr>\n",
              "      <th>100720</th>\n",
              "      <td>1</td>\n",
              "      <td>[master, chocolate, pantry, chef, data, taylor...</td>\n",
              "    </tr>\n",
              "    <tr>\n",
              "      <th>314956</th>\n",
              "      <td>1</td>\n",
              "      <td>[bought, try, alternative, ti, ill, pad, use, ...</td>\n",
              "    </tr>\n",
              "    <tr>\n",
              "      <th>290480</th>\n",
              "      <td>1</td>\n",
              "      <td>[trip, paris, visited, mille, store, hundred, ...</td>\n",
              "    </tr>\n",
              "  </tbody>\n",
              "</table>\n",
              "<p>114216 rows × 2 columns</p>\n",
              "</div>\n",
              "      <button class=\"colab-df-convert\" onclick=\"convertToInteractive('df-5bab9fa8-1710-4d31-b3d8-f95fd787993b')\"\n",
              "              title=\"Convert this dataframe to an interactive table.\"\n",
              "              style=\"display:none;\">\n",
              "        \n",
              "  <svg xmlns=\"http://www.w3.org/2000/svg\" height=\"24px\"viewBox=\"0 0 24 24\"\n",
              "       width=\"24px\">\n",
              "    <path d=\"M0 0h24v24H0V0z\" fill=\"none\"/>\n",
              "    <path d=\"M18.56 5.44l.94 2.06.94-2.06 2.06-.94-2.06-.94-.94-2.06-.94 2.06-2.06.94zm-11 1L8.5 8.5l.94-2.06 2.06-.94-2.06-.94L8.5 2.5l-.94 2.06-2.06.94zm10 10l.94 2.06.94-2.06 2.06-.94-2.06-.94-.94-2.06-.94 2.06-2.06.94z\"/><path d=\"M17.41 7.96l-1.37-1.37c-.4-.4-.92-.59-1.43-.59-.52 0-1.04.2-1.43.59L10.3 9.45l-7.72 7.72c-.78.78-.78 2.05 0 2.83L4 21.41c.39.39.9.59 1.41.59.51 0 1.02-.2 1.41-.59l7.78-7.78 2.81-2.81c.8-.78.8-2.07 0-2.86zM5.41 20L4 18.59l7.72-7.72 1.47 1.35L5.41 20z\"/>\n",
              "  </svg>\n",
              "      </button>\n",
              "      \n",
              "  <style>\n",
              "    .colab-df-container {\n",
              "      display:flex;\n",
              "      flex-wrap:wrap;\n",
              "      gap: 12px;\n",
              "    }\n",
              "\n",
              "    .colab-df-convert {\n",
              "      background-color: #E8F0FE;\n",
              "      border: none;\n",
              "      border-radius: 50%;\n",
              "      cursor: pointer;\n",
              "      display: none;\n",
              "      fill: #1967D2;\n",
              "      height: 32px;\n",
              "      padding: 0 0 0 0;\n",
              "      width: 32px;\n",
              "    }\n",
              "\n",
              "    .colab-df-convert:hover {\n",
              "      background-color: #E2EBFA;\n",
              "      box-shadow: 0px 1px 2px rgba(60, 64, 67, 0.3), 0px 1px 3px 1px rgba(60, 64, 67, 0.15);\n",
              "      fill: #174EA6;\n",
              "    }\n",
              "\n",
              "    [theme=dark] .colab-df-convert {\n",
              "      background-color: #3B4455;\n",
              "      fill: #D2E3FC;\n",
              "    }\n",
              "\n",
              "    [theme=dark] .colab-df-convert:hover {\n",
              "      background-color: #434B5C;\n",
              "      box-shadow: 0px 1px 3px 1px rgba(0, 0, 0, 0.15);\n",
              "      filter: drop-shadow(0px 1px 2px rgba(0, 0, 0, 0.3));\n",
              "      fill: #FFFFFF;\n",
              "    }\n",
              "  </style>\n",
              "\n",
              "      <script>\n",
              "        const buttonEl =\n",
              "          document.querySelector('#df-5bab9fa8-1710-4d31-b3d8-f95fd787993b button.colab-df-convert');\n",
              "        buttonEl.style.display =\n",
              "          google.colab.kernel.accessAllowed ? 'block' : 'none';\n",
              "\n",
              "        async function convertToInteractive(key) {\n",
              "          const element = document.querySelector('#df-5bab9fa8-1710-4d31-b3d8-f95fd787993b');\n",
              "          const dataTable =\n",
              "            await google.colab.kernel.invokeFunction('convertToInteractive',\n",
              "                                                     [key], {});\n",
              "          if (!dataTable) return;\n",
              "\n",
              "          const docLinkHtml = 'Like what you see? Visit the ' +\n",
              "            '<a target=\"_blank\" href=https://colab.research.google.com/notebooks/data_table.ipynb>data table notebook</a>'\n",
              "            + ' to learn more about interactive tables.';\n",
              "          element.innerHTML = '';\n",
              "          dataTable['output_type'] = 'display_data';\n",
              "          await google.colab.output.renderOutput(dataTable, element);\n",
              "          const docLink = document.createElement('div');\n",
              "          docLink.innerHTML = docLinkHtml;\n",
              "          element.appendChild(docLink);\n",
              "        }\n",
              "      </script>\n",
              "    </div>\n",
              "  </div>\n",
              "  "
            ]
          },
          "metadata": {},
          "execution_count": 19
        }
      ],
      "source": [
        "binary_downsampled = df_binary.groupby('Score', group_keys=False).apply(lambda x: x.sample(sample_size_binary))\n",
        "binary_downsampled"
      ]
    },
    {
      "cell_type": "code",
      "execution_count": 20,
      "metadata": {
        "id": "wby7To08bdBN"
      },
      "outputs": [],
      "source": [
        "X_train_bin, X_test_bin, y_train_bin, y_test_bin = train_test_split(binary_downsampled[\"Lemmatized Text\"], \n",
        "                                                    binary_downsampled[\"Score\"], \n",
        "                                                    test_size=0.3, \n",
        "                                                    random_state=1, \n",
        "                                                    stratify=binary_downsampled['Score'])"
      ]
    },
    {
      "cell_type": "markdown",
      "metadata": {
        "id": "L84UBa5KbdBN"
      },
      "source": [
        "## BOW"
      ]
    },
    {
      "cell_type": "code",
      "execution_count": null,
      "metadata": {
        "id": "I18Drqh5bdBN"
      },
      "outputs": [],
      "source": [
        "cv_bin = CountVectorizer(min_df=0., max_df=1.0)\n",
        "cv_model_bin = cv_bin.fit(X_train_bin.astype(str)) \n",
        "X_train_BOW_bin = cv_model_bin.transform(X_train_bin.astype(str))"
      ]
    },
    {
      "cell_type": "code",
      "execution_count": null,
      "metadata": {
        "id": "6MiHUi4nxL3D",
        "outputId": "45cc6bbd-4cfa-4101-ccbf-37ac5d3dbcb0"
      },
      "outputs": [
        {
          "data": {
            "text/plain": [
              "(79951, 80905)"
            ]
          },
          "execution_count": 31,
          "metadata": {},
          "output_type": "execute_result"
        }
      ],
      "source": [
        "X_train_BOW_bin.shape"
      ]
    },
    {
      "cell_type": "code",
      "execution_count": null,
      "metadata": {
        "id": "aRSIj_B4xL3E"
      },
      "outputs": [],
      "source": [
        "# # Eseguo la SVD\n",
        "# n_components = 3000\n",
        "# tSVD_BOW_bin = TruncatedSVD(n_components = n_components)\n",
        "# SVD_BOW_bin = tSVD_BOW_bin.fit(X_train_BOW_bin)\n",
        "\n",
        "# # Calcolo varianza cumulata delle componenti\n",
        "# cum_var = np.cumsum(SVD_BOW_bin.explained_variance_ratio_)\n",
        "\n",
        "# # Salvo SVD su disco\n",
        "# joblib.dump(SVD_BOW_bin, \"H:/.shortcut-targets-by-id/1veNClNl7CxCTFHVNY2Fp29hcMoEj-the/TextMiningProject/SVD_BOW_3000_bin.joblib\")"
      ]
    },
    {
      "cell_type": "code",
      "execution_count": null,
      "metadata": {
        "id": "Mg2cOq1jxL3E"
      },
      "outputs": [],
      "source": [
        "# carico SVD\n",
        "SVD_BOW_3000_bin = joblib.load(\"H:/.shortcut-targets-by-id/1veNClNl7CxCTFHVNY2Fp29hcMoEj-the/TextMiningProject/SVD_BOW_3000_bin.joblib\")\n",
        "cum_var = np.cumsum(SVD_BOW_3000_bin.explained_variance_ratio_)"
      ]
    },
    {
      "cell_type": "code",
      "execution_count": null,
      "metadata": {
        "colab": {
          "base_uri": "https://localhost:8080/",
          "height": 279
        },
        "outputId": "bebf82e2-ac40-4745-a4a5-92361511b227",
        "id": "r31Dj6GNxL3F"
      },
      "outputs": [
        {
          "data": {
            "image/png": "[encoded data removed]",
            "text/plain": [
              "<Figure size 640x480 with 1 Axes>"
            ]
          },
          "metadata": {},
          "output_type": "display_data"
        }
      ],
      "source": [
        "# Grafico varianza cumulata\n",
        "plt.plot(range(1, len(cum_var) + 1), cum_var)\n",
        "plt.xlabel(\"Numero di componenti\")\n",
        "plt.ylabel(\"Varianza cumulata\")\n",
        "plt.show()"
      ]
    },
    {
      "cell_type": "code",
      "execution_count": null,
      "metadata": {
        "colab": {
          "base_uri": "https://localhost:8080/"
        },
        "outputId": "8f7ef8e8-8527-4059-c99c-bd80a59de069",
        "id": "6sKDK2z0xL3G"
      },
      "outputs": [
        {
          "name": "stdout",
          "output_type": "stream",
          "text": [
            "Numero di componenti necessariea spiegare una varianza pari all'85% sono :  1466\n"
          ]
        }
      ],
      "source": [
        "threshold = 0.85\n",
        "n_components = np.argmax(cum_var >= threshold) + 1\n",
        "print(\"Numero di componenti necessariea spiegare una varianza pari all'85% sono : \", n_components)"
      ]
    },
    {
      "cell_type": "code",
      "execution_count": null,
      "metadata": {
        "id": "gXso1V4kxL3H",
        "outputId": "0991d595-1385-4ebc-cac2-09f652569344"
      },
      "outputs": [
        {
          "data": {
            "text/plain": [
              "['H:/.shortcut-targets-by-id/1veNClNl7CxCTFHVNY2Fp29hcMoEj-the/TextMiningProject/SVD_BOW_bin_optim.joblib']"
            ]
          },
          "execution_count": 18,
          "metadata": {},
          "output_type": "execute_result"
        }
      ],
      "source": [
        "# Stimo SVD ottimale\n",
        "tSVD_BOW_bin = TruncatedSVD(n_components = 1466)\n",
        "SVD_BOW_bin = tSVD_BOW_bin.fit(X_train_BOW_bin)\n",
        "\n",
        "# Salvo SVD ottimizzata\n",
        "joblib.dump(SVD_BOW_bin, \"H:/.shortcut-targets-by-id/1veNClNl7CxCTFHVNY2Fp29hcMoEj-the/TextMiningProject/SVD_BOW_bin_optim.joblib\")"
      ]
    },
    {
      "cell_type": "code",
      "execution_count": null,
      "metadata": {
        "id": "E1rN_ZTmxL3I"
      },
      "outputs": [],
      "source": [
        "# Applico la trasformazione al training e test set \n",
        "X_train_BOW_bin = tSVD_BOW_bin.transform(X_train_BOW_bin)\n",
        "\n",
        "X_test_BOW_bin = cv_model_bin.transform(X_test_bin.astype(str))\n",
        "X_test_BOW_bin = SVD_BOW_bin.transform(X_test_BOW_bin)"
      ]
    },
    {
      "cell_type": "code",
      "execution_count": null,
      "metadata": {
        "id": "n6_A9rOYxL3J",
        "outputId": "62ce1d15-b2ff-4339-e3fc-fcf6200802a3"
      },
      "outputs": [
        {
          "data": {
            "text/plain": [
              "(31203, 80905)"
            ]
          },
          "execution_count": 28,
          "metadata": {},
          "output_type": "execute_result"
        }
      ],
      "source": [
        "X_test_BOW_bin.shape"
      ]
    },
    {
      "cell_type": "markdown",
      "metadata": {
        "id": "3xiV4x4hxL3K"
      },
      "source": [
        "### Implementazione algoritmi"
      ]
    },
    {
      "cell_type": "markdown",
      "metadata": {
        "id": "lpqtMA5AxL3K"
      },
      "source": [
        "##### Logistic Regression"
      ]
    },
    {
      "cell_type": "code",
      "execution_count": null,
      "metadata": {
        "id": "WO1QkoFXxL3L",
        "outputId": "75d30ebb-d52e-48fb-817f-c82cd46e89bf"
      },
      "outputs": [
        {
          "name": "stdout",
          "output_type": "stream",
          "text": [
            "Fitting 2 folds for each of 6 candidates, totalling 12 fits\n",
            "[CV 1/2] END ......C=50, penalty=l2, solver=sag;, score=0.865 total time=  49.0s\n",
            "[CV 2/2] END ......C=50, penalty=l2, solver=sag;, score=0.866 total time=  50.4s\n",
            "[CV 1/2] END ...C=500, penalty=l2, solver=lbfgs;, score=0.864 total time=   5.6s\n",
            "[CV 2/2] END ...C=500, penalty=l2, solver=lbfgs;, score=0.863 total time=   5.3s\n",
            "[CV 1/2] END C=900, penalty=l2, solver=liblinear;, score=0.864 total time=  40.6s\n",
            "[CV 2/2] END C=900, penalty=l2, solver=liblinear;, score=0.863 total time=  40.2s\n",
            "[CV 1/2] END C=100, penalty=None, solver=liblinear;, score=0.000 total time=   0.2s\n",
            "[CV 2/2] END C=100, penalty=None, solver=liblinear;, score=0.000 total time=   0.1s\n",
            "[CV 1/2] END ......C=10, penalty=l2, solver=sag;, score=0.865 total time=  50.4s\n",
            "[CV 2/2] END ......C=10, penalty=l2, solver=sag;, score=0.866 total time=  45.2s\n",
            "[CV 1/2] END .....C=500, penalty=l2, solver=sag;, score=0.865 total time=  57.8s\n",
            "[CV 2/2] END .....C=500, penalty=l2, solver=sag;, score=0.866 total time= 1.0min\n"
          ]
        },
        {
          "data": {
            "text/plain": [
              "['H:/.shortcut-targets-by-id/1veNClNl7CxCTFHVNY2Fp29hcMoEj-the/TextMiningProject/Model_estimated/logreg_gridsearch_BOW_bin.joblib']"
            ]
          },
          "execution_count": 20,
          "metadata": {},
          "output_type": "execute_result"
        }
      ],
      "source": [
        "# Regressione logistica con ottimizzazione degli iperparametri\n",
        "model = LogisticRegression(random_state=1)\n",
        "\n",
        "# Iperparametri \"critici\" da ottimizzare \n",
        "solvers = ['lbfgs', 'liblinear', 'sag', 'saga']\n",
        "penalty = ['None', 'l2']\n",
        "c_values = [900, 700, 500, 200, 100, 50, 10]\n",
        "\n",
        "# Definisco la griglia di ricerca\n",
        "grid = dict(solver=solvers,penalty=penalty,C=c_values)\n",
        "\n",
        "# Start the clock, train the classifier, then stop the clock\n",
        "start = time()\n",
        "\n",
        "# CV and Tuning\n",
        "random_search = RandomizedSearchCV(estimator=model, param_distributions=grid, n_iter=6 ,cv=2, scoring=\"accuracy\", error_score=0, verbose=3)\n",
        "grid_result = random_search.fit(X_train_BOW_bin, y_train_bin)\n",
        "# end = time()\n",
        "# print (\"Train and tuning model in {:.4f} seconds\".format(end - start))\n",
        "\n",
        "# Salvataggio dei risultati del tuning\n",
        "path = 'H:/.shortcut-targets-by-id/1veNClNl7CxCTFHVNY2Fp29hcMoEj-the/TextMiningProject/Model_estimated/logreg_gridsearch_BOW_bin.joblib'\n",
        "joblib.dump(grid_result, path)"
      ]
    },
    {
      "cell_type": "code",
      "execution_count": null,
      "metadata": {
        "outputId": "0c9070c9-f194-4486-e4fc-80cb0405479d",
        "id": "5fbmzfiOxL3L"
      },
      "outputs": [
        {
          "name": "stdout",
          "output_type": "stream",
          "text": [
            "Best result: 0.865630 using {'solver': 'sag', 'penalty': 'l2', 'C': 10}\n"
          ]
        }
      ],
      "source": [
        "# Caricamento del risultato del tuning\n",
        "path = 'H:/.shortcut-targets-by-id/1veNClNl7CxCTFHVNY2Fp29hcMoEj-the/TextMiningProject/Model_estimated/logreg_gridsearch_BOW_bin.joblib'\n",
        "loaded_grid_search = joblib.load(path)\n",
        "\n",
        "# Summary dei risultati\n",
        "print(\"Best result: %f using %s\" % (loaded_grid_search.best_score_, loaded_grid_search.best_params_))\n",
        "\n",
        "#Salvo il modello con le migliori performance\n",
        "model_lr_BOW_bin = loaded_grid_search.best_estimator_"
      ]
    },
    {
      "cell_type": "markdown",
      "metadata": {
        "id": "5231s-75xL3M"
      },
      "source": [
        "##### Random Forest"
      ]
    },
    {
      "cell_type": "code",
      "execution_count": null,
      "metadata": {
        "id": "lFG7ZwuexL3N"
      },
      "outputs": [],
      "source": [
        "del model"
      ]
    },
    {
      "cell_type": "code",
      "execution_count": null,
      "metadata": {
        "outputId": "8f548533-d696-435a-fbdb-0b4d194d7d10",
        "id": "pV1fhPkQxL3N"
      },
      "outputs": [
        {
          "name": "stdout",
          "output_type": "stream",
          "text": [
            "Fitting 2 folds for each of 6 candidates, totalling 12 fits\n",
            "[CV 1/2] END .....................n_neighbors=1;, score=0.637 total time=  49.6s\n",
            "[CV 2/2] END .....................n_neighbors=1;, score=0.631 total time=  51.6s\n",
            "[CV 1/2] END ....................n_neighbors=17;, score=0.714 total time=  53.8s\n",
            "[CV 2/2] END ....................n_neighbors=17;, score=0.681 total time=  53.1s\n",
            "[CV 1/2] END .....................n_neighbors=7;, score=0.689 total time=  55.9s\n",
            "[CV 2/2] END .....................n_neighbors=7;, score=0.669 total time=  55.5s\n",
            "[CV 1/2] END .....................n_neighbors=6;, score=0.681 total time=  54.6s\n"
          ]
        },
        {
          "ename": "",
          "evalue": "",
          "output_type": "error",
          "traceback": [
            "\u001b[1;31mCanceled future for execute_request message before replies were done"
          ]
        },
        {
          "ename": "",
          "evalue": "",
          "output_type": "error",
          "traceback": [
            "\u001b[1;31mThe Kernel crashed while executing code in the the current cell or a previous cell. Please review the code in the cell(s) to identify a possible cause of the failure. Click <a href='https://aka.ms/vscodeJupyterKernelCrash'>here</a> for more info. View Jupyter <a href='command:jupyter.viewOutput'>log</a> for further details."
          ]
        }
      ],
      "source": [
        "# Random Forest, già runnato !!\n",
        "model = RandomForestClassifier()\n",
        "\n",
        "# Parametri 'critici' da ottimizzare\n",
        "max_depth = [1, 2, 3, 4, 5, 6, 7]\n",
        "n_estimators = [10, 100, 200, 300, 500, 700, 1000]\n",
        "max_features = ['sqrt', 'log2']\n",
        "# Definisco la griglia di ricerca \n",
        "grid = dict(n_estimators=n_estimators,max_features=max_features, max_depth = max_depth)\n",
        "\n",
        "# Start the clock, train the classifier, then stop the clock\n",
        "start = time()\n",
        "\n",
        "grid_search = RandomizedSearchCV(estimator=model, param_distributions=grid, n_iter=6 ,cv=2, scoring=\"accuracy\", error_score=0, verbose=3)\n",
        "grid_result = random_search.fit(X_train_BOW_bin, y_train_bin)\n",
        "end = time()\n",
        "print (\"Train and tuning model in {:.4f} seconds\".format(end - start))\n",
        "\n",
        "# Salvataggio dei risultati del tuning\n",
        "path = 'H:/.shortcut-targets-by-id/1veNClNl7CxCTFHVNY2Fp29hcMoEj-the/TextMiningProject/Model_estimated/rf_gridsearch_BOW_bin.joblib'\n",
        "joblib.dump(grid_result, path)"
      ]
    },
    {
      "cell_type": "code",
      "execution_count": null,
      "metadata": {
        "outputId": "d2e5d933-0232-4bb0-d111-8b84f96b741f",
        "id": "E3imGIXjxL3O"
      },
      "outputs": [
        {
          "name": "stdout",
          "output_type": "stream",
          "text": [
            "Best result: 0.702142 using {'n_neighbors': 20}\n"
          ]
        }
      ],
      "source": [
        "\n",
        "# Caricamento del risultato del tuning\n",
        "path = 'H:/.shortcut-targets-by-id/1veNClNl7CxCTFHVNY2Fp29hcMoEj-the/TextMiningProject/Model_estimated/rf_gridsearch_BOW_bin.joblib'\n",
        "loaded_grid_search = joblib.load(path)\n",
        "\n",
        "# Summary dei risultati\n",
        "print(\"Best result: %f using %s\" % (loaded_grid_search.best_score_, loaded_grid_search.best_params_))\n",
        "\n",
        "# Salvo il modello con le migliori perfomance\n",
        "model_rf_BOW_bin = loaded_grid_search.best_estimator_"
      ]
    },
    {
      "cell_type": "markdown",
      "metadata": {
        "id": "NsdHmlXsxL3P"
      },
      "source": [
        "#### KNN"
      ]
    },
    {
      "cell_type": "code",
      "execution_count": null,
      "metadata": {
        "id": "WUHX6tL0xL3Q",
        "outputId": "b5f4f537-0d42-4675-d1bc-06d50758e96e"
      },
      "outputs": [
        {
          "name": "stdout",
          "output_type": "stream",
          "text": [
            "Fitting 2 folds for each of 6 candidates, totalling 12 fits\n",
            "[CV 1/2] END ....................n_neighbors=12;, score=0.704 total time=  49.4s\n",
            "[CV 2/2] END ....................n_neighbors=12;, score=0.678 total time=  47.9s\n",
            "[CV 1/2] END ....................n_neighbors=20;, score=0.718 total time=  49.1s\n",
            "[CV 2/2] END ....................n_neighbors=20;, score=0.686 total time=  49.8s\n",
            "[CV 1/2] END .....................n_neighbors=3;, score=0.665 total time=  53.0s\n",
            "[CV 2/2] END .....................n_neighbors=3;, score=0.653 total time=  50.1s\n",
            "[CV 1/2] END ....................n_neighbors=10;, score=0.700 total time=  50.2s\n",
            "[CV 2/2] END ....................n_neighbors=10;, score=0.675 total time=  53.1s\n",
            "[CV 1/2] END ....................n_neighbors=13;, score=0.705 total time=  53.9s\n",
            "[CV 2/2] END ....................n_neighbors=13;, score=0.677 total time=  54.4s\n",
            "[CV 1/2] END .....................n_neighbors=2;, score=0.637 total time=  53.8s\n",
            "[CV 2/2] END .....................n_neighbors=2;, score=0.630 total time=  54.7s\n",
            "Train and tuning model in 621.6593 seconds\n",
            "Best result: 0.702142 using {'n_neighbors': 20}\n"
          ]
        },
        {
          "data": {
            "text/plain": [
              "['H:/.shortcut-targets-by-id/1veNClNl7CxCTFHVNY2Fp29hcMoEj-the/TextMiningProject/Model_estimated/knn_gridsearch_BOW_bin.joblib']"
            ]
          },
          "execution_count": 22,
          "metadata": {},
          "output_type": "execute_result"
        }
      ],
      "source": [
        "model = KNeighborsClassifier(weights='distance')\n",
        "# Parametri critici da\n",
        "n_neighbors = range(1, 21, 1)\n",
        "\n",
        "# Definisco la griglia di ricerca\n",
        "grid = dict(n_neighbors=n_neighbors)\n",
        "\n",
        "# Start the clock, train the classifier, then stop the clock\n",
        "start = time()\n",
        "random_search = RandomizedSearchCV(estimator=model, param_distributions=grid, n_iter=6 ,cv=2, scoring=\"accuracy\", error_score=0, verbose=3)\n",
        "grid_result = random_search.fit(X_train_BOW_bin, y_train_bin)\n",
        "end = time()\n",
        "print (\"Train and tuning model in {:.4f} seconds\".format(end - start))\n",
        "# Summary dei risultati\n",
        "print(\"Best result: %f using %s\" % (grid_result.best_score_, grid_result.best_params_))\n",
        "\n",
        "# Salvataggio dei risultati del tuning\n",
        "path = 'H:/.shortcut-targets-by-id/1veNClNl7CxCTFHVNY2Fp29hcMoEj-the/TextMiningProject/Model_estimated/knn_gridsearch_BOW_bin.joblib'\n",
        "joblib.dump(grid_result, path)"
      ]
    },
    {
      "cell_type": "code",
      "execution_count": null,
      "metadata": {
        "id": "c0wizqj0xL3R",
        "outputId": "f2ba9cb9-04dd-4124-de7e-80d0946bac64"
      },
      "outputs": [
        {
          "name": "stdout",
          "output_type": "stream",
          "text": [
            "Best result: 0.702142 using {'n_neighbors': 20}\n"
          ]
        }
      ],
      "source": [
        "# Caricamento del risultato del tuning\n",
        "path = 'H:/.shortcut-targets-by-id/1veNClNl7CxCTFHVNY2Fp29hcMoEj-the/TextMiningProject/Model_estimated/knn_gridsearch_BOW_bin.joblib'\n",
        "loaded_grid_search = joblib.load(path)\n",
        "\n",
        "# Summary dei risultati\n",
        "print(\"Best result: %f using %s\" % (loaded_grid_search.best_score_, loaded_grid_search.best_params_))\n",
        "\n",
        "# Salvo il modello con le migliori perfomance\n",
        "model_knn_BOW_bin = loaded_grid_search.best_estimator_"
      ]
    },
    {
      "cell_type": "markdown",
      "metadata": {
        "id": "As1eRLlWxL3T"
      },
      "source": [
        "#### XGBoost"
      ]
    },
    {
      "cell_type": "code",
      "execution_count": null,
      "metadata": {
        "id": "fk0d-IqUxL3T"
      },
      "outputs": [],
      "source": [
        "from sklearn.preprocessing import LabelEncoder\n",
        "from xgboost import XGBClassifier\n",
        "from sklearn.model_selection import RandomizedSearchCV\n",
        "\n",
        "le = LabelEncoder()\n",
        "y_train_bin_xg = le.fit_transform(y_train_bin)\n",
        "\n",
        "model = XGBClassifier(sampling_method = 'gradient_based', max_depth = 6, eta = 0.2, n_jobs=-1, tree_method = 'hist', objective= 'binary:logistic')\n",
        "model_xgboost_BOW_bin = model.fit(X_train_BOW_bin, y_train_bin_xg)"
      ]
    },
    {
      "cell_type": "code",
      "execution_count": null,
      "metadata": {
        "id": "Ysaj3sJWxL3U",
        "outputId": "cad53153-9888-4ffe-a484-3051e81ec7b1"
      },
      "outputs": [
        {
          "data": {
            "text/plain": [
              "['H:/.shortcut-targets-by-id/1veNClNl7CxCTFHVNY2Fp29hcMoEj-the/TextMiningProject/Model_estimated/xgboost_holdout_BOW_bin.joblib']"
            ]
          },
          "execution_count": 34,
          "metadata": {},
          "output_type": "execute_result"
        }
      ],
      "source": [
        "# Salvataggio dei risultati dell'holdout\n",
        "path = 'H:/.shortcut-targets-by-id/1veNClNl7CxCTFHVNY2Fp29hcMoEj-the/TextMiningProject/Model_estimated/xgboost_holdout_BOW_bin.joblib'\n",
        "joblib.dump(model_xgboost_BOW_bin, path)"
      ]
    },
    {
      "cell_type": "code",
      "execution_count": null,
      "metadata": {
        "id": "wJyZc9lsxL3V"
      },
      "outputs": [],
      "source": [
        "# Caricamento del risultato del tuning\n",
        "path = 'H:/.shortcut-targets-by-id/1veNClNl7CxCTFHVNY2Fp29hcMoEj-the/TextMiningProject/Model_estimated/xgboost_holdout_BOW_bin.joblib'\n",
        "xgboost_holdout_BOW_bin = joblib.load(path)"
      ]
    },
    {
      "cell_type": "markdown",
      "metadata": {
        "id": "GpqZE1zCbdBO"
      },
      "source": [
        "### Analisi dei risultati"
      ]
    },
    {
      "cell_type": "code",
      "execution_count": null,
      "metadata": {
        "id": "8RJ7FfD0xL3X",
        "outputId": "ec19d993-3747-4b68-ccd0-9a1fe3da2f34"
      },
      "outputs": [
        {
          "name": "stdout",
          "output_type": "stream",
          "text": [
            "[1 1 0 ... 0 1 0]\n",
            "               Accuracy  Precision    Recall  F1 Score\n",
            "LR model       0.870889   0.870895  0.870889  0.870888\n",
            "KNN model      0.719568   0.730389  0.719565  0.716234\n",
            "XGBOOST model  0.812987   0.813125  0.812987  0.812966\n"
          ]
        }
      ],
      "source": [
        "models = [model_lr_BOW_bin, model_knn_BOW_bin, model_xgboost_BOW_bin]\n",
        "\n",
        "# Previsioni sul test set\n",
        "results = []\n",
        "for model in models:\n",
        "    if model == models[2]:\n",
        "        y_test_bin_xg = le.fit_transform(y_test_bin)\n",
        "        print(y_test_bin_xg)\n",
        "        y_bin = model.predict(X_test_BOW_bin)\n",
        "        acc = accuracy_score(y_test_bin_xg, y_bin)\n",
        "        prec = precision_score(y_test_bin_xg, y_bin, average='macro')\n",
        "        recall = recall_score(y_test_bin_xg, y_bin, average='macro')\n",
        "        f1 = f1_score(y_test_bin_xg, y_bin, average='macro')\n",
        "        results.append([acc, prec, recall, f1])\n",
        "    else:\n",
        "        y_bin = model.predict(X_test_BOW_bin)\n",
        "        acc = accuracy_score(y_test_bin, y_bin)\n",
        "        prec = precision_score(y_test_bin, y_bin, average='macro')\n",
        "        recall = recall_score(y_test_bin, y_bin, average='macro')\n",
        "        f1 = f1_score(y_test_bin, y_bin, average='macro')\n",
        "        results.append([acc, prec, recall, f1])\n",
        "\n",
        "# Creo la tabella e visualizzo i risultati\n",
        "df_results = pd.DataFrame(results, columns=['Accuracy', 'Precision', 'Recall', 'F1 Score'])\n",
        "df_results.index = ['LR model', 'KNN model', 'XGBOOST model']\n",
        "print(df_results)"
      ]
    },
    {
      "cell_type": "markdown",
      "metadata": {
        "id": "q0Pr6_tAbdBP"
      },
      "source": [
        "## **TF-IDF**"
      ]
    },
    {
      "cell_type": "code",
      "execution_count": 21,
      "metadata": {
        "id": "S1TdCoYMxL3Z"
      },
      "outputs": [],
      "source": [
        "tv_bin = TfidfVectorizer(min_df=0., max_df=1., use_idf=True)\n",
        "tv_model_bin = tv_bin.fit(X_train_bin.astype(str))\n",
        "X_train_TFIDF_bin = tv_bin.transform(X_train_bin.astype(str))"
      ]
    },
    {
      "cell_type": "code",
      "execution_count": 22,
      "metadata": {
        "outputId": "8743e502-0a6d-473e-d677-4723d487ea0f",
        "colab": {
          "base_uri": "https://localhost:8080/"
        },
        "id": "ennbuulDxL3a"
      },
      "outputs": [
        {
          "output_type": "execute_result",
          "data": {
            "text/plain": [
              "['/content/gdrive/MyDrive/TextMiningProject/SVD_TFIDF_5000_bin.joblib']"
            ]
          },
          "metadata": {},
          "execution_count": 22
        }
      ],
      "source": [
        "# Eseguo SVD - da runnare\n",
        "n_components = 5000\n",
        "tSVD_TFIDF_bin = TruncatedSVD(n_components = n_components)\n",
        "SVD_TFIDF_5000_bin = tSVD_TFIDF_bin.fit(X_train_TFIDF_bin)\n",
        "\n",
        "# Calcolo varianza cumulata delle componenti\n",
        "cum_var = np.cumsum(SVD_TFIDF_5000_bin.explained_variance_ratio_)\n",
        "\n",
        "# Salvo SVD su disco\n",
        "# joblib.dump(SVD_TFIDF_5000, \"H:/.shortcut-targets-by-id/1veNClNl7CxCTFHVNY2Fp29hcMoEj-the/TextMiningProject/SVD_TFIDF_5000_bin.joblib\")\n",
        "model_path = '/content/gdrive/MyDrive/TextMiningProject/SVD_TFIDF_5000_bin.joblib'\n",
        "joblib.dump(SVD_TFIDF_5000_bin, model_path)"
      ]
    },
    {
      "cell_type": "code",
      "execution_count": null,
      "metadata": {
        "id": "ovO-yiKRxL3b"
      },
      "outputs": [],
      "source": [
        "# Carico SVD\n",
        "# SVD_TFIDF_5000_bin = joblib.load(\"H:/.shortcut-targets-by-id/1veNClNl7CxCTFHVNY2Fp29hcMoEj-the/TextMiningProject/SVD_TFIDF_5000_bin.joblib\")\n",
        "# cum_var = np.cumsum(SVD_TFIDF_5000.explained_variance_ratio_)"
      ]
    },
    {
      "cell_type": "code",
      "execution_count": 23,
      "metadata": {
        "id": "3GckTVSPxL3b"
      },
      "outputs": [],
      "source": [
        "# Carico SVD - Google Colab\n",
        "SVD_TFIDF_5000_bin = joblib.load(\"/content/gdrive/MyDrive/TextMiningProject/SVD_TFIDF_5000_bin.joblib\")\n",
        "cum_var = np.cumsum(SVD_TFIDF_5000_bin.explained_variance_ratio_)"
      ]
    },
    {
      "cell_type": "code",
      "execution_count": 24,
      "metadata": {
        "colab": {
          "base_uri": "https://localhost:8080/",
          "height": 279
        },
        "id": "wF-O247WxL3c",
        "outputId": "e50b69d5-e5ab-4a6e-fbac-6a56e058118b"
      },
      "outputs": [
        {
          "output_type": "display_data",
          "data": {
            "text/plain": [
              "<Figure size 432x288 with 1 Axes>"
            ],
            "image/png": "[encoded data removed]"
          },
          "metadata": {
            "needs_background": "light"
          }
        }
      ],
      "source": [
        "# Grafico varianza cumulata\n",
        "plt.plot(range(1, len(cum_var) + 1), cum_var)\n",
        "plt.xlabel(\"Numero di componenti\")\n",
        "plt.ylabel(\"Varianza cumulata\")\n",
        "plt.show()"
      ]
    },
    {
      "cell_type": "code",
      "execution_count": 25,
      "metadata": {
        "outputId": "cbe91a77-3702-4146-8fa5-985fc67e4b44",
        "colab": {
          "base_uri": "https://localhost:8080/"
        },
        "id": "4rh3RoPqxL3d"
      },
      "outputs": [
        {
          "output_type": "stream",
          "name": "stdout",
          "text": [
            "Numero di componenti necessariea spiegare una varianza pari all'85% sono :  4754\n"
          ]
        }
      ],
      "source": [
        "threshold = 0.85\n",
        "n_components = np.argmax(cum_var >= threshold) + 1\n",
        "print(\"Numero di componenti necessariea spiegare una varianza pari all'85% sono : \", n_components)"
      ]
    },
    {
      "cell_type": "code",
      "execution_count": 26,
      "metadata": {
        "id": "VySTtmI9xL3d"
      },
      "outputs": [],
      "source": [
        "# Stimo SVD ottimale\n",
        "tSVD_TFIDF_bin = TruncatedSVD(n_components = 4754) #Inserire numero componenti che la print sopra ti indica \n",
        "SVD_TFIDF_bin = tSVD_TFIDF_bin.fit(X_train_TFIDF_bin)"
      ]
    },
    {
      "cell_type": "code",
      "execution_count": 28,
      "metadata": {
        "id": "_lHibgJtxL3e"
      },
      "outputs": [],
      "source": [
        "# Applico la trasformazione al training e test set \n",
        "X_train_TFIDF_bin = tSVD_TFIDF_bin.transform(X_train_TFIDF_bin)\n",
        "\n",
        "X_test_TFIDF_bin = tv_model_bin.transform(X_test_bin.astype(str))\n",
        "X_test_TFIDF_bin = SVD_TFIDF_bin.transform(X_test_TFIDF_bin)"
      ]
    },
    {
      "cell_type": "code",
      "source": [
        "X_train_TFIDF_bin.shape"
      ],
      "metadata": {
        "colab": {
          "base_uri": "https://localhost:8080/"
        },
        "id": "Yx012LyUrGv1",
        "outputId": "076fb093-75ab-4757-a9d1-a6276d0f99e6"
      },
      "execution_count": 29,
      "outputs": [
        {
          "output_type": "execute_result",
          "data": {
            "text/plain": [
              "(79951, 4754)"
            ]
          },
          "metadata": {},
          "execution_count": 29
        }
      ]
    },
    {
      "cell_type": "code",
      "source": [
        "X_test_TFIDF_bin.shape"
      ],
      "metadata": {
        "colab": {
          "base_uri": "https://localhost:8080/"
        },
        "id": "MKGUSNKSrJgP",
        "outputId": "da62d60e-cdf5-4b15-e9dc-0b14556b857e"
      },
      "execution_count": 30,
      "outputs": [
        {
          "output_type": "execute_result",
          "data": {
            "text/plain": [
              "(34265, 4754)"
            ]
          },
          "metadata": {},
          "execution_count": 30
        }
      ]
    },
    {
      "cell_type": "code",
      "source": [
        "# Salvataggio train e test\n",
        "\n",
        "np.save('/content/gdrive/MyDrive/TextMiningProject/Dataset_TFIDF/X_train_TFIDF_bin.npy', X_train_TFIDF_bin)\n",
        "np.save('/content/gdrive/MyDrive/TextMiningProject/Dataset_TFIDF/X_test_TFIDF_bin.npy', X_test_TFIDF_bin)"
      ],
      "metadata": {
        "id": "9z2knyE07Uub"
      },
      "execution_count": 33,
      "outputs": []
    },
    {
      "cell_type": "markdown",
      "metadata": {
        "id": "Li4kd0uhxL3f"
      },
      "source": [
        "### Implementazione algoritmi"
      ]
    },
    {
      "cell_type": "markdown",
      "metadata": {
        "id": "E5IhhTa5xL3f"
      },
      "source": [
        "#### Logistic Regression"
      ]
    },
    {
      "cell_type": "code",
      "execution_count": 34,
      "metadata": {
        "colab": {
          "base_uri": "https://localhost:8080/"
        },
        "id": "lhVh9D2PxL3g",
        "outputId": "8791a485-568a-47a5-d6f5-381f8e1ce0bf"
      },
      "outputs": [
        {
          "output_type": "stream",
          "name": "stdout",
          "text": [
            "Fitting 2 folds for each of 6 candidates, totalling 12 fits\n",
            "[CV 1/2] END ................C=10, penalty=None;, score=0.000 total time=   2.0s\n",
            "[CV 2/2] END ................C=10, penalty=None;, score=0.000 total time=   0.9s\n",
            "[CV 1/2] END ...............C=100, penalty=None;, score=0.000 total time=   0.9s\n",
            "[CV 2/2] END ...............C=100, penalty=None;, score=0.000 total time=   0.9s\n",
            "[CV 1/2] END ...............C=1.0, penalty=None;, score=0.000 total time=   0.9s\n",
            "[CV 2/2] END ...............C=1.0, penalty=None;, score=0.000 total time=   0.9s\n",
            "[CV 1/2] END ..................C=50, penalty=l2;, score=0.862 total time=  17.5s\n",
            "[CV 2/2] END ..................C=50, penalty=l2;, score=0.863 total time=  17.3s\n",
            "[CV 1/2] END .................C=200, penalty=l2;, score=0.856 total time=  16.9s\n",
            "[CV 2/2] END .................C=200, penalty=l2;, score=0.857 total time=  16.5s\n",
            "[CV 1/2] END .................C=1.0, penalty=l2;, score=0.873 total time=   7.0s\n",
            "[CV 2/2] END .................C=1.0, penalty=l2;, score=0.874 total time=  10.0s\n",
            "Train and tuning model in 113.3534 seconds\n"
          ]
        },
        {
          "output_type": "execute_result",
          "data": {
            "text/plain": [
              "['/content/gdrive/MyDrive/TextMiningProject/Model_estimated/Classificazione_binaria/TFIDF/logreg_gridsearch_TFIDF_bin.joblib']"
            ]
          },
          "metadata": {},
          "execution_count": 34
        }
      ],
      "source": [
        "# Regressione logistica con ottimizzazione degli iperparametri\n",
        "model = LogisticRegression(random_state=1)\n",
        "\n",
        "# Iperparametri \"critici\" da ottimizzare \n",
        "solvers = ['lbfgs', 'liblinear', 'sag', 'saga']\n",
        "penalty = ['None', 'l2']\n",
        "c_values = [500, 200, 100, 50, 10, 1.0]\n",
        "\n",
        "# Definisco la griglia di ricerca\n",
        "grid = dict(penalty=penalty,C=c_values)\n",
        "\n",
        "# Start the clock, train the classifier, then stop the clock\n",
        "start = time()\n",
        "\n",
        "# CV and Tuning\n",
        "random_search = RandomizedSearchCV(estimator=model, param_distributions=grid, n_iter=6 ,cv=2, scoring=\"accuracy\", error_score=0, verbose=3)\n",
        "grid_result = random_search.fit(X_train_TFIDF_bin, y_train_bin)\n",
        "end = time()\n",
        "print (\"Train and tuning model in {:.4f} seconds\".format(end - start))\n",
        "\n",
        "# Salvataggio dei risultati del tuning\n",
        "# path = 'H:/.shortcut-targets-by-id/1veNClNl7CxCTFHVNY2Fp29hcMoEj-the/TextMiningProject/Model_estimated/lrr_gridsearch_TFIDF_bin.joblib'\n",
        "# joblib.dump(grid_result, path)\n",
        "\n",
        "model_path = '/content/gdrive/MyDrive/TextMiningProject/Model_estimated/Classificazione_binaria/TFIDF/logreg_gridsearch_TFIDF_bin.joblib'\n",
        "joblib.dump(grid_result, model_path)"
      ]
    },
    {
      "cell_type": "code",
      "execution_count": 35,
      "metadata": {
        "outputId": "d39bef16-8890-4c51-8120-7f25dffec621",
        "colab": {
          "base_uri": "https://localhost:8080/"
        },
        "id": "HeDc-TMQxL3g"
      },
      "outputs": [
        {
          "output_type": "stream",
          "name": "stdout",
          "text": [
            "Best result: 0.873097 using {'penalty': 'l2', 'C': 1.0}\n"
          ]
        }
      ],
      "source": [
        "# Caricamento del risultato del tuning\n",
        "\n",
        "# path = 'H:/.shortcut-targets-by-id/1veNClNl7CxCTFHVNY2Fp29hcMoEj-the/TextMiningProject/Model_estimated/lrr_gridsearch_TFIDF.joblib'\n",
        "# loaded_grid_search = joblib.load(path)\n",
        "model_path = '/content/gdrive/MyDrive/TextMiningProject/Model_estimated/Classificazione_binaria/TFIDF/logreg_gridsearch_TFIDF_bin.joblib'\n",
        "loaded_grid_search = joblib.load(model_path)\n",
        "\n",
        "# Summary dei risultati\n",
        "print(\"Best result: %f using %s\" % (loaded_grid_search.best_score_, loaded_grid_search.best_params_))\n",
        "\n",
        "#Salvo il modello con le migliori performance\n",
        "model_lr_TFIDF_bin = loaded_grid_search.best_estimator_"
      ]
    },
    {
      "cell_type": "markdown",
      "metadata": {
        "id": "q0zu4uhxxL3h"
      },
      "source": [
        "#### KNN"
      ]
    },
    {
      "cell_type": "code",
      "execution_count": 36,
      "metadata": {
        "colab": {
          "base_uri": "https://localhost:8080/"
        },
        "id": "896BcWQ2xL3i",
        "outputId": "92456ee3-2bb6-4834-8b03-4697b1a76cda"
      },
      "outputs": [
        {
          "output_type": "stream",
          "name": "stdout",
          "text": [
            "Fitting 2 folds for each of 6 candidates, totalling 12 fits\n",
            "[CV 1/2] END ....................n_neighbors=20;, score=0.625 total time= 2.7min\n",
            "[CV 2/2] END ....................n_neighbors=20;, score=0.606 total time= 2.6min\n",
            "[CV 1/2] END .....................n_neighbors=7;, score=0.625 total time= 2.7min\n",
            "[CV 2/2] END .....................n_neighbors=7;, score=0.601 total time= 2.6min\n",
            "[CV 1/2] END .....................n_neighbors=6;, score=0.608 total time= 2.7min\n",
            "[CV 2/2] END .....................n_neighbors=6;, score=0.596 total time= 2.6min\n",
            "[CV 1/2] END ....................n_neighbors=10;, score=0.636 total time= 2.7min\n",
            "[CV 2/2] END ....................n_neighbors=10;, score=0.614 total time= 2.6min\n",
            "[CV 1/2] END .....................n_neighbors=3;, score=0.577 total time= 2.5min\n",
            "[CV 2/2] END .....................n_neighbors=3;, score=0.585 total time= 2.5min\n",
            "[CV 1/2] END ....................n_neighbors=19;, score=0.618 total time= 2.7min\n",
            "[CV 2/2] END ....................n_neighbors=19;, score=0.601 total time= 2.6min\n",
            "Train and tuning model in 1896.7228 seconds\n"
          ]
        },
        {
          "output_type": "execute_result",
          "data": {
            "text/plain": [
              "['/content/gdrive/MyDrive/TextMiningProject/Model_estimated/Classificazione_binaria/TFIDF/knn_gridsearch_TFIDF_bin.joblib']"
            ]
          },
          "metadata": {},
          "execution_count": 36
        }
      ],
      "source": [
        "model = KNeighborsClassifier(weights='distance')\n",
        "\n",
        "# Parametri critici da\n",
        "n_neighbors = range(1, 21, 1)\n",
        "\n",
        "# Definisco la griglia di ricerca\n",
        "grid = dict(n_neighbors=n_neighbors)\n",
        "\n",
        "# Start the clock, train the classifier, then stop the clock\n",
        "start = time()\n",
        "random_search = RandomizedSearchCV(estimator=model, param_distributions=grid, n_iter=6 ,cv=2, scoring=\"accuracy\", error_score=0, verbose=3)\n",
        "grid_result = random_search.fit(X_train_TFIDF_bin, y_train_bin)\n",
        "end = time()\n",
        "print (\"Train and tuning model in {:.4f} seconds\".format(end - start))\n",
        "\n",
        "# Salvataggio dei risultati del tuning\n",
        "\n",
        "# path = 'H:/.shortcut-targets-by-id/1veNClNl7CxCTFHVNY2Fp29hcMoEj-the/TextMiningProject/Model_estimated/knn_gridsearch_TFIDF_bin.joblib'\n",
        "# loaded_grid_search = joblib.load(path)\n",
        "model_path = '/content/gdrive/MyDrive/TextMiningProject/Model_estimated/Classificazione_binaria/TFIDF/knn_gridsearch_TFIDF_bin.joblib'\n",
        "joblib.dump(grid_result, model_path)"
      ]
    },
    {
      "cell_type": "code",
      "execution_count": 37,
      "metadata": {
        "colab": {
          "base_uri": "https://localhost:8080/"
        },
        "id": "JKGaL8mrxL3j",
        "outputId": "d3cf2726-081e-48c8-8b40-6f64313a07af"
      },
      "outputs": [
        {
          "output_type": "stream",
          "name": "stdout",
          "text": [
            "Best result: 0.624833 using {'n_neighbors': 10}\n"
          ]
        }
      ],
      "source": [
        "# Caricamento del risultato del tuning\n",
        "\n",
        "# path = 'H:/.shortcut-targets-by-id/1veNClNl7CxCTFHVNY2Fp29hcMoEj-the/TextMiningProject/Model_estimated/knn_gridsearch_TFIDF_bin.joblib'\n",
        "# loaded_grid_search = joblib.load(path)\n",
        "model_path = '/content/gdrive/MyDrive/TextMiningProject/Model_estimated/Classificazione_binaria/TFIDF/knn_gridsearch_TFIDF_bin.joblib'\n",
        "loaded_grid_search = joblib.load(model_path)\n",
        "\n",
        "# Summary dei risultati\n",
        "print(\"Best result: %f using %s\" % (loaded_grid_search.best_score_, loaded_grid_search.best_params_))\n",
        "\n",
        "# Salvo il modello con le migliori perfomance\n",
        "model_knn_TFIDF_bin = loaded_grid_search.best_estimator_"
      ]
    },
    {
      "cell_type": "markdown",
      "metadata": {
        "id": "TTeQ_oqvxL3k"
      },
      "source": [
        "#### Random Forest"
      ]
    },
    {
      "cell_type": "code",
      "source": [
        "X_train_TFIDF_bin = np.load('/content/gdrive/MyDrive/TextMiningProject/Dataset_TFIDF/X_train_TFIDF_bin.npy')\n",
        "X_test_TFIDF_bin = np.load('/content/gdrive/MyDrive/TextMiningProject/Dataset_TFIDF/X_test_TFIDF_bin.npy')"
      ],
      "metadata": {
        "id": "u3lzawmxxlly"
      },
      "execution_count": 21,
      "outputs": []
    },
    {
      "cell_type": "code",
      "execution_count": 24,
      "metadata": {
        "outputId": "75b1cb1d-b599-432d-bb99-9b05f256bec8",
        "colab": {
          "base_uri": "https://localhost:8080/"
        },
        "id": "EOE3zlS5xL3k"
      },
      "outputs": [
        {
          "output_type": "stream",
          "name": "stdout",
          "text": [
            "Fitting 2 folds for each of 6 candidates, totalling 12 fits\n",
            "[CV 1/2] END max_features=sqrt, n_estimators=600;, score=0.771 total time=37.9min\n",
            "[CV 2/2] END max_features=sqrt, n_estimators=600;, score=0.774 total time=37.4min\n",
            "[CV 1/2] END max_features=log2, n_estimators=200;, score=0.648 total time= 2.3min\n",
            "[CV 2/2] END max_features=log2, n_estimators=200;, score=0.655 total time= 2.4min\n",
            "[CV 1/2] END max_features=sqrt, n_estimators=800;, score=0.775 total time=49.5min\n",
            "[CV 2/2] END max_features=sqrt, n_estimators=800;, score=0.778 total time=49.9min\n",
            "[CV 1/2] END max_features=log2, n_estimators=800;, score=0.688 total time= 9.2min\n",
            "[CV 2/2] END max_features=log2, n_estimators=800;, score=0.705 total time= 9.5min\n",
            "[CV 1/2] END max_features=log2, n_estimators=10;, score=0.544 total time=   8.1s\n",
            "[CV 2/2] END max_features=log2, n_estimators=10;, score=0.546 total time=   8.2s\n",
            "[CV 1/2] END max_features=log2, n_estimators=100;, score=0.622 total time= 1.2min\n",
            "[CV 2/2] END max_features=log2, n_estimators=100;, score=0.617 total time= 1.2min\n",
            "Train and tuning model in 18698.0713 seconds\n"
          ]
        },
        {
          "output_type": "execute_result",
          "data": {
            "text/plain": [
              "['/content/gdrive/MyDrive/TextMiningProject/Model_estimated/Classificazione_binaria/TFIDF/rf_gridsearch_TFIDF_bin.joblib']"
            ]
          },
          "metadata": {},
          "execution_count": 24
        }
      ],
      "source": [
        "# Random Forest\n",
        "model = RandomForestClassifier()\n",
        "\n",
        "# Parametri 'critici' da ottimizzare\n",
        "max_depth = [1, 2, 3, 4, 5, 6, 7]\n",
        "n_estimators = [10, 100, 200, 400, 600, 800]\n",
        "max_features = ['sqrt', 'log2']\n",
        "# Definisco la griglia di ricerca \n",
        "grid = dict(n_estimators=n_estimators,max_features=max_features)\n",
        "\n",
        "# Start the clock, train the classifier, then stop the clock\n",
        "start = time()\n",
        "\n",
        "random_search = RandomizedSearchCV(estimator=model, param_distributions=grid, n_iter=6 ,cv=2, scoring=\"accuracy\", error_score=0, verbose=3)\n",
        "grid_result = random_search.fit(X_train_TFIDF_bin, y_train_bin)\n",
        "end = time()\n",
        "print (\"Train and tuning model in {:.4f} seconds\".format(end - start))\n",
        "\n",
        "# Salvataggio dei risultati del tuning\n",
        "# path = 'H:/.shortcut-targets-by-id/1veNClNl7CxCTFHVNY2Fp29hcMoEj-the/TextMiningProject/Model_estimated/rf_gridsearch_TFIDF_bin.joblib'\n",
        "# joblib.dump(grid_result, path)\n",
        "\n",
        "model_path = '/content/gdrive/MyDrive/TextMiningProject/Model_estimated/Classificazione_binaria/TFIDF/rf_gridsearch_TFIDF_bin.joblib'\n",
        "joblib.dump(grid_result, model_path)"
      ]
    },
    {
      "cell_type": "code",
      "execution_count": 25,
      "metadata": {
        "outputId": "4ebcf7f2-b3b7-4f71-be2e-d1193dcd5224",
        "colab": {
          "base_uri": "https://localhost:8080/"
        },
        "id": "LeXv8goFxL3l"
      },
      "outputs": [
        {
          "output_type": "stream",
          "name": "stdout",
          "text": [
            "Best result: 0.776038 using {'n_estimators': 800, 'max_features': 'sqrt'}\n"
          ]
        }
      ],
      "source": [
        "# Caricamento del risultato del tuning\n",
        "# path = 'H:/.shortcut-targets-by-id/1veNClNl7CxCTFHVNY2Fp29hcMoEj-the/TextMiningProject/Model_estimated/rf_gridsearch_TFIDF_bin.joblib'\n",
        "# loaded_grid_search = joblib.load(path)\n",
        "\n",
        "model_path = '/content/gdrive/MyDrive/TextMiningProject/Model_estimated/Classificazione_binaria/TFIDF/rf_gridsearch_TFIDF_bin.joblib'\n",
        "loaded_grid_search = joblib.load(model_path)\n",
        "\n",
        "# Summary dei risultati\n",
        "print(\"Best result: %f using %s\" % (loaded_grid_search.best_score_, loaded_grid_search.best_params_))\n",
        "\n",
        "# Salvo il modello con le migliori perfomance\n",
        "model_rf_TFIDF_bin = loaded_grid_search.best_estimator_"
      ]
    },
    {
      "cell_type": "markdown",
      "metadata": {
        "id": "CmyRcHC4xL3l"
      },
      "source": [
        "#### XGBoost"
      ]
    },
    {
      "cell_type": "code",
      "execution_count": 26,
      "metadata": {
        "colab": {
          "base_uri": "https://localhost:8080/"
        },
        "id": "sk207QSvxL3m",
        "outputId": "da513918-0e4d-45e0-fff1-cb04bd682e1c"
      },
      "outputs": [
        {
          "output_type": "execute_result",
          "data": {
            "text/plain": [
              "['/content/gdrive/MyDrive/TextMiningProject/Model_estimated/Classificazione_binaria/TFIDF/xgboost_holdout_TFIDF_bin.joblib']"
            ]
          },
          "metadata": {},
          "execution_count": 26
        }
      ],
      "source": [
        "from sklearn.preprocessing import LabelEncoder\n",
        "from xgboost import XGBClassifier\n",
        "from sklearn.model_selection import RandomizedSearchCV\n",
        "\n",
        "le = LabelEncoder()\n",
        "y_train_xg = le.fit_transform(y_train_bin)\n",
        "\n",
        "model = XGBClassifier(sampling_method = 'gradient_based', max_depth = 6, eta = 0.2, n_jobs=-1, tree_method = 'hist', objective='binary:logistic')\n",
        "model_xgboost_TFIDF_bin = model.fit(X_train_TFIDF_bin, y_train_xg)\n",
        "\n",
        "# Salvataggio dei risultati dell'holdout\n",
        "# path = 'H:/.shortcut-targets-by-id/1veNClNl7CxCTFHVNY2Fp29hcMoEj-the/TextMiningProject/Model_estimated/xgboost_holdout_TFIDF_bin.joblib'\n",
        "# joblib.dump(model_xgboost_TFIDF, path)\n",
        "\n",
        "model_path = '/content/gdrive/MyDrive/TextMiningProject/Model_estimated/Classificazione_binaria/TFIDF/xgboost_holdout_TFIDF_bin.joblib'\n",
        "joblib.dump(model_xgboost_TFIDF_bin, model_path)"
      ]
    },
    {
      "cell_type": "code",
      "execution_count": 28,
      "metadata": {
        "id": "4DA35qGxxL3n"
      },
      "outputs": [],
      "source": [
        "# Caricamento del risultato dell'holdout\n",
        "# path = 'H:/.shortcut-targets-by-id/1veNClNl7CxCTFHVNY2Fp29hcMoEj-the/TextMiningProject/Model_estimated/xgboost_holdout_TFIDF_bin.joblib'\n",
        "# model_xgboost_TFIDF = joblib.load(path)\n",
        "\n",
        "model_path = '/content/gdrive/MyDrive/TextMiningProject/Model_estimated/Classificazione_binaria/TFIDF/xgboost_holdout_TFIDF_bin.joblib'\n",
        "model_xgboost_TFIDF_bin = joblib.load(model_path)"
      ]
    },
    {
      "cell_type": "markdown",
      "metadata": {
        "id": "Lg-xlwmexL3n"
      },
      "source": [
        "### Analisi dei risultati"
      ]
    },
    {
      "cell_type": "code",
      "execution_count": null,
      "metadata": {
        "id": "HGiQ1ZGSxL3o"
      },
      "outputs": [],
      "source": [
        "models = [model_lr_TFIDF_bin, model_knn_TFIDF_bin, model_xgboost_TFIDF_bin, model_rf_TFIDF_bin]\n",
        "\n",
        "# Previsioni sul test set\n",
        "results = []\n",
        "for model in models:\n",
        "    if model == models[2]:\n",
        "        y_test_bin_xg = le.fit_transform(y_test_bin)\n",
        "        print(y_test_bin_xg)\n",
        "        y_pred = model.predict(X_test_TFIDF_bin)\n",
        "        acc = accuracy_score(y_test_bin_xg, y_pred)\n",
        "        prec = precision_score(y_test_bin_xg, y_pred, average='macro')\n",
        "        recall = recall_score(y_test_bin_xg, y_pred, average='macro')\n",
        "        f1 = f1_score(y_test_bin_xg, y_pred, average='macro')\n",
        "        results.append([acc, prec, recall, f1])\n",
        "    else:\n",
        "        y_pred = model.predict(X_test_TFIDF_bin)\n",
        "        acc = accuracy_score(y_test_bin, y_pred)\n",
        "        prec = precision_score(y_test_bin, y_pred, average='macro')\n",
        "        recall = recall_score(y_test_bin, y_pred, average='macro')\n",
        "        f1 = f1_score(y_test_bin, y_pred, average='macro')\n",
        "        results.append([acc, prec, recall, f1])\n",
        "\n",
        "# Creo la tabella e visualizzo i risultati\n",
        "df_results = pd.DataFrame(results, columns=['Accuracy', 'Precision', 'Recall', 'F1 Score'])\n",
        "df_results.index = ['LR model', 'KNN model', 'XGBOOST model', 'Random Forest']\n",
        "print(df_results)"
      ]
    },
    {
      "cell_type": "code",
      "execution_count": null,
      "metadata": {
        "id": "LNRGD3rUxL3o"
      },
      "outputs": [],
      "source": [
        "# # Crea i grafici ROC per ogni modello\n",
        "# for model in models:\n",
        "#     y_pred_proba = model.predict_proba(X_test_BOW)[::,1]\n",
        "#     fpr, tpr, _ = roc_curve(y_test, y_pred_proba)\n",
        "#     auc = roc_auc_score(y_test, y_pred_proba)\n",
        "#     plt.plot(fpr,tpr,label=\"AUC=\"+str(auc))\n",
        "#     plt.legend(loc = 'lower right')"
      ]
    },
    {
      "cell_type": "code",
      "execution_count": null,
      "metadata": {
        "id": "mxN9ZsXMxL3p"
      },
      "outputs": [],
      "source": [
        "# # Creo le matrici di confusione per ogni modello\n",
        "# for model in models:\n",
        "#     cm = confusion_matrix(y_test, y_pred)\n",
        "#     plt.figure()\n",
        "#     plt.imshow(cm, interpolation='nearest', cmap=plt.cm.Blues)\n",
        "#     plt.title(\"Confusion Matrix - \" + str(model))\n",
        "#     plt.colorbar()\n",
        "#     tick_marks = np.arange(3)\n",
        "#     plt.xticks(tick_marks, [\"Class 1\", \"Class 2\", \"Class 3\", \"Class 4\", \"Class 5\"])\n",
        "#     plt.yticks(tick_marks, [\"Class 1\", \"Class 2\", \"Class 3\", \"Class 4\", \"Class 5\"])\n",
        "#     thresh = cm.max() / 2.\n",
        "#     for i, j in itertools.product(range(cm.shape[0]), range(cm.shape[1])):\n",
        "#         plt.text(j, i, format(cm[i, j]),\n",
        "#                  horizontalalignment=\"center\",\n",
        "#                  color=\"white\" if cm[i, j] > thresh else \"black\")\n",
        "#     plt.tight_layout()\n",
        "#     plt.ylabel('True label')\n",
        "#     plt.xlabel('Predicted label')\n",
        "#     plt.show()"
      ]
    },
    {
      "cell_type": "markdown",
      "metadata": {
        "id": "_xLitnyfbdBQ"
      },
      "source": [
        "Performance:"
      ]
    },
    {
      "cell_type": "code",
      "execution_count": null,
      "metadata": {
        "id": "BwCEUJR0bdBQ"
      },
      "outputs": [],
      "source": [
        "evaluation(predictions_lr_TFIDF_bin, y_test_bin)"
      ]
    },
    {
      "cell_type": "code",
      "execution_count": null,
      "metadata": {
        "id": "tWfiC0jDbdBQ"
      },
      "outputs": [],
      "source": [
        "evaluation(predictions_rf_TFIDF_bin, y_test_bin)"
      ]
    },
    {
      "cell_type": "markdown",
      "metadata": {
        "id": "SvKv3uJAbdBQ"
      },
      "source": [
        "### W2V"
      ]
    },
    {
      "cell_type": "code",
      "execution_count": null,
      "metadata": {
        "id": "zCVIqdo6bdBR"
      },
      "outputs": [],
      "source": [
        "w2v_model_bin = gensim.models.Word2Vec(X_train_bin, vector_size=300, window=8, min_count=2)"
      ]
    },
    {
      "cell_type": "code",
      "execution_count": null,
      "metadata": {
        "id": "ZL_Rkvl6bdBR"
      },
      "outputs": [],
      "source": [
        "words_bin = set(w2v_model_bin.wv.index_to_key) \n",
        "\n",
        "X_train_bin_vect = np.array([np.array([w2v_model_bin.wv[i] for i in ls if i in words_bin])\n",
        "                         for ls in X_train_bin])\n",
        "X_test_bin_vect = np.array([np.array([w2v_model_bin.wv[i] for i in ls if i in words_bin])\n",
        "                         for ls in X_test_bin])"
      ]
    },
    {
      "cell_type": "code",
      "execution_count": null,
      "metadata": {
        "id": "-xaUnBtybdBR"
      },
      "outputs": [],
      "source": [
        "X_train_bin_vect_avg = []\n",
        "for v in X_train_bin_vect:\n",
        "    if v.size:\n",
        "        X_train_bin_vect_avg.append(v.mean(axis=0))\n",
        "    else:\n",
        "        X_train_bin_vect_avg.append(np.zeros(300, dtype=float))\n",
        "        \n",
        "X_test_bin_vect_avg = []\n",
        "for v in X_test_bin_vect:\n",
        "    if v.size:\n",
        "        X_test_bin_vect_avg.append(v.mean(axis=0))\n",
        "    else:\n",
        "        X_test_bin_vect_avg.append(np.zeros(300, dtype=float))"
      ]
    },
    {
      "cell_type": "code",
      "execution_count": null,
      "metadata": {
        "id": "qnJg1fsabdBR"
      },
      "outputs": [],
      "source": [
        "# Regressione logistica\n",
        "\n",
        "lr_bin_W2V = LogisticRegression(random_state=1)\n",
        "model_lr_bin_W2V = lr_bin_W2V.fit(X_train_bin_vect_avg, y_train_bin)\n",
        "predictions_lr_bin_W2V = model_lr_bin_W2V.predict(X_test_bin_vect_avg)"
      ]
    },
    {
      "cell_type": "code",
      "execution_count": null,
      "metadata": {
        "id": "3RAC9dJYbdBR"
      },
      "outputs": [],
      "source": [
        "# Random Forest\n",
        "\n",
        "rf_bin_W2V = RandomForestClassifier(n_jobs = -1)\n",
        "model_rf_bin_W2V = rf_bin_W2V.fit(X_train_bin_vect_avg, y_train_bin)\n",
        "predictions_rf_bin_W2V = model_rf_bin_W2V.predict(X_test_bin_vect_avg)"
      ]
    },
    {
      "cell_type": "markdown",
      "metadata": {
        "id": "MA3jez-RbdBR"
      },
      "source": [
        "Performance:"
      ]
    },
    {
      "cell_type": "code",
      "execution_count": null,
      "metadata": {
        "id": "15Nm2RUmbdBS"
      },
      "outputs": [],
      "source": [
        "evaluation(predictions_lr_bin_W2V, y_test_bin)"
      ]
    },
    {
      "cell_type": "code",
      "execution_count": null,
      "metadata": {
        "id": "xRqGpDSibdBS"
      },
      "outputs": [],
      "source": [
        "evaluation(predictions_rf_bin_W2V, y_test_bin)"
      ]
    },
    {
      "cell_type": "markdown",
      "metadata": {
        "id": "ZFToOhQkbdBS"
      },
      "source": [
        "# Idee successive"
      ]
    },
    {
      "cell_type": "markdown",
      "metadata": {
        "id": "3W26ADWfbdBS"
      },
      "source": [
        "- Usare altri altri modelli (SVM, KNN, ...)\n",
        "- Valutare considerazioni su downsampling\n",
        "- Iperparametri della SVD per la riduzione della dimensionalità (?)\n",
        "- Ottimizzazione iperparametri (specialmente su W2V, usare skipgram/cbow, e ottimizzare finestra, ecc...)\n",
        "- BERT (?)"
      ]
    }
  ],
  "metadata": {
    "colab": {
      "provenance": [],
      "machine_shape": "hm"
    },
    "kernelspec": {
      "display_name": "Python 3",
      "name": "python3"
    },
    "language_info": {
      "name": "python"
    },
    "orig_nbformat": 4,
    "vscode": {
      "interpreter": {
        "hash": "dacea306b0f32c61537efd63a0134a85ab05fa1c452b30b5f779d236d2bf6c2d"
      }
    },
    "accelerator": "GPU",
    "gpuClass": "standard"
  },
  "nbformat": 4,
  "nbformat_minor": 0
}